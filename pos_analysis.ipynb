{
 "cells": [
  {
   "cell_type": "code",
   "execution_count": 1,
   "id": "9142bacd",
   "metadata": {},
   "outputs": [],
   "source": [
    "import pandas as pd\n",
    "import numpy as np"
   ]
  },
  {
   "cell_type": "code",
   "execution_count": 2,
   "id": "f6be729a",
   "metadata": {},
   "outputs": [
    {
     "data": {
      "text/html": [
       "<div>\n",
       "<style scoped>\n",
       "    .dataframe tbody tr th:only-of-type {\n",
       "        vertical-align: middle;\n",
       "    }\n",
       "\n",
       "    .dataframe tbody tr th {\n",
       "        vertical-align: top;\n",
       "    }\n",
       "\n",
       "    .dataframe thead th {\n",
       "        text-align: right;\n",
       "    }\n",
       "</style>\n",
       "<table border=\"1\" class=\"dataframe\">\n",
       "  <thead>\n",
       "    <tr style=\"text-align: right;\">\n",
       "      <th></th>\n",
       "      <th>id</th>\n",
       "      <th>text</th>\n",
       "      <th>class</th>\n",
       "      <th>lemm_text</th>\n",
       "      <th>len_text_text</th>\n",
       "      <th>count_punct_text</th>\n",
       "      <th>count_numbers_text</th>\n",
       "      <th>count_digits_text</th>\n",
       "      <th>count_uppercase_text</th>\n",
       "      <th>count_lowercase_text</th>\n",
       "      <th>...</th>\n",
       "      <th>POS_CONJ_text</th>\n",
       "      <th>POS_VERB_text</th>\n",
       "      <th>POS_PRED_text</th>\n",
       "      <th>POS_ADJS_text</th>\n",
       "      <th>POS_PRTF_text</th>\n",
       "      <th>POS_PRTS_text</th>\n",
       "      <th>POS_INTJ_text</th>\n",
       "      <th>POS_NUMR_text</th>\n",
       "      <th>POS_GRND_text</th>\n",
       "      <th>POS_COMP_text</th>\n",
       "    </tr>\n",
       "  </thead>\n",
       "  <tbody>\n",
       "    <tr>\n",
       "      <th>0</th>\n",
       "      <td>0</td>\n",
       "      <td>Обустройство тротуаров, мостовых (в том числе ...</td>\n",
       "      <td>H</td>\n",
       "      <td>обустройство тротуар мостовый в тот число трот...</td>\n",
       "      <td>66</td>\n",
       "      <td>0.045455</td>\n",
       "      <td>0.000000</td>\n",
       "      <td>0.000000</td>\n",
       "      <td>0.015152</td>\n",
       "      <td>0.818182</td>\n",
       "      <td>...</td>\n",
       "      <td>NaN</td>\n",
       "      <td>NaN</td>\n",
       "      <td>NaN</td>\n",
       "      <td>NaN</td>\n",
       "      <td>NaN</td>\n",
       "      <td>NaN</td>\n",
       "      <td>NaN</td>\n",
       "      <td>NaN</td>\n",
       "      <td>NaN</td>\n",
       "      <td>NaN</td>\n",
       "    </tr>\n",
       "    <tr>\n",
       "      <th>1</th>\n",
       "      <td>1</td>\n",
       "      <td>Въ издержкахъ же оныхъ вы имете присылать счет...</td>\n",
       "      <td>H</td>\n",
       "      <td>въ издержкахъ же оныхъ вы имета присылать счёт...</td>\n",
       "      <td>117</td>\n",
       "      <td>0.025641</td>\n",
       "      <td>0.000000</td>\n",
       "      <td>0.000000</td>\n",
       "      <td>0.008547</td>\n",
       "      <td>0.811966</td>\n",
       "      <td>...</td>\n",
       "      <td>1.0</td>\n",
       "      <td>NaN</td>\n",
       "      <td>NaN</td>\n",
       "      <td>NaN</td>\n",
       "      <td>NaN</td>\n",
       "      <td>NaN</td>\n",
       "      <td>NaN</td>\n",
       "      <td>NaN</td>\n",
       "      <td>NaN</td>\n",
       "      <td>NaN</td>\n",
       "    </tr>\n",
       "    <tr>\n",
       "      <th>2</th>\n",
       "      <td>2</td>\n",
       "      <td>Положи это туда, откуда взял.</td>\n",
       "      <td>H</td>\n",
       "      <td>положить это туда откуда взять</td>\n",
       "      <td>29</td>\n",
       "      <td>0.068966</td>\n",
       "      <td>0.000000</td>\n",
       "      <td>0.000000</td>\n",
       "      <td>0.034483</td>\n",
       "      <td>0.758621</td>\n",
       "      <td>...</td>\n",
       "      <td>NaN</td>\n",
       "      <td>2.0</td>\n",
       "      <td>NaN</td>\n",
       "      <td>NaN</td>\n",
       "      <td>NaN</td>\n",
       "      <td>NaN</td>\n",
       "      <td>NaN</td>\n",
       "      <td>NaN</td>\n",
       "      <td>NaN</td>\n",
       "      <td>NaN</td>\n",
       "    </tr>\n",
       "    <tr>\n",
       "      <th>3</th>\n",
       "      <td>3</td>\n",
       "      <td>Минстрой обозначил способы снижения энергоемко...</td>\n",
       "      <td>M</td>\n",
       "      <td>минстрой обозначить способ снижение энергоёмко...</td>\n",
       "      <td>71</td>\n",
       "      <td>0.014085</td>\n",
       "      <td>0.000000</td>\n",
       "      <td>0.000000</td>\n",
       "      <td>0.014085</td>\n",
       "      <td>0.887324</td>\n",
       "      <td>...</td>\n",
       "      <td>NaN</td>\n",
       "      <td>1.0</td>\n",
       "      <td>NaN</td>\n",
       "      <td>NaN</td>\n",
       "      <td>NaN</td>\n",
       "      <td>NaN</td>\n",
       "      <td>NaN</td>\n",
       "      <td>NaN</td>\n",
       "      <td>NaN</td>\n",
       "      <td>NaN</td>\n",
       "    </tr>\n",
       "    <tr>\n",
       "      <th>4</th>\n",
       "      <td>4</td>\n",
       "      <td>В конце 1873 года военный суд вынес решение по...</td>\n",
       "      <td>M</td>\n",
       "      <td>в конец 1873 год военный суд вынести решение п...</td>\n",
       "      <td>76</td>\n",
       "      <td>0.013158</td>\n",
       "      <td>0.013158</td>\n",
       "      <td>0.052632</td>\n",
       "      <td>0.052632</td>\n",
       "      <td>0.723684</td>\n",
       "      <td>...</td>\n",
       "      <td>NaN</td>\n",
       "      <td>1.0</td>\n",
       "      <td>NaN</td>\n",
       "      <td>NaN</td>\n",
       "      <td>NaN</td>\n",
       "      <td>NaN</td>\n",
       "      <td>NaN</td>\n",
       "      <td>NaN</td>\n",
       "      <td>NaN</td>\n",
       "      <td>NaN</td>\n",
       "    </tr>\n",
       "    <tr>\n",
       "      <th>...</th>\n",
       "      <td>...</td>\n",
       "      <td>...</td>\n",
       "      <td>...</td>\n",
       "      <td>...</td>\n",
       "      <td>...</td>\n",
       "      <td>...</td>\n",
       "      <td>...</td>\n",
       "      <td>...</td>\n",
       "      <td>...</td>\n",
       "      <td>...</td>\n",
       "      <td>...</td>\n",
       "      <td>...</td>\n",
       "      <td>...</td>\n",
       "      <td>...</td>\n",
       "      <td>...</td>\n",
       "      <td>...</td>\n",
       "      <td>...</td>\n",
       "      <td>...</td>\n",
       "      <td>...</td>\n",
       "      <td>...</td>\n",
       "      <td>...</td>\n",
       "    </tr>\n",
       "    <tr>\n",
       "      <th>129061</th>\n",
       "      <td>215102</td>\n",
       "      <td>Убытки МУП &amp;quot;Теплоэнерго&amp;nbsp;&amp;ndash;. На ...</td>\n",
       "      <td>M</td>\n",
       "      <td>убыток муп quot теплоэнерго nbsp ndash на терр...</td>\n",
       "      <td>538</td>\n",
       "      <td>0.029740</td>\n",
       "      <td>0.011152</td>\n",
       "      <td>0.013011</td>\n",
       "      <td>0.040892</td>\n",
       "      <td>0.776952</td>\n",
       "      <td>...</td>\n",
       "      <td>3.0</td>\n",
       "      <td>1.0</td>\n",
       "      <td>NaN</td>\n",
       "      <td>NaN</td>\n",
       "      <td>1.0</td>\n",
       "      <td>3.0</td>\n",
       "      <td>NaN</td>\n",
       "      <td>NaN</td>\n",
       "      <td>NaN</td>\n",
       "      <td>NaN</td>\n",
       "    </tr>\n",
       "    <tr>\n",
       "      <th>129062</th>\n",
       "      <td>215104</td>\n",
       "      <td>Три сестры были молодёжными послами на Национа...</td>\n",
       "      <td>H</td>\n",
       "      <td>три сестра быть молодёжный посол на национальн...</td>\n",
       "      <td>71</td>\n",
       "      <td>0.014085</td>\n",
       "      <td>0.014085</td>\n",
       "      <td>0.056338</td>\n",
       "      <td>0.056338</td>\n",
       "      <td>0.718310</td>\n",
       "      <td>...</td>\n",
       "      <td>NaN</td>\n",
       "      <td>1.0</td>\n",
       "      <td>NaN</td>\n",
       "      <td>NaN</td>\n",
       "      <td>NaN</td>\n",
       "      <td>NaN</td>\n",
       "      <td>NaN</td>\n",
       "      <td>1.0</td>\n",
       "      <td>NaN</td>\n",
       "      <td>NaN</td>\n",
       "    </tr>\n",
       "    <tr>\n",
       "      <th>129063</th>\n",
       "      <td>215105</td>\n",
       "      <td>В Прекрасной России Будущего коты создадут сво...</td>\n",
       "      <td>H</td>\n",
       "      <td>в прекрасный россия будущее коты создать свой ...</td>\n",
       "      <td>153</td>\n",
       "      <td>0.026144</td>\n",
       "      <td>0.006536</td>\n",
       "      <td>0.013072</td>\n",
       "      <td>0.026144</td>\n",
       "      <td>0.790850</td>\n",
       "      <td>...</td>\n",
       "      <td>NaN</td>\n",
       "      <td>2.0</td>\n",
       "      <td>NaN</td>\n",
       "      <td>NaN</td>\n",
       "      <td>NaN</td>\n",
       "      <td>NaN</td>\n",
       "      <td>NaN</td>\n",
       "      <td>NaN</td>\n",
       "      <td>NaN</td>\n",
       "      <td>NaN</td>\n",
       "    </tr>\n",
       "    <tr>\n",
       "      <th>129064</th>\n",
       "      <td>215106</td>\n",
       "      <td>В семье наше будущее!</td>\n",
       "      <td>M</td>\n",
       "      <td>в семья наш будущее</td>\n",
       "      <td>21</td>\n",
       "      <td>0.047619</td>\n",
       "      <td>0.000000</td>\n",
       "      <td>0.000000</td>\n",
       "      <td>0.047619</td>\n",
       "      <td>0.761905</td>\n",
       "      <td>...</td>\n",
       "      <td>NaN</td>\n",
       "      <td>NaN</td>\n",
       "      <td>NaN</td>\n",
       "      <td>NaN</td>\n",
       "      <td>NaN</td>\n",
       "      <td>NaN</td>\n",
       "      <td>NaN</td>\n",
       "      <td>NaN</td>\n",
       "      <td>NaN</td>\n",
       "      <td>NaN</td>\n",
       "    </tr>\n",
       "    <tr>\n",
       "      <th>129065</th>\n",
       "      <td>215107</td>\n",
       "      <td>Минюст рассказал об ответственности за публика...</td>\n",
       "      <td>M</td>\n",
       "      <td>минюст рассказать о ответственность за публика...</td>\n",
       "      <td>106</td>\n",
       "      <td>0.009434</td>\n",
       "      <td>0.000000</td>\n",
       "      <td>0.000000</td>\n",
       "      <td>0.009434</td>\n",
       "      <td>0.867925</td>\n",
       "      <td>...</td>\n",
       "      <td>NaN</td>\n",
       "      <td>1.0</td>\n",
       "      <td>NaN</td>\n",
       "      <td>NaN</td>\n",
       "      <td>NaN</td>\n",
       "      <td>NaN</td>\n",
       "      <td>NaN</td>\n",
       "      <td>NaN</td>\n",
       "      <td>NaN</td>\n",
       "      <td>NaN</td>\n",
       "    </tr>\n",
       "  </tbody>\n",
       "</table>\n",
       "<p>129066 rows × 39 columns</p>\n",
       "</div>"
      ],
      "text/plain": [
       "            id                                               text class  \\\n",
       "0            0  Обустройство тротуаров, мостовых (в том числе ...     H   \n",
       "1            1  Въ издержкахъ же оныхъ вы имете присылать счет...     H   \n",
       "2            2                      Положи это туда, откуда взял.     H   \n",
       "3            3  Минстрой обозначил способы снижения энергоемко...     M   \n",
       "4            4  В конце 1873 года военный суд вынес решение по...     M   \n",
       "...        ...                                                ...   ...   \n",
       "129061  215102  Убытки МУП &quot;Теплоэнерго&nbsp;&ndash;. На ...     M   \n",
       "129062  215104  Три сестры были молодёжными послами на Национа...     H   \n",
       "129063  215105  В Прекрасной России Будущего коты создадут сво...     H   \n",
       "129064  215106                              В семье наше будущее!     M   \n",
       "129065  215107  Минюст рассказал об ответственности за публика...     M   \n",
       "\n",
       "                                                lemm_text  len_text_text  \\\n",
       "0       обустройство тротуар мостовый в тот число трот...             66   \n",
       "1       въ издержкахъ же оныхъ вы имета присылать счёт...            117   \n",
       "2                          положить это туда откуда взять             29   \n",
       "3       минстрой обозначить способ снижение энергоёмко...             71   \n",
       "4       в конец 1873 год военный суд вынести решение п...             76   \n",
       "...                                                   ...            ...   \n",
       "129061  убыток муп quot теплоэнерго nbsp ndash на терр...            538   \n",
       "129062  три сестра быть молодёжный посол на национальн...             71   \n",
       "129063  в прекрасный россия будущее коты создать свой ...            153   \n",
       "129064                                в семья наш будущее             21   \n",
       "129065  минюст рассказать о ответственность за публика...            106   \n",
       "\n",
       "        count_punct_text  count_numbers_text  count_digits_text  \\\n",
       "0               0.045455            0.000000           0.000000   \n",
       "1               0.025641            0.000000           0.000000   \n",
       "2               0.068966            0.000000           0.000000   \n",
       "3               0.014085            0.000000           0.000000   \n",
       "4               0.013158            0.013158           0.052632   \n",
       "...                  ...                 ...                ...   \n",
       "129061          0.029740            0.011152           0.013011   \n",
       "129062          0.014085            0.014085           0.056338   \n",
       "129063          0.026144            0.006536           0.013072   \n",
       "129064          0.047619            0.000000           0.000000   \n",
       "129065          0.009434            0.000000           0.000000   \n",
       "\n",
       "        count_uppercase_text  count_lowercase_text  ...  POS_CONJ_text  \\\n",
       "0                   0.015152              0.818182  ...            NaN   \n",
       "1                   0.008547              0.811966  ...            1.0   \n",
       "2                   0.034483              0.758621  ...            NaN   \n",
       "3                   0.014085              0.887324  ...            NaN   \n",
       "4                   0.052632              0.723684  ...            NaN   \n",
       "...                      ...                   ...  ...            ...   \n",
       "129061              0.040892              0.776952  ...            3.0   \n",
       "129062              0.056338              0.718310  ...            NaN   \n",
       "129063              0.026144              0.790850  ...            NaN   \n",
       "129064              0.047619              0.761905  ...            NaN   \n",
       "129065              0.009434              0.867925  ...            NaN   \n",
       "\n",
       "        POS_VERB_text  POS_PRED_text  POS_ADJS_text  POS_PRTF_text  \\\n",
       "0                 NaN            NaN            NaN            NaN   \n",
       "1                 NaN            NaN            NaN            NaN   \n",
       "2                 2.0            NaN            NaN            NaN   \n",
       "3                 1.0            NaN            NaN            NaN   \n",
       "4                 1.0            NaN            NaN            NaN   \n",
       "...               ...            ...            ...            ...   \n",
       "129061            1.0            NaN            NaN            1.0   \n",
       "129062            1.0            NaN            NaN            NaN   \n",
       "129063            2.0            NaN            NaN            NaN   \n",
       "129064            NaN            NaN            NaN            NaN   \n",
       "129065            1.0            NaN            NaN            NaN   \n",
       "\n",
       "        POS_PRTS_text  POS_INTJ_text  POS_NUMR_text POS_GRND_text  \\\n",
       "0                 NaN            NaN            NaN           NaN   \n",
       "1                 NaN            NaN            NaN           NaN   \n",
       "2                 NaN            NaN            NaN           NaN   \n",
       "3                 NaN            NaN            NaN           NaN   \n",
       "4                 NaN            NaN            NaN           NaN   \n",
       "...               ...            ...            ...           ...   \n",
       "129061            3.0            NaN            NaN           NaN   \n",
       "129062            NaN            NaN            1.0           NaN   \n",
       "129063            NaN            NaN            NaN           NaN   \n",
       "129064            NaN            NaN            NaN           NaN   \n",
       "129065            NaN            NaN            NaN           NaN   \n",
       "\n",
       "       POS_COMP_text  \n",
       "0                NaN  \n",
       "1                NaN  \n",
       "2                NaN  \n",
       "3                NaN  \n",
       "4                NaN  \n",
       "...              ...  \n",
       "129061           NaN  \n",
       "129062           NaN  \n",
       "129063           NaN  \n",
       "129064           NaN  \n",
       "129065           NaN  \n",
       "\n",
       "[129066 rows x 39 columns]"
      ]
     },
     "execution_count": 2,
     "metadata": {},
     "output_type": "execute_result"
    }
   ],
   "source": [
    "data = pd.read_csv('prep_train.csv')\n",
    "data"
   ]
  },
  {
   "cell_type": "code",
   "execution_count": 3,
   "id": "da6b96e6",
   "metadata": {},
   "outputs": [
    {
     "data": {
      "text/plain": [
       "Index(['id', 'text', 'class', 'lemm_text', 'len_text_text', 'count_punct_text',\n",
       "       'count_numbers_text', 'count_digits_text', 'count_uppercase_text',\n",
       "       'count_lowercase_text', 'avg_word_len_text',\n",
       "       'mean_ru_vowel_occurance_text', 'mean_ru_consonant_occurance_text',\n",
       "       'mean_en_vowel_occurance_text', 'mean_en_consonant_occurance_text',\n",
       "       'count_space_text', 'count_kirr_text', 'count_lat_text', 'POS_text',\n",
       "       'count_POS_text', 'sent_POS_text', 'POS_NOUN_text', 'POS_ADJF_text',\n",
       "       'POS_PREP_text', 'POS_None_text', 'POS_PRCL_text', 'POS_NPRO_text',\n",
       "       'POS_INFN_text', 'POS_ADVB_text', 'POS_CONJ_text', 'POS_VERB_text',\n",
       "       'POS_PRED_text', 'POS_ADJS_text', 'POS_PRTF_text', 'POS_PRTS_text',\n",
       "       'POS_INTJ_text', 'POS_NUMR_text', 'POS_GRND_text', 'POS_COMP_text'],\n",
       "      dtype='object')"
      ]
     },
     "execution_count": 3,
     "metadata": {},
     "output_type": "execute_result"
    }
   ],
   "source": [
    "data.columns"
   ]
  },
  {
   "cell_type": "code",
   "execution_count": 4,
   "id": "57c99782",
   "metadata": {},
   "outputs": [
    {
     "data": {
      "text/plain": [
       "H    64535\n",
       "M    64531\n",
       "Name: class, dtype: int64"
      ]
     },
     "execution_count": 4,
     "metadata": {},
     "output_type": "execute_result"
    }
   ],
   "source": [
    "data['class'].value_counts()"
   ]
  },
  {
   "cell_type": "code",
   "execution_count": 5,
   "id": "1d1ff98c",
   "metadata": {},
   "outputs": [],
   "source": [
    "from sklearn.feature_extraction.text import CountVectorizer\n",
    "from sklearn.linear_model import LogisticRegression\n",
    "from sklearn.svm import SVC\n",
    "from sklearn.model_selection import cross_val_score\n",
    "from sklearn.metrics import classification_report"
   ]
  },
  {
   "cell_type": "code",
   "execution_count": 6,
   "id": "d0314333",
   "metadata": {},
   "outputs": [],
   "source": [
    "train = pd.read_csv('prep_train.csv')\n",
    "val = pd.read_csv('prep_val.csv')"
   ]
  },
  {
   "cell_type": "code",
   "execution_count": 7,
   "id": "5ca50b53",
   "metadata": {},
   "outputs": [
    {
     "data": {
      "text/plain": [
       "(0, 1)"
      ]
     },
     "execution_count": 7,
     "metadata": {},
     "output_type": "execute_result"
    }
   ],
   "source": [
    "train['sent_POS_text'].isnull().sum(), val['sent_POS_text'].isnull().sum()"
   ]
  },
  {
   "cell_type": "code",
   "execution_count": 8,
   "id": "07199cd5",
   "metadata": {},
   "outputs": [],
   "source": [
    "val.dropna(subset=['sent_POS_text'], inplace=True)\n",
    "# удаляем строки с NaN, перезаписываем ту же таблицу"
   ]
  },
  {
   "cell_type": "code",
   "execution_count": 9,
   "id": "d5db7639",
   "metadata": {},
   "outputs": [
    {
     "data": {
      "text/plain": [
       "(0, 0)"
      ]
     },
     "execution_count": 9,
     "metadata": {},
     "output_type": "execute_result"
    }
   ],
   "source": [
    "# проверка\n",
    "train['sent_POS_text'].isnull().sum(), val['sent_POS_text'].isnull().sum()"
   ]
  },
  {
   "cell_type": "code",
   "execution_count": 10,
   "id": "deeb7592",
   "metadata": {},
   "outputs": [],
   "source": [
    "vectorizer = CountVectorizer(ngram_range=(1,2))\n",
    "# Convert a collection of text documents to a matrix of token counts.\n",
    "# The lower and upper boundary of the range of n-values for different word n-grams or char n-grams\n",
    "# to be extracted.\n",
    "# All values of n such such that min_n <= n <= max_n will be used. \n",
    "# For example an ngram_range of (1, 1) means only unigrams, (1, 2) means unigrams and bigrams"
   ]
  },
  {
   "cell_type": "code",
   "execution_count": 11,
   "id": "b6771a98",
   "metadata": {},
   "outputs": [
    {
     "data": {
      "text/plain": [
       "0        H\n",
       "1        H\n",
       "2        M\n",
       "3        H\n",
       "4        M\n",
       "        ..\n",
       "21506    H\n",
       "21507    M\n",
       "21508    M\n",
       "21509    M\n",
       "21510    M\n",
       "Name: class, Length: 21510, dtype: object"
      ]
     },
     "execution_count": 11,
     "metadata": {},
     "output_type": "execute_result"
    }
   ],
   "source": [
    "val['class']"
   ]
  },
  {
   "cell_type": "code",
   "execution_count": 12,
   "id": "0f8c6d7a",
   "metadata": {},
   "outputs": [],
   "source": [
    "train['class'] = train['class'].map({'H': 0, 'M': 1})\n",
    "val['class'] = val['class'].map({'H': 0, 'M': 1})\n",
    "# Встроенная в Python функция map() используется для применения функции к каждому элементу итерируемого объекта"
   ]
  },
  {
   "cell_type": "code",
   "execution_count": 13,
   "id": "40501cff",
   "metadata": {},
   "outputs": [
    {
     "data": {
      "text/plain": [
       "0        0\n",
       "1        0\n",
       "2        1\n",
       "3        0\n",
       "4        1\n",
       "        ..\n",
       "21506    0\n",
       "21507    1\n",
       "21508    1\n",
       "21509    1\n",
       "21510    1\n",
       "Name: class, Length: 21510, dtype: int64"
      ]
     },
     "execution_count": 13,
     "metadata": {},
     "output_type": "execute_result"
    }
   ],
   "source": [
    "val['class']"
   ]
  },
  {
   "cell_type": "code",
   "execution_count": 14,
   "id": "caa7b0ee",
   "metadata": {},
   "outputs": [],
   "source": [
    "x_train = train['sent_POS_text'].values\n",
    "x_val = val['sent_POS_text'].values\n",
    "\n",
    "y_train = train['class'].values\n",
    "y_val = val['class'].values"
   ]
  },
  {
   "cell_type": "code",
   "execution_count": 15,
   "id": "17526856",
   "metadata": {},
   "outputs": [
    {
     "data": {
      "text/plain": [
       "array(['NOUN NOUN ADJF PREP ADJF NOUN ADJF NOUN',\n",
       "       'None NOUN PRCL NOUN NPRO NOUN INFN NOUN ADJF NOUN ADVB None NOUN NOUN CONJ None ADJF ADJF NOUN',\n",
       "       'VERB PRCL ADVB ADVB VERB', ...,\n",
       "       'PREP ADJF NOUN NOUN NOUN VERB ADJF NOUN ADVB NOUN NOUN ADVB None NOUN ADVB PREP NOUN VERB INFN PRCL PREP ADJF NOUN',\n",
       "       'PREP NOUN ADJF NOUN',\n",
       "       'NOUN VERB PREP NOUN PREP NOUN NOUN PREP NOUN PREP ADJF NOUN NOUN'],\n",
       "      dtype=object)"
      ]
     },
     "execution_count": 15,
     "metadata": {},
     "output_type": "execute_result"
    }
   ],
   "source": [
    "train['sent_POS_text'].values"
   ]
  },
  {
   "cell_type": "code",
   "execution_count": 16,
   "id": "8e388dda",
   "metadata": {},
   "outputs": [],
   "source": [
    "x_train_bow = vectorizer.fit_transform(x_train)\n",
    "x_val_bow = vectorizer.transform(x_val)"
   ]
  },
  {
   "cell_type": "code",
   "execution_count": 17,
   "id": "f3cb3b97",
   "metadata": {},
   "outputs": [
    {
     "name": "stderr",
     "output_type": "stream",
     "text": [
      "/usr/local/lib/python3.7/site-packages/sklearn/utils/deprecation.py:87: FutureWarning: Function get_feature_names is deprecated; get_feature_names is deprecated in 1.0 and will be removed in 1.2. Please use get_feature_names_out instead.\n",
      "  warnings.warn(msg, category=FutureWarning)\n"
     ]
    },
    {
     "data": {
      "text/plain": [
       "['adjf',\n",
       " 'adjf adjf',\n",
       " 'adjf adjs',\n",
       " 'adjf advb',\n",
       " 'adjf comp',\n",
       " 'adjf conj',\n",
       " 'adjf grnd',\n",
       " 'adjf infn',\n",
       " 'adjf intj',\n",
       " 'adjf none',\n",
       " 'adjf noun',\n",
       " 'adjf npro',\n",
       " 'adjf numr',\n",
       " 'adjf prcl',\n",
       " 'adjf pred',\n",
       " 'adjf prep',\n",
       " 'adjf prtf',\n",
       " 'adjf prts',\n",
       " 'adjf verb',\n",
       " 'adjs',\n",
       " 'adjs adjf',\n",
       " 'adjs adjs',\n",
       " 'adjs advb',\n",
       " 'adjs comp',\n",
       " 'adjs conj',\n",
       " 'adjs grnd',\n",
       " 'adjs infn',\n",
       " 'adjs intj',\n",
       " 'adjs none',\n",
       " 'adjs noun',\n",
       " 'adjs npro',\n",
       " 'adjs numr',\n",
       " 'adjs prcl',\n",
       " 'adjs pred',\n",
       " 'adjs prep',\n",
       " 'adjs prtf',\n",
       " 'adjs prts',\n",
       " 'adjs verb',\n",
       " 'advb',\n",
       " 'advb adjf',\n",
       " 'advb adjs',\n",
       " 'advb advb',\n",
       " 'advb comp',\n",
       " 'advb conj',\n",
       " 'advb grnd',\n",
       " 'advb infn',\n",
       " 'advb intj',\n",
       " 'advb none',\n",
       " 'advb noun',\n",
       " 'advb npro',\n",
       " 'advb numr',\n",
       " 'advb prcl',\n",
       " 'advb pred',\n",
       " 'advb prep',\n",
       " 'advb prtf',\n",
       " 'advb prts',\n",
       " 'advb verb',\n",
       " 'comp',\n",
       " 'comp adjf',\n",
       " 'comp adjs',\n",
       " 'comp advb',\n",
       " 'comp comp',\n",
       " 'comp conj',\n",
       " 'comp grnd',\n",
       " 'comp infn',\n",
       " 'comp intj',\n",
       " 'comp none',\n",
       " 'comp noun',\n",
       " 'comp npro',\n",
       " 'comp numr',\n",
       " 'comp prcl',\n",
       " 'comp pred',\n",
       " 'comp prep',\n",
       " 'comp prtf',\n",
       " 'comp prts',\n",
       " 'comp verb',\n",
       " 'conj',\n",
       " 'conj adjf',\n",
       " 'conj adjs',\n",
       " 'conj advb',\n",
       " 'conj comp',\n",
       " 'conj conj',\n",
       " 'conj grnd',\n",
       " 'conj infn',\n",
       " 'conj intj',\n",
       " 'conj none',\n",
       " 'conj noun',\n",
       " 'conj npro',\n",
       " 'conj numr',\n",
       " 'conj prcl',\n",
       " 'conj pred',\n",
       " 'conj prep',\n",
       " 'conj prtf',\n",
       " 'conj prts',\n",
       " 'conj verb',\n",
       " 'grnd',\n",
       " 'grnd adjf',\n",
       " 'grnd adjs',\n",
       " 'grnd advb',\n",
       " 'grnd comp',\n",
       " 'grnd conj',\n",
       " 'grnd grnd',\n",
       " 'grnd infn',\n",
       " 'grnd intj',\n",
       " 'grnd none',\n",
       " 'grnd noun',\n",
       " 'grnd npro',\n",
       " 'grnd numr',\n",
       " 'grnd prcl',\n",
       " 'grnd pred',\n",
       " 'grnd prep',\n",
       " 'grnd prtf',\n",
       " 'grnd prts',\n",
       " 'grnd verb',\n",
       " 'infn',\n",
       " 'infn adjf',\n",
       " 'infn adjs',\n",
       " 'infn advb',\n",
       " 'infn comp',\n",
       " 'infn conj',\n",
       " 'infn grnd',\n",
       " 'infn infn',\n",
       " 'infn intj',\n",
       " 'infn none',\n",
       " 'infn noun',\n",
       " 'infn npro',\n",
       " 'infn numr',\n",
       " 'infn prcl',\n",
       " 'infn pred',\n",
       " 'infn prep',\n",
       " 'infn prtf',\n",
       " 'infn prts',\n",
       " 'infn verb',\n",
       " 'intj',\n",
       " 'intj adjf',\n",
       " 'intj adjs',\n",
       " 'intj advb',\n",
       " 'intj comp',\n",
       " 'intj conj',\n",
       " 'intj grnd',\n",
       " 'intj infn',\n",
       " 'intj intj',\n",
       " 'intj none',\n",
       " 'intj noun',\n",
       " 'intj npro',\n",
       " 'intj numr',\n",
       " 'intj prcl',\n",
       " 'intj pred',\n",
       " 'intj prep',\n",
       " 'intj prtf',\n",
       " 'intj prts',\n",
       " 'intj verb',\n",
       " 'none',\n",
       " 'none adjf',\n",
       " 'none adjs',\n",
       " 'none advb',\n",
       " 'none comp',\n",
       " 'none conj',\n",
       " 'none grnd',\n",
       " 'none infn',\n",
       " 'none intj',\n",
       " 'none none',\n",
       " 'none noun',\n",
       " 'none npro',\n",
       " 'none numr',\n",
       " 'none prcl',\n",
       " 'none pred',\n",
       " 'none prep',\n",
       " 'none prtf',\n",
       " 'none prts',\n",
       " 'none verb',\n",
       " 'noun',\n",
       " 'noun adjf',\n",
       " 'noun adjs',\n",
       " 'noun advb',\n",
       " 'noun comp',\n",
       " 'noun conj',\n",
       " 'noun grnd',\n",
       " 'noun infn',\n",
       " 'noun intj',\n",
       " 'noun none',\n",
       " 'noun noun',\n",
       " 'noun npro',\n",
       " 'noun numr',\n",
       " 'noun prcl',\n",
       " 'noun pred',\n",
       " 'noun prep',\n",
       " 'noun prtf',\n",
       " 'noun prts',\n",
       " 'noun verb',\n",
       " 'npro',\n",
       " 'npro adjf',\n",
       " 'npro adjs',\n",
       " 'npro advb',\n",
       " 'npro comp',\n",
       " 'npro conj',\n",
       " 'npro grnd',\n",
       " 'npro infn',\n",
       " 'npro intj',\n",
       " 'npro none',\n",
       " 'npro noun',\n",
       " 'npro npro',\n",
       " 'npro numr',\n",
       " 'npro prcl',\n",
       " 'npro pred',\n",
       " 'npro prep',\n",
       " 'npro prtf',\n",
       " 'npro prts',\n",
       " 'npro verb',\n",
       " 'numr',\n",
       " 'numr adjf',\n",
       " 'numr adjs',\n",
       " 'numr advb',\n",
       " 'numr comp',\n",
       " 'numr conj',\n",
       " 'numr grnd',\n",
       " 'numr infn',\n",
       " 'numr intj',\n",
       " 'numr none',\n",
       " 'numr noun',\n",
       " 'numr npro',\n",
       " 'numr numr',\n",
       " 'numr prcl',\n",
       " 'numr pred',\n",
       " 'numr prep',\n",
       " 'numr prtf',\n",
       " 'numr prts',\n",
       " 'numr verb',\n",
       " 'prcl',\n",
       " 'prcl adjf',\n",
       " 'prcl adjs',\n",
       " 'prcl advb',\n",
       " 'prcl comp',\n",
       " 'prcl conj',\n",
       " 'prcl grnd',\n",
       " 'prcl infn',\n",
       " 'prcl intj',\n",
       " 'prcl none',\n",
       " 'prcl noun',\n",
       " 'prcl npro',\n",
       " 'prcl numr',\n",
       " 'prcl prcl',\n",
       " 'prcl pred',\n",
       " 'prcl prep',\n",
       " 'prcl prtf',\n",
       " 'prcl prts',\n",
       " 'prcl verb',\n",
       " 'pred',\n",
       " 'pred adjf',\n",
       " 'pred adjs',\n",
       " 'pred advb',\n",
       " 'pred comp',\n",
       " 'pred conj',\n",
       " 'pred grnd',\n",
       " 'pred infn',\n",
       " 'pred intj',\n",
       " 'pred none',\n",
       " 'pred noun',\n",
       " 'pred npro',\n",
       " 'pred numr',\n",
       " 'pred prcl',\n",
       " 'pred pred',\n",
       " 'pred prep',\n",
       " 'pred prtf',\n",
       " 'pred prts',\n",
       " 'pred verb',\n",
       " 'prep',\n",
       " 'prep adjf',\n",
       " 'prep adjs',\n",
       " 'prep advb',\n",
       " 'prep comp',\n",
       " 'prep conj',\n",
       " 'prep grnd',\n",
       " 'prep infn',\n",
       " 'prep intj',\n",
       " 'prep none',\n",
       " 'prep noun',\n",
       " 'prep npro',\n",
       " 'prep numr',\n",
       " 'prep prcl',\n",
       " 'prep pred',\n",
       " 'prep prep',\n",
       " 'prep prtf',\n",
       " 'prep prts',\n",
       " 'prep verb',\n",
       " 'prtf',\n",
       " 'prtf adjf',\n",
       " 'prtf adjs',\n",
       " 'prtf advb',\n",
       " 'prtf comp',\n",
       " 'prtf conj',\n",
       " 'prtf grnd',\n",
       " 'prtf infn',\n",
       " 'prtf intj',\n",
       " 'prtf none',\n",
       " 'prtf noun',\n",
       " 'prtf npro',\n",
       " 'prtf numr',\n",
       " 'prtf prcl',\n",
       " 'prtf pred',\n",
       " 'prtf prep',\n",
       " 'prtf prtf',\n",
       " 'prtf prts',\n",
       " 'prtf verb',\n",
       " 'prts',\n",
       " 'prts adjf',\n",
       " 'prts adjs',\n",
       " 'prts advb',\n",
       " 'prts comp',\n",
       " 'prts conj',\n",
       " 'prts grnd',\n",
       " 'prts infn',\n",
       " 'prts intj',\n",
       " 'prts none',\n",
       " 'prts noun',\n",
       " 'prts npro',\n",
       " 'prts numr',\n",
       " 'prts prcl',\n",
       " 'prts pred',\n",
       " 'prts prep',\n",
       " 'prts prtf',\n",
       " 'prts prts',\n",
       " 'prts verb',\n",
       " 'verb',\n",
       " 'verb adjf',\n",
       " 'verb adjs',\n",
       " 'verb advb',\n",
       " 'verb comp',\n",
       " 'verb conj',\n",
       " 'verb grnd',\n",
       " 'verb infn',\n",
       " 'verb intj',\n",
       " 'verb none',\n",
       " 'verb noun',\n",
       " 'verb npro',\n",
       " 'verb numr',\n",
       " 'verb prcl',\n",
       " 'verb pred',\n",
       " 'verb prep',\n",
       " 'verb prtf',\n",
       " 'verb prts',\n",
       " 'verb verb']"
      ]
     },
     "execution_count": 17,
     "metadata": {},
     "output_type": "execute_result"
    }
   ],
   "source": [
    "vectorizer.get_feature_names()\n",
    "# http://zabaykin.ru/?p=463"
   ]
  },
  {
   "cell_type": "code",
   "execution_count": 18,
   "id": "4aa6a275",
   "metadata": {},
   "outputs": [],
   "source": [
    "lr = LogisticRegression(solver='liblinear')\n",
    "# solver: Algorithm to use in the optimization problem. Default is ‘lbfgs’.\n",
    "# To choose a solver, you might want to consider the following aspects:\n",
    "# For small datasets, ‘liblinear’ is a good choice, whereas ‘sag’ and ‘saga’ are faster for large ones;\n",
    "svc = SVC()\n",
    "# For large datasets consider using LinearSVC or SGDClassifier instead, possibly after a Nystroem transformer."
   ]
  },
  {
   "cell_type": "code",
   "execution_count": null,
   "id": "90275e04",
   "metadata": {},
   "outputs": [],
   "source": [
    "cross_val_score(lr, x_train_bow, y_train, scoring='f1', cv=3)\n",
    "# Evaluate a score by cross-validation.\n",
    "# sklearn.model_selection.cross_val_score(estimator, X, y=None, *, groups=None, scoring=None, cv=None,\n",
    "# n_jobs=None, verbose=0, fit_params=None, pre_dispatch='2*n_jobs', error_score=nan)[source]\n",
    "# cv: int, cross-validation generator or an iterable, default=None\n",
    "# Determines the cross-validation splitting strategy. Possible inputs for cv are:\n",
    "# None, to use the default 5-fold cross validation,\n",
    "# int, to specify the number of folds in a (Stratified)KFold,\n",
    "# CV splitter,\n",
    "# An iterable that generates (train, test) splits as arrays of indices.\n",
    "\n",
    "# Returns\n",
    "# scores: ndarray of float of shape=(len(list(cv)),)\n",
    "# Array of scores of the estimator for each run of the cross validation.\n",
    "\n",
    "# f1: 1 - лучшее, + нам наверное важно что они между собой должны быть +- одинаковые\n",
    "# 0 - худшеее"
   ]
  },
  {
   "cell_type": "code",
   "execution_count": null,
   "id": "3f38cb85",
   "metadata": {},
   "outputs": [],
   "source": [
    "cross_val_score(svc, x_train_bow, y_train, scoring='f1', cv=3)"
   ]
  },
  {
   "cell_type": "code",
   "execution_count": 19,
   "id": "8ea6dcb2",
   "metadata": {},
   "outputs": [],
   "source": [
    "lr.fit(x_train_bow, y_train)\n",
    "y_pred = lr.predict(x_val_bow)"
   ]
  },
  {
   "cell_type": "code",
   "execution_count": null,
   "id": "6ecdcf79",
   "metadata": {},
   "outputs": [],
   "source": [
    "print(classification_report(y_pred, y_val))"
   ]
  },
  {
   "cell_type": "code",
   "execution_count": null,
   "id": "8f796a9c",
   "metadata": {},
   "outputs": [],
   "source": [
    "svc.fit(x_train_bow, y_train)\n",
    "y_pred = svc.predict(x_val_bow)"
   ]
  },
  {
   "cell_type": "code",
   "execution_count": null,
   "id": "c2551752",
   "metadata": {},
   "outputs": [],
   "source": [
    "print(classification_report(y_pred, y_val))"
   ]
  },
  {
   "cell_type": "code",
   "execution_count": 20,
   "id": "c477f8ad",
   "metadata": {},
   "outputs": [
    {
     "data": {
      "text/html": [
       "<div>\n",
       "<style scoped>\n",
       "    .dataframe tbody tr th:only-of-type {\n",
       "        vertical-align: middle;\n",
       "    }\n",
       "\n",
       "    .dataframe tbody tr th {\n",
       "        vertical-align: top;\n",
       "    }\n",
       "\n",
       "    .dataframe thead th {\n",
       "        text-align: right;\n",
       "    }\n",
       "</style>\n",
       "<table border=\"1\" class=\"dataframe\">\n",
       "  <thead>\n",
       "    <tr style=\"text-align: right;\">\n",
       "      <th></th>\n",
       "      <th>feature</th>\n",
       "      <th>coef</th>\n",
       "    </tr>\n",
       "  </thead>\n",
       "  <tbody>\n",
       "    <tr>\n",
       "      <th>266</th>\n",
       "      <td>prep grnd</td>\n",
       "      <td>1.4602676339890086</td>\n",
       "    </tr>\n",
       "    <tr>\n",
       "      <th>66</th>\n",
       "      <td>verb adjf</td>\n",
       "      <td>1.4156455608457024</td>\n",
       "    </tr>\n",
       "    <tr>\n",
       "      <th>156</th>\n",
       "      <td>advb infn</td>\n",
       "      <td>1.1323452684926576</td>\n",
       "    </tr>\n",
       "    <tr>\n",
       "      <th>255</th>\n",
       "      <td>intj adjf</td>\n",
       "      <td>1.0243594810336598</td>\n",
       "    </tr>\n",
       "    <tr>\n",
       "      <th>60</th>\n",
       "      <td>adjs advb</td>\n",
       "      <td>1.0009499605054117</td>\n",
       "    </tr>\n",
       "    <tr>\n",
       "      <th>47</th>\n",
       "      <td>adjs</td>\n",
       "      <td>0.9814514162368855</td>\n",
       "    </tr>\n",
       "    <tr>\n",
       "      <th>74</th>\n",
       "      <td>npro verb</td>\n",
       "      <td>0.8516058631303446</td>\n",
       "    </tr>\n",
       "    <tr>\n",
       "      <th>330</th>\n",
       "      <td>comp grnd</td>\n",
       "      <td>0.8126428992776393</td>\n",
       "    </tr>\n",
       "    <tr>\n",
       "      <th>254</th>\n",
       "      <td>prtf prts</td>\n",
       "      <td>0.7899769192258257</td>\n",
       "    </tr>\n",
       "    <tr>\n",
       "      <th>26</th>\n",
       "      <td>adjf adjf</td>\n",
       "      <td>0.7809340268832501</td>\n",
       "    </tr>\n",
       "    <tr>\n",
       "      <th>136</th>\n",
       "      <td>grnd advb</td>\n",
       "      <td>0.7756719592248592</td>\n",
       "    </tr>\n",
       "    <tr>\n",
       "      <th>159</th>\n",
       "      <td>prcl intj</td>\n",
       "      <td>0.764498496356845</td>\n",
       "    </tr>\n",
       "    <tr>\n",
       "      <th>116</th>\n",
       "      <td>none advb</td>\n",
       "      <td>0.7465731861276769</td>\n",
       "    </tr>\n",
       "    <tr>\n",
       "      <th>61</th>\n",
       "      <td>none infn</td>\n",
       "      <td>0.7361490789089956</td>\n",
       "    </tr>\n",
       "    <tr>\n",
       "      <th>140</th>\n",
       "      <td>adjf advb</td>\n",
       "      <td>0.7301809557571578</td>\n",
       "    </tr>\n",
       "    <tr>\n",
       "      <th>64</th>\n",
       "      <td>npro infn</td>\n",
       "      <td>0.7193704041670775</td>\n",
       "    </tr>\n",
       "    <tr>\n",
       "      <th>131</th>\n",
       "      <td>numr noun</td>\n",
       "      <td>0.6799210087954638</td>\n",
       "    </tr>\n",
       "    <tr>\n",
       "      <th>211</th>\n",
       "      <td>conj numr</td>\n",
       "      <td>0.6790375387050582</td>\n",
       "    </tr>\n",
       "    <tr>\n",
       "      <th>302</th>\n",
       "      <td>comp prtf</td>\n",
       "      <td>0.6771599890367231</td>\n",
       "    </tr>\n",
       "    <tr>\n",
       "      <th>62</th>\n",
       "      <td>infn conj</td>\n",
       "      <td>0.6711513074596155</td>\n",
       "    </tr>\n",
       "    <tr>\n",
       "      <th>299</th>\n",
       "      <td>grnd prts</td>\n",
       "      <td>0.6569471544658421</td>\n",
       "    </tr>\n",
       "    <tr>\n",
       "      <th>221</th>\n",
       "      <td>intj intj</td>\n",
       "      <td>0.6557795578287945</td>\n",
       "    </tr>\n",
       "    <tr>\n",
       "      <th>337</th>\n",
       "      <td>grnd pred</td>\n",
       "      <td>0.654753339398906</td>\n",
       "    </tr>\n",
       "    <tr>\n",
       "      <th>218</th>\n",
       "      <td>prtf none</td>\n",
       "      <td>0.6534938544374577</td>\n",
       "    </tr>\n",
       "    <tr>\n",
       "      <th>122</th>\n",
       "      <td>pred prcl</td>\n",
       "      <td>0.6496108546752423</td>\n",
       "    </tr>\n",
       "    <tr>\n",
       "      <th>28</th>\n",
       "      <td>verb prcl</td>\n",
       "      <td>0.6474659727191404</td>\n",
       "    </tr>\n",
       "    <tr>\n",
       "      <th>326</th>\n",
       "      <td>prtf pred</td>\n",
       "      <td>0.6458132648473444</td>\n",
       "    </tr>\n",
       "    <tr>\n",
       "      <th>198</th>\n",
       "      <td>advb prtf</td>\n",
       "      <td>0.632599938223639</td>\n",
       "    </tr>\n",
       "    <tr>\n",
       "      <th>213</th>\n",
       "      <td>prep prts</td>\n",
       "      <td>0.6278580126429687</td>\n",
       "    </tr>\n",
       "    <tr>\n",
       "      <th>180</th>\n",
       "      <td>comp prep</td>\n",
       "      <td>0.6184939829868962</td>\n",
       "    </tr>\n",
       "    <tr>\n",
       "      <th>52</th>\n",
       "      <td>adjs noun</td>\n",
       "      <td>0.6056221308169474</td>\n",
       "    </tr>\n",
       "    <tr>\n",
       "      <th>117</th>\n",
       "      <td>advb pred</td>\n",
       "      <td>0.5954516923647839</td>\n",
       "    </tr>\n",
       "    <tr>\n",
       "      <th>294</th>\n",
       "      <td>numr infn</td>\n",
       "      <td>0.5852984237790202</td>\n",
       "    </tr>\n",
       "    <tr>\n",
       "      <th>149</th>\n",
       "      <td>npro intj</td>\n",
       "      <td>0.5799678136816601</td>\n",
       "    </tr>\n",
       "    <tr>\n",
       "      <th>325</th>\n",
       "      <td>prtf intj</td>\n",
       "      <td>0.5768103304126602</td>\n",
       "    </tr>\n",
       "    <tr>\n",
       "      <th>67</th>\n",
       "      <td>adjf conj</td>\n",
       "      <td>0.5701211047592861</td>\n",
       "    </tr>\n",
       "    <tr>\n",
       "      <th>256</th>\n",
       "      <td>pred verb</td>\n",
       "      <td>0.5695745470840036</td>\n",
       "    </tr>\n",
       "    <tr>\n",
       "      <th>23</th>\n",
       "      <td>noun conj</td>\n",
       "      <td>0.5631555425999053</td>\n",
       "    </tr>\n",
       "    <tr>\n",
       "      <th>311</th>\n",
       "      <td>grnd grnd</td>\n",
       "      <td>0.5556758693210812</td>\n",
       "    </tr>\n",
       "    <tr>\n",
       "      <th>340</th>\n",
       "      <td>pred numr</td>\n",
       "      <td>0.5428711315826831</td>\n",
       "    </tr>\n",
       "    <tr>\n",
       "      <th>307</th>\n",
       "      <td>numr pred</td>\n",
       "      <td>0.5424703763942701</td>\n",
       "    </tr>\n",
       "    <tr>\n",
       "      <th>228</th>\n",
       "      <td>pred advb</td>\n",
       "      <td>0.518904053624682</td>\n",
       "    </tr>\n",
       "    <tr>\n",
       "      <th>288</th>\n",
       "      <td>grnd prcl</td>\n",
       "      <td>0.5133057476967348</td>\n",
       "    </tr>\n",
       "    <tr>\n",
       "      <th>141</th>\n",
       "      <td>npro prts</td>\n",
       "      <td>0.5130044903542657</td>\n",
       "    </tr>\n",
       "    <tr>\n",
       "      <th>118</th>\n",
       "      <td>pred infn</td>\n",
       "      <td>0.5114239442751463</td>\n",
       "    </tr>\n",
       "    <tr>\n",
       "      <th>261</th>\n",
       "      <td>prts prts</td>\n",
       "      <td>0.5051973038295969</td>\n",
       "    </tr>\n",
       "    <tr>\n",
       "      <th>161</th>\n",
       "      <td>verb verb</td>\n",
       "      <td>0.5021158649974592</td>\n",
       "    </tr>\n",
       "    <tr>\n",
       "      <th>76</th>\n",
       "      <td>advb adjf</td>\n",
       "      <td>0.5004027091221493</td>\n",
       "    </tr>\n",
       "    <tr>\n",
       "      <th>332</th>\n",
       "      <td>comp intj</td>\n",
       "      <td>0.49668101673369125</td>\n",
       "    </tr>\n",
       "    <tr>\n",
       "      <th>45</th>\n",
       "      <td>adjf verb</td>\n",
       "      <td>0.4945341547427864</td>\n",
       "    </tr>\n",
       "  </tbody>\n",
       "</table>\n",
       "</div>"
      ],
      "text/plain": [
       "       feature                 coef\n",
       "266  prep grnd   1.4602676339890086\n",
       "66   verb adjf   1.4156455608457024\n",
       "156  advb infn   1.1323452684926576\n",
       "255  intj adjf   1.0243594810336598\n",
       "60   adjs advb   1.0009499605054117\n",
       "47        adjs   0.9814514162368855\n",
       "74   npro verb   0.8516058631303446\n",
       "330  comp grnd   0.8126428992776393\n",
       "254  prtf prts   0.7899769192258257\n",
       "26   adjf adjf   0.7809340268832501\n",
       "136  grnd advb   0.7756719592248592\n",
       "159  prcl intj    0.764498496356845\n",
       "116  none advb   0.7465731861276769\n",
       "61   none infn   0.7361490789089956\n",
       "140  adjf advb   0.7301809557571578\n",
       "64   npro infn   0.7193704041670775\n",
       "131  numr noun   0.6799210087954638\n",
       "211  conj numr   0.6790375387050582\n",
       "302  comp prtf   0.6771599890367231\n",
       "62   infn conj   0.6711513074596155\n",
       "299  grnd prts   0.6569471544658421\n",
       "221  intj intj   0.6557795578287945\n",
       "337  grnd pred    0.654753339398906\n",
       "218  prtf none   0.6534938544374577\n",
       "122  pred prcl   0.6496108546752423\n",
       "28   verb prcl   0.6474659727191404\n",
       "326  prtf pred   0.6458132648473444\n",
       "198  advb prtf    0.632599938223639\n",
       "213  prep prts   0.6278580126429687\n",
       "180  comp prep   0.6184939829868962\n",
       "52   adjs noun   0.6056221308169474\n",
       "117  advb pred   0.5954516923647839\n",
       "294  numr infn   0.5852984237790202\n",
       "149  npro intj   0.5799678136816601\n",
       "325  prtf intj   0.5768103304126602\n",
       "67   adjf conj   0.5701211047592861\n",
       "256  pred verb   0.5695745470840036\n",
       "23   noun conj   0.5631555425999053\n",
       "311  grnd grnd   0.5556758693210812\n",
       "340  pred numr   0.5428711315826831\n",
       "307  numr pred   0.5424703763942701\n",
       "228  pred advb    0.518904053624682\n",
       "288  grnd prcl   0.5133057476967348\n",
       "141  npro prts   0.5130044903542657\n",
       "118  pred infn   0.5114239442751463\n",
       "261  prts prts   0.5051973038295969\n",
       "161  verb verb   0.5021158649974592\n",
       "76   advb adjf   0.5004027091221493\n",
       "332  comp intj  0.49668101673369125\n",
       "45   adjf verb   0.4945341547427864"
      ]
     },
     "execution_count": 20,
     "metadata": {},
     "output_type": "execute_result"
    }
   ],
   "source": [
    "pd.DataFrame(np.c_[np.array(list(vectorizer.vocabulary_)), lr.coef_[0]],\n",
    "             columns=['feature', 'coef']).sort_values(by='coef', ascending=False).head(50)\n",
    "# np.c_ = concatenate\n",
    "# мы конкатенейтим 2 аррея\n",
    "# vectorizer.vocabulary_ = словарь всех фичей векторайзера, ключи=фичи, значение = номер колонки в векторайзере\n",
    "# list(vectorizer.vocabulary_) = лист фичей векторайзера\n",
    "# vectorizer.getfeautre_names ???\n",
    "# lr.coef_ = насколько фичи важны при принятии решения моделью\n",
    "# получаем слитки из фичи и её коефа\n",
    "# делаем из этого датафрейм\n",
    "# колонки: ['feature', 'coef']\n",
    "# сортируем это по коефу в убывающем порядке"
   ]
  },
  {
   "cell_type": "code",
   "execution_count": 21,
   "id": "6b3540b7",
   "metadata": {},
   "outputs": [],
   "source": [
    "bow_train = pd.DataFrame(x_train_bow.toarray(), columns=vectorizer.vocabulary_.keys())\n",
    "bow_train['class'] = train['class']"
   ]
  },
  {
   "cell_type": "code",
   "execution_count": 200,
   "id": "5c62c828",
   "metadata": {},
   "outputs": [],
   "source": [
    "bow_train['len_text_text'] = data['len_text_text']"
   ]
  },
  {
   "cell_type": "code",
   "execution_count": null,
   "id": "6bc3a95a",
   "metadata": {},
   "outputs": [],
   "source": [
    "bow_train['class']"
   ]
  },
  {
   "cell_type": "code",
   "execution_count": 23,
   "id": "94cc8592",
   "metadata": {},
   "outputs": [
    {
     "data": {
      "text/plain": [
       "<1x342 sparse matrix of type '<class 'numpy.int64'>'\n",
       "\twith 16 stored elements in Compressed Sparse Row format>"
      ]
     },
     "execution_count": 23,
     "metadata": {},
     "output_type": "execute_result"
    }
   ],
   "source": [
    "# я беру столбец \"prep grnd\" из векторайзера x_train_bow\n",
    "# я беру это из vectorizer.vocabulary_ = словарь всех фичей векторайзера, ключи=фичи, значение = номер колонки в векторайзере\n",
    "# 272\n",
    "# x_train_bow\n",
    "# сравниваю его с y_train"
   ]
  },
  {
   "cell_type": "code",
   "execution_count": 24,
   "id": "740f06e3",
   "metadata": {},
   "outputs": [
    {
     "data": {
      "text/plain": [
       "<129066x1 sparse matrix of type '<class 'numpy.int64'>'\n",
       "\twith 78 stored elements in Compressed Sparse Row format>"
      ]
     },
     "execution_count": 24,
     "metadata": {},
     "output_type": "execute_result"
    }
   ],
   "source": [
    "# x_train_bow[:,272]"
   ]
  },
  {
   "cell_type": "code",
   "execution_count": 30,
   "id": "f5e4ef69",
   "metadata": {},
   "outputs": [],
   "source": [
    "# prep_grnd = x_train_bow[:,272].toarray()\n",
    "# d = {'0': 0}\n",
    "# for i in range(len(y_train)):\n",
    "#     if prep_grnd[i] == 0:\n",
    "#         d['0'] += 1\n",
    "# d['1'] = len(y_train) - d['0']\n",
    "# d\n",
    "# фигню насчитали"
   ]
  },
  {
   "cell_type": "markdown",
   "id": "a2616a95",
   "metadata": {},
   "source": [
    "# АНАЛИЗ ДАННЫХ"
   ]
  },
  {
   "cell_type": "code",
   "execution_count": 201,
   "id": "03144a69",
   "metadata": {},
   "outputs": [],
   "source": []
  },
  {
   "cell_type": "code",
   "execution_count": 35,
   "id": "b567b175",
   "metadata": {},
   "outputs": [],
   "source": [
    "import seaborn as sns"
   ]
  },
  {
   "cell_type": "markdown",
   "id": "5668a178",
   "metadata": {},
   "source": [
    "Анализируем фичи с наибольшим coef из кода выше."
   ]
  },
  {
   "cell_type": "code",
   "execution_count": 137,
   "id": "ef19add8",
   "metadata": {},
   "outputs": [
    {
     "data": {
      "text/plain": [
       "105880"
      ]
     },
     "execution_count": 137,
     "metadata": {},
     "output_type": "execute_result"
    }
   ],
   "source": [
    "bow_train[bow_train['prep grnd']!=0]['prep grnd'].count()\n",
    "# эта фича встречается в 105880 текстах из 129066, это достаточно много"
   ]
  },
  {
   "cell_type": "code",
   "execution_count": 141,
   "id": "424eb777",
   "metadata": {},
   "outputs": [],
   "source": [
    "bow_human = bow_train[bow_train['class'] == 0]\n",
    "bow_machine = bow_train[bow_train['class'] == 1]"
   ]
  },
  {
   "cell_type": "code",
   "execution_count": 147,
   "id": "bac662f1",
   "metadata": {},
   "outputs": [
    {
     "name": "stdout",
     "output_type": "stream",
     "text": [
      "52238\n",
      "53642\n"
     ]
    }
   ],
   "source": [
    "print(bow_human[bow_human['prep grnd']!=0]['prep grnd'].count())\n",
    "print(bow_machine[bow_machine['prep grnd']!=0]['prep grnd'].count())\n",
    "# из них в 52238 human и 53642, так что наличие фичи нам ни о чем не говорит"
   ]
  },
  {
   "cell_type": "code",
   "execution_count": 145,
   "id": "061f0f81",
   "metadata": {},
   "outputs": [
    {
     "name": "stdout",
     "output_type": "stream",
     "text": [
      "242458\n",
      "247026\n"
     ]
    }
   ],
   "source": [
    "print(bow_train.loc[bow_train['class'] == 1]['prep grnd'].sum())\n",
    "print(bow_train.loc[bow_train['class'] == 0]['prep grnd'].sum())\n",
    "# общее количество также ни о чем не говорит"
   ]
  },
  {
   "cell_type": "markdown",
   "id": "03e784eb",
   "metadata": {},
   "source": [
    "Посмотрим распределение по количеству этих биграмм на текст."
   ]
  },
  {
   "cell_type": "code",
   "execution_count": 109,
   "id": "8c411038",
   "metadata": {},
   "outputs": [
    {
     "data": {
      "text/plain": [
       "<AxesSubplot:xlabel='prep grnd', ylabel='Count'>"
      ]
     },
     "execution_count": 109,
     "metadata": {},
     "output_type": "execute_result"
    },
    {
     "data": {
      "image/png": "[encoded data removed]",
      "text/plain": [
       "<Figure size 432x288 with 1 Axes>"
      ]
     },
     "metadata": {
      "needs_background": "light"
     },
     "output_type": "display_data"
    }
   ],
   "source": [
    "sns.histplot(data=bow_train[bow_train['class']==0], x='prep grnd')"
   ]
  },
  {
   "cell_type": "code",
   "execution_count": 107,
   "id": "00722421",
   "metadata": {},
   "outputs": [
    {
     "data": {
      "text/plain": [
       "<AxesSubplot:xlabel='prep grnd', ylabel='Count'>"
      ]
     },
     "execution_count": 107,
     "metadata": {},
     "output_type": "execute_result"
    },
    {
     "data": {
      "image/png": "[encoded data removed]",
      "text/plain": [
       "<Figure size 432x288 with 1 Axes>"
      ]
     },
     "metadata": {
      "needs_background": "light"
     },
     "output_type": "display_data"
    }
   ],
   "source": [
    "sns.histplot(data=bow_train[bow_train['class']==1], x='prep grnd')"
   ]
  },
  {
   "cell_type": "code",
   "execution_count": 150,
   "id": "a7f1e428",
   "metadata": {},
   "outputs": [],
   "source": [
    "# sns.displot(data=bow_train, x='prep grnd', hue=\"class\", col = \"class\")"
   ]
  },
  {
   "cell_type": "code",
   "execution_count": 43,
   "id": "4cbb2265",
   "metadata": {},
   "outputs": [
    {
     "data": {
      "text/plain": [
       "61"
      ]
     },
     "execution_count": 43,
     "metadata": {},
     "output_type": "execute_result"
    }
   ],
   "source": [
    "max(bow_train.loc[bow_train['class'] == 0]['prep grnd'])"
   ]
  },
  {
   "cell_type": "code",
   "execution_count": 42,
   "id": "3a59aa16",
   "metadata": {},
   "outputs": [
    {
     "data": {
      "text/plain": [
       "37"
      ]
     },
     "execution_count": 42,
     "metadata": {},
     "output_type": "execute_result"
    }
   ],
   "source": [
    "max(bow_train.loc[bow_train['class'] == 1]['prep grnd'])"
   ]
  },
  {
   "cell_type": "markdown",
   "id": "49cd3cc0",
   "metadata": {},
   "source": [
    "По этому распределению мы видим что эта биграмма встречается в машинных текстах в меньшем количестве. То есть максимум 37 раз за текст, а для human - 61 раз. Медианы у них не отличаются, но это связано с тем что этих биграмм 1-2 шт в подавляющем большинстве текстов."
   ]
  },
  {
   "cell_type": "code",
   "execution_count": 151,
   "id": "5969ed69",
   "metadata": {},
   "outputs": [
    {
     "data": {
      "text/plain": [
       "2.0"
      ]
     },
     "execution_count": 151,
     "metadata": {},
     "output_type": "execute_result"
    }
   ],
   "source": [
    "bow_train.loc[bow_train['class'] == 0]['prep grnd'].median()"
   ]
  },
  {
   "cell_type": "code",
   "execution_count": 154,
   "id": "83605554",
   "metadata": {},
   "outputs": [
    {
     "data": {
      "text/plain": [
       "2.0"
      ]
     },
     "execution_count": 154,
     "metadata": {},
     "output_type": "execute_result"
    }
   ],
   "source": [
    "bow_train.loc[bow_train['class'] == 1]['prep grnd'].median()"
   ]
  },
  {
   "cell_type": "markdown",
   "id": "bc7a7dad",
   "metadata": {},
   "source": [
    "На всякий случай проверила длину текстов, тексты human и machine не сильно отличаются по длине, чтобы была такая разница в количестве этой биграммы."
   ]
  },
  {
   "cell_type": "code",
   "execution_count": 155,
   "id": "865fd565",
   "metadata": {},
   "outputs": [
    {
     "name": "stdout",
     "output_type": "stream",
     "text": [
      "95.0\n",
      "99.0\n"
     ]
    }
   ],
   "source": [
    "print(data[data['class'] == 'H']['len_text_text'].median())\n",
    "print(data[data['class'] == 'M']['len_text_text'].median())"
   ]
  },
  {
   "cell_type": "markdown",
   "id": "1e11a405",
   "metadata": {},
   "source": [
    "Изобразим распределение на другом графике:"
   ]
  },
  {
   "cell_type": "code",
   "execution_count": 59,
   "id": "88199699",
   "metadata": {},
   "outputs": [
    {
     "data": {
      "text/plain": [
       "<AxesSubplot:xlabel='class', ylabel='prep grnd'>"
      ]
     },
     "execution_count": 59,
     "metadata": {},
     "output_type": "execute_result"
    },
    {
     "data": {
      "image/png": "[encoded data removed]",
      "text/plain": [
       "<Figure size 432x288 with 1 Axes>"
      ]
     },
     "metadata": {
      "needs_background": "light"
     },
     "output_type": "display_data"
    }
   ],
   "source": [
    "sns.violinplot(x=\"class\", y=\"prep grnd\", data=bow_train)"
   ]
  },
  {
   "cell_type": "markdown",
   "id": "8c99cc03",
   "metadata": {},
   "source": [
    "Вывод: распределение по этой биграмме действительно отличается, возможно можно использовать её для классификации.\n",
    "Остальные биграммы встречаются очень в маленьком количестве, непонятно, насколько такое получится использовать. Вторая по coef биграмма встречается максимум 4 раза в одном тексте:"
   ]
  },
  {
   "cell_type": "code",
   "execution_count": 156,
   "id": "0f068fb8",
   "metadata": {},
   "outputs": [
    {
     "data": {
      "text/plain": [
       "<AxesSubplot:xlabel='class', ylabel='verb adjf'>"
      ]
     },
     "execution_count": 156,
     "metadata": {},
     "output_type": "execute_result"
    },
    {
     "data": {
      "image/png": "[encoded data removed]",
      "text/plain": [
       "<Figure size 432x288 with 1 Axes>"
      ]
     },
     "metadata": {
      "needs_background": "light"
     },
     "output_type": "display_data"
    }
   ],
   "source": [
    "sns.violinplot(x=\"class\", y=\"verb adjf\", data=bow_train)"
   ]
  },
  {
   "cell_type": "code",
   "execution_count": 157,
   "id": "b21dfe19",
   "metadata": {},
   "outputs": [
    {
     "data": {
      "text/plain": [
       "<AxesSubplot:xlabel='verb adjf', ylabel='Count'>"
      ]
     },
     "execution_count": 157,
     "metadata": {},
     "output_type": "execute_result"
    },
    {
     "data": {
      "image/png": "[encoded data removed]",
      "text/plain": [
       "<Figure size 432x288 with 1 Axes>"
      ]
     },
     "metadata": {
      "needs_background": "light"
     },
     "output_type": "display_data"
    }
   ],
   "source": [
    "sns.histplot(data=bow_train, x='verb adjf')\n",
    "# по второй биграмме делаем вывод что практически во всех текстах их 0, и в очень маленьком количестве текстов она от 1 до 4"
   ]
  },
  {
   "cell_type": "markdown",
   "id": "9f14a5da",
   "metadata": {},
   "source": [
    "Но распределение у неё как будто бы очень отличается для human и machine:"
   ]
  },
  {
   "cell_type": "code",
   "execution_count": null,
   "id": "f349e736",
   "metadata": {},
   "outputs": [],
   "source": [
    "import matplotlib.pyplot as plt\n",
    "%matplotlib inline\n",
    "\n",
    "fig, axes = plt.subplots(1, 4, figsize=(20,5))\n",
    "\n",
    "sns.histplot(data=bow_train, bins=10, ax=axes[0]);\n",
    "sns.histplot(data=bow_train, bins=40, ax=axes[1]);\n",
    "sns.histplot(data=bow_train, bins=100, ax=axes[2]);\n",
    "sns.histplot(data=bow_train, bins=100, ax=axes[3]);"
   ]
  },
  {
   "cell_type": "code",
   "execution_count": 175,
   "id": "a2a1779a",
   "metadata": {},
   "outputs": [
    {
     "data": {
      "text/html": [
       "<div>\n",
       "<style scoped>\n",
       "    .dataframe tbody tr th:only-of-type {\n",
       "        vertical-align: middle;\n",
       "    }\n",
       "\n",
       "    .dataframe tbody tr th {\n",
       "        vertical-align: top;\n",
       "    }\n",
       "\n",
       "    .dataframe thead th {\n",
       "        text-align: right;\n",
       "    }\n",
       "</style>\n",
       "<table border=\"1\" class=\"dataframe\">\n",
       "  <thead>\n",
       "    <tr style=\"text-align: right;\">\n",
       "      <th></th>\n",
       "      <th>noun</th>\n",
       "      <th>adjf</th>\n",
       "      <th>prep</th>\n",
       "      <th>noun noun</th>\n",
       "      <th>noun adjf</th>\n",
       "      <th>adjf prep</th>\n",
       "      <th>prep adjf</th>\n",
       "      <th>adjf noun</th>\n",
       "      <th>none</th>\n",
       "      <th>prcl</th>\n",
       "      <th>...</th>\n",
       "      <th>pred prts</th>\n",
       "      <th>prts intj</th>\n",
       "      <th>intj prts</th>\n",
       "      <th>grnd intj</th>\n",
       "      <th>grnd pred</th>\n",
       "      <th>grnd comp</th>\n",
       "      <th>intj comp</th>\n",
       "      <th>pred numr</th>\n",
       "      <th>numr intj</th>\n",
       "      <th>class</th>\n",
       "    </tr>\n",
       "  </thead>\n",
       "  <tbody>\n",
       "    <tr>\n",
       "      <th>283</th>\n",
       "      <td>11</td>\n",
       "      <td>0</td>\n",
       "      <td>0</td>\n",
       "      <td>0</td>\n",
       "      <td>0</td>\n",
       "      <td>1</td>\n",
       "      <td>0</td>\n",
       "      <td>0</td>\n",
       "      <td>0</td>\n",
       "      <td>0</td>\n",
       "      <td>...</td>\n",
       "      <td>1</td>\n",
       "      <td>0</td>\n",
       "      <td>0</td>\n",
       "      <td>0</td>\n",
       "      <td>0</td>\n",
       "      <td>0</td>\n",
       "      <td>0</td>\n",
       "      <td>0</td>\n",
       "      <td>0</td>\n",
       "      <td>1</td>\n",
       "    </tr>\n",
       "    <tr>\n",
       "      <th>357</th>\n",
       "      <td>11</td>\n",
       "      <td>0</td>\n",
       "      <td>0</td>\n",
       "      <td>0</td>\n",
       "      <td>0</td>\n",
       "      <td>0</td>\n",
       "      <td>0</td>\n",
       "      <td>0</td>\n",
       "      <td>0</td>\n",
       "      <td>0</td>\n",
       "      <td>...</td>\n",
       "      <td>2</td>\n",
       "      <td>0</td>\n",
       "      <td>0</td>\n",
       "      <td>0</td>\n",
       "      <td>0</td>\n",
       "      <td>1</td>\n",
       "      <td>0</td>\n",
       "      <td>0</td>\n",
       "      <td>0</td>\n",
       "      <td>1</td>\n",
       "    </tr>\n",
       "    <tr>\n",
       "      <th>719</th>\n",
       "      <td>24</td>\n",
       "      <td>4</td>\n",
       "      <td>0</td>\n",
       "      <td>1</td>\n",
       "      <td>0</td>\n",
       "      <td>0</td>\n",
       "      <td>0</td>\n",
       "      <td>0</td>\n",
       "      <td>0</td>\n",
       "      <td>0</td>\n",
       "      <td>...</td>\n",
       "      <td>5</td>\n",
       "      <td>0</td>\n",
       "      <td>0</td>\n",
       "      <td>0</td>\n",
       "      <td>0</td>\n",
       "      <td>8</td>\n",
       "      <td>0</td>\n",
       "      <td>1</td>\n",
       "      <td>1</td>\n",
       "      <td>0</td>\n",
       "    </tr>\n",
       "    <tr>\n",
       "      <th>895</th>\n",
       "      <td>28</td>\n",
       "      <td>1</td>\n",
       "      <td>0</td>\n",
       "      <td>0</td>\n",
       "      <td>0</td>\n",
       "      <td>0</td>\n",
       "      <td>0</td>\n",
       "      <td>0</td>\n",
       "      <td>0</td>\n",
       "      <td>0</td>\n",
       "      <td>...</td>\n",
       "      <td>5</td>\n",
       "      <td>0</td>\n",
       "      <td>0</td>\n",
       "      <td>0</td>\n",
       "      <td>0</td>\n",
       "      <td>1</td>\n",
       "      <td>0</td>\n",
       "      <td>0</td>\n",
       "      <td>1</td>\n",
       "      <td>1</td>\n",
       "    </tr>\n",
       "    <tr>\n",
       "      <th>956</th>\n",
       "      <td>29</td>\n",
       "      <td>3</td>\n",
       "      <td>0</td>\n",
       "      <td>0</td>\n",
       "      <td>0</td>\n",
       "      <td>1</td>\n",
       "      <td>0</td>\n",
       "      <td>0</td>\n",
       "      <td>0</td>\n",
       "      <td>2</td>\n",
       "      <td>...</td>\n",
       "      <td>7</td>\n",
       "      <td>3</td>\n",
       "      <td>0</td>\n",
       "      <td>2</td>\n",
       "      <td>0</td>\n",
       "      <td>4</td>\n",
       "      <td>0</td>\n",
       "      <td>0</td>\n",
       "      <td>0</td>\n",
       "      <td>1</td>\n",
       "    </tr>\n",
       "    <tr>\n",
       "      <th>...</th>\n",
       "      <td>...</td>\n",
       "      <td>...</td>\n",
       "      <td>...</td>\n",
       "      <td>...</td>\n",
       "      <td>...</td>\n",
       "      <td>...</td>\n",
       "      <td>...</td>\n",
       "      <td>...</td>\n",
       "      <td>...</td>\n",
       "      <td>...</td>\n",
       "      <td>...</td>\n",
       "      <td>...</td>\n",
       "      <td>...</td>\n",
       "      <td>...</td>\n",
       "      <td>...</td>\n",
       "      <td>...</td>\n",
       "      <td>...</td>\n",
       "      <td>...</td>\n",
       "      <td>...</td>\n",
       "      <td>...</td>\n",
       "      <td>...</td>\n",
       "    </tr>\n",
       "    <tr>\n",
       "      <th>128123</th>\n",
       "      <td>30</td>\n",
       "      <td>4</td>\n",
       "      <td>0</td>\n",
       "      <td>0</td>\n",
       "      <td>0</td>\n",
       "      <td>0</td>\n",
       "      <td>0</td>\n",
       "      <td>0</td>\n",
       "      <td>0</td>\n",
       "      <td>2</td>\n",
       "      <td>...</td>\n",
       "      <td>5</td>\n",
       "      <td>1</td>\n",
       "      <td>0</td>\n",
       "      <td>0</td>\n",
       "      <td>0</td>\n",
       "      <td>0</td>\n",
       "      <td>0</td>\n",
       "      <td>1</td>\n",
       "      <td>0</td>\n",
       "      <td>1</td>\n",
       "    </tr>\n",
       "    <tr>\n",
       "      <th>128340</th>\n",
       "      <td>6</td>\n",
       "      <td>0</td>\n",
       "      <td>0</td>\n",
       "      <td>0</td>\n",
       "      <td>0</td>\n",
       "      <td>0</td>\n",
       "      <td>0</td>\n",
       "      <td>0</td>\n",
       "      <td>0</td>\n",
       "      <td>0</td>\n",
       "      <td>...</td>\n",
       "      <td>2</td>\n",
       "      <td>0</td>\n",
       "      <td>0</td>\n",
       "      <td>0</td>\n",
       "      <td>0</td>\n",
       "      <td>2</td>\n",
       "      <td>0</td>\n",
       "      <td>0</td>\n",
       "      <td>0</td>\n",
       "      <td>0</td>\n",
       "    </tr>\n",
       "    <tr>\n",
       "      <th>128873</th>\n",
       "      <td>12</td>\n",
       "      <td>2</td>\n",
       "      <td>0</td>\n",
       "      <td>0</td>\n",
       "      <td>0</td>\n",
       "      <td>1</td>\n",
       "      <td>0</td>\n",
       "      <td>0</td>\n",
       "      <td>0</td>\n",
       "      <td>0</td>\n",
       "      <td>...</td>\n",
       "      <td>1</td>\n",
       "      <td>3</td>\n",
       "      <td>0</td>\n",
       "      <td>0</td>\n",
       "      <td>0</td>\n",
       "      <td>4</td>\n",
       "      <td>0</td>\n",
       "      <td>0</td>\n",
       "      <td>1</td>\n",
       "      <td>1</td>\n",
       "    </tr>\n",
       "    <tr>\n",
       "      <th>128906</th>\n",
       "      <td>26</td>\n",
       "      <td>1</td>\n",
       "      <td>0</td>\n",
       "      <td>0</td>\n",
       "      <td>0</td>\n",
       "      <td>0</td>\n",
       "      <td>0</td>\n",
       "      <td>2</td>\n",
       "      <td>0</td>\n",
       "      <td>1</td>\n",
       "      <td>...</td>\n",
       "      <td>3</td>\n",
       "      <td>3</td>\n",
       "      <td>0</td>\n",
       "      <td>1</td>\n",
       "      <td>0</td>\n",
       "      <td>5</td>\n",
       "      <td>0</td>\n",
       "      <td>0</td>\n",
       "      <td>1</td>\n",
       "      <td>1</td>\n",
       "    </tr>\n",
       "    <tr>\n",
       "      <th>129023</th>\n",
       "      <td>17</td>\n",
       "      <td>1</td>\n",
       "      <td>0</td>\n",
       "      <td>0</td>\n",
       "      <td>0</td>\n",
       "      <td>1</td>\n",
       "      <td>0</td>\n",
       "      <td>0</td>\n",
       "      <td>0</td>\n",
       "      <td>0</td>\n",
       "      <td>...</td>\n",
       "      <td>2</td>\n",
       "      <td>3</td>\n",
       "      <td>1</td>\n",
       "      <td>3</td>\n",
       "      <td>0</td>\n",
       "      <td>10</td>\n",
       "      <td>0</td>\n",
       "      <td>0</td>\n",
       "      <td>1</td>\n",
       "      <td>0</td>\n",
       "    </tr>\n",
       "  </tbody>\n",
       "</table>\n",
       "<p>1006 rows × 343 columns</p>\n",
       "</div>"
      ],
      "text/plain": [
       "        noun  adjf  prep  noun noun  noun adjf  adjf prep  prep adjf  \\\n",
       "283       11     0     0          0          0          1          0   \n",
       "357       11     0     0          0          0          0          0   \n",
       "719       24     4     0          1          0          0          0   \n",
       "895       28     1     0          0          0          0          0   \n",
       "956       29     3     0          0          0          1          0   \n",
       "...      ...   ...   ...        ...        ...        ...        ...   \n",
       "128123    30     4     0          0          0          0          0   \n",
       "128340     6     0     0          0          0          0          0   \n",
       "128873    12     2     0          0          0          1          0   \n",
       "128906    26     1     0          0          0          0          0   \n",
       "129023    17     1     0          0          0          1          0   \n",
       "\n",
       "        adjf noun  none  prcl  ...  pred prts  prts intj  intj prts  \\\n",
       "283             0     0     0  ...          1          0          0   \n",
       "357             0     0     0  ...          2          0          0   \n",
       "719             0     0     0  ...          5          0          0   \n",
       "895             0     0     0  ...          5          0          0   \n",
       "956             0     0     2  ...          7          3          0   \n",
       "...           ...   ...   ...  ...        ...        ...        ...   \n",
       "128123          0     0     2  ...          5          1          0   \n",
       "128340          0     0     0  ...          2          0          0   \n",
       "128873          0     0     0  ...          1          3          0   \n",
       "128906          2     0     1  ...          3          3          0   \n",
       "129023          0     0     0  ...          2          3          1   \n",
       "\n",
       "        grnd intj  grnd pred  grnd comp  intj comp  pred numr  numr intj  \\\n",
       "283             0          0          0          0          0          0   \n",
       "357             0          0          1          0          0          0   \n",
       "719             0          0          8          0          1          1   \n",
       "895             0          0          1          0          0          1   \n",
       "956             2          0          4          0          0          0   \n",
       "...           ...        ...        ...        ...        ...        ...   \n",
       "128123          0          0          0          0          1          0   \n",
       "128340          0          0          2          0          0          0   \n",
       "128873          0          0          4          0          0          1   \n",
       "128906          1          0          5          0          0          1   \n",
       "129023          3          0         10          0          0          1   \n",
       "\n",
       "        class  \n",
       "283         1  \n",
       "357         1  \n",
       "719         0  \n",
       "895         1  \n",
       "956         1  \n",
       "...       ...  \n",
       "128123      1  \n",
       "128340      0  \n",
       "128873      1  \n",
       "128906      1  \n",
       "129023      0  \n",
       "\n",
       "[1006 rows x 343 columns]"
      ]
     },
     "execution_count": 175,
     "metadata": {},
     "output_type": "execute_result"
    }
   ],
   "source": [
    "verb_adjf1 = bow_train[bow_train[\"verb adjf\"]==1]\n",
    "verb_adjf1"
   ]
  },
  {
   "cell_type": "code",
   "execution_count": 171,
   "id": "9538b741",
   "metadata": {},
   "outputs": [
    {
     "data": {
      "text/html": [
       "<div>\n",
       "<style scoped>\n",
       "    .dataframe tbody tr th:only-of-type {\n",
       "        vertical-align: middle;\n",
       "    }\n",
       "\n",
       "    .dataframe tbody tr th {\n",
       "        vertical-align: top;\n",
       "    }\n",
       "\n",
       "    .dataframe thead th {\n",
       "        text-align: right;\n",
       "    }\n",
       "</style>\n",
       "<table border=\"1\" class=\"dataframe\">\n",
       "  <thead>\n",
       "    <tr style=\"text-align: right;\">\n",
       "      <th></th>\n",
       "      <th>1 time</th>\n",
       "      <th>2 times</th>\n",
       "      <th>3 times</th>\n",
       "      <th>4 times</th>\n",
       "    </tr>\n",
       "  </thead>\n",
       "  <tbody>\n",
       "    <tr>\n",
       "      <th>0</th>\n",
       "      <td>188</td>\n",
       "      <td>35</td>\n",
       "      <td>1</td>\n",
       "      <td>1</td>\n",
       "    </tr>\n",
       "    <tr>\n",
       "      <th>1</th>\n",
       "      <td>818</td>\n",
       "      <td>104</td>\n",
       "      <td>9</td>\n",
       "      <td>2</td>\n",
       "    </tr>\n",
       "  </tbody>\n",
       "</table>\n",
       "</div>"
      ],
      "text/plain": [
       "   1 time  2 times  3 times  4 times\n",
       "0     188       35        1        1\n",
       "1     818      104        9        2"
      ]
     },
     "execution_count": 171,
     "metadata": {},
     "output_type": "execute_result"
    }
   ],
   "source": [
    "# bow_verb_adjf = pd.DataFrame(\n",
    "#     {\n",
    "# #         \"class\": ['H', 'M'],\n",
    "#         \"1 time\": [bow_train[(bow_train['verb adjf'] == 1) & (bow_train['class'] == 0)]['verb adjf'].sum(), bow_train[(bow_train['verb adjf'] == 1) & (bow_train['class'] == 1)]['verb adjf'].sum()],\n",
    "#         \"2 times\": [int(bow_train[(bow_train['verb adjf'] == 2) & (bow_train['class'] == 0)]['verb adjf'].sum()/2), int(bow_train[(bow_train['verb adjf'] == 2) & (bow_train['class'] == 1)]['verb adjf'].sum()/2)],\n",
    "#         \"3 times\": [int(bow_train[(bow_train['verb adjf'] == 3) & (bow_train['class'] == 0)]['verb adjf'].sum()/3), int(bow_train[(bow_train['verb adjf'] == 3) & (bow_train['class'] == 1)]['verb adjf'].sum()/3)],\n",
    "#         \"4 times\": [int(bow_train[(bow_train['verb adjf'] == 4) & (bow_train['class'] == 0)]['verb adjf'].sum()/4), int(bow_train[(bow_train['verb adjf'] == 4) & (bow_train['class'] == 1)]['verb adjf'].sum()/4)],\n",
    "#     }\n",
    "# )\n",
    "# bow_verb_adjf"
   ]
  },
  {
   "cell_type": "code",
   "execution_count": 192,
   "id": "c3a8dd8f",
   "metadata": {},
   "outputs": [
    {
     "data": {
      "text/plain": [
       "129066"
      ]
     },
     "execution_count": 192,
     "metadata": {},
     "output_type": "execute_result"
    }
   ],
   "source": [
    "(bow_train[\"class\"]==0).count()"
   ]
  },
  {
   "cell_type": "code",
   "execution_count": 188,
   "id": "08f2aa66",
   "metadata": {},
   "outputs": [
    {
     "data": {
      "text/plain": [
       "<AxesSubplot:xlabel='verb adjf', ylabel='Count'>"
      ]
     },
     "execution_count": 188,
     "metadata": {},
     "output_type": "execute_result"
    },
    {
     "data": {
      "image/png": "[encoded data removed]",
      "text/plain": [
       "<Figure size 720x1080 with 1 Axes>"
      ]
     },
     "metadata": {
      "needs_background": "light"
     },
     "output_type": "display_data"
    }
   ],
   "source": [
    "plt.subplots(figsize=(10,15))\n",
    "sns.histplot(data=bow_train[bow_train[\"verb adjf\"]!=0], x=\"verb adjf\", hue=\"class\", multiple=\"dodge\", shrink=1,\\\n",
    "            bins=8)"
   ]
  },
  {
   "cell_type": "code",
   "execution_count": 95,
   "id": "4992ca6d",
   "metadata": {},
   "outputs": [
    {
     "name": "stdout",
     "output_type": "stream",
     "text": [
      "Биграмма \"verb adjf\" встречается 1 раз в 1006 текстах\n",
      "Из них в сгенерированных текстах: 818 раз\n",
      "В human текстах: 188 раз\n"
     ]
    }
   ],
   "source": [
    "a = bow_train[bow_train['verb adjf'] == 1]['verb adjf'].sum()\n",
    "b = bow_train[(bow_train['verb adjf'] == 1) & (bow_train['class'] == 1)]['verb adjf'].sum()\n",
    "c = bow_train[(bow_train['verb adjf'] == 1) & (bow_train['class'] == 0)]['verb adjf'].sum()\n",
    "print(f'Биграмма \"verb adjf\" встречается 1 раз в {a} текстах')\n",
    "print(f'Из них в сгенерированных текстах: {b} раз')\n",
    "print(f'В human текстах: {c} раз')"
   ]
  },
  {
   "cell_type": "code",
   "execution_count": 98,
   "id": "d25eb744",
   "metadata": {},
   "outputs": [
    {
     "name": "stdout",
     "output_type": "stream",
     "text": [
      "Биграмма \"verb adjf\" встречается 2 раза в 139 текстах\n",
      "Из них в сгенерированных текстах: 104 раз\n",
      "В human текстах: 35 раз\n"
     ]
    }
   ],
   "source": [
    "a = int(bow_train[bow_train['verb adjf'] == 2]['verb adjf'].sum()/2)\n",
    "b = int(bow_train[(bow_train['verb adjf'] == 2) & (bow_train['class'] == 1)]['verb adjf'].sum()/2)\n",
    "c = int(bow_train[(bow_train['verb adjf'] == 2) & (bow_train['class'] == 0)]['verb adjf'].sum()/2)\n",
    "print(f'Биграмма \"verb adjf\" встречается 2 раза в {a} текстах')\n",
    "print(f'Из них в сгенерированных текстах: {b} раз')\n",
    "print(f'В human текстах: {c} раз')"
   ]
  },
  {
   "cell_type": "code",
   "execution_count": 99,
   "id": "ae584d2a",
   "metadata": {},
   "outputs": [
    {
     "name": "stdout",
     "output_type": "stream",
     "text": [
      "Биграмма \"verb adjf\" встречается 3 раза в 10 текстах\n",
      "Из них в сгенерированных текстах: 9 раз\n",
      "В human текстах: 1 раз\n"
     ]
    }
   ],
   "source": [
    "a = int(bow_train[bow_train['verb adjf'] == 3]['verb adjf'].sum()/3)\n",
    "b = int(bow_train[(bow_train['verb adjf'] == 3) & (bow_train['class'] == 1)]['verb adjf'].sum()/3)\n",
    "c = int(bow_train[(bow_train['verb adjf'] == 3) & (bow_train['class'] == 0)]['verb adjf'].sum()/3)\n",
    "print(f'Биграмма \"verb adjf\" встречается 3 раза в {a} текстах')\n",
    "print(f'Из них в сгенерированных текстах: {b} раз')\n",
    "print(f'В human текстах: {c} раз')"
   ]
  },
  {
   "cell_type": "code",
   "execution_count": 100,
   "id": "f47628b4",
   "metadata": {},
   "outputs": [
    {
     "name": "stdout",
     "output_type": "stream",
     "text": [
      "Биграмма \"verb adjf\" встречается 4 раза в 3 текстах\n",
      "Из них в сгенерированных текстах: 2 раз\n",
      "В human текстах: 1 раз\n"
     ]
    }
   ],
   "source": [
    "a = int(bow_train[bow_train['verb adjf'] == 4]['verb adjf'].sum()/4)\n",
    "b = int(bow_train[(bow_train['verb adjf'] == 4) & (bow_train['class'] == 1)]['verb adjf'].sum()/4)\n",
    "c = int(bow_train[(bow_train['verb adjf'] == 4) & (bow_train['class'] == 0)]['verb adjf'].sum()/4)\n",
    "print(f'Биграмма \"verb adjf\" встречается 4 раза в {a} текстах')\n",
    "print(f'Из них в сгенерированных текстах: {b} раз')\n",
    "print(f'В human текстах: {c} раз')"
   ]
  },
  {
   "cell_type": "markdown",
   "id": "8e7e4ca7",
   "metadata": {},
   "source": [
    "Проверим то же самое для 3 фичи:"
   ]
  },
  {
   "cell_type": "code",
   "execution_count": 190,
   "id": "d71bce25",
   "metadata": {},
   "outputs": [
    {
     "data": {
      "text/plain": [
       "<AxesSubplot:xlabel='advb infn', ylabel='Count'>"
      ]
     },
     "execution_count": 190,
     "metadata": {},
     "output_type": "execute_result"
    },
    {
     "data": {
      "image/png": "[encoded data removed]",
      "text/plain": [
       "<Figure size 720x1080 with 1 Axes>"
      ]
     },
     "metadata": {
      "needs_background": "light"
     },
     "output_type": "display_data"
    }
   ],
   "source": [
    "plt.subplots(figsize=(10,15))\n",
    "sns.histplot(data=bow_train[bow_train[\"advb infn\"]!=0], x=\"advb infn\", hue=\"class\", multiple=\"dodge\", shrink=1)"
   ]
  },
  {
   "cell_type": "markdown",
   "id": "d1ddfa94",
   "metadata": {},
   "source": [
    "Тоже работает. Проверим для 4й:"
   ]
  },
  {
   "cell_type": "code",
   "execution_count": 194,
   "id": "941dcff8",
   "metadata": {},
   "outputs": [
    {
     "data": {
      "text/plain": [
       "<AxesSubplot:xlabel='intj adjf', ylabel='Count'>"
      ]
     },
     "execution_count": 194,
     "metadata": {},
     "output_type": "execute_result"
    },
    {
     "data": {
      "image/png": "[encoded data removed]",
      "text/plain": [
       "<Figure size 720x1080 with 1 Axes>"
      ]
     },
     "metadata": {
      "needs_background": "light"
     },
     "output_type": "display_data"
    }
   ],
   "source": [
    "plt.subplots(figsize=(10,15))\n",
    "sns.histplot(data=bow_train[bow_train[\"intj adjf\"]!=0], x=\"intj adjf\", hue=\"class\", multiple=\"dodge\", shrink=1)"
   ]
  },
  {
   "cell_type": "markdown",
   "id": "fe930a13",
   "metadata": {},
   "source": [
    "Видимо, 4-я фича встречается только в Human. Проверим:"
   ]
  },
  {
   "cell_type": "code",
   "execution_count": 195,
   "id": "3bb9b6e1",
   "metadata": {},
   "outputs": [
    {
     "name": "stdout",
     "output_type": "stream",
     "text": [
      "0\n",
      "11\n"
     ]
    }
   ],
   "source": [
    "print(bow_human[bow_human['intj adjf']!=0]['intj adjf'].count())\n",
    "print(bow_machine[bow_machine['intj adjf']!=0]['intj adjf'].count())"
   ]
  },
  {
   "cell_type": "markdown",
   "id": "9b020147",
   "metadata": {},
   "source": [
    "Штош, получается так, но она всего встречается в 11 текстах, не думаю что это показательно. Проверим 5-ю:"
   ]
  },
  {
   "cell_type": "code",
   "execution_count": 196,
   "id": "5c0a42c1",
   "metadata": {},
   "outputs": [
    {
     "data": {
      "text/plain": [
       "<AxesSubplot:xlabel='adjs advb', ylabel='Count'>"
      ]
     },
     "execution_count": 196,
     "metadata": {},
     "output_type": "execute_result"
    },
    {
     "data": {
      "image/png": "[encoded data removed]",
      "text/plain": [
       "<Figure size 720x1080 with 1 Axes>"
      ]
     },
     "metadata": {
      "needs_background": "light"
     },
     "output_type": "display_data"
    }
   ],
   "source": [
    "plt.subplots(figsize=(10,15))\n",
    "sns.histplot(data=bow_train[bow_train[\"adjs advb\"]!=0], x=\"adjs advb\", hue=\"class\", multiple=\"dodge\", shrink=1)"
   ]
  },
  {
   "cell_type": "markdown",
   "id": "f442ec7c",
   "metadata": {},
   "source": [
    "У неё тоже видна разница в human и machine. Она встречается в относительно большом количестве текстов (500+), то есть может быть можно использовать. Проверим количество:"
   ]
  },
  {
   "cell_type": "code",
   "execution_count": 198,
   "id": "2621dd47",
   "metadata": {},
   "outputs": [
    {
     "name": "stdout",
     "output_type": "stream",
     "text": [
      "163\n",
      "359\n",
      "522\n"
     ]
    }
   ],
   "source": [
    "print(bow_human[bow_human['adjs advb']!=0]['adjs advb'].count())\n",
    "print(bow_machine[bow_machine['adjs advb']!=0]['adjs advb'].count())\n",
    "print (bow_human[bow_human['adjs advb']!=0]['adjs advb'].count()+bow_machine[bow_machine['adjs advb']!=0]['adjs advb'].count())"
   ]
  },
  {
   "cell_type": "markdown",
   "id": "e3cda058",
   "metadata": {},
   "source": [
    "Вывод: мне кажется можно использовать 1,2,3 и 5 фичу из списка отранжированных по coef биграмм. У 1-й отличается средняя частота употребления, при этом общее число текстов, в которых она есть, и общее количество биграмм не отличается для Н и М. Остальные проанализированные биграммы имеют большую разницу в частоте употребления в Н и М.\n",
    "У остальных биграмм coef меньше 1, не стала их анализировать."
   ]
  },
  {
   "cell_type": "markdown",
   "id": "291cde54",
   "metadata": {},
   "source": [
    "Проверим по частотам."
   ]
  },
  {
   "cell_type": "code",
   "execution_count": 256,
   "id": "940099d5",
   "metadata": {},
   "outputs": [
    {
     "data": {
      "text/html": [
       "<div>\n",
       "<style scoped>\n",
       "    .dataframe tbody tr th:only-of-type {\n",
       "        vertical-align: middle;\n",
       "    }\n",
       "\n",
       "    .dataframe tbody tr th {\n",
       "        vertical-align: top;\n",
       "    }\n",
       "\n",
       "    .dataframe thead th {\n",
       "        text-align: right;\n",
       "    }\n",
       "</style>\n",
       "<table border=\"1\" class=\"dataframe\">\n",
       "  <thead>\n",
       "    <tr style=\"text-align: right;\">\n",
       "      <th></th>\n",
       "      <th>noun</th>\n",
       "      <th>adjf</th>\n",
       "      <th>prep</th>\n",
       "      <th>noun noun</th>\n",
       "      <th>noun adjf</th>\n",
       "      <th>adjf prep</th>\n",
       "      <th>prep adjf</th>\n",
       "      <th>adjf noun</th>\n",
       "      <th>none</th>\n",
       "      <th>prcl</th>\n",
       "      <th>...</th>\n",
       "      <th>grnd comp</th>\n",
       "      <th>intj comp</th>\n",
       "      <th>pred numr</th>\n",
       "      <th>numr intj</th>\n",
       "      <th>class</th>\n",
       "      <th>len_text_text</th>\n",
       "      <th>prep_grnd_freq</th>\n",
       "      <th>verb_adjf_freq</th>\n",
       "      <th>advb_infn_freq</th>\n",
       "      <th>adjs_advb_freq</th>\n",
       "    </tr>\n",
       "  </thead>\n",
       "  <tbody>\n",
       "    <tr>\n",
       "      <th>0</th>\n",
       "      <td>3</td>\n",
       "      <td>0</td>\n",
       "      <td>0</td>\n",
       "      <td>0</td>\n",
       "      <td>0</td>\n",
       "      <td>0</td>\n",
       "      <td>0</td>\n",
       "      <td>0</td>\n",
       "      <td>0</td>\n",
       "      <td>0</td>\n",
       "      <td>...</td>\n",
       "      <td>0</td>\n",
       "      <td>0</td>\n",
       "      <td>0</td>\n",
       "      <td>0</td>\n",
       "      <td>0</td>\n",
       "      <td>66</td>\n",
       "      <td>0.015152</td>\n",
       "      <td>0.0</td>\n",
       "      <td>0.0</td>\n",
       "      <td>0.0</td>\n",
       "    </tr>\n",
       "    <tr>\n",
       "      <th>4</th>\n",
       "      <td>0</td>\n",
       "      <td>0</td>\n",
       "      <td>0</td>\n",
       "      <td>0</td>\n",
       "      <td>0</td>\n",
       "      <td>0</td>\n",
       "      <td>0</td>\n",
       "      <td>0</td>\n",
       "      <td>0</td>\n",
       "      <td>0</td>\n",
       "      <td>...</td>\n",
       "      <td>0</td>\n",
       "      <td>0</td>\n",
       "      <td>0</td>\n",
       "      <td>0</td>\n",
       "      <td>1</td>\n",
       "      <td>76</td>\n",
       "      <td>0.026316</td>\n",
       "      <td>0.0</td>\n",
       "      <td>0.0</td>\n",
       "      <td>0.0</td>\n",
       "    </tr>\n",
       "    <tr>\n",
       "      <th>6</th>\n",
       "      <td>1</td>\n",
       "      <td>0</td>\n",
       "      <td>0</td>\n",
       "      <td>0</td>\n",
       "      <td>0</td>\n",
       "      <td>0</td>\n",
       "      <td>0</td>\n",
       "      <td>0</td>\n",
       "      <td>0</td>\n",
       "      <td>0</td>\n",
       "      <td>...</td>\n",
       "      <td>0</td>\n",
       "      <td>0</td>\n",
       "      <td>0</td>\n",
       "      <td>0</td>\n",
       "      <td>0</td>\n",
       "      <td>92</td>\n",
       "      <td>0.021739</td>\n",
       "      <td>0.0</td>\n",
       "      <td>0.0</td>\n",
       "      <td>0.0</td>\n",
       "    </tr>\n",
       "    <tr>\n",
       "      <th>7</th>\n",
       "      <td>1</td>\n",
       "      <td>0</td>\n",
       "      <td>0</td>\n",
       "      <td>0</td>\n",
       "      <td>0</td>\n",
       "      <td>0</td>\n",
       "      <td>0</td>\n",
       "      <td>0</td>\n",
       "      <td>0</td>\n",
       "      <td>0</td>\n",
       "      <td>...</td>\n",
       "      <td>1</td>\n",
       "      <td>0</td>\n",
       "      <td>0</td>\n",
       "      <td>0</td>\n",
       "      <td>0</td>\n",
       "      <td>47</td>\n",
       "      <td>0.042553</td>\n",
       "      <td>0.0</td>\n",
       "      <td>0.0</td>\n",
       "      <td>0.0</td>\n",
       "    </tr>\n",
       "    <tr>\n",
       "      <th>8</th>\n",
       "      <td>16</td>\n",
       "      <td>1</td>\n",
       "      <td>1</td>\n",
       "      <td>0</td>\n",
       "      <td>0</td>\n",
       "      <td>1</td>\n",
       "      <td>0</td>\n",
       "      <td>0</td>\n",
       "      <td>0</td>\n",
       "      <td>0</td>\n",
       "      <td>...</td>\n",
       "      <td>1</td>\n",
       "      <td>0</td>\n",
       "      <td>0</td>\n",
       "      <td>0</td>\n",
       "      <td>0</td>\n",
       "      <td>668</td>\n",
       "      <td>0.011976</td>\n",
       "      <td>0.0</td>\n",
       "      <td>0.0</td>\n",
       "      <td>0.0</td>\n",
       "    </tr>\n",
       "    <tr>\n",
       "      <th>...</th>\n",
       "      <td>...</td>\n",
       "      <td>...</td>\n",
       "      <td>...</td>\n",
       "      <td>...</td>\n",
       "      <td>...</td>\n",
       "      <td>...</td>\n",
       "      <td>...</td>\n",
       "      <td>...</td>\n",
       "      <td>...</td>\n",
       "      <td>...</td>\n",
       "      <td>...</td>\n",
       "      <td>...</td>\n",
       "      <td>...</td>\n",
       "      <td>...</td>\n",
       "      <td>...</td>\n",
       "      <td>...</td>\n",
       "      <td>...</td>\n",
       "      <td>...</td>\n",
       "      <td>...</td>\n",
       "      <td>...</td>\n",
       "      <td>...</td>\n",
       "    </tr>\n",
       "    <tr>\n",
       "      <th>129061</th>\n",
       "      <td>6</td>\n",
       "      <td>0</td>\n",
       "      <td>0</td>\n",
       "      <td>0</td>\n",
       "      <td>0</td>\n",
       "      <td>0</td>\n",
       "      <td>0</td>\n",
       "      <td>0</td>\n",
       "      <td>0</td>\n",
       "      <td>0</td>\n",
       "      <td>...</td>\n",
       "      <td>0</td>\n",
       "      <td>0</td>\n",
       "      <td>0</td>\n",
       "      <td>0</td>\n",
       "      <td>1</td>\n",
       "      <td>538</td>\n",
       "      <td>0.022305</td>\n",
       "      <td>0.0</td>\n",
       "      <td>0.0</td>\n",
       "      <td>0.0</td>\n",
       "    </tr>\n",
       "    <tr>\n",
       "      <th>129062</th>\n",
       "      <td>2</td>\n",
       "      <td>0</td>\n",
       "      <td>0</td>\n",
       "      <td>0</td>\n",
       "      <td>0</td>\n",
       "      <td>0</td>\n",
       "      <td>0</td>\n",
       "      <td>0</td>\n",
       "      <td>0</td>\n",
       "      <td>0</td>\n",
       "      <td>...</td>\n",
       "      <td>0</td>\n",
       "      <td>0</td>\n",
       "      <td>0</td>\n",
       "      <td>0</td>\n",
       "      <td>0</td>\n",
       "      <td>71</td>\n",
       "      <td>0.028169</td>\n",
       "      <td>0.0</td>\n",
       "      <td>0.0</td>\n",
       "      <td>0.0</td>\n",
       "    </tr>\n",
       "    <tr>\n",
       "      <th>129063</th>\n",
       "      <td>3</td>\n",
       "      <td>0</td>\n",
       "      <td>0</td>\n",
       "      <td>0</td>\n",
       "      <td>0</td>\n",
       "      <td>0</td>\n",
       "      <td>0</td>\n",
       "      <td>0</td>\n",
       "      <td>0</td>\n",
       "      <td>0</td>\n",
       "      <td>...</td>\n",
       "      <td>0</td>\n",
       "      <td>0</td>\n",
       "      <td>0</td>\n",
       "      <td>0</td>\n",
       "      <td>0</td>\n",
       "      <td>153</td>\n",
       "      <td>0.019608</td>\n",
       "      <td>0.0</td>\n",
       "      <td>0.0</td>\n",
       "      <td>0.0</td>\n",
       "    </tr>\n",
       "    <tr>\n",
       "      <th>129064</th>\n",
       "      <td>1</td>\n",
       "      <td>0</td>\n",
       "      <td>0</td>\n",
       "      <td>0</td>\n",
       "      <td>0</td>\n",
       "      <td>0</td>\n",
       "      <td>0</td>\n",
       "      <td>0</td>\n",
       "      <td>0</td>\n",
       "      <td>0</td>\n",
       "      <td>...</td>\n",
       "      <td>0</td>\n",
       "      <td>0</td>\n",
       "      <td>0</td>\n",
       "      <td>0</td>\n",
       "      <td>1</td>\n",
       "      <td>21</td>\n",
       "      <td>0.047619</td>\n",
       "      <td>0.0</td>\n",
       "      <td>0.0</td>\n",
       "      <td>0.0</td>\n",
       "    </tr>\n",
       "    <tr>\n",
       "      <th>129065</th>\n",
       "      <td>1</td>\n",
       "      <td>0</td>\n",
       "      <td>0</td>\n",
       "      <td>0</td>\n",
       "      <td>0</td>\n",
       "      <td>0</td>\n",
       "      <td>0</td>\n",
       "      <td>0</td>\n",
       "      <td>0</td>\n",
       "      <td>0</td>\n",
       "      <td>...</td>\n",
       "      <td>1</td>\n",
       "      <td>0</td>\n",
       "      <td>0</td>\n",
       "      <td>0</td>\n",
       "      <td>1</td>\n",
       "      <td>106</td>\n",
       "      <td>0.037736</td>\n",
       "      <td>0.0</td>\n",
       "      <td>0.0</td>\n",
       "      <td>0.0</td>\n",
       "    </tr>\n",
       "  </tbody>\n",
       "</table>\n",
       "<p>105880 rows × 348 columns</p>\n",
       "</div>"
      ],
      "text/plain": [
       "        noun  adjf  prep  noun noun  noun adjf  adjf prep  prep adjf  \\\n",
       "0          3     0     0          0          0          0          0   \n",
       "4          0     0     0          0          0          0          0   \n",
       "6          1     0     0          0          0          0          0   \n",
       "7          1     0     0          0          0          0          0   \n",
       "8         16     1     1          0          0          1          0   \n",
       "...      ...   ...   ...        ...        ...        ...        ...   \n",
       "129061     6     0     0          0          0          0          0   \n",
       "129062     2     0     0          0          0          0          0   \n",
       "129063     3     0     0          0          0          0          0   \n",
       "129064     1     0     0          0          0          0          0   \n",
       "129065     1     0     0          0          0          0          0   \n",
       "\n",
       "        adjf noun  none  prcl  ...  grnd comp  intj comp  pred numr  \\\n",
       "0               0     0     0  ...          0          0          0   \n",
       "4               0     0     0  ...          0          0          0   \n",
       "6               0     0     0  ...          0          0          0   \n",
       "7               0     0     0  ...          1          0          0   \n",
       "8               0     0     0  ...          1          0          0   \n",
       "...           ...   ...   ...  ...        ...        ...        ...   \n",
       "129061          0     0     0  ...          0          0          0   \n",
       "129062          0     0     0  ...          0          0          0   \n",
       "129063          0     0     0  ...          0          0          0   \n",
       "129064          0     0     0  ...          0          0          0   \n",
       "129065          0     0     0  ...          1          0          0   \n",
       "\n",
       "        numr intj  class  len_text_text  prep_grnd_freq  verb_adjf_freq  \\\n",
       "0               0      0             66        0.015152             0.0   \n",
       "4               0      1             76        0.026316             0.0   \n",
       "6               0      0             92        0.021739             0.0   \n",
       "7               0      0             47        0.042553             0.0   \n",
       "8               0      0            668        0.011976             0.0   \n",
       "...           ...    ...            ...             ...             ...   \n",
       "129061          0      1            538        0.022305             0.0   \n",
       "129062          0      0             71        0.028169             0.0   \n",
       "129063          0      0            153        0.019608             0.0   \n",
       "129064          0      1             21        0.047619             0.0   \n",
       "129065          0      1            106        0.037736             0.0   \n",
       "\n",
       "        advb_infn_freq  adjs_advb_freq  \n",
       "0                  0.0             0.0  \n",
       "4                  0.0             0.0  \n",
       "6                  0.0             0.0  \n",
       "7                  0.0             0.0  \n",
       "8                  0.0             0.0  \n",
       "...                ...             ...  \n",
       "129061             0.0             0.0  \n",
       "129062             0.0             0.0  \n",
       "129063             0.0             0.0  \n",
       "129064             0.0             0.0  \n",
       "129065             0.0             0.0  \n",
       "\n",
       "[105880 rows x 348 columns]"
      ]
     },
     "execution_count": 256,
     "metadata": {},
     "output_type": "execute_result"
    }
   ],
   "source": [
    "# делаем столбцы с частотами фичей 1,2,3,5\n",
    "bow_train['prep_grnd_freq'] = bow_train['prep grnd']/bow_train['len_text_text']\n",
    "bow_train['verb_adjf_freq'] = bow_train['verb adjf']/bow_train['len_text_text']\n",
    "bow_train['advb_infn_freq'] = bow_train['advb infn']/bow_train['len_text_text']\n",
    "bow_train['adjs_advb_freq'] = bow_train['adjs advb']/bow_train['len_text_text']\n",
    "\n",
    "bow_train[bow_train['prep grnd']!=0]"
   ]
  },
  {
   "cell_type": "markdown",
   "id": "db207dcd",
   "metadata": {},
   "source": [
    "Анализируем 1-ю биграмму, prep grnd"
   ]
  },
  {
   "cell_type": "code",
   "execution_count": 243,
   "id": "d48af464",
   "metadata": {},
   "outputs": [
    {
     "data": {
      "image/png": "[encoded data removed]",
      "text/plain": [
       "<Figure size 1440x360 with 1 Axes>"
      ]
     },
     "metadata": {
      "needs_background": "light"
     },
     "output_type": "display_data"
    }
   ],
   "source": [
    "fig, ax = plt.subplots(figsize=(20,5))\n",
    "try:\n",
    "    sns.histplot(data=bow_train[(bow_train['prep_grnd_freq'] != 0) & (bow_train['class'] == 0)], x='prep_grnd_freq')\n",
    "    ax.set_xlim(-0.02,0.52)\n",
    "    ax.set_xticks(range(0,0.5))\n",
    "except TypeError:\n",
    "    pass"
   ]
  },
  {
   "cell_type": "code",
   "execution_count": 241,
   "id": "49dd89bf",
   "metadata": {},
   "outputs": [
    {
     "data": {
      "text/plain": [
       "<AxesSubplot:xlabel='prep_grnd_freq', ylabel='Count'>"
      ]
     },
     "execution_count": 241,
     "metadata": {},
     "output_type": "execute_result"
    },
    {
     "data": {
      "image/png": "[encoded data removed]",
      "text/plain": [
       "<Figure size 1440x360 with 1 Axes>"
      ]
     },
     "metadata": {
      "needs_background": "light"
     },
     "output_type": "display_data"
    }
   ],
   "source": [
    "plt.subplots(figsize=(20,5))\n",
    "sns.histplot(data=bow_train[(bow_train['prep_grnd_freq'] != 0) & (bow_train['class'] == 1)], x='prep_grnd_freq')"
   ]
  },
  {
   "cell_type": "code",
   "execution_count": 239,
   "id": "efeec368",
   "metadata": {},
   "outputs": [
    {
     "data": {
      "image/png": "[encoded data removed]",
      "text/plain": [
       "<Figure size 1440x360 with 1 Axes>"
      ]
     },
     "metadata": {
      "needs_background": "light"
     },
     "output_type": "display_data"
    }
   ],
   "source": [
    "fig, ax = plt.subplots(figsize=(20,5))\n",
    "try:\n",
    "    sns.boxplot(data=bow_train[(bow_train['prep_grnd_freq'] != 0) & (bow_train['class'] == 0)], x='prep_grnd_freq')\n",
    "    ax.set_xlim(-0.02,0.52)\n",
    "    ax.set_xticks(range(0,0.5))\n",
    "except TypeError:\n",
    "    pass"
   ]
  },
  {
   "cell_type": "code",
   "execution_count": 216,
   "id": "f62bb8d7",
   "metadata": {},
   "outputs": [
    {
     "data": {
      "text/plain": [
       "<AxesSubplot:xlabel='prep_grnd_freq'>"
      ]
     },
     "execution_count": 216,
     "metadata": {},
     "output_type": "execute_result"
    },
    {
     "data": {
      "image/png": "[encoded data removed]",
      "text/plain": [
       "<Figure size 1440x360 with 1 Axes>"
      ]
     },
     "metadata": {
      "needs_background": "light"
     },
     "output_type": "display_data"
    }
   ],
   "source": [
    "plt.subplots(figsize=(20,5))\n",
    "sns.boxplot(data=bow_train[(bow_train['prep_grnd_freq'] != 0) & (bow_train['class'] == 1)], x='prep_grnd_freq')"
   ]
  },
  {
   "cell_type": "markdown",
   "id": "17d7e823",
   "metadata": {},
   "source": [
    "Получается что распределение частот у этой биграммы очень похожее, просто в машинных текстах есть большие выбросы. Похожее респределение показывает фактически одинаковое значение медиан:"
   ]
  },
  {
   "cell_type": "code",
   "execution_count": 240,
   "id": "2bf7aa59",
   "metadata": {},
   "outputs": [
    {
     "name": "stdout",
     "output_type": "stream",
     "text": [
      "0.019230769230769232\n",
      "0.019461077844311378\n"
     ]
    }
   ],
   "source": [
    "print(bow_train[(bow_train['prep_grnd_freq'] != 0) & (bow_train['class'] == 0)]['prep_grnd_freq'].median())\n",
    "print(bow_train[(bow_train['prep_grnd_freq'] != 0) & (bow_train['class'] == 1)]['prep_grnd_freq'].median())"
   ]
  },
  {
   "cell_type": "code",
   "execution_count": 244,
   "id": "bf57fc8d",
   "metadata": {},
   "outputs": [
    {
     "data": {
      "text/plain": [
       "0.16666666666666666"
      ]
     },
     "execution_count": 244,
     "metadata": {},
     "output_type": "execute_result"
    }
   ],
   "source": [
    "max(bow_train[bow_train['class'] == 0]['prep_grnd_freq'])"
   ]
  },
  {
   "cell_type": "markdown",
   "id": "029d1d59",
   "metadata": {},
   "source": [
    "prep_grnd означает \"предлог деепричастие\"\n",
    "Пример текстов Н и М, где максимальная частота этой биграммы:"
   ]
  },
  {
   "cell_type": "code",
   "execution_count": 279,
   "id": "a96dbf5b",
   "metadata": {},
   "outputs": [
    {
     "data": {
      "text/html": [
       "<div>\n",
       "<style scoped>\n",
       "    .dataframe tbody tr th:only-of-type {\n",
       "        vertical-align: middle;\n",
       "    }\n",
       "\n",
       "    .dataframe tbody tr th {\n",
       "        vertical-align: top;\n",
       "    }\n",
       "\n",
       "    .dataframe thead th {\n",
       "        text-align: right;\n",
       "    }\n",
       "</style>\n",
       "<table border=\"1\" class=\"dataframe\">\n",
       "  <thead>\n",
       "    <tr style=\"text-align: right;\">\n",
       "      <th></th>\n",
       "      <th>noun</th>\n",
       "      <th>adjf</th>\n",
       "      <th>prep</th>\n",
       "      <th>noun noun</th>\n",
       "      <th>noun adjf</th>\n",
       "      <th>adjf prep</th>\n",
       "      <th>prep adjf</th>\n",
       "      <th>adjf noun</th>\n",
       "      <th>none</th>\n",
       "      <th>prcl</th>\n",
       "      <th>...</th>\n",
       "      <th>grnd comp</th>\n",
       "      <th>intj comp</th>\n",
       "      <th>pred numr</th>\n",
       "      <th>numr intj</th>\n",
       "      <th>class</th>\n",
       "      <th>len_text_text</th>\n",
       "      <th>prep_grnd_freq</th>\n",
       "      <th>verb_adjf_freq</th>\n",
       "      <th>advb_infn_freq</th>\n",
       "      <th>adjs_advb_freq</th>\n",
       "    </tr>\n",
       "  </thead>\n",
       "  <tbody>\n",
       "    <tr>\n",
       "      <th>86319</th>\n",
       "      <td>1</td>\n",
       "      <td>0</td>\n",
       "      <td>0</td>\n",
       "      <td>0</td>\n",
       "      <td>0</td>\n",
       "      <td>0</td>\n",
       "      <td>0</td>\n",
       "      <td>0</td>\n",
       "      <td>0</td>\n",
       "      <td>0</td>\n",
       "      <td>...</td>\n",
       "      <td>0</td>\n",
       "      <td>0</td>\n",
       "      <td>0</td>\n",
       "      <td>0</td>\n",
       "      <td>0</td>\n",
       "      <td>18</td>\n",
       "      <td>0.166667</td>\n",
       "      <td>0.0</td>\n",
       "      <td>0.0</td>\n",
       "      <td>0.0</td>\n",
       "    </tr>\n",
       "  </tbody>\n",
       "</table>\n",
       "<p>1 rows × 348 columns</p>\n",
       "</div>"
      ],
      "text/plain": [
       "       noun  adjf  prep  noun noun  noun adjf  adjf prep  prep adjf  \\\n",
       "86319     1     0     0          0          0          0          0   \n",
       "\n",
       "       adjf noun  none  prcl  ...  grnd comp  intj comp  pred numr  numr intj  \\\n",
       "86319          0     0     0  ...          0          0          0          0   \n",
       "\n",
       "       class  len_text_text  prep_grnd_freq  verb_adjf_freq  advb_infn_freq  \\\n",
       "86319      0             18        0.166667             0.0             0.0   \n",
       "\n",
       "       adjs_advb_freq  \n",
       "86319             0.0  \n",
       "\n",
       "[1 rows x 348 columns]"
      ]
     },
     "execution_count": 279,
     "metadata": {},
     "output_type": "execute_result"
    }
   ],
   "source": [
    "bow_train[bow_train['prep_grnd_freq']==max(bow_train[bow_train['class'] == 0]['prep_grnd_freq'])]"
   ]
  },
  {
   "cell_type": "code",
   "execution_count": 280,
   "id": "e3b9611b",
   "metadata": {},
   "outputs": [
    {
     "name": "stdout",
     "output_type": "stream",
     "text": [
      "В.С.В.Д.Ж. сильное\n"
     ]
    }
   ],
   "source": [
    "print(data['text'][86319])"
   ]
  },
  {
   "cell_type": "code",
   "execution_count": 283,
   "id": "8e81b87c",
   "metadata": {},
   "outputs": [],
   "source": [
    "# print(data.loc[86319])"
   ]
  },
  {
   "cell_type": "code",
   "execution_count": 245,
   "id": "dbf7796a",
   "metadata": {},
   "outputs": [
    {
     "data": {
      "text/plain": [
       "0.5"
      ]
     },
     "execution_count": 245,
     "metadata": {},
     "output_type": "execute_result"
    }
   ],
   "source": [
    "max(bow_train[bow_train['class'] == 1]['prep_grnd_freq'])"
   ]
  },
  {
   "cell_type": "code",
   "execution_count": 284,
   "id": "799f1a57",
   "metadata": {},
   "outputs": [
    {
     "data": {
      "text/html": [
       "<div>\n",
       "<style scoped>\n",
       "    .dataframe tbody tr th:only-of-type {\n",
       "        vertical-align: middle;\n",
       "    }\n",
       "\n",
       "    .dataframe tbody tr th {\n",
       "        vertical-align: top;\n",
       "    }\n",
       "\n",
       "    .dataframe thead th {\n",
       "        text-align: right;\n",
       "    }\n",
       "</style>\n",
       "<table border=\"1\" class=\"dataframe\">\n",
       "  <thead>\n",
       "    <tr style=\"text-align: right;\">\n",
       "      <th></th>\n",
       "      <th>noun</th>\n",
       "      <th>adjf</th>\n",
       "      <th>prep</th>\n",
       "      <th>noun noun</th>\n",
       "      <th>noun adjf</th>\n",
       "      <th>adjf prep</th>\n",
       "      <th>prep adjf</th>\n",
       "      <th>adjf noun</th>\n",
       "      <th>none</th>\n",
       "      <th>prcl</th>\n",
       "      <th>...</th>\n",
       "      <th>grnd comp</th>\n",
       "      <th>intj comp</th>\n",
       "      <th>pred numr</th>\n",
       "      <th>numr intj</th>\n",
       "      <th>class</th>\n",
       "      <th>len_text_text</th>\n",
       "      <th>prep_grnd_freq</th>\n",
       "      <th>verb_adjf_freq</th>\n",
       "      <th>advb_infn_freq</th>\n",
       "      <th>adjs_advb_freq</th>\n",
       "    </tr>\n",
       "  </thead>\n",
       "  <tbody>\n",
       "    <tr>\n",
       "      <th>58148</th>\n",
       "      <td>0</td>\n",
       "      <td>0</td>\n",
       "      <td>0</td>\n",
       "      <td>0</td>\n",
       "      <td>0</td>\n",
       "      <td>0</td>\n",
       "      <td>0</td>\n",
       "      <td>0</td>\n",
       "      <td>0</td>\n",
       "      <td>0</td>\n",
       "      <td>...</td>\n",
       "      <td>0</td>\n",
       "      <td>0</td>\n",
       "      <td>0</td>\n",
       "      <td>0</td>\n",
       "      <td>1</td>\n",
       "      <td>36</td>\n",
       "      <td>0.5</td>\n",
       "      <td>0.0</td>\n",
       "      <td>0.0</td>\n",
       "      <td>0.0</td>\n",
       "    </tr>\n",
       "  </tbody>\n",
       "</table>\n",
       "<p>1 rows × 348 columns</p>\n",
       "</div>"
      ],
      "text/plain": [
       "       noun  adjf  prep  noun noun  noun adjf  adjf prep  prep adjf  \\\n",
       "58148     0     0     0          0          0          0          0   \n",
       "\n",
       "       adjf noun  none  prcl  ...  grnd comp  intj comp  pred numr  numr intj  \\\n",
       "58148          0     0     0  ...          0          0          0          0   \n",
       "\n",
       "       class  len_text_text  prep_grnd_freq  verb_adjf_freq  advb_infn_freq  \\\n",
       "58148      1             36             0.5             0.0             0.0   \n",
       "\n",
       "       adjs_advb_freq  \n",
       "58148             0.0  \n",
       "\n",
       "[1 rows x 348 columns]"
      ]
     },
     "execution_count": 284,
     "metadata": {},
     "output_type": "execute_result"
    }
   ],
   "source": [
    "bow_train[bow_train['prep_grnd_freq']==max(bow_train[bow_train['class'] == 1]['prep_grnd_freq'])]"
   ]
  },
  {
   "cell_type": "code",
   "execution_count": 285,
   "id": "d344528a",
   "metadata": {},
   "outputs": [
    {
     "name": "stdout",
     "output_type": "stream",
     "text": [
      "У У У У У У У У У У У У У У У У У У.\n"
     ]
    }
   ],
   "source": [
    "print(data['text'][58148])"
   ]
  },
  {
   "cell_type": "code",
   "execution_count": 288,
   "id": "3d9d869e",
   "metadata": {},
   "outputs": [
    {
     "data": {
      "text/html": [
       "<div>\n",
       "<style scoped>\n",
       "    .dataframe tbody tr th:only-of-type {\n",
       "        vertical-align: middle;\n",
       "    }\n",
       "\n",
       "    .dataframe tbody tr th {\n",
       "        vertical-align: top;\n",
       "    }\n",
       "\n",
       "    .dataframe thead th {\n",
       "        text-align: right;\n",
       "    }\n",
       "</style>\n",
       "<table border=\"1\" class=\"dataframe\">\n",
       "  <thead>\n",
       "    <tr style=\"text-align: right;\">\n",
       "      <th></th>\n",
       "      <th>noun</th>\n",
       "      <th>adjf</th>\n",
       "      <th>prep</th>\n",
       "      <th>noun noun</th>\n",
       "      <th>noun adjf</th>\n",
       "      <th>adjf prep</th>\n",
       "      <th>prep adjf</th>\n",
       "      <th>adjf noun</th>\n",
       "      <th>none</th>\n",
       "      <th>prcl</th>\n",
       "      <th>...</th>\n",
       "      <th>grnd comp</th>\n",
       "      <th>intj comp</th>\n",
       "      <th>pred numr</th>\n",
       "      <th>numr intj</th>\n",
       "      <th>class</th>\n",
       "      <th>len_text_text</th>\n",
       "      <th>prep_grnd_freq</th>\n",
       "      <th>verb_adjf_freq</th>\n",
       "      <th>advb_infn_freq</th>\n",
       "      <th>adjs_advb_freq</th>\n",
       "    </tr>\n",
       "  </thead>\n",
       "  <tbody>\n",
       "    <tr>\n",
       "      <th>1989</th>\n",
       "      <td>0</td>\n",
       "      <td>0</td>\n",
       "      <td>0</td>\n",
       "      <td>0</td>\n",
       "      <td>0</td>\n",
       "      <td>0</td>\n",
       "      <td>0</td>\n",
       "      <td>0</td>\n",
       "      <td>0</td>\n",
       "      <td>0</td>\n",
       "      <td>...</td>\n",
       "      <td>0</td>\n",
       "      <td>0</td>\n",
       "      <td>0</td>\n",
       "      <td>0</td>\n",
       "      <td>1</td>\n",
       "      <td>26</td>\n",
       "      <td>0.346154</td>\n",
       "      <td>0.0</td>\n",
       "      <td>0.0</td>\n",
       "      <td>0.0</td>\n",
       "    </tr>\n",
       "    <tr>\n",
       "      <th>58148</th>\n",
       "      <td>0</td>\n",
       "      <td>0</td>\n",
       "      <td>0</td>\n",
       "      <td>0</td>\n",
       "      <td>0</td>\n",
       "      <td>0</td>\n",
       "      <td>0</td>\n",
       "      <td>0</td>\n",
       "      <td>0</td>\n",
       "      <td>0</td>\n",
       "      <td>...</td>\n",
       "      <td>0</td>\n",
       "      <td>0</td>\n",
       "      <td>0</td>\n",
       "      <td>0</td>\n",
       "      <td>1</td>\n",
       "      <td>36</td>\n",
       "      <td>0.500000</td>\n",
       "      <td>0.0</td>\n",
       "      <td>0.0</td>\n",
       "      <td>0.0</td>\n",
       "    </tr>\n",
       "  </tbody>\n",
       "</table>\n",
       "<p>2 rows × 348 columns</p>\n",
       "</div>"
      ],
      "text/plain": [
       "       noun  adjf  prep  noun noun  noun adjf  adjf prep  prep adjf  \\\n",
       "1989      0     0     0          0          0          0          0   \n",
       "58148     0     0     0          0          0          0          0   \n",
       "\n",
       "       adjf noun  none  prcl  ...  grnd comp  intj comp  pred numr  numr intj  \\\n",
       "1989           0     0     0  ...          0          0          0          0   \n",
       "58148          0     0     0  ...          0          0          0          0   \n",
       "\n",
       "       class  len_text_text  prep_grnd_freq  verb_adjf_freq  advb_infn_freq  \\\n",
       "1989       1             26        0.346154             0.0             0.0   \n",
       "58148      1             36        0.500000             0.0             0.0   \n",
       "\n",
       "       adjs_advb_freq  \n",
       "1989              0.0  \n",
       "58148             0.0  \n",
       "\n",
       "[2 rows x 348 columns]"
      ]
     },
     "execution_count": 288,
     "metadata": {},
     "output_type": "execute_result"
    }
   ],
   "source": [
    "bow_train[(bow_train['prep_grnd_freq'] >= 0.166)&(bow_train['class'] == 1)]"
   ]
  },
  {
   "cell_type": "code",
   "execution_count": 294,
   "id": "832b391b",
   "metadata": {},
   "outputs": [
    {
     "data": {
      "text/html": [
       "<div>\n",
       "<style scoped>\n",
       "    .dataframe tbody tr th:only-of-type {\n",
       "        vertical-align: middle;\n",
       "    }\n",
       "\n",
       "    .dataframe tbody tr th {\n",
       "        vertical-align: top;\n",
       "    }\n",
       "\n",
       "    .dataframe thead th {\n",
       "        text-align: right;\n",
       "    }\n",
       "</style>\n",
       "<table border=\"1\" class=\"dataframe\">\n",
       "  <thead>\n",
       "    <tr style=\"text-align: right;\">\n",
       "      <th></th>\n",
       "      <th>noun</th>\n",
       "      <th>adjf</th>\n",
       "      <th>prep</th>\n",
       "      <th>noun noun</th>\n",
       "      <th>noun adjf</th>\n",
       "      <th>adjf prep</th>\n",
       "      <th>prep adjf</th>\n",
       "      <th>adjf noun</th>\n",
       "      <th>none</th>\n",
       "      <th>prcl</th>\n",
       "      <th>...</th>\n",
       "      <th>grnd comp</th>\n",
       "      <th>intj comp</th>\n",
       "      <th>pred numr</th>\n",
       "      <th>numr intj</th>\n",
       "      <th>class</th>\n",
       "      <th>len_text_text</th>\n",
       "      <th>prep_grnd_freq</th>\n",
       "      <th>verb_adjf_freq</th>\n",
       "      <th>advb_infn_freq</th>\n",
       "      <th>adjs_advb_freq</th>\n",
       "    </tr>\n",
       "  </thead>\n",
       "  <tbody>\n",
       "    <tr>\n",
       "      <th>58148</th>\n",
       "      <td>0</td>\n",
       "      <td>0</td>\n",
       "      <td>0</td>\n",
       "      <td>0</td>\n",
       "      <td>0</td>\n",
       "      <td>0</td>\n",
       "      <td>0</td>\n",
       "      <td>0</td>\n",
       "      <td>0</td>\n",
       "      <td>0</td>\n",
       "      <td>...</td>\n",
       "      <td>0</td>\n",
       "      <td>0</td>\n",
       "      <td>0</td>\n",
       "      <td>0</td>\n",
       "      <td>1</td>\n",
       "      <td>36</td>\n",
       "      <td>0.500000</td>\n",
       "      <td>0.0</td>\n",
       "      <td>0.0</td>\n",
       "      <td>0.0</td>\n",
       "    </tr>\n",
       "    <tr>\n",
       "      <th>1989</th>\n",
       "      <td>0</td>\n",
       "      <td>0</td>\n",
       "      <td>0</td>\n",
       "      <td>0</td>\n",
       "      <td>0</td>\n",
       "      <td>0</td>\n",
       "      <td>0</td>\n",
       "      <td>0</td>\n",
       "      <td>0</td>\n",
       "      <td>0</td>\n",
       "      <td>...</td>\n",
       "      <td>0</td>\n",
       "      <td>0</td>\n",
       "      <td>0</td>\n",
       "      <td>0</td>\n",
       "      <td>1</td>\n",
       "      <td>26</td>\n",
       "      <td>0.346154</td>\n",
       "      <td>0.0</td>\n",
       "      <td>0.0</td>\n",
       "      <td>0.0</td>\n",
       "    </tr>\n",
       "    <tr>\n",
       "      <th>75927</th>\n",
       "      <td>0</td>\n",
       "      <td>0</td>\n",
       "      <td>0</td>\n",
       "      <td>0</td>\n",
       "      <td>0</td>\n",
       "      <td>0</td>\n",
       "      <td>0</td>\n",
       "      <td>0</td>\n",
       "      <td>0</td>\n",
       "      <td>0</td>\n",
       "      <td>...</td>\n",
       "      <td>0</td>\n",
       "      <td>0</td>\n",
       "      <td>0</td>\n",
       "      <td>0</td>\n",
       "      <td>1</td>\n",
       "      <td>16</td>\n",
       "      <td>0.125000</td>\n",
       "      <td>0.0</td>\n",
       "      <td>0.0</td>\n",
       "      <td>0.0</td>\n",
       "    </tr>\n",
       "    <tr>\n",
       "      <th>88640</th>\n",
       "      <td>0</td>\n",
       "      <td>0</td>\n",
       "      <td>0</td>\n",
       "      <td>0</td>\n",
       "      <td>0</td>\n",
       "      <td>0</td>\n",
       "      <td>0</td>\n",
       "      <td>0</td>\n",
       "      <td>0</td>\n",
       "      <td>0</td>\n",
       "      <td>...</td>\n",
       "      <td>2</td>\n",
       "      <td>0</td>\n",
       "      <td>0</td>\n",
       "      <td>1</td>\n",
       "      <td>1</td>\n",
       "      <td>58</td>\n",
       "      <td>0.120690</td>\n",
       "      <td>0.0</td>\n",
       "      <td>0.0</td>\n",
       "      <td>0.0</td>\n",
       "    </tr>\n",
       "    <tr>\n",
       "      <th>7913</th>\n",
       "      <td>0</td>\n",
       "      <td>0</td>\n",
       "      <td>0</td>\n",
       "      <td>0</td>\n",
       "      <td>0</td>\n",
       "      <td>0</td>\n",
       "      <td>0</td>\n",
       "      <td>0</td>\n",
       "      <td>0</td>\n",
       "      <td>0</td>\n",
       "      <td>...</td>\n",
       "      <td>0</td>\n",
       "      <td>0</td>\n",
       "      <td>0</td>\n",
       "      <td>0</td>\n",
       "      <td>1</td>\n",
       "      <td>51</td>\n",
       "      <td>0.117647</td>\n",
       "      <td>0.0</td>\n",
       "      <td>0.0</td>\n",
       "      <td>0.0</td>\n",
       "    </tr>\n",
       "  </tbody>\n",
       "</table>\n",
       "<p>5 rows × 348 columns</p>\n",
       "</div>"
      ],
      "text/plain": [
       "       noun  adjf  prep  noun noun  noun adjf  adjf prep  prep adjf  \\\n",
       "58148     0     0     0          0          0          0          0   \n",
       "1989      0     0     0          0          0          0          0   \n",
       "75927     0     0     0          0          0          0          0   \n",
       "88640     0     0     0          0          0          0          0   \n",
       "7913      0     0     0          0          0          0          0   \n",
       "\n",
       "       adjf noun  none  prcl  ...  grnd comp  intj comp  pred numr  numr intj  \\\n",
       "58148          0     0     0  ...          0          0          0          0   \n",
       "1989           0     0     0  ...          0          0          0          0   \n",
       "75927          0     0     0  ...          0          0          0          0   \n",
       "88640          0     0     0  ...          2          0          0          1   \n",
       "7913           0     0     0  ...          0          0          0          0   \n",
       "\n",
       "       class  len_text_text  prep_grnd_freq  verb_adjf_freq  advb_infn_freq  \\\n",
       "58148      1             36        0.500000             0.0             0.0   \n",
       "1989       1             26        0.346154             0.0             0.0   \n",
       "75927      1             16        0.125000             0.0             0.0   \n",
       "88640      1             58        0.120690             0.0             0.0   \n",
       "7913       1             51        0.117647             0.0             0.0   \n",
       "\n",
       "       adjs_advb_freq  \n",
       "58148             0.0  \n",
       "1989              0.0  \n",
       "75927             0.0  \n",
       "88640             0.0  \n",
       "7913              0.0  \n",
       "\n",
       "[5 rows x 348 columns]"
      ]
     },
     "execution_count": 294,
     "metadata": {},
     "output_type": "execute_result"
    }
   ],
   "source": [
    "# посмотрим что в других самых частотных М текстах:\n",
    "bow_train[(bow_train['prep_grnd_freq'] >= 0.1)&(bow_train['class'] == 1)]\\\n",
    ".sort_values (by='prep_grnd_freq', ascending=False).head(5)"
   ]
  },
  {
   "cell_type": "code",
   "execution_count": 292,
   "id": "361e89f3",
   "metadata": {},
   "outputs": [
    {
     "name": "stdout",
     "output_type": "stream",
     "text": [
      "У У У У У У У У У У У У У У У У У У.\n",
      "О, о, о, о, о, о, о, о, о!\n",
      "Ал-Макдиси (с в.\n",
      "Он ходил с О.В., ходил к Л., обедал; были разговоры с У.В.\n",
      "Я agree с ним, и с ним, с ним, с ним, с ним, с ним.\n"
     ]
    }
   ],
   "source": [
    "print(data['text'][58148])\n",
    "print(data['text'][1989])\n",
    "print(data['text'][75927])\n",
    "print(data['text'][88640])\n",
    "print(data['text'][7913])"
   ]
  },
  {
   "cell_type": "markdown",
   "id": "de2740ec",
   "metadata": {},
   "source": [
    "По сути здесь мы сталкиваемся с неправильным присвоением POS-тэгов моделью, потому что ни в одном из этих примеров нет последовательности предлог-деепричастие. Проверим Н тексты:"
   ]
  },
  {
   "cell_type": "code",
   "execution_count": 296,
   "id": "16995c0e",
   "metadata": {},
   "outputs": [
    {
     "data": {
      "text/html": [
       "<div>\n",
       "<style scoped>\n",
       "    .dataframe tbody tr th:only-of-type {\n",
       "        vertical-align: middle;\n",
       "    }\n",
       "\n",
       "    .dataframe tbody tr th {\n",
       "        vertical-align: top;\n",
       "    }\n",
       "\n",
       "    .dataframe thead th {\n",
       "        text-align: right;\n",
       "    }\n",
       "</style>\n",
       "<table border=\"1\" class=\"dataframe\">\n",
       "  <thead>\n",
       "    <tr style=\"text-align: right;\">\n",
       "      <th></th>\n",
       "      <th>noun</th>\n",
       "      <th>adjf</th>\n",
       "      <th>prep</th>\n",
       "      <th>noun noun</th>\n",
       "      <th>noun adjf</th>\n",
       "      <th>adjf prep</th>\n",
       "      <th>prep adjf</th>\n",
       "      <th>adjf noun</th>\n",
       "      <th>none</th>\n",
       "      <th>prcl</th>\n",
       "      <th>...</th>\n",
       "      <th>grnd comp</th>\n",
       "      <th>intj comp</th>\n",
       "      <th>pred numr</th>\n",
       "      <th>numr intj</th>\n",
       "      <th>class</th>\n",
       "      <th>len_text_text</th>\n",
       "      <th>prep_grnd_freq</th>\n",
       "      <th>verb_adjf_freq</th>\n",
       "      <th>advb_infn_freq</th>\n",
       "      <th>adjs_advb_freq</th>\n",
       "    </tr>\n",
       "  </thead>\n",
       "  <tbody>\n",
       "    <tr>\n",
       "      <th>86319</th>\n",
       "      <td>1</td>\n",
       "      <td>0</td>\n",
       "      <td>0</td>\n",
       "      <td>0</td>\n",
       "      <td>0</td>\n",
       "      <td>0</td>\n",
       "      <td>0</td>\n",
       "      <td>0</td>\n",
       "      <td>0</td>\n",
       "      <td>0</td>\n",
       "      <td>...</td>\n",
       "      <td>0</td>\n",
       "      <td>0</td>\n",
       "      <td>0</td>\n",
       "      <td>0</td>\n",
       "      <td>0</td>\n",
       "      <td>18</td>\n",
       "      <td>0.166667</td>\n",
       "      <td>0.0</td>\n",
       "      <td>0.0</td>\n",
       "      <td>0.0</td>\n",
       "    </tr>\n",
       "    <tr>\n",
       "      <th>27450</th>\n",
       "      <td>0</td>\n",
       "      <td>0</td>\n",
       "      <td>0</td>\n",
       "      <td>0</td>\n",
       "      <td>0</td>\n",
       "      <td>0</td>\n",
       "      <td>0</td>\n",
       "      <td>0</td>\n",
       "      <td>0</td>\n",
       "      <td>0</td>\n",
       "      <td>...</td>\n",
       "      <td>0</td>\n",
       "      <td>0</td>\n",
       "      <td>0</td>\n",
       "      <td>0</td>\n",
       "      <td>0</td>\n",
       "      <td>7</td>\n",
       "      <td>0.142857</td>\n",
       "      <td>0.0</td>\n",
       "      <td>0.0</td>\n",
       "      <td>0.0</td>\n",
       "    </tr>\n",
       "    <tr>\n",
       "      <th>102274</th>\n",
       "      <td>0</td>\n",
       "      <td>0</td>\n",
       "      <td>0</td>\n",
       "      <td>0</td>\n",
       "      <td>0</td>\n",
       "      <td>0</td>\n",
       "      <td>0</td>\n",
       "      <td>0</td>\n",
       "      <td>0</td>\n",
       "      <td>0</td>\n",
       "      <td>...</td>\n",
       "      <td>0</td>\n",
       "      <td>0</td>\n",
       "      <td>0</td>\n",
       "      <td>0</td>\n",
       "      <td>0</td>\n",
       "      <td>15</td>\n",
       "      <td>0.133333</td>\n",
       "      <td>0.0</td>\n",
       "      <td>0.0</td>\n",
       "      <td>0.0</td>\n",
       "    </tr>\n",
       "    <tr>\n",
       "      <th>43360</th>\n",
       "      <td>0</td>\n",
       "      <td>0</td>\n",
       "      <td>0</td>\n",
       "      <td>0</td>\n",
       "      <td>0</td>\n",
       "      <td>0</td>\n",
       "      <td>0</td>\n",
       "      <td>0</td>\n",
       "      <td>0</td>\n",
       "      <td>0</td>\n",
       "      <td>...</td>\n",
       "      <td>0</td>\n",
       "      <td>0</td>\n",
       "      <td>0</td>\n",
       "      <td>0</td>\n",
       "      <td>0</td>\n",
       "      <td>17</td>\n",
       "      <td>0.117647</td>\n",
       "      <td>0.0</td>\n",
       "      <td>0.0</td>\n",
       "      <td>0.0</td>\n",
       "    </tr>\n",
       "    <tr>\n",
       "      <th>107117</th>\n",
       "      <td>0</td>\n",
       "      <td>0</td>\n",
       "      <td>0</td>\n",
       "      <td>0</td>\n",
       "      <td>0</td>\n",
       "      <td>0</td>\n",
       "      <td>0</td>\n",
       "      <td>0</td>\n",
       "      <td>0</td>\n",
       "      <td>0</td>\n",
       "      <td>...</td>\n",
       "      <td>0</td>\n",
       "      <td>0</td>\n",
       "      <td>0</td>\n",
       "      <td>0</td>\n",
       "      <td>0</td>\n",
       "      <td>17</td>\n",
       "      <td>0.117647</td>\n",
       "      <td>0.0</td>\n",
       "      <td>0.0</td>\n",
       "      <td>0.0</td>\n",
       "    </tr>\n",
       "  </tbody>\n",
       "</table>\n",
       "<p>5 rows × 348 columns</p>\n",
       "</div>"
      ],
      "text/plain": [
       "        noun  adjf  prep  noun noun  noun adjf  adjf prep  prep adjf  \\\n",
       "86319      1     0     0          0          0          0          0   \n",
       "27450      0     0     0          0          0          0          0   \n",
       "102274     0     0     0          0          0          0          0   \n",
       "43360      0     0     0          0          0          0          0   \n",
       "107117     0     0     0          0          0          0          0   \n",
       "\n",
       "        adjf noun  none  prcl  ...  grnd comp  intj comp  pred numr  \\\n",
       "86319           0     0     0  ...          0          0          0   \n",
       "27450           0     0     0  ...          0          0          0   \n",
       "102274          0     0     0  ...          0          0          0   \n",
       "43360           0     0     0  ...          0          0          0   \n",
       "107117          0     0     0  ...          0          0          0   \n",
       "\n",
       "        numr intj  class  len_text_text  prep_grnd_freq  verb_adjf_freq  \\\n",
       "86319           0      0             18        0.166667             0.0   \n",
       "27450           0      0              7        0.142857             0.0   \n",
       "102274          0      0             15        0.133333             0.0   \n",
       "43360           0      0             17        0.117647             0.0   \n",
       "107117          0      0             17        0.117647             0.0   \n",
       "\n",
       "        advb_infn_freq  adjs_advb_freq  \n",
       "86319              0.0             0.0  \n",
       "27450              0.0             0.0  \n",
       "102274             0.0             0.0  \n",
       "43360              0.0             0.0  \n",
       "107117             0.0             0.0  \n",
       "\n",
       "[5 rows x 348 columns]"
      ]
     },
     "execution_count": 296,
     "metadata": {},
     "output_type": "execute_result"
    }
   ],
   "source": [
    "bow_train[(bow_train['prep_grnd_freq'] >= 0.1)&(bow_train['class'] == 0)]\\\n",
    ".sort_values (by='prep_grnd_freq', ascending=False).head(5)"
   ]
  },
  {
   "cell_type": "code",
   "execution_count": 297,
   "id": "70763999",
   "metadata": {},
   "outputs": [
    {
     "name": "stdout",
     "output_type": "stream",
     "text": [
      "В.С.В.Д.Ж. сильное\n",
      "С. 18).\n",
      "До конца XIX в.\n",
      "У ДОЧЕРИ НА ДАЧЕ.\n",
      "На хоз-во -100 р.\n"
     ]
    }
   ],
   "source": [
    "print(data['text'][86319])\n",
    "print(data['text'][27450])\n",
    "print(data['text'][102274])\n",
    "print(data['text'][43360])\n",
    "print(data['text'][107117])"
   ]
  },
  {
   "cell_type": "code",
   "execution_count": 304,
   "id": "d2b46ce0",
   "metadata": {},
   "outputs": [
    {
     "name": "stdout",
     "output_type": "stream",
     "text": [
      "noun               1.000000\n",
      "conj adjf          1.000000\n",
      "pred               1.000000\n",
      "advb adjf          1.000000\n",
      "advb prcl          1.000000\n",
      "prep grnd          3.000000\n",
      "advb intj          1.000000\n",
      "prcl grnd          2.000000\n",
      "len_text_text     18.000000\n",
      "prep_grnd_freq     0.166667\n",
      "Name: 86319, dtype: float64\n"
     ]
    }
   ],
   "source": [
    "# В.С.В.Д.Ж. сильное\n",
    "print(bow_train.loc[86319][bow_train.loc[86319]!=0])"
   ]
  },
  {
   "cell_type": "markdown",
   "id": "6b6d4f5b",
   "metadata": {},
   "source": [
    "Нет такой последовательности. Проверим вторую биграмму, 'verb adjf'."
   ]
  },
  {
   "cell_type": "code",
   "execution_count": 299,
   "id": "c39e7e9e",
   "metadata": {},
   "outputs": [
    {
     "data": {
      "text/html": [
       "<div>\n",
       "<style scoped>\n",
       "    .dataframe tbody tr th:only-of-type {\n",
       "        vertical-align: middle;\n",
       "    }\n",
       "\n",
       "    .dataframe tbody tr th {\n",
       "        vertical-align: top;\n",
       "    }\n",
       "\n",
       "    .dataframe thead th {\n",
       "        text-align: right;\n",
       "    }\n",
       "</style>\n",
       "<table border=\"1\" class=\"dataframe\">\n",
       "  <thead>\n",
       "    <tr style=\"text-align: right;\">\n",
       "      <th></th>\n",
       "      <th>noun</th>\n",
       "      <th>adjf</th>\n",
       "      <th>prep</th>\n",
       "      <th>noun noun</th>\n",
       "      <th>noun adjf</th>\n",
       "      <th>adjf prep</th>\n",
       "      <th>prep adjf</th>\n",
       "      <th>adjf noun</th>\n",
       "      <th>none</th>\n",
       "      <th>prcl</th>\n",
       "      <th>...</th>\n",
       "      <th>grnd comp</th>\n",
       "      <th>intj comp</th>\n",
       "      <th>pred numr</th>\n",
       "      <th>numr intj</th>\n",
       "      <th>class</th>\n",
       "      <th>len_text_text</th>\n",
       "      <th>prep_grnd_freq</th>\n",
       "      <th>verb_adjf_freq</th>\n",
       "      <th>advb_infn_freq</th>\n",
       "      <th>adjs_advb_freq</th>\n",
       "    </tr>\n",
       "  </thead>\n",
       "  <tbody>\n",
       "    <tr>\n",
       "      <th>61255</th>\n",
       "      <td>0</td>\n",
       "      <td>0</td>\n",
       "      <td>0</td>\n",
       "      <td>0</td>\n",
       "      <td>0</td>\n",
       "      <td>0</td>\n",
       "      <td>0</td>\n",
       "      <td>0</td>\n",
       "      <td>0</td>\n",
       "      <td>0</td>\n",
       "      <td>...</td>\n",
       "      <td>0</td>\n",
       "      <td>0</td>\n",
       "      <td>0</td>\n",
       "      <td>0</td>\n",
       "      <td>1</td>\n",
       "      <td>28</td>\n",
       "      <td>0.0</td>\n",
       "      <td>0.035714</td>\n",
       "      <td>0.0</td>\n",
       "      <td>0.0</td>\n",
       "    </tr>\n",
       "    <tr>\n",
       "      <th>18708</th>\n",
       "      <td>0</td>\n",
       "      <td>0</td>\n",
       "      <td>0</td>\n",
       "      <td>0</td>\n",
       "      <td>0</td>\n",
       "      <td>0</td>\n",
       "      <td>0</td>\n",
       "      <td>0</td>\n",
       "      <td>0</td>\n",
       "      <td>0</td>\n",
       "      <td>...</td>\n",
       "      <td>0</td>\n",
       "      <td>0</td>\n",
       "      <td>0</td>\n",
       "      <td>0</td>\n",
       "      <td>1</td>\n",
       "      <td>29</td>\n",
       "      <td>0.0</td>\n",
       "      <td>0.034483</td>\n",
       "      <td>0.0</td>\n",
       "      <td>0.0</td>\n",
       "    </tr>\n",
       "    <tr>\n",
       "      <th>17785</th>\n",
       "      <td>0</td>\n",
       "      <td>0</td>\n",
       "      <td>0</td>\n",
       "      <td>0</td>\n",
       "      <td>0</td>\n",
       "      <td>0</td>\n",
       "      <td>0</td>\n",
       "      <td>0</td>\n",
       "      <td>0</td>\n",
       "      <td>0</td>\n",
       "      <td>...</td>\n",
       "      <td>0</td>\n",
       "      <td>0</td>\n",
       "      <td>0</td>\n",
       "      <td>0</td>\n",
       "      <td>1</td>\n",
       "      <td>34</td>\n",
       "      <td>0.0</td>\n",
       "      <td>0.029412</td>\n",
       "      <td>0.0</td>\n",
       "      <td>0.0</td>\n",
       "    </tr>\n",
       "    <tr>\n",
       "      <th>31721</th>\n",
       "      <td>0</td>\n",
       "      <td>0</td>\n",
       "      <td>0</td>\n",
       "      <td>0</td>\n",
       "      <td>0</td>\n",
       "      <td>0</td>\n",
       "      <td>0</td>\n",
       "      <td>0</td>\n",
       "      <td>0</td>\n",
       "      <td>0</td>\n",
       "      <td>...</td>\n",
       "      <td>0</td>\n",
       "      <td>0</td>\n",
       "      <td>0</td>\n",
       "      <td>0</td>\n",
       "      <td>1</td>\n",
       "      <td>36</td>\n",
       "      <td>0.0</td>\n",
       "      <td>0.027778</td>\n",
       "      <td>0.0</td>\n",
       "      <td>0.0</td>\n",
       "    </tr>\n",
       "    <tr>\n",
       "      <th>79568</th>\n",
       "      <td>0</td>\n",
       "      <td>0</td>\n",
       "      <td>0</td>\n",
       "      <td>0</td>\n",
       "      <td>0</td>\n",
       "      <td>0</td>\n",
       "      <td>0</td>\n",
       "      <td>0</td>\n",
       "      <td>0</td>\n",
       "      <td>0</td>\n",
       "      <td>...</td>\n",
       "      <td>0</td>\n",
       "      <td>0</td>\n",
       "      <td>0</td>\n",
       "      <td>0</td>\n",
       "      <td>1</td>\n",
       "      <td>37</td>\n",
       "      <td>0.0</td>\n",
       "      <td>0.027027</td>\n",
       "      <td>0.0</td>\n",
       "      <td>0.0</td>\n",
       "    </tr>\n",
       "  </tbody>\n",
       "</table>\n",
       "<p>5 rows × 348 columns</p>\n",
       "</div>"
      ],
      "text/plain": [
       "       noun  adjf  prep  noun noun  noun adjf  adjf prep  prep adjf  \\\n",
       "61255     0     0     0          0          0          0          0   \n",
       "18708     0     0     0          0          0          0          0   \n",
       "17785     0     0     0          0          0          0          0   \n",
       "31721     0     0     0          0          0          0          0   \n",
       "79568     0     0     0          0          0          0          0   \n",
       "\n",
       "       adjf noun  none  prcl  ...  grnd comp  intj comp  pred numr  numr intj  \\\n",
       "61255          0     0     0  ...          0          0          0          0   \n",
       "18708          0     0     0  ...          0          0          0          0   \n",
       "17785          0     0     0  ...          0          0          0          0   \n",
       "31721          0     0     0  ...          0          0          0          0   \n",
       "79568          0     0     0  ...          0          0          0          0   \n",
       "\n",
       "       class  len_text_text  prep_grnd_freq  verb_adjf_freq  advb_infn_freq  \\\n",
       "61255      1             28             0.0        0.035714             0.0   \n",
       "18708      1             29             0.0        0.034483             0.0   \n",
       "17785      1             34             0.0        0.029412             0.0   \n",
       "31721      1             36             0.0        0.027778             0.0   \n",
       "79568      1             37             0.0        0.027027             0.0   \n",
       "\n",
       "       adjs_advb_freq  \n",
       "61255             0.0  \n",
       "18708             0.0  \n",
       "17785             0.0  \n",
       "31721             0.0  \n",
       "79568             0.0  \n",
       "\n",
       "[5 rows x 348 columns]"
      ]
     },
     "execution_count": 299,
     "metadata": {},
     "output_type": "execute_result"
    }
   ],
   "source": [
    "bow_train[(bow_train['verb_adjf_freq'] > 0)&(bow_train['class'] == 1)]\\\n",
    ".sort_values (by='verb_adjf_freq', ascending=False).head(5)"
   ]
  },
  {
   "cell_type": "code",
   "execution_count": 300,
   "id": "752935ff",
   "metadata": {},
   "outputs": [
    {
     "name": "stdout",
     "output_type": "stream",
     "text": [
      "Что больше — Токио или Кобе?\n",
      "Он играет лучше piano, чем я.\n",
      "Кто бегает быстрее, Юми или Кейко?\n",
      "Я не могу больше toleraть это тепло.\n",
      "Это лучше 100 друзей, чем 100 рублей.\n"
     ]
    }
   ],
   "source": [
    "# здесь должна быть пара глагол-имя прилагательное (полное)\n",
    "# Machine:\n",
    "print(data['text'][61255])\n",
    "print(data['text'][18708])\n",
    "print(data['text'][17785])\n",
    "print(data['text'][31721])\n",
    "print(data['text'][79568])"
   ]
  },
  {
   "cell_type": "markdown",
   "id": "bf1f1539",
   "metadata": {},
   "source": [
    "Штош в 3 из 5 предложений есть такая биграмма. Уже прогресс."
   ]
  },
  {
   "cell_type": "code",
   "execution_count": 301,
   "id": "df12315f",
   "metadata": {},
   "outputs": [
    {
     "data": {
      "text/html": [
       "<div>\n",
       "<style scoped>\n",
       "    .dataframe tbody tr th:only-of-type {\n",
       "        vertical-align: middle;\n",
       "    }\n",
       "\n",
       "    .dataframe tbody tr th {\n",
       "        vertical-align: top;\n",
       "    }\n",
       "\n",
       "    .dataframe thead th {\n",
       "        text-align: right;\n",
       "    }\n",
       "</style>\n",
       "<table border=\"1\" class=\"dataframe\">\n",
       "  <thead>\n",
       "    <tr style=\"text-align: right;\">\n",
       "      <th></th>\n",
       "      <th>noun</th>\n",
       "      <th>adjf</th>\n",
       "      <th>prep</th>\n",
       "      <th>noun noun</th>\n",
       "      <th>noun adjf</th>\n",
       "      <th>adjf prep</th>\n",
       "      <th>prep adjf</th>\n",
       "      <th>adjf noun</th>\n",
       "      <th>none</th>\n",
       "      <th>prcl</th>\n",
       "      <th>...</th>\n",
       "      <th>grnd comp</th>\n",
       "      <th>intj comp</th>\n",
       "      <th>pred numr</th>\n",
       "      <th>numr intj</th>\n",
       "      <th>class</th>\n",
       "      <th>len_text_text</th>\n",
       "      <th>prep_grnd_freq</th>\n",
       "      <th>verb_adjf_freq</th>\n",
       "      <th>advb_infn_freq</th>\n",
       "      <th>adjs_advb_freq</th>\n",
       "    </tr>\n",
       "  </thead>\n",
       "  <tbody>\n",
       "    <tr>\n",
       "      <th>41242</th>\n",
       "      <td>0</td>\n",
       "      <td>0</td>\n",
       "      <td>0</td>\n",
       "      <td>0</td>\n",
       "      <td>0</td>\n",
       "      <td>0</td>\n",
       "      <td>0</td>\n",
       "      <td>0</td>\n",
       "      <td>0</td>\n",
       "      <td>0</td>\n",
       "      <td>...</td>\n",
       "      <td>0</td>\n",
       "      <td>0</td>\n",
       "      <td>0</td>\n",
       "      <td>0</td>\n",
       "      <td>0</td>\n",
       "      <td>31</td>\n",
       "      <td>0.000000</td>\n",
       "      <td>0.032258</td>\n",
       "      <td>0.0</td>\n",
       "      <td>0.0</td>\n",
       "    </tr>\n",
       "    <tr>\n",
       "      <th>40723</th>\n",
       "      <td>0</td>\n",
       "      <td>0</td>\n",
       "      <td>0</td>\n",
       "      <td>0</td>\n",
       "      <td>0</td>\n",
       "      <td>0</td>\n",
       "      <td>0</td>\n",
       "      <td>0</td>\n",
       "      <td>0</td>\n",
       "      <td>0</td>\n",
       "      <td>...</td>\n",
       "      <td>1</td>\n",
       "      <td>0</td>\n",
       "      <td>0</td>\n",
       "      <td>0</td>\n",
       "      <td>0</td>\n",
       "      <td>34</td>\n",
       "      <td>0.029412</td>\n",
       "      <td>0.029412</td>\n",
       "      <td>0.0</td>\n",
       "      <td>0.0</td>\n",
       "    </tr>\n",
       "    <tr>\n",
       "      <th>123250</th>\n",
       "      <td>1</td>\n",
       "      <td>0</td>\n",
       "      <td>0</td>\n",
       "      <td>0</td>\n",
       "      <td>0</td>\n",
       "      <td>0</td>\n",
       "      <td>0</td>\n",
       "      <td>0</td>\n",
       "      <td>0</td>\n",
       "      <td>0</td>\n",
       "      <td>...</td>\n",
       "      <td>0</td>\n",
       "      <td>0</td>\n",
       "      <td>0</td>\n",
       "      <td>0</td>\n",
       "      <td>0</td>\n",
       "      <td>70</td>\n",
       "      <td>0.014286</td>\n",
       "      <td>0.028571</td>\n",
       "      <td>0.0</td>\n",
       "      <td>0.0</td>\n",
       "    </tr>\n",
       "    <tr>\n",
       "      <th>21665</th>\n",
       "      <td>0</td>\n",
       "      <td>0</td>\n",
       "      <td>0</td>\n",
       "      <td>0</td>\n",
       "      <td>0</td>\n",
       "      <td>0</td>\n",
       "      <td>0</td>\n",
       "      <td>0</td>\n",
       "      <td>0</td>\n",
       "      <td>0</td>\n",
       "      <td>...</td>\n",
       "      <td>0</td>\n",
       "      <td>0</td>\n",
       "      <td>0</td>\n",
       "      <td>0</td>\n",
       "      <td>0</td>\n",
       "      <td>39</td>\n",
       "      <td>0.000000</td>\n",
       "      <td>0.025641</td>\n",
       "      <td>0.0</td>\n",
       "      <td>0.0</td>\n",
       "    </tr>\n",
       "    <tr>\n",
       "      <th>50242</th>\n",
       "      <td>0</td>\n",
       "      <td>0</td>\n",
       "      <td>0</td>\n",
       "      <td>0</td>\n",
       "      <td>0</td>\n",
       "      <td>0</td>\n",
       "      <td>0</td>\n",
       "      <td>0</td>\n",
       "      <td>0</td>\n",
       "      <td>0</td>\n",
       "      <td>...</td>\n",
       "      <td>0</td>\n",
       "      <td>0</td>\n",
       "      <td>0</td>\n",
       "      <td>0</td>\n",
       "      <td>0</td>\n",
       "      <td>41</td>\n",
       "      <td>0.000000</td>\n",
       "      <td>0.024390</td>\n",
       "      <td>0.0</td>\n",
       "      <td>0.0</td>\n",
       "    </tr>\n",
       "  </tbody>\n",
       "</table>\n",
       "<p>5 rows × 348 columns</p>\n",
       "</div>"
      ],
      "text/plain": [
       "        noun  adjf  prep  noun noun  noun adjf  adjf prep  prep adjf  \\\n",
       "41242      0     0     0          0          0          0          0   \n",
       "40723      0     0     0          0          0          0          0   \n",
       "123250     1     0     0          0          0          0          0   \n",
       "21665      0     0     0          0          0          0          0   \n",
       "50242      0     0     0          0          0          0          0   \n",
       "\n",
       "        adjf noun  none  prcl  ...  grnd comp  intj comp  pred numr  \\\n",
       "41242           0     0     0  ...          0          0          0   \n",
       "40723           0     0     0  ...          1          0          0   \n",
       "123250          0     0     0  ...          0          0          0   \n",
       "21665           0     0     0  ...          0          0          0   \n",
       "50242           0     0     0  ...          0          0          0   \n",
       "\n",
       "        numr intj  class  len_text_text  prep_grnd_freq  verb_adjf_freq  \\\n",
       "41242           0      0             31        0.000000        0.032258   \n",
       "40723           0      0             34        0.029412        0.029412   \n",
       "123250          0      0             70        0.014286        0.028571   \n",
       "21665           0      0             39        0.000000        0.025641   \n",
       "50242           0      0             41        0.000000        0.024390   \n",
       "\n",
       "        advb_infn_freq  adjs_advb_freq  \n",
       "41242              0.0             0.0  \n",
       "40723              0.0             0.0  \n",
       "123250             0.0             0.0  \n",
       "21665              0.0             0.0  \n",
       "50242              0.0             0.0  \n",
       "\n",
       "[5 rows x 348 columns]"
      ]
     },
     "execution_count": 301,
     "metadata": {},
     "output_type": "execute_result"
    }
   ],
   "source": [
    "# Human\n",
    "bow_train[(bow_train['verb_adjf_freq'] > 0)&(bow_train['class'] == 0)]\\\n",
    ".sort_values (by='verb_adjf_freq', ascending=False).head(5)"
   ]
  },
  {
   "cell_type": "code",
   "execution_count": 302,
   "id": "394ee2a5",
   "metadata": {},
   "outputs": [
    {
     "name": "stdout",
     "output_type": "stream",
     "text": [
      "Хандра! и Т. Вернее — наоборот.\n",
      "Что дальше -- Мы ехали на трамвае.\n",
      "Фортуново число для pn# всегда больше pn и все его делители больше pn.\n",
      "Сегодня занятия шли лучше — 15 страниц.\n",
      "Когда мы были сильнее — тогда или теперь?\n"
     ]
    }
   ],
   "source": [
    "# Human\n",
    "print(data['text'][41242])\n",
    "print(data['text'][40723])\n",
    "print(data['text'][123250])\n",
    "print(data['text'][21665])\n",
    "print(data['text'][50242])"
   ]
  },
  {
   "cell_type": "markdown",
   "id": "e4988f87",
   "metadata": {},
   "source": [
    "В Human только в 2 из 5 на самом деле есть такая биграмма."
   ]
  },
  {
   "cell_type": "code",
   "execution_count": 276,
   "id": "35574152",
   "metadata": {},
   "outputs": [
    {
     "data": {
      "image/png": "[encoded data removed]",
      "text/plain": [
       "<Figure size 1440x360 with 1 Axes>"
      ]
     },
     "metadata": {
      "needs_background": "light"
     },
     "output_type": "display_data"
    }
   ],
   "source": [
    "fig, ay = plt.subplots(figsize=(20,5))\n",
    "try:\n",
    "    sns.histplot(data=bow_train[(bow_train['verb_adjf_freq'] != 0) & (bow_train['class'] == 0)], x='verb_adjf_freq')\n",
    "    ay.set_ylim(0,300)\n",
    "#     ay.set_yticks(range(0,300))\n",
    "except TypeError:\n",
    "    pass"
   ]
  },
  {
   "cell_type": "code",
   "execution_count": 260,
   "id": "b9dba80f",
   "metadata": {},
   "outputs": [
    {
     "data": {
      "text/plain": [
       "<AxesSubplot:xlabel='verb_adjf_freq', ylabel='Count'>"
      ]
     },
     "execution_count": 260,
     "metadata": {},
     "output_type": "execute_result"
    },
    {
     "data": {
      "image/png": "[encoded data removed]",
      "text/plain": [
       "<Figure size 1440x360 with 1 Axes>"
      ]
     },
     "metadata": {
      "needs_background": "light"
     },
     "output_type": "display_data"
    }
   ],
   "source": [
    "plt.subplots(figsize=(20,5))\n",
    "sns.histplot(data=bow_train[(bow_train['verb_adjf_freq'] != 0) & (bow_train['class'] == 1)], x='verb_adjf_freq')"
   ]
  },
  {
   "cell_type": "code",
   "execution_count": 269,
   "id": "6b072573",
   "metadata": {},
   "outputs": [
    {
     "name": "stdout",
     "output_type": "stream",
     "text": [
      "Биграмма \"verb adjf\" встречается с частотой от 0 до 0.005 в 1059 текстах\n",
      "Из них в сгенерированных текстах: 900 раз\n",
      "В human текстах: 159 раз\n"
     ]
    }
   ],
   "source": [
    "a = bow_train[(bow_train['verb_adjf_freq'] > 0)&(bow_train['verb_adjf_freq'] <= 0.005)]['verb_adjf_freq'].count()\n",
    "b = bow_train[(bow_train['verb_adjf_freq'] > 0)&(bow_train['verb_adjf_freq'] <= 0.005) & (bow_train['class'] == 1)]['verb_adjf_freq'].count()\n",
    "c = bow_train[(bow_train['verb_adjf_freq'] > 0)&(bow_train['verb_adjf_freq'] <= 0.005) & (bow_train['class'] == 0)]['verb_adjf_freq'].count()\n",
    "print(f'Биграмма \"verb adjf\" встречается с частотой от 0 до 0.005 в {a} текстах')\n",
    "print(f'Из них в сгенерированных текстах: {b} раз')\n",
    "print(f'В human текстах: {c} раз')"
   ]
  },
  {
   "cell_type": "code",
   "execution_count": 270,
   "id": "3e5c52f8",
   "metadata": {},
   "outputs": [
    {
     "name": "stdout",
     "output_type": "stream",
     "text": [
      "Биграмма \"verb adjf\" встречается с частотой от 0.005 до 0.01 в 43 текстах\n",
      "Из них в сгенерированных текстах: 13 раз\n",
      "В human текстах: 30 раз\n"
     ]
    }
   ],
   "source": [
    "a = bow_train[(bow_train['verb_adjf_freq'] > 0.005)&(bow_train['verb_adjf_freq'] <= 0.01)]['verb_adjf_freq'].count()\n",
    "b = bow_train[(bow_train['verb_adjf_freq'] > 0.005)&(bow_train['verb_adjf_freq'] <= 0.01) & (bow_train['class'] == 1)]['verb_adjf_freq'].count()\n",
    "c = bow_train[(bow_train['verb_adjf_freq'] > 0.005)&(bow_train['verb_adjf_freq'] <= 0.01) & (bow_train['class'] == 0)]['verb_adjf_freq'].count()\n",
    "print(f'Биграмма \"verb adjf\" встречается с частотой от 0.005 до 0.01 в {a} текстах')\n",
    "print(f'Из них в сгенерированных текстах: {b} раз')\n",
    "print(f'В human текстах: {c} раз')"
   ]
  },
  {
   "cell_type": "markdown",
   "id": "af107913",
   "metadata": {},
   "source": [
    "По частоте от 0 до 0.005 есть большие различия в Н и М. На бОльшей частоте уже очень мало текстов и наверное это не показательно."
   ]
  },
  {
   "cell_type": "code",
   "execution_count": null,
   "id": "e7e1d4e4",
   "metadata": {},
   "outputs": [],
   "source": []
  },
  {
   "cell_type": "code",
   "execution_count": null,
   "id": "82204c32",
   "metadata": {},
   "outputs": [],
   "source": []
  },
  {
   "cell_type": "code",
   "execution_count": null,
   "id": "2ebe4cb2",
   "metadata": {},
   "outputs": [],
   "source": []
  },
  {
   "cell_type": "code",
   "execution_count": null,
   "id": "69d022f3",
   "metadata": {},
   "outputs": [],
   "source": []
  },
  {
   "cell_type": "code",
   "execution_count": null,
   "id": "1017cf53",
   "metadata": {},
   "outputs": [],
   "source": []
  }
 ],
 "metadata": {
  "kernelspec": {
   "display_name": "Python 3",
   "language": "python",
   "name": "python3"
  },
  "language_info": {
   "codemirror_mode": {
    "name": "ipython",
    "version": 3
   },
   "file_extension": ".py",
   "mimetype": "text/x-python",
   "name": "python",
   "nbconvert_exporter": "python",
   "pygments_lexer": "ipython3",
   "version": "3.8.8"
  }
 },
 "nbformat": 4,
 "nbformat_minor": 5
}
