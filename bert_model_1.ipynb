{
  "cells": [
    {
      "cell_type": "code",
      "execution_count": null,
      "id": "e419dcce",
      "metadata": {
        "id": "e419dcce"
      },
      "outputs": [],
      "source": [
        "import torch\n",
        "import numpy as np\n",
        "import matplotlib.pyplot as plt\n",
        "import pandas as pd\n",
        "import re\n",
        "from sklearn.model_selection import train_test_split\n",
        "from sklearn.metrics import accuracy_score\n",
        "import sys"
      ]
    },
    {
      "cell_type": "code",
      "source": [
        "sys.path.append('/content/drive/MyDrive/')"
      ],
      "metadata": {
        "id": "BiZsjbze18mx"
      },
      "id": "BiZsjbze18mx",
      "execution_count": null,
      "outputs": []
    },
    {
      "cell_type": "code",
      "source": [
        "from analyzer import Analyzer"
      ],
      "metadata": {
        "id": "dLIcWGxg2FWS"
      },
      "id": "dLIcWGxg2FWS",
      "execution_count": null,
      "outputs": []
    },
    {
      "cell_type": "code",
      "source": [
        "analyzer = Analyzer('train')"
      ],
      "metadata": {
        "id": "SeKSfDeG2ixD"
      },
      "id": "SeKSfDeG2ixD",
      "execution_count": null,
      "outputs": []
    },
    {
      "cell_type": "code",
      "source": [
        "from google.colab import drive\n",
        "drive.mount('/content/drive')"
      ],
      "metadata": {
        "colab": {
          "base_uri": "https://localhost:8080/"
        },
        "id": "frkWvOtojhxN",
        "outputId": "da36e423-1485-4d50-8bf0-cbe598bab517"
      },
      "id": "frkWvOtojhxN",
      "execution_count": null,
      "outputs": [
        {
          "output_type": "stream",
          "name": "stdout",
          "text": [
            "Drive already mounted at /content/drive; to attempt to forcibly remount, call drive.mount(\"/content/drive\", force_remount=True).\n"
          ]
        }
      ]
    },
    {
      "cell_type": "code",
      "execution_count": null,
      "id": "92211395",
      "metadata": {
        "id": "92211395"
      },
      "outputs": [],
      "source": [
        "train = pd.read_csv('/content/drive/MyDrive/new_data_ruatd/prep_train.csv')\n",
        "val = pd.read_csv('/content/drive/MyDrive/new_data_ruatd/prep_val.csv')\n",
        "test = pd.read_csv('/content/drive/MyDrive/new_data_ruatd/prep_test.csv')"
      ]
    },
    {
      "cell_type": "code",
      "execution_count": null,
      "id": "1b21603c",
      "metadata": {
        "colab": {
          "base_uri": "https://localhost:8080/"
        },
        "id": "1b21603c",
        "outputId": "754a07fe-ab11-44e1-f78e-272335c7beb9"
      },
      "outputs": [
        {
          "output_type": "execute_result",
          "data": {
            "text/plain": [
              "((129066, 79), (21511, 97), (64533, 96))"
            ]
          },
          "metadata": {},
          "execution_count": 4
        }
      ],
      "source": [
        "train.shape, val.shape, test.shape"
      ]
    },
    {
      "cell_type": "code",
      "source": [
        "analyzer.analyzed_col = 'sent_POS_Text'"
      ],
      "metadata": {
        "colab": {
          "base_uri": "https://localhost:8080/",
          "height": 171
        },
        "id": "MpStYAcS3Jua",
        "outputId": "16054c6d-e18d-4bcd-fcbf-fbd67c6b55b1"
      },
      "id": "MpStYAcS3Jua",
      "execution_count": null,
      "outputs": [
        {
          "output_type": "error",
          "ename": "NameError",
          "evalue": "ignored",
          "traceback": [
            "\u001b[0;31m---------------------------------------------------------------------------\u001b[0m",
            "\u001b[0;31mNameError\u001b[0m                                 Traceback (most recent call last)",
            "\u001b[0;32m<ipython-input-5-a3fe906cc646>\u001b[0m in \u001b[0;36m<module>\u001b[0;34m()\u001b[0m\n\u001b[0;32m----> 1\u001b[0;31m \u001b[0manalyzer\u001b[0m\u001b[0;34m.\u001b[0m\u001b[0manalyzed_col\u001b[0m \u001b[0;34m=\u001b[0m \u001b[0;34m'sent_POS_Text'\u001b[0m\u001b[0;34m\u001b[0m\u001b[0;34m\u001b[0m\u001b[0m\n\u001b[0m",
            "\u001b[0;31mNameError\u001b[0m: name 'analyzer' is not defined"
          ]
        }
      ]
    },
    {
      "cell_type": "code",
      "source": [
        "analyzer.VECTOR_SIZE"
      ],
      "metadata": {
        "colab": {
          "base_uri": "https://localhost:8080/"
        },
        "id": "qzfo_IWA3pnt",
        "outputId": "5807fb67-4ec8-4c38-da63-3cefa4ffaa17"
      },
      "id": "qzfo_IWA3pnt",
      "execution_count": null,
      "outputs": [
        {
          "output_type": "execute_result",
          "data": {
            "text/plain": [
              "100"
            ]
          },
          "metadata": {},
          "execution_count": 8
        }
      ]
    },
    {
      "cell_type": "code",
      "source": [
        "train = analyzer.add_ft_vectors(train)"
      ],
      "metadata": {
        "colab": {
          "base_uri": "https://localhost:8080/"
        },
        "id": "MhKo7VPK3Emt",
        "outputId": "4b6adb1b-a7e7-43eb-a4fc-fc8991b5ae2f"
      },
      "id": "MhKo7VPK3Emt",
      "execution_count": null,
      "outputs": [
        {
          "output_type": "stream",
          "name": "stdout",
          "text": [
            "Train fasttext model is complete...\n"
          ]
        },
        {
          "output_type": "stream",
          "name": "stderr",
          "text": [
            "129066it [11:31, 186.55it/s]\n"
          ]
        },
        {
          "output_type": "stream",
          "name": "stdout",
          "text": [
            "Ok tokens: 4066910 | Not ok tokens: 0\n"
          ]
        }
      ]
    },
    {
      "cell_type": "code",
      "source": [
        "inf_analyzer = Analyzer('inference')\n",
        "inf_analyzer.analyzed_col = 'sent_POS_Text'"
      ],
      "metadata": {
        "id": "FkIycjeo5AKz"
      },
      "id": "FkIycjeo5AKz",
      "execution_count": null,
      "outputs": []
    },
    {
      "cell_type": "code",
      "source": [
        "val.dropna(subset=['sent_POS_Text'], inplace=True)"
      ],
      "metadata": {
        "id": "K1keCImNAhuq"
      },
      "id": "K1keCImNAhuq",
      "execution_count": null,
      "outputs": []
    },
    {
      "cell_type": "code",
      "source": [
        "val = inf_analyzer.add_ft_vectors(val)\n",
        "test = inf_analyzer.add_ft_vectors(test)"
      ],
      "metadata": {
        "colab": {
          "base_uri": "https://localhost:8080/"
        },
        "id": "3Iu6Tuxx5FXR",
        "outputId": "5c791c13-1e12-4389-d49b-4775850fda04"
      },
      "id": "3Iu6Tuxx5FXR",
      "execution_count": null,
      "outputs": [
        {
          "output_type": "stream",
          "name": "stdout",
          "text": [
            "Train fasttext model is complete...\n"
          ]
        },
        {
          "output_type": "stream",
          "name": "stderr",
          "text": [
            "21510it [00:37, 574.75it/s]\n"
          ]
        },
        {
          "output_type": "stream",
          "name": "stdout",
          "text": [
            "Ok tokens: 677931 | Not ok tokens: 0\n",
            "Train fasttext model is complete...\n"
          ]
        },
        {
          "output_type": "stream",
          "name": "stderr",
          "text": [
            "64533it [04:46, 225.50it/s]\n"
          ]
        },
        {
          "output_type": "stream",
          "name": "stdout",
          "text": [
            "Ok tokens: 2034630 | Not ok tokens: 0\n"
          ]
        }
      ]
    },
    {
      "cell_type": "code",
      "execution_count": null,
      "id": "1fee235e",
      "metadata": {
        "colab": {
          "base_uri": "https://localhost:8080/"
        },
        "id": "1fee235e",
        "outputId": "01d404b5-bc7e-483e-e8d6-3e976381df42"
      },
      "outputs": [
        {
          "output_type": "execute_result",
          "data": {
            "text/plain": [
              "device(type='cuda')"
            ]
          },
          "metadata": {},
          "execution_count": 6
        }
      ],
      "source": [
        "device = torch.device(\"cuda\" if torch.cuda.is_available() else 'cpu')\n",
        "device"
      ]
    },
    {
      "cell_type": "code",
      "execution_count": null,
      "id": "a35ed2b1",
      "metadata": {
        "id": "a35ed2b1"
      },
      "outputs": [],
      "source": [
        "train['text'] = train['Text'].apply(lambda x: x[:512])\n",
        "train['class'] = train['Class'].map({'M': 1, 'H': 0})"
      ]
    },
    {
      "cell_type": "code",
      "execution_count": null,
      "id": "ec0e3603",
      "metadata": {
        "id": "ec0e3603"
      },
      "outputs": [],
      "source": [
        "val['text'] = val['Text'].apply(lambda x: x[:512])\n",
        "val['class'] = val['Class'].map({'M': 1, 'H': 0})"
      ]
    },
    {
      "cell_type": "code",
      "execution_count": null,
      "id": "989d8b0c",
      "metadata": {
        "id": "989d8b0c"
      },
      "outputs": [],
      "source": [
        "test['text'] = test['Text'].apply(lambda x: x[:512])"
      ]
    },
    {
      "cell_type": "code",
      "execution_count": null,
      "id": "86429a52",
      "metadata": {
        "id": "86429a52"
      },
      "outputs": [],
      "source": [
        "train['text'] = train['text'].apply(lambda x: '[CLS] ' + x + ' [SEP]')"
      ]
    },
    {
      "cell_type": "code",
      "execution_count": null,
      "id": "f36cb7c6",
      "metadata": {
        "id": "f36cb7c6"
      },
      "outputs": [],
      "source": [
        "val['text'] = val['text'].apply(lambda x: '[CLS] ' + x + ' [SEP]')"
      ]
    },
    {
      "cell_type": "code",
      "execution_count": null,
      "id": "733ee6d6",
      "metadata": {
        "id": "733ee6d6"
      },
      "outputs": [],
      "source": [
        "test['text'] = test['text'].apply(lambda x: '[CLS] ' + x + ' [SEP]')"
      ]
    },
    {
      "cell_type": "code",
      "execution_count": null,
      "id": "5daa4901",
      "metadata": {
        "id": "5daa4901"
      },
      "outputs": [],
      "source": [
        "cols = [col for col in list(train)]\n",
        "\n",
        "dropped_cols = ['count_POS_Text', \n",
        "                'POS_Text', \n",
        "                'Id', \n",
        "                'Text', \n",
        "                'tokens_Text', \n",
        "                'class',\n",
        "                'Class', \n",
        "                'POS_VERB_Text', \n",
        "                'POS_ADVB_Text', \n",
        "                'POS_NOUN_Text', \n",
        "                'POS_NPRO_Text', \n",
        "                'POS_INTJ_Text',\n",
        "                'POS_COMP_Text',\n",
        "                'POS_GRND_Text',\n",
        "                'POS_PRED_Text',\n",
        "                'POS_NUMR_Text',\n",
        "                'POS_ADJS_Text',\n",
        "                'POS_PRTS_Text',\n",
        "                'POS_PRTF_Text',\n",
        "                'avg_word_len_Text',\n",
        "                'lemm_Text',\n",
        "                'sent_POS_Text',\n",
        "                'text']\n",
        "\n",
        "for col in dropped_cols:\n",
        "    cols.pop(cols.index(col))"
      ]
    },
    {
      "cell_type": "code",
      "source": [
        "nuls = train[cols].isnull().sum() / train.shape[0]\n",
        "nuls = nuls[nuls != 0]"
      ],
      "metadata": {
        "id": "YserDyq3nNIN"
      },
      "id": "YserDyq3nNIN",
      "execution_count": null,
      "outputs": []
    },
    {
      "cell_type": "code",
      "source": [
        "nuls.sort_values(ascending=False)"
      ],
      "metadata": {
        "colab": {
          "base_uri": "https://localhost:8080/"
        },
        "id": "14Iy3VLHnchy",
        "outputId": "48de1e14-dfe9-4682-c4bc-e1960f2935e5"
      },
      "id": "14Iy3VLHnchy",
      "execution_count": null,
      "outputs": [
        {
          "output_type": "execute_result",
          "data": {
            "text/plain": [
              "POS_INFN_Text    0.727798\n",
              "POS_PRCL_Text    0.700889\n",
              "POS_None_Text    0.570677\n",
              "POS_CONJ_Text    0.395069\n",
              "POS_ADJF_Text    0.220104\n",
              "POS_PREP_Text    0.179621\n",
              "dtype: float64"
            ]
          },
          "metadata": {},
          "execution_count": 15
        }
      ]
    },
    {
      "cell_type": "code",
      "source": [
        ""
      ],
      "metadata": {
        "id": "DcOUAHHUqL4w"
      },
      "id": "DcOUAHHUqL4w",
      "execution_count": null,
      "outputs": []
    },
    {
      "cell_type": "code",
      "execution_count": null,
      "id": "c2376810",
      "metadata": {
        "id": "c2376810"
      },
      "outputs": [],
      "source": [
        "train['POS_INTJ_Text'] = np.where(train['POS_INTJ_Text'].isnull(), 0, 1)\n",
        "train['POS_COMP_Text'] = np.where(train['POS_COMP_Text'].isnull(), 0, 1)\n",
        "train['POS_GRND_Text'] = np.where(train['POS_GRND_Text'].isnull(), 0, 1)\n",
        "train['POS_PRED_Text'] = np.where(train['POS_PRED_Text'].isnull(), 0, 1)\n",
        "train['POS_NUMR_Text'] = np.where(train['POS_NUMR_Text'].isnull(), 0, 1)\n",
        "train['POS_ADJS_Text'] = np.where(train['POS_ADJS_Text'].isnull(), 0, 1)\n",
        "train['POS_PRTS_Text'] = np.where(train['POS_PRTS_Text'].isnull(), 0, 1)\n",
        "train['POS_PRTF_Text'] = np.where(train['POS_PRTF_Text'].isnull(), 0, 1)"
      ]
    },
    {
      "cell_type": "code",
      "source": [
        "val['POS_INTJ_Text'] = np.where(val['POS_INTJ_Text'].isnull(), 0, 1)\n",
        "val['POS_COMP_Text'] = np.where(val['POS_COMP_Text'].isnull(), 0, 1)\n",
        "val['POS_GRND_Text'] = np.where(val['POS_GRND_Text'].isnull(), 0, 1)\n",
        "val['POS_PRED_Text'] = np.where(val['POS_PRED_Text'].isnull(), 0, 1)\n",
        "val['POS_NUMR_Text'] = np.where(val['POS_NUMR_Text'].isnull(), 0, 1)\n",
        "val['POS_ADJS_Text'] = np.where(val['POS_ADJS_Text'].isnull(), 0, 1)\n",
        "val['POS_PRTS_Text'] = np.where(val['POS_PRTS_Text'].isnull(), 0, 1)\n",
        "val['POS_PRTF_Text'] = np.where(val['POS_PRTF_Text'].isnull(), 0, 1)"
      ],
      "metadata": {
        "id": "lcCN2gMCk8d9"
      },
      "id": "lcCN2gMCk8d9",
      "execution_count": null,
      "outputs": []
    },
    {
      "cell_type": "code",
      "source": [
        "test['POS_INTJ_Text'] = np.where(test['POS_INTJ_Text'].isnull(), 0, 1)\n",
        "test['POS_COMP_Text'] = np.where(test['POS_COMP_Text'].isnull(), 0, 1)\n",
        "test['POS_GRND_Text'] = np.where(test['POS_GRND_Text'].isnull(), 0, 1)\n",
        "test['POS_PRED_Text'] = np.where(test['POS_PRED_Text'].isnull(), 0, 1)\n",
        "test['POS_NUMR_Text'] = np.where(test['POS_NUMR_Text'].isnull(), 0, 1)\n",
        "test['POS_ADJS_Text'] = np.where(test['POS_ADJS_Text'].isnull(), 0, 1)\n",
        "test['POS_PRTS_Text'] = np.where(test['POS_PRTS_Text'].isnull(), 0, 1)\n",
        "test['POS_PRTF_Text'] = np.where(test['POS_PRTF_Text'].isnull(), 0, 1)"
      ],
      "metadata": {
        "id": "AOfqaQjClA4T"
      },
      "id": "AOfqaQjClA4T",
      "execution_count": null,
      "outputs": []
    },
    {
      "cell_type": "code",
      "execution_count": null,
      "id": "114b7f35",
      "metadata": {
        "id": "114b7f35"
      },
      "outputs": [],
      "source": [
        "train.fillna(0, inplace=True)\n",
        "val.fillna(0, inplace=True)"
      ]
    },
    {
      "cell_type": "code",
      "execution_count": null,
      "id": "53d0c29b",
      "metadata": {
        "id": "53d0c29b"
      },
      "outputs": [],
      "source": [
        "test.fillna(0, inplace=True)"
      ]
    },
    {
      "cell_type": "code",
      "execution_count": null,
      "id": "c0c5939d",
      "metadata": {
        "id": "c0c5939d"
      },
      "outputs": [],
      "source": [
        "from sklearn.preprocessing import StandardScaler"
      ]
    },
    {
      "cell_type": "code",
      "execution_count": null,
      "id": "d374f6f7",
      "metadata": {
        "id": "d374f6f7"
      },
      "outputs": [],
      "source": [
        "scaler = StandardScaler()"
      ]
    },
    {
      "cell_type": "code",
      "execution_count": null,
      "id": "290cb8fe",
      "metadata": {
        "id": "290cb8fe"
      },
      "outputs": [],
      "source": [
        "x_train, y_train = train[cols], train['class']\n",
        "x_val, y_val = val[cols], val['class']\n",
        "x_test = test[cols]"
      ]
    },
    {
      "cell_type": "code",
      "execution_count": null,
      "id": "922277e0",
      "metadata": {
        "id": "922277e0"
      },
      "outputs": [],
      "source": [
        "from transformers import RobertaTokenizer, RobertaModel, BertTokenizer, BertModel\n",
        "\n",
        "tokenizer = BertTokenizer.from_pretrained(\"DeepPavlov/rubert-base-cased\")"
      ]
    },
    {
      "cell_type": "code",
      "execution_count": null,
      "id": "9676df55",
      "metadata": {
        "colab": {
          "base_uri": "https://localhost:8080/"
        },
        "id": "9676df55",
        "outputId": "ce20f366-6341-4593-b5d7-38b2cb549ac4"
      },
      "outputs": [
        {
          "output_type": "stream",
          "name": "stderr",
          "text": [
            "100%|██████████| 129066/129066 [01:26<00:00, 1485.44it/s]\n",
            "100%|██████████| 21510/21510 [00:13<00:00, 1565.80it/s]\n",
            "100%|██████████| 64533/64533 [00:40<00:00, 1598.62it/s]\n"
          ]
        }
      ],
      "source": [
        "from tqdm import tqdm\n",
        "\n",
        "tokenized_texts = [tokenizer.tokenize(sent) for sent in tqdm(train['text'])]\n",
        "val_tokenized_texts = [tokenizer.tokenize(sent) for sent in tqdm(val['text'])]\n",
        "test_tokenized_texts = [tokenizer.tokenize(sent) for sent in tqdm(test['text'])]"
      ]
    },
    {
      "cell_type": "code",
      "execution_count": null,
      "id": "77fe9d91",
      "metadata": {
        "id": "77fe9d91"
      },
      "outputs": [],
      "source": [
        "feature_cols = [col for col in list(x_train)]"
      ]
    },
    {
      "cell_type": "code",
      "execution_count": null,
      "id": "73966852",
      "metadata": {
        "colab": {
          "base_uri": "https://localhost:8080/"
        },
        "id": "73966852",
        "outputId": "f870d9db-895c-4db3-ac0f-ee272a91d08e"
      },
      "outputs": [
        {
          "output_type": "stream",
          "name": "stderr",
          "text": [
            "100%|██████████| 129066/129066 [00:05<00:00, 22670.64it/s]\n",
            "100%|██████████| 21510/21510 [00:00<00:00, 24515.90it/s]\n"
          ]
        }
      ],
      "source": [
        "from tensorflow.keras.preprocessing.sequence import pad_sequences\n",
        "\n",
        "train_inputs = [tokenizer.convert_tokens_to_ids(x) for x in tqdm(tokenized_texts)]\n",
        "\n",
        "train_inputs = pad_sequences(train_inputs, \n",
        "                          dtype='long', \n",
        "                          padding='post', \n",
        "                          truncating='post')\n",
        "\n",
        "train_masks = [[float(i>0) for i in seq] for seq in train_inputs]\n",
        "\n",
        "validation_inputs = [tokenizer.convert_tokens_to_ids(x) for x in tqdm(val_tokenized_texts)]\n",
        "\n",
        "validation_inputs = pad_sequences(validation_inputs, \n",
        "                          dtype='long', \n",
        "                          padding='post', \n",
        "                          truncating='post')\n",
        "\n",
        "\n",
        "validation_masks = [[float(i>0) for i in seq] for seq in validation_inputs]\n",
        "\n",
        "train_labels, validation_labels = np.array(y_train), np.array(y_val)\n",
        "\n",
        "train_inputs = torch.tensor(train_inputs)\n",
        "train_labels = torch.tensor(train_labels)\n",
        "train_masks = torch.tensor(train_masks)\n",
        "\n",
        "train_features = np.array(train[feature_cols], dtype='float32')\n",
        "validation_features = np.array(val[feature_cols], dtype='float32')\n",
        "train_features = scaler.fit_transform(train_features)\n",
        "validation_features = scaler.transform(validation_features)\n",
        "\n",
        "train_features = torch.tensor(train_features)\n",
        "validation_features = torch.tensor(validation_features)\n",
        "\n",
        "validation_inputs = torch.tensor(validation_inputs)\n",
        "validation_labels = torch.tensor(validation_labels)\n",
        "validation_masks = torch.tensor(validation_masks)"
      ]
    },
    {
      "cell_type": "code",
      "execution_count": null,
      "id": "83c4aff4",
      "metadata": {
        "colab": {
          "base_uri": "https://localhost:8080/"
        },
        "id": "83c4aff4",
        "outputId": "c9bc3f6b-d653-4f2a-98a6-788c2836b636"
      },
      "outputs": [
        {
          "output_type": "stream",
          "name": "stderr",
          "text": [
            "100%|██████████| 64533/64533 [00:02<00:00, 23884.18it/s]\n"
          ]
        }
      ],
      "source": [
        "test_inputs = [tokenizer.convert_tokens_to_ids(x) for x in tqdm(test_tokenized_texts)]\n",
        "\n",
        "test_inputs = pad_sequences(test_inputs, \n",
        "                          dtype='long', \n",
        "                          padding='post', \n",
        "                          truncating='post')\n",
        "\n",
        "test_masks = [[float(i>0) for i in seq] for seq in test_inputs]\n",
        "\n",
        "test_inputs = torch.tensor(test_inputs)\n",
        "test_masks = torch.tensor(test_masks)\n",
        "\n",
        "test_features = np.array(test[feature_cols], dtype='float32')\n",
        "test_features = scaler.transform(test_features)\n",
        "test_features = torch.tensor(test_features)"
      ]
    },
    {
      "cell_type": "code",
      "source": [
        "batch_size = 12\n",
        "\n",
        "train_data = torch.utils.data.TensorDataset(train_inputs, train_masks, train_features, train_labels)\n",
        "train_dataloader = torch.utils.data.DataLoader(\n",
        "    train_data,\n",
        "    batch_size=batch_size,\n",
        "    sampler=torch.utils.data.RandomSampler(train_data)\n",
        ")\n",
        "\n",
        "validation_data = torch.utils.data.TensorDataset(validation_inputs, validation_masks, validation_features, validation_labels)\n",
        "validation_dataloader = torch.utils.data.DataLoader(\n",
        "    validation_data,\n",
        "    batch_size=batch_size,\n",
        "    sampler=torch.utils.data.SequentialSampler(validation_data)\n",
        ")\n",
        "\n",
        "test_data = torch.utils.data.TensorDataset(test_inputs, test_masks, test_features)\n",
        "test_dataloader = torch.utils.data.DataLoader(\n",
        "    test_data,\n",
        "    batch_size=batch_size,\n",
        "    sampler=torch.utils.data.SequentialSampler(test_data)\n",
        ")"
      ],
      "metadata": {
        "id": "hAUsRdOuj-nm"
      },
      "id": "hAUsRdOuj-nm",
      "execution_count": null,
      "outputs": []
    },
    {
      "cell_type": "code",
      "execution_count": null,
      "id": "765ba2c8",
      "metadata": {
        "id": "765ba2c8"
      },
      "outputs": [],
      "source": [
        "from transformers import AdamW, BertConfig\n",
        "from torch.nn import functional as F"
      ]
    },
    {
      "cell_type": "code",
      "source": [
        "from transformers import RobertaConfig, BertConfig"
      ],
      "metadata": {
        "id": "YZALQZy--5E0"
      },
      "id": "YZALQZy--5E0",
      "execution_count": null,
      "outputs": []
    },
    {
      "cell_type": "code",
      "execution_count": null,
      "id": "65fb086e",
      "metadata": {
        "id": "65fb086e"
      },
      "outputs": [],
      "source": [
        "\n",
        "class myBertModel(torch.nn.Module):\n",
        "    def __init__(self, hidden_neurons, n_features):\n",
        "        super(myBertModel, self).__init__()\n",
        "        config = BertConfig.from_pretrained('DeepPavlov/rubert-base-cased', num_labels=2)\n",
        "        self.model = BertModel.from_pretrained('DeepPavlov/rubert-base-cased', config=config)\n",
        "        self.hidden_neurons = hidden_neurons\n",
        "        self.n_features = n_features\n",
        "        self.linear1 = torch.nn.Linear(config.hidden_size, self.hidden_neurons)\n",
        "        self.linear2 = torch.nn.Linear(self.hidden_neurons, int(self.hidden_neurons / 2))\n",
        "        self.linear3 = torch.nn.Linear(self.n_features, int(self.n_features / 2))\n",
        "        self.linear4 = torch.nn.Linear(int(self.n_features / 2), int(self.hidden_neurons / 2))\n",
        "        self.classifier = torch.nn.Linear(self.hidden_neurons, 1)\n",
        "        #self.activation = torch.nn.Sigmoid()\n",
        "        self.dropout = torch.nn.Dropout(.3)\n",
        "        self.batchnorm1 = torch.nn.BatchNorm1d(self.hidden_neurons)\n",
        "        self.batchnorm2 = torch.nn.BatchNorm1d(int(self.hidden_neurons / 2))\n",
        "        self.batchnorm3 = torch.nn.BatchNorm1d(int(self.n_features / 2))\n",
        "        self.batchnorm4 = torch.nn.BatchNorm1d(int(self.hidden_neurons / 2))\n",
        "\n",
        "    def forward(self, input_ids, attention_mask, features):\n",
        "        bert_output = self.model(input_ids=input_ids, attention_mask=attention_mask)\n",
        "        seq_output = bert_output[0]\n",
        "        pooled_output = seq_output.mean(axis=1)\n",
        "        pooled_output = self.dropout(pooled_output)\n",
        "        \n",
        "        x1 = self.dropout(F.relu(self.batchnorm1(self.linear1(pooled_output))))\n",
        "        x1 = self.dropout(F.relu(self.batchnorm2(self.linear2(x1))))\n",
        "        x2 = self.dropout(F.relu(self.batchnorm3(self.linear3(features))))\n",
        "        x2 = self.dropout(F.relu(self.batchnorm4(self.linear4(x2))))\n",
        "        \n",
        "        scores = self.dropout(self.classifier(torch.cat([x1, x2], dim=1)))\n",
        "        #scores = self.activation(scores)\n",
        "        return scores\n",
        "\n",
        "my_model = myBertModel(hidden_neurons=512, n_features=len(feature_cols))\n",
        "# my_model = myBertModel(hidden_neurons=512)"
      ]
    },
    {
      "cell_type": "code",
      "execution_count": null,
      "id": "1393d9b3",
      "metadata": {
        "id": "1393d9b3"
      },
      "outputs": [],
      "source": [
        "optimizer = AdamW(my_model.parameters(), lr=1e-5)\n",
        "loss = torch.nn.CrossEntropyLoss()"
      ]
    },
    {
      "cell_type": "code",
      "execution_count": null,
      "id": "edb679a1",
      "metadata": {
        "colab": {
          "base_uri": "https://localhost:8080/"
        },
        "id": "edb679a1",
        "outputId": "a87651cb-92a1-4589-cd3b-96e4082646fe"
      },
      "outputs": [
        {
          "output_type": "execute_result",
          "data": {
            "text/plain": [
              "myBertModel(\n",
              "  (model): BertModel(\n",
              "    (embeddings): BertEmbeddings(\n",
              "      (word_embeddings): Embedding(119547, 768, padding_idx=0)\n",
              "      (position_embeddings): Embedding(512, 768)\n",
              "      (token_type_embeddings): Embedding(2, 768)\n",
              "      (LayerNorm): LayerNorm((768,), eps=1e-12, elementwise_affine=True)\n",
              "      (dropout): Dropout(p=0.1, inplace=False)\n",
              "    )\n",
              "    (encoder): BertEncoder(\n",
              "      (layer): ModuleList(\n",
              "        (0): BertLayer(\n",
              "          (attention): BertAttention(\n",
              "            (self): BertSelfAttention(\n",
              "              (query): Linear(in_features=768, out_features=768, bias=True)\n",
              "              (key): Linear(in_features=768, out_features=768, bias=True)\n",
              "              (value): Linear(in_features=768, out_features=768, bias=True)\n",
              "              (dropout): Dropout(p=0.1, inplace=False)\n",
              "            )\n",
              "            (output): BertSelfOutput(\n",
              "              (dense): Linear(in_features=768, out_features=768, bias=True)\n",
              "              (LayerNorm): LayerNorm((768,), eps=1e-12, elementwise_affine=True)\n",
              "              (dropout): Dropout(p=0.1, inplace=False)\n",
              "            )\n",
              "          )\n",
              "          (intermediate): BertIntermediate(\n",
              "            (dense): Linear(in_features=768, out_features=3072, bias=True)\n",
              "          )\n",
              "          (output): BertOutput(\n",
              "            (dense): Linear(in_features=3072, out_features=768, bias=True)\n",
              "            (LayerNorm): LayerNorm((768,), eps=1e-12, elementwise_affine=True)\n",
              "            (dropout): Dropout(p=0.1, inplace=False)\n",
              "          )\n",
              "        )\n",
              "        (1): BertLayer(\n",
              "          (attention): BertAttention(\n",
              "            (self): BertSelfAttention(\n",
              "              (query): Linear(in_features=768, out_features=768, bias=True)\n",
              "              (key): Linear(in_features=768, out_features=768, bias=True)\n",
              "              (value): Linear(in_features=768, out_features=768, bias=True)\n",
              "              (dropout): Dropout(p=0.1, inplace=False)\n",
              "            )\n",
              "            (output): BertSelfOutput(\n",
              "              (dense): Linear(in_features=768, out_features=768, bias=True)\n",
              "              (LayerNorm): LayerNorm((768,), eps=1e-12, elementwise_affine=True)\n",
              "              (dropout): Dropout(p=0.1, inplace=False)\n",
              "            )\n",
              "          )\n",
              "          (intermediate): BertIntermediate(\n",
              "            (dense): Linear(in_features=768, out_features=3072, bias=True)\n",
              "          )\n",
              "          (output): BertOutput(\n",
              "            (dense): Linear(in_features=3072, out_features=768, bias=True)\n",
              "            (LayerNorm): LayerNorm((768,), eps=1e-12, elementwise_affine=True)\n",
              "            (dropout): Dropout(p=0.1, inplace=False)\n",
              "          )\n",
              "        )\n",
              "        (2): BertLayer(\n",
              "          (attention): BertAttention(\n",
              "            (self): BertSelfAttention(\n",
              "              (query): Linear(in_features=768, out_features=768, bias=True)\n",
              "              (key): Linear(in_features=768, out_features=768, bias=True)\n",
              "              (value): Linear(in_features=768, out_features=768, bias=True)\n",
              "              (dropout): Dropout(p=0.1, inplace=False)\n",
              "            )\n",
              "            (output): BertSelfOutput(\n",
              "              (dense): Linear(in_features=768, out_features=768, bias=True)\n",
              "              (LayerNorm): LayerNorm((768,), eps=1e-12, elementwise_affine=True)\n",
              "              (dropout): Dropout(p=0.1, inplace=False)\n",
              "            )\n",
              "          )\n",
              "          (intermediate): BertIntermediate(\n",
              "            (dense): Linear(in_features=768, out_features=3072, bias=True)\n",
              "          )\n",
              "          (output): BertOutput(\n",
              "            (dense): Linear(in_features=3072, out_features=768, bias=True)\n",
              "            (LayerNorm): LayerNorm((768,), eps=1e-12, elementwise_affine=True)\n",
              "            (dropout): Dropout(p=0.1, inplace=False)\n",
              "          )\n",
              "        )\n",
              "        (3): BertLayer(\n",
              "          (attention): BertAttention(\n",
              "            (self): BertSelfAttention(\n",
              "              (query): Linear(in_features=768, out_features=768, bias=True)\n",
              "              (key): Linear(in_features=768, out_features=768, bias=True)\n",
              "              (value): Linear(in_features=768, out_features=768, bias=True)\n",
              "              (dropout): Dropout(p=0.1, inplace=False)\n",
              "            )\n",
              "            (output): BertSelfOutput(\n",
              "              (dense): Linear(in_features=768, out_features=768, bias=True)\n",
              "              (LayerNorm): LayerNorm((768,), eps=1e-12, elementwise_affine=True)\n",
              "              (dropout): Dropout(p=0.1, inplace=False)\n",
              "            )\n",
              "          )\n",
              "          (intermediate): BertIntermediate(\n",
              "            (dense): Linear(in_features=768, out_features=3072, bias=True)\n",
              "          )\n",
              "          (output): BertOutput(\n",
              "            (dense): Linear(in_features=3072, out_features=768, bias=True)\n",
              "            (LayerNorm): LayerNorm((768,), eps=1e-12, elementwise_affine=True)\n",
              "            (dropout): Dropout(p=0.1, inplace=False)\n",
              "          )\n",
              "        )\n",
              "        (4): BertLayer(\n",
              "          (attention): BertAttention(\n",
              "            (self): BertSelfAttention(\n",
              "              (query): Linear(in_features=768, out_features=768, bias=True)\n",
              "              (key): Linear(in_features=768, out_features=768, bias=True)\n",
              "              (value): Linear(in_features=768, out_features=768, bias=True)\n",
              "              (dropout): Dropout(p=0.1, inplace=False)\n",
              "            )\n",
              "            (output): BertSelfOutput(\n",
              "              (dense): Linear(in_features=768, out_features=768, bias=True)\n",
              "              (LayerNorm): LayerNorm((768,), eps=1e-12, elementwise_affine=True)\n",
              "              (dropout): Dropout(p=0.1, inplace=False)\n",
              "            )\n",
              "          )\n",
              "          (intermediate): BertIntermediate(\n",
              "            (dense): Linear(in_features=768, out_features=3072, bias=True)\n",
              "          )\n",
              "          (output): BertOutput(\n",
              "            (dense): Linear(in_features=3072, out_features=768, bias=True)\n",
              "            (LayerNorm): LayerNorm((768,), eps=1e-12, elementwise_affine=True)\n",
              "            (dropout): Dropout(p=0.1, inplace=False)\n",
              "          )\n",
              "        )\n",
              "        (5): BertLayer(\n",
              "          (attention): BertAttention(\n",
              "            (self): BertSelfAttention(\n",
              "              (query): Linear(in_features=768, out_features=768, bias=True)\n",
              "              (key): Linear(in_features=768, out_features=768, bias=True)\n",
              "              (value): Linear(in_features=768, out_features=768, bias=True)\n",
              "              (dropout): Dropout(p=0.1, inplace=False)\n",
              "            )\n",
              "            (output): BertSelfOutput(\n",
              "              (dense): Linear(in_features=768, out_features=768, bias=True)\n",
              "              (LayerNorm): LayerNorm((768,), eps=1e-12, elementwise_affine=True)\n",
              "              (dropout): Dropout(p=0.1, inplace=False)\n",
              "            )\n",
              "          )\n",
              "          (intermediate): BertIntermediate(\n",
              "            (dense): Linear(in_features=768, out_features=3072, bias=True)\n",
              "          )\n",
              "          (output): BertOutput(\n",
              "            (dense): Linear(in_features=3072, out_features=768, bias=True)\n",
              "            (LayerNorm): LayerNorm((768,), eps=1e-12, elementwise_affine=True)\n",
              "            (dropout): Dropout(p=0.1, inplace=False)\n",
              "          )\n",
              "        )\n",
              "        (6): BertLayer(\n",
              "          (attention): BertAttention(\n",
              "            (self): BertSelfAttention(\n",
              "              (query): Linear(in_features=768, out_features=768, bias=True)\n",
              "              (key): Linear(in_features=768, out_features=768, bias=True)\n",
              "              (value): Linear(in_features=768, out_features=768, bias=True)\n",
              "              (dropout): Dropout(p=0.1, inplace=False)\n",
              "            )\n",
              "            (output): BertSelfOutput(\n",
              "              (dense): Linear(in_features=768, out_features=768, bias=True)\n",
              "              (LayerNorm): LayerNorm((768,), eps=1e-12, elementwise_affine=True)\n",
              "              (dropout): Dropout(p=0.1, inplace=False)\n",
              "            )\n",
              "          )\n",
              "          (intermediate): BertIntermediate(\n",
              "            (dense): Linear(in_features=768, out_features=3072, bias=True)\n",
              "          )\n",
              "          (output): BertOutput(\n",
              "            (dense): Linear(in_features=3072, out_features=768, bias=True)\n",
              "            (LayerNorm): LayerNorm((768,), eps=1e-12, elementwise_affine=True)\n",
              "            (dropout): Dropout(p=0.1, inplace=False)\n",
              "          )\n",
              "        )\n",
              "        (7): BertLayer(\n",
              "          (attention): BertAttention(\n",
              "            (self): BertSelfAttention(\n",
              "              (query): Linear(in_features=768, out_features=768, bias=True)\n",
              "              (key): Linear(in_features=768, out_features=768, bias=True)\n",
              "              (value): Linear(in_features=768, out_features=768, bias=True)\n",
              "              (dropout): Dropout(p=0.1, inplace=False)\n",
              "            )\n",
              "            (output): BertSelfOutput(\n",
              "              (dense): Linear(in_features=768, out_features=768, bias=True)\n",
              "              (LayerNorm): LayerNorm((768,), eps=1e-12, elementwise_affine=True)\n",
              "              (dropout): Dropout(p=0.1, inplace=False)\n",
              "            )\n",
              "          )\n",
              "          (intermediate): BertIntermediate(\n",
              "            (dense): Linear(in_features=768, out_features=3072, bias=True)\n",
              "          )\n",
              "          (output): BertOutput(\n",
              "            (dense): Linear(in_features=3072, out_features=768, bias=True)\n",
              "            (LayerNorm): LayerNorm((768,), eps=1e-12, elementwise_affine=True)\n",
              "            (dropout): Dropout(p=0.1, inplace=False)\n",
              "          )\n",
              "        )\n",
              "        (8): BertLayer(\n",
              "          (attention): BertAttention(\n",
              "            (self): BertSelfAttention(\n",
              "              (query): Linear(in_features=768, out_features=768, bias=True)\n",
              "              (key): Linear(in_features=768, out_features=768, bias=True)\n",
              "              (value): Linear(in_features=768, out_features=768, bias=True)\n",
              "              (dropout): Dropout(p=0.1, inplace=False)\n",
              "            )\n",
              "            (output): BertSelfOutput(\n",
              "              (dense): Linear(in_features=768, out_features=768, bias=True)\n",
              "              (LayerNorm): LayerNorm((768,), eps=1e-12, elementwise_affine=True)\n",
              "              (dropout): Dropout(p=0.1, inplace=False)\n",
              "            )\n",
              "          )\n",
              "          (intermediate): BertIntermediate(\n",
              "            (dense): Linear(in_features=768, out_features=3072, bias=True)\n",
              "          )\n",
              "          (output): BertOutput(\n",
              "            (dense): Linear(in_features=3072, out_features=768, bias=True)\n",
              "            (LayerNorm): LayerNorm((768,), eps=1e-12, elementwise_affine=True)\n",
              "            (dropout): Dropout(p=0.1, inplace=False)\n",
              "          )\n",
              "        )\n",
              "        (9): BertLayer(\n",
              "          (attention): BertAttention(\n",
              "            (self): BertSelfAttention(\n",
              "              (query): Linear(in_features=768, out_features=768, bias=True)\n",
              "              (key): Linear(in_features=768, out_features=768, bias=True)\n",
              "              (value): Linear(in_features=768, out_features=768, bias=True)\n",
              "              (dropout): Dropout(p=0.1, inplace=False)\n",
              "            )\n",
              "            (output): BertSelfOutput(\n",
              "              (dense): Linear(in_features=768, out_features=768, bias=True)\n",
              "              (LayerNorm): LayerNorm((768,), eps=1e-12, elementwise_affine=True)\n",
              "              (dropout): Dropout(p=0.1, inplace=False)\n",
              "            )\n",
              "          )\n",
              "          (intermediate): BertIntermediate(\n",
              "            (dense): Linear(in_features=768, out_features=3072, bias=True)\n",
              "          )\n",
              "          (output): BertOutput(\n",
              "            (dense): Linear(in_features=3072, out_features=768, bias=True)\n",
              "            (LayerNorm): LayerNorm((768,), eps=1e-12, elementwise_affine=True)\n",
              "            (dropout): Dropout(p=0.1, inplace=False)\n",
              "          )\n",
              "        )\n",
              "        (10): BertLayer(\n",
              "          (attention): BertAttention(\n",
              "            (self): BertSelfAttention(\n",
              "              (query): Linear(in_features=768, out_features=768, bias=True)\n",
              "              (key): Linear(in_features=768, out_features=768, bias=True)\n",
              "              (value): Linear(in_features=768, out_features=768, bias=True)\n",
              "              (dropout): Dropout(p=0.1, inplace=False)\n",
              "            )\n",
              "            (output): BertSelfOutput(\n",
              "              (dense): Linear(in_features=768, out_features=768, bias=True)\n",
              "              (LayerNorm): LayerNorm((768,), eps=1e-12, elementwise_affine=True)\n",
              "              (dropout): Dropout(p=0.1, inplace=False)\n",
              "            )\n",
              "          )\n",
              "          (intermediate): BertIntermediate(\n",
              "            (dense): Linear(in_features=768, out_features=3072, bias=True)\n",
              "          )\n",
              "          (output): BertOutput(\n",
              "            (dense): Linear(in_features=3072, out_features=768, bias=True)\n",
              "            (LayerNorm): LayerNorm((768,), eps=1e-12, elementwise_affine=True)\n",
              "            (dropout): Dropout(p=0.1, inplace=False)\n",
              "          )\n",
              "        )\n",
              "        (11): BertLayer(\n",
              "          (attention): BertAttention(\n",
              "            (self): BertSelfAttention(\n",
              "              (query): Linear(in_features=768, out_features=768, bias=True)\n",
              "              (key): Linear(in_features=768, out_features=768, bias=True)\n",
              "              (value): Linear(in_features=768, out_features=768, bias=True)\n",
              "              (dropout): Dropout(p=0.1, inplace=False)\n",
              "            )\n",
              "            (output): BertSelfOutput(\n",
              "              (dense): Linear(in_features=768, out_features=768, bias=True)\n",
              "              (LayerNorm): LayerNorm((768,), eps=1e-12, elementwise_affine=True)\n",
              "              (dropout): Dropout(p=0.1, inplace=False)\n",
              "            )\n",
              "          )\n",
              "          (intermediate): BertIntermediate(\n",
              "            (dense): Linear(in_features=768, out_features=3072, bias=True)\n",
              "          )\n",
              "          (output): BertOutput(\n",
              "            (dense): Linear(in_features=3072, out_features=768, bias=True)\n",
              "            (LayerNorm): LayerNorm((768,), eps=1e-12, elementwise_affine=True)\n",
              "            (dropout): Dropout(p=0.1, inplace=False)\n",
              "          )\n",
              "        )\n",
              "      )\n",
              "    )\n",
              "    (pooler): BertPooler(\n",
              "      (dense): Linear(in_features=768, out_features=768, bias=True)\n",
              "      (activation): Tanh()\n",
              "    )\n",
              "  )\n",
              "  (linear1): Linear(in_features=768, out_features=512, bias=True)\n",
              "  (linear2): Linear(in_features=512, out_features=256, bias=True)\n",
              "  (linear3): Linear(in_features=58, out_features=29, bias=True)\n",
              "  (linear4): Linear(in_features=29, out_features=256, bias=True)\n",
              "  (classifier): Linear(in_features=512, out_features=1, bias=True)\n",
              "  (dropout): Dropout(p=0.3, inplace=False)\n",
              "  (batchnorm1): BatchNorm1d(512, eps=1e-05, momentum=0.1, affine=True, track_running_stats=True)\n",
              "  (batchnorm2): BatchNorm1d(256, eps=1e-05, momentum=0.1, affine=True, track_running_stats=True)\n",
              "  (batchnorm3): BatchNorm1d(29, eps=1e-05, momentum=0.1, affine=True, track_running_stats=True)\n",
              "  (batchnorm4): BatchNorm1d(256, eps=1e-05, momentum=0.1, affine=True, track_running_stats=True)\n",
              ")"
            ]
          },
          "metadata": {},
          "execution_count": 35
        }
      ],
      "source": [
        "my_model.to('cpu')\n",
        "my_model.to(device)\n",
        "my_model.train()"
      ]
    },
    {
      "cell_type": "code",
      "execution_count": null,
      "id": "0e37a191",
      "metadata": {
        "id": "0e37a191"
      },
      "outputs": [],
      "source": [
        "from tqdm import tqdm\n",
        "from sklearn.metrics import accuracy_score, precision_score, f1_score, recall_score, classification_report"
      ]
    },
    {
      "cell_type": "code",
      "execution_count": null,
      "id": "d88e0574",
      "metadata": {
        "id": "d88e0574"
      },
      "outputs": [],
      "source": [
        "n_epochs = 2\n",
        "# model = my_model"
      ]
    },
    {
      "cell_type": "code",
      "execution_count": null,
      "id": "292a97e4",
      "metadata": {
        "id": "292a97e4"
      },
      "outputs": [],
      "source": [
        "def train_bert(model, n_model, n_epochs, train_dataloader, validation_dataloader):\n",
        "    optimizer = AdamW(model.parameters(), lr=1e-5)\n",
        "    scheduler = torch.optim.lr_scheduler.ReduceLROnPlateau(optimizer, 'min')\n",
        "    #loss = torch.nn.CrossEntropyLoss()\n",
        "    loss = torch.nn.BCEWithLogitsLoss()\n",
        "    loss_set = []\n",
        "    val_loss_set = []\n",
        "\n",
        "    for epoch in range(n_epochs):\n",
        "          epoch_loss_set = []\n",
        "\n",
        "          model.train()\n",
        "\n",
        "          for j, batch in enumerate(tqdm(train_dataloader)):\n",
        "              \n",
        "              batch = tuple(t.to(device) for t in batch)\n",
        "              b_input_ids, b_input_mask, b_features, b_labels = batch\n",
        "              \n",
        "              optimizer.zero_grad()\n",
        "              \n",
        "              pred_probs = model.forward(b_input_ids, b_input_mask, b_features)\n",
        "\n",
        "              b_labels = b_labels.float().reshape(-1, 1) # удалить при смене\n",
        "\n",
        "              my_loss = loss(pred_probs, b_labels)\n",
        "              epoch_loss_set.append(my_loss.item())\n",
        "              my_loss.backward()\n",
        "              \n",
        "              pred_probs = torch.nn.Sigmoid()(pred_probs)\n",
        "              pred_probs = pred_probs.detach().to('cpu').numpy()\n",
        "              #pred_labels = pred_probs.argmax(axis=1) # восстановить при смене\n",
        "              pred_labels = np.where(pred_probs > 0.5, 1, 0)\n",
        "              b_labels = b_labels.to('cpu').numpy()\n",
        "                  \n",
        "              optimizer.step()\n",
        "                  \n",
        "              if j == 0:\n",
        "                  all_train_labels = b_labels\n",
        "                  all_train_preds = pred_labels\n",
        "              else:\n",
        "                  all_train_labels = np.vstack([all_train_labels, b_labels])\n",
        "                  all_train_preds = np.vstack([all_train_preds, pred_labels])\n",
        "                          \n",
        "          loss_set.extend(epoch_loss_set)\n",
        "          \n",
        "          train_f1 = f1_score(all_train_labels, all_train_preds)\n",
        "          print(classification_report(all_train_labels, all_train_preds))  \n",
        "          print()\n",
        "          print('Epoch {} ... Train f1: {:.2f} ... Mean train loss: {:.4f}'.format(epoch, train_f1, np.mean(epoch_loss_set)))\n",
        "          print()\n",
        "\n",
        "          epoch_val_loss_set = []\n",
        "\n",
        "          model.eval()\n",
        "\n",
        "          for j, batch in enumerate(tqdm(validation_dataloader)):\n",
        "              batch = tuple(t.to(device) for t in batch)\n",
        "              b_input_ids, b_input_mask, b_features, b_labels = batch\n",
        "              \n",
        "  #             val_labels = np.zeros([b_labels.shape[0], n_target])\n",
        "  #             val_preds = np.zeros([b_labels.shape[0], n_target])\n",
        "              \n",
        "              with torch.no_grad():\n",
        "                  pred_probs = model.forward(b_input_ids, b_input_mask, b_features)\n",
        "\n",
        "                  b_labels = b_labels.float().reshape(-1, 1) # удалить при смене\n",
        "\n",
        "                  val_loss = loss(pred_probs, b_labels)\n",
        "                  epoch_val_loss_set.append(val_loss.item())\n",
        "\n",
        "                  b_labels = b_labels.to('cpu').numpy()\n",
        "                  pred_probs = torch.nn.Sigmoid()(pred_probs)\n",
        "                  pred_probs = pred_probs.detach().to('cpu').numpy()\n",
        "                  #pred_labels = pred_probs.argmax(axis=1)  # восстановить при смене\n",
        "                  pred_labels = np.where(pred_probs > 0.5, 1, 0)\n",
        "              \n",
        "              if j == 0:\n",
        "                  all_val_labels = b_labels\n",
        "                  all_val_preds = pred_labels\n",
        "              else:\n",
        "                  all_val_labels = np.vstack([all_val_labels, b_labels])\n",
        "                  all_val_preds = np.vstack([all_val_preds, pred_labels])\n",
        "          \n",
        "          scheduler.step(np.mean(epoch_val_loss_set))\n",
        "          \n",
        "          val_loss_set.extend(epoch_val_loss_set)\n",
        "\n",
        "          val_f1 = f1_score(all_val_labels, all_val_preds)\n",
        "          print(classification_report(all_val_labels, all_val_preds))  \n",
        "          print()\n",
        "          print('Epoch {} ... Val f1: {:.2f} ... Mean val loss: {:.4f}'.format(epoch, val_f1, np.mean(epoch_val_loss_set)))\n",
        "          print()\n",
        "          print('-------------------------------------------------------------------------------------------------------------------------')\n",
        "          print()\n",
        "          torch.save(model.state_dict(), f'/content/drive/MyDrive/ruatd_models/bert_model_{n_model}_{epoch}.pt')\n",
        "\n",
        "    return model, loss_set, val_loss_set"
      ]
    },
    {
      "cell_type": "code",
      "source": [
        "# 100%|██████████| 16134/16134 [1:06:39<00:00,  4.03it/s]\n",
        "\n",
        "# Epoch 0 ... Train f1: 0.60 ... Mean train loss: 0.6484\n",
        "\n",
        "# 100%|██████████| 2689/2689 [02:58<00:00, 15.05it/s]\n",
        "\n",
        "# Epoch 0 ... Val f1: 0.74 ... Mean val loss: 0.5599\n",
        "\n",
        "# -------------------------------------------------------------------------------------------------------------------------\n",
        "\n",
        "# 100%|██████████| 16134/16134 [1:06:45<00:00,  4.03it/s]\n",
        "\n",
        "# Epoch 1 ... Train f1: 0.72 ... Mean train loss: 0.5833\n",
        "\n",
        "# 100%|██████████| 2689/2689 [02:59<00:00, 14.98it/s]\n",
        "\n",
        "# Epoch 1 ... Val f1: 0.77 ... Mean val loss: 0.5299"
      ],
      "metadata": {
        "id": "zGlRX3P194Yk"
      },
      "id": "zGlRX3P194Yk",
      "execution_count": null,
      "outputs": []
    },
    {
      "cell_type": "code",
      "execution_count": null,
      "id": "e177322c",
      "metadata": {
        "colab": {
          "base_uri": "https://localhost:8080/"
        },
        "id": "e177322c",
        "outputId": "6f31ed86-d274-4a6f-be87-4d01b7fdc7cd"
      },
      "outputs": [
        {
          "output_type": "stream",
          "name": "stderr",
          "text": [
            "100%|██████████| 10756/10756 [1:03:11<00:00,  2.84it/s]\n"
          ]
        },
        {
          "output_type": "stream",
          "name": "stdout",
          "text": [
            "              precision    recall  f1-score   support\n",
            "\n",
            "           0       0.70      0.77      0.73     64535\n",
            "           1       0.74      0.67      0.70     64531\n",
            "\n",
            "    accuracy                           0.72    129066\n",
            "   macro avg       0.72      0.72      0.72    129066\n",
            "weighted avg       0.72      0.72      0.72    129066\n",
            "\n",
            "\n",
            "Epoch 0 ... Train f1: 0.70 ... Mean train loss: 0.5891\n",
            "\n"
          ]
        },
        {
          "output_type": "stream",
          "name": "stderr",
          "text": [
            "100%|██████████| 1793/1793 [03:04<00:00,  9.74it/s]\n"
          ]
        },
        {
          "output_type": "stream",
          "name": "stdout",
          "text": [
            "              precision    recall  f1-score   support\n",
            "\n",
            "           0       0.77      0.82      0.79     10755\n",
            "           1       0.81      0.75      0.78     10755\n",
            "\n",
            "    accuracy                           0.79     21510\n",
            "   macro avg       0.79      0.79      0.78     21510\n",
            "weighted avg       0.79      0.79      0.78     21510\n",
            "\n",
            "\n",
            "Epoch 0 ... Val f1: 0.78 ... Mean val loss: 0.5146\n",
            "\n",
            "-------------------------------------------------------------------------------------------------------------------------\n",
            "\n"
          ]
        },
        {
          "output_type": "stream",
          "name": "stderr",
          "text": [
            "100%|██████████| 10756/10756 [1:03:07<00:00,  2.84it/s]\n"
          ]
        },
        {
          "output_type": "stream",
          "name": "stdout",
          "text": [
            "              precision    recall  f1-score   support\n",
            "\n",
            "           0       0.76      0.84      0.80     64535\n",
            "           1       0.82      0.74      0.78     64531\n",
            "\n",
            "    accuracy                           0.79    129066\n",
            "   macro avg       0.79      0.79      0.79    129066\n",
            "weighted avg       0.79      0.79      0.79    129066\n",
            "\n",
            "\n",
            "Epoch 1 ... Train f1: 0.78 ... Mean train loss: 0.5371\n",
            "\n"
          ]
        },
        {
          "output_type": "stream",
          "name": "stderr",
          "text": [
            "100%|██████████| 1793/1793 [03:04<00:00,  9.72it/s]\n"
          ]
        },
        {
          "output_type": "stream",
          "name": "stdout",
          "text": [
            "              precision    recall  f1-score   support\n",
            "\n",
            "           0       0.78      0.81      0.80     10755\n",
            "           1       0.80      0.78      0.79     10755\n",
            "\n",
            "    accuracy                           0.79     21510\n",
            "   macro avg       0.79      0.79      0.79     21510\n",
            "weighted avg       0.79      0.79      0.79     21510\n",
            "\n",
            "\n",
            "Epoch 1 ... Val f1: 0.79 ... Mean val loss: 0.5052\n",
            "\n",
            "-------------------------------------------------------------------------------------------------------------------------\n",
            "\n"
          ]
        }
      ],
      "source": [
        "model_0, loss_set, val_loss_set = train_bert(model = my_model, \n",
        "                                            n_model = 0,\n",
        "                                            n_epochs = n_epochs, \n",
        "                                            train_dataloader = train_dataloader, \n",
        "                                            validation_dataloader = validation_dataloader)"
      ]
    },
    {
      "cell_type": "code",
      "source": [
        "model_5, loss_set, val_loss_set = train_bert(model = my_model, \n",
        "                                            n_model = 5,\n",
        "                                            n_epochs = n_epochs, \n",
        "                                            train_dataloader = train_dataloader, \n",
        "                                            validation_dataloader = validation_dataloader)"
      ],
      "metadata": {
        "colab": {
          "base_uri": "https://localhost:8080/"
        },
        "id": "gSa74Mg2_uUS",
        "outputId": "fc935c40-0019-490d-e7e2-56ec3c5916bc"
      },
      "id": "gSa74Mg2_uUS",
      "execution_count": null,
      "outputs": [
        {
          "output_type": "stream",
          "name": "stderr",
          "text": [
            "100%|██████████| 10756/10756 [1:03:27<00:00,  2.83it/s]\n"
          ]
        },
        {
          "output_type": "stream",
          "name": "stdout",
          "text": [
            "              precision    recall  f1-score   support\n",
            "\n",
            "         0.0       0.66      0.87      0.75     64535\n",
            "         1.0       0.81      0.56      0.66     64531\n",
            "\n",
            "    accuracy                           0.71    129066\n",
            "   macro avg       0.74      0.71      0.71    129066\n",
            "weighted avg       0.74      0.71      0.71    129066\n",
            "\n",
            "\n",
            "Epoch 0 ... Train f1: 0.66 ... Mean train loss: 0.4918\n",
            "\n"
          ]
        },
        {
          "output_type": "stream",
          "name": "stderr",
          "text": [
            "100%|██████████| 1793/1793 [03:06<00:00,  9.59it/s]\n"
          ]
        },
        {
          "output_type": "stream",
          "name": "stdout",
          "text": [
            "              precision    recall  f1-score   support\n",
            "\n",
            "         0.0       0.81      0.76      0.79     10755\n",
            "         1.0       0.78      0.83      0.80     10755\n",
            "\n",
            "    accuracy                           0.79     21510\n",
            "   macro avg       0.80      0.79      0.79     21510\n",
            "weighted avg       0.80      0.79      0.79     21510\n",
            "\n",
            "\n",
            "Epoch 0 ... Val f1: 0.80 ... Mean val loss: 0.4137\n",
            "\n",
            "-------------------------------------------------------------------------------------------------------------------------\n",
            "\n"
          ]
        },
        {
          "output_type": "stream",
          "name": "stderr",
          "text": [
            "100%|██████████| 10756/10756 [1:03:28<00:00,  2.82it/s]\n"
          ]
        },
        {
          "output_type": "stream",
          "name": "stdout",
          "text": [
            "              precision    recall  f1-score   support\n",
            "\n",
            "         0.0       0.69      0.90      0.78     64535\n",
            "         1.0       0.86      0.60      0.70     64531\n",
            "\n",
            "    accuracy                           0.75    129066\n",
            "   macro avg       0.77      0.75      0.74    129066\n",
            "weighted avg       0.77      0.75      0.74    129066\n",
            "\n",
            "\n",
            "Epoch 1 ... Train f1: 0.70 ... Mean train loss: 0.4388\n",
            "\n"
          ]
        },
        {
          "output_type": "stream",
          "name": "stderr",
          "text": [
            "100%|██████████| 1793/1793 [03:05<00:00,  9.64it/s]\n"
          ]
        },
        {
          "output_type": "stream",
          "name": "stdout",
          "text": [
            "              precision    recall  f1-score   support\n",
            "\n",
            "         0.0       0.77      0.86      0.81     10755\n",
            "         1.0       0.84      0.74      0.79     10755\n",
            "\n",
            "    accuracy                           0.80     21510\n",
            "   macro avg       0.81      0.80      0.80     21510\n",
            "weighted avg       0.81      0.80      0.80     21510\n",
            "\n",
            "\n",
            "Epoch 1 ... Val f1: 0.79 ... Mean val loss: 0.4000\n",
            "\n",
            "-------------------------------------------------------------------------------------------------------------------------\n",
            "\n"
          ]
        }
      ]
    },
    {
      "cell_type": "code",
      "source": [
        "model_5, loss_set_1, val_loss_set_1 = train_bert(model = model_5, \n",
        "                                            n_model = 5,\n",
        "                                            n_epochs = 1, \n",
        "                                            train_dataloader = train_dataloader, \n",
        "                                            validation_dataloader = validation_dataloader)"
      ],
      "metadata": {
        "colab": {
          "base_uri": "https://localhost:8080/"
        },
        "id": "BoLH5-jnHW4n",
        "outputId": "eb269aab-ded1-4226-a952-4ee07cc986fd"
      },
      "id": "BoLH5-jnHW4n",
      "execution_count": null,
      "outputs": [
        {
          "output_type": "stream",
          "name": "stderr",
          "text": [
            "100%|██████████| 4303/4303 [57:06<00:00,  1.26it/s]\n"
          ]
        },
        {
          "output_type": "stream",
          "name": "stdout",
          "text": [
            "              precision    recall  f1-score   support\n",
            "\n",
            "           0       0.80      0.88      0.84     64535\n",
            "           1       0.86      0.78      0.82     64531\n",
            "\n",
            "    accuracy                           0.83    129066\n",
            "   macro avg       0.83      0.83      0.83    129066\n",
            "weighted avg       0.83      0.83      0.83    129066\n",
            "\n",
            "\n",
            "Epoch 0 ... Train f1: 0.82 ... Mean train loss: 0.3476\n",
            "\n"
          ]
        },
        {
          "output_type": "stream",
          "name": "stderr",
          "text": [
            "100%|██████████| 717/717 [02:51<00:00,  4.18it/s]\n"
          ]
        },
        {
          "output_type": "stream",
          "name": "stdout",
          "text": [
            "              precision    recall  f1-score   support\n",
            "\n",
            "           0       0.79      0.83      0.81     10755\n",
            "           1       0.82      0.77      0.80     10755\n",
            "\n",
            "    accuracy                           0.80     21510\n",
            "   macro avg       0.80      0.80      0.80     21510\n",
            "weighted avg       0.80      0.80      0.80     21510\n",
            "\n",
            "\n",
            "Epoch 0 ... Val f1: 0.80 ... Mean val loss: 0.4084\n",
            "\n",
            "-------------------------------------------------------------------------------------------------------------------------\n",
            "\n"
          ]
        }
      ]
    },
    {
      "cell_type": "code",
      "source": [
        "my_model = myBertModel(hidden_neurons=512, n_features=len(feature_cols))\n",
        "\n",
        "my_model.to(device)\n",
        "\n",
        "model_1, loss_set, val_loss_set = train_bert(model = my_model, \n",
        "                                            n_model = 1,\n",
        "                                            n_epochs = n_epochs, \n",
        "                                            train_dataloader = train_dataloader, \n",
        "                                            validation_dataloader = validation_dataloader)"
      ],
      "metadata": {
        "colab": {
          "base_uri": "https://localhost:8080/"
        },
        "id": "rgN8pou_zwTC",
        "outputId": "eabaffa3-7bcb-4ee5-80bf-53260e7ed0ae"
      },
      "id": "rgN8pou_zwTC",
      "execution_count": null,
      "outputs": [
        {
          "output_type": "stream",
          "name": "stderr",
          "text": [
            "100%|██████████| 10756/10756 [1:03:07<00:00,  2.84it/s]\n"
          ]
        },
        {
          "output_type": "stream",
          "name": "stdout",
          "text": [
            "              precision    recall  f1-score   support\n",
            "\n",
            "           0       0.70      0.77      0.73     64535\n",
            "           1       0.74      0.67      0.70     64531\n",
            "\n",
            "    accuracy                           0.72    129066\n",
            "   macro avg       0.72      0.72      0.72    129066\n",
            "weighted avg       0.72      0.72      0.72    129066\n",
            "\n",
            "\n",
            "Epoch 0 ... Train f1: 0.70 ... Mean train loss: 0.5886\n",
            "\n"
          ]
        },
        {
          "output_type": "stream",
          "name": "stderr",
          "text": [
            "100%|██████████| 1793/1793 [03:04<00:00,  9.74it/s]\n"
          ]
        },
        {
          "output_type": "stream",
          "name": "stdout",
          "text": [
            "              precision    recall  f1-score   support\n",
            "\n",
            "           0       0.80      0.78      0.79     10755\n",
            "           1       0.79      0.80      0.79     10755\n",
            "\n",
            "    accuracy                           0.79     21510\n",
            "   macro avg       0.79      0.79      0.79     21510\n",
            "weighted avg       0.79      0.79      0.79     21510\n",
            "\n",
            "\n",
            "Epoch 0 ... Val f1: 0.79 ... Mean val loss: 0.5123\n",
            "\n",
            "-------------------------------------------------------------------------------------------------------------------------\n",
            "\n"
          ]
        },
        {
          "output_type": "stream",
          "name": "stderr",
          "text": [
            "100%|██████████| 10756/10756 [1:03:06<00:00,  2.84it/s]\n"
          ]
        },
        {
          "output_type": "stream",
          "name": "stdout",
          "text": [
            "              precision    recall  f1-score   support\n",
            "\n",
            "           0       0.76      0.83      0.79     64535\n",
            "           1       0.82      0.73      0.77     64531\n",
            "\n",
            "    accuracy                           0.78    129066\n",
            "   macro avg       0.79      0.78      0.78    129066\n",
            "weighted avg       0.79      0.78      0.78    129066\n",
            "\n",
            "\n",
            "Epoch 1 ... Train f1: 0.77 ... Mean train loss: 0.5417\n",
            "\n"
          ]
        },
        {
          "output_type": "stream",
          "name": "stderr",
          "text": [
            "100%|██████████| 1793/1793 [03:04<00:00,  9.74it/s]\n"
          ]
        },
        {
          "output_type": "stream",
          "name": "stdout",
          "text": [
            "              precision    recall  f1-score   support\n",
            "\n",
            "           0       0.82      0.74      0.78     10755\n",
            "           1       0.76      0.84      0.80     10755\n",
            "\n",
            "    accuracy                           0.79     21510\n",
            "   macro avg       0.79      0.79      0.79     21510\n",
            "weighted avg       0.79      0.79      0.79     21510\n",
            "\n",
            "\n",
            "Epoch 1 ... Val f1: 0.80 ... Mean val loss: 0.5066\n",
            "\n",
            "-------------------------------------------------------------------------------------------------------------------------\n",
            "\n"
          ]
        }
      ]
    },
    {
      "cell_type": "code",
      "source": [
        "my_model = myBertModel(hidden_neurons=512, n_features=len(feature_cols))\n",
        "\n",
        "my_model.to(device)\n",
        "\n",
        "model_2, loss_set, val_loss_set = train_bert(model = my_model, \n",
        "                                            n_model = 2,\n",
        "                                            n_epochs = n_epochs, \n",
        "                                            train_dataloader = train_dataloader, \n",
        "                                            validation_dataloader = validation_dataloader)"
      ],
      "metadata": {
        "colab": {
          "base_uri": "https://localhost:8080/"
        },
        "id": "Xp37W0An0BiO",
        "outputId": "cd1a7f01-750e-439d-97d3-4d0b892e1de1"
      },
      "id": "Xp37W0An0BiO",
      "execution_count": null,
      "outputs": [
        {
          "metadata": {
            "tags": null
          },
          "name": "stderr",
          "output_type": "stream",
          "text": [
            "100%|██████████| 10756/10756 [1:03:06<00:00,  2.84it/s]\n"
          ]
        },
        {
          "metadata": {
            "tags": null
          },
          "name": "stdout",
          "output_type": "stream",
          "text": [
            "              precision    recall  f1-score   support\n",
            "\n",
            "           0       0.70      0.76      0.73     64535\n",
            "           1       0.74      0.67      0.70     64531\n",
            "\n",
            "    accuracy                           0.71    129066\n",
            "   macro avg       0.72      0.71      0.71    129066\n",
            "weighted avg       0.72      0.71      0.71    129066\n",
            "\n",
            "\n",
            "Epoch 0 ... Train f1: 0.70 ... Mean train loss: 0.5903\n",
            "\n"
          ]
        },
        {
          "metadata": {
            "tags": null
          },
          "name": "stderr",
          "output_type": "stream",
          "text": [
            "100%|██████████| 1793/1793 [03:04<00:00,  9.74it/s]\n"
          ]
        },
        {
          "metadata": {
            "tags": null
          },
          "name": "stdout",
          "output_type": "stream",
          "text": [
            "              precision    recall  f1-score   support\n",
            "\n",
            "           0       0.82      0.73      0.77     10755\n",
            "           1       0.76      0.84      0.80     10755\n",
            "\n",
            "    accuracy                           0.78     21510\n",
            "   macro avg       0.79      0.78      0.78     21510\n",
            "weighted avg       0.79      0.78      0.78     21510\n",
            "\n",
            "\n",
            "Epoch 0 ... Val f1: 0.80 ... Mean val loss: 0.5124\n",
            "\n",
            "-------------------------------------------------------------------------------------------------------------------------\n",
            "\n"
          ]
        },
        {
          "output_type": "stream",
          "name": "stderr",
          "text": [
            "100%|██████████| 10756/10756 [1:03:07<00:00,  2.84it/s]\n"
          ]
        },
        {
          "output_type": "stream",
          "name": "stdout",
          "text": [
            "              precision    recall  f1-score   support\n",
            "\n",
            "           0       0.76      0.84      0.80     64535\n",
            "           1       0.82      0.74      0.78     64531\n",
            "\n",
            "    accuracy                           0.79    129066\n",
            "   macro avg       0.79      0.79      0.79    129066\n",
            "weighted avg       0.79      0.79      0.79    129066\n",
            "\n",
            "\n",
            "Epoch 1 ... Train f1: 0.78 ... Mean train loss: 0.5402\n",
            "\n"
          ]
        },
        {
          "output_type": "stream",
          "name": "stderr",
          "text": [
            "100%|██████████| 1793/1793 [03:04<00:00,  9.74it/s]\n"
          ]
        },
        {
          "output_type": "stream",
          "name": "stdout",
          "text": [
            "              precision    recall  f1-score   support\n",
            "\n",
            "           0       0.77      0.83      0.80     10755\n",
            "           1       0.82      0.76      0.79     10755\n",
            "\n",
            "    accuracy                           0.79     21510\n",
            "   macro avg       0.80      0.79      0.79     21510\n",
            "weighted avg       0.80      0.79      0.79     21510\n",
            "\n",
            "\n",
            "Epoch 1 ... Val f1: 0.79 ... Mean val loss: 0.5062\n",
            "\n",
            "-------------------------------------------------------------------------------------------------------------------------\n",
            "\n"
          ]
        }
      ]
    },
    {
      "cell_type": "code",
      "source": [
        "my_model = myBertModel(hidden_neurons=512, n_features=len(feature_cols))\n",
        "\n",
        "my_model.to(device)\n",
        "\n",
        "model_3, loss_set, val_loss_set = train_bert(model = my_model, \n",
        "                                            n_model = 3,\n",
        "                                            n_epochs = n_epochs, \n",
        "                                            train_dataloader = train_dataloader, \n",
        "                                            validation_dataloader = validation_dataloader)"
      ],
      "metadata": {
        "colab": {
          "base_uri": "https://localhost:8080/"
        },
        "id": "v0ywoPi70Bdc",
        "outputId": "1dbd389c-15b8-473f-e2be-c23d6eb17b88"
      },
      "id": "v0ywoPi70Bdc",
      "execution_count": null,
      "outputs": [
        {
          "output_type": "stream",
          "name": "stderr",
          "text": [
            "100%|██████████| 10756/10756 [1:03:12<00:00,  2.84it/s]\n"
          ]
        },
        {
          "output_type": "stream",
          "name": "stdout",
          "text": [
            "              precision    recall  f1-score   support\n",
            "\n",
            "           0       0.69      0.77      0.73     64535\n",
            "           1       0.74      0.66      0.70     64531\n",
            "\n",
            "    accuracy                           0.71    129066\n",
            "   macro avg       0.72      0.71      0.71    129066\n",
            "weighted avg       0.72      0.71      0.71    129066\n",
            "\n",
            "\n",
            "Epoch 0 ... Train f1: 0.70 ... Mean train loss: 0.5902\n",
            "\n"
          ]
        },
        {
          "output_type": "stream",
          "name": "stderr",
          "text": [
            "100%|██████████| 1793/1793 [03:04<00:00,  9.72it/s]\n"
          ]
        },
        {
          "output_type": "stream",
          "name": "stdout",
          "text": [
            "              precision    recall  f1-score   support\n",
            "\n",
            "           0       0.77      0.81      0.79     10755\n",
            "           1       0.80      0.76      0.78     10755\n",
            "\n",
            "    accuracy                           0.79     21510\n",
            "   macro avg       0.79      0.79      0.79     21510\n",
            "weighted avg       0.79      0.79      0.79     21510\n",
            "\n",
            "\n",
            "Epoch 0 ... Val f1: 0.78 ... Mean val loss: 0.5123\n",
            "\n",
            "-------------------------------------------------------------------------------------------------------------------------\n",
            "\n"
          ]
        },
        {
          "output_type": "stream",
          "name": "stderr",
          "text": [
            "100%|██████████| 10756/10756 [1:03:07<00:00,  2.84it/s]\n"
          ]
        },
        {
          "output_type": "stream",
          "name": "stdout",
          "text": [
            "              precision    recall  f1-score   support\n",
            "\n",
            "           0       0.76      0.83      0.79     64535\n",
            "           1       0.81      0.73      0.77     64531\n",
            "\n",
            "    accuracy                           0.78    129066\n",
            "   macro avg       0.79      0.78      0.78    129066\n",
            "weighted avg       0.79      0.78      0.78    129066\n",
            "\n",
            "\n",
            "Epoch 1 ... Train f1: 0.77 ... Mean train loss: 0.5422\n",
            "\n"
          ]
        },
        {
          "output_type": "stream",
          "name": "stderr",
          "text": [
            "100%|██████████| 1793/1793 [03:04<00:00,  9.72it/s]\n"
          ]
        },
        {
          "output_type": "stream",
          "name": "stdout",
          "text": [
            "              precision    recall  f1-score   support\n",
            "\n",
            "           0       0.77      0.81      0.79     10755\n",
            "           1       0.80      0.76      0.78     10755\n",
            "\n",
            "    accuracy                           0.78     21510\n",
            "   macro avg       0.78      0.78      0.78     21510\n",
            "weighted avg       0.78      0.78      0.78     21510\n",
            "\n",
            "\n",
            "Epoch 1 ... Val f1: 0.78 ... Mean val loss: 0.5133\n",
            "\n",
            "-------------------------------------------------------------------------------------------------------------------------\n",
            "\n"
          ]
        }
      ]
    },
    {
      "cell_type": "code",
      "source": [
        "my_model = myBertModel(hidden_neurons=512, n_features=len(feature_cols))\n",
        "\n",
        "my_model.to(device)\n",
        "\n",
        "model_4, loss_set, val_loss_set = train_bert(model = my_model, \n",
        "                                            n_model = 4,\n",
        "                                            n_epochs = n_epochs, \n",
        "                                            train_dataloader = train_dataloader, \n",
        "                                            validation_dataloader = validation_dataloader)"
      ],
      "metadata": {
        "colab": {
          "base_uri": "https://localhost:8080/"
        },
        "id": "5liPOQWx1sWg",
        "outputId": "8dccb4e5-46d8-43b2-bd6f-7dfaf610a4bb"
      },
      "id": "5liPOQWx1sWg",
      "execution_count": null,
      "outputs": [
        {
          "output_type": "stream",
          "name": "stderr",
          "text": [
            "100%|██████████| 10756/10756 [1:03:16<00:00,  2.83it/s]\n"
          ]
        },
        {
          "output_type": "stream",
          "name": "stdout",
          "text": [
            "              precision    recall  f1-score   support\n",
            "\n",
            "           0       0.70      0.76      0.73     64535\n",
            "           1       0.74      0.67      0.70     64531\n",
            "\n",
            "    accuracy                           0.72    129066\n",
            "   macro avg       0.72      0.72      0.72    129066\n",
            "weighted avg       0.72      0.72      0.72    129066\n",
            "\n",
            "\n",
            "Epoch 0 ... Train f1: 0.70 ... Mean train loss: 0.5890\n",
            "\n"
          ]
        },
        {
          "output_type": "stream",
          "name": "stderr",
          "text": [
            "100%|██████████| 1793/1793 [03:05<00:00,  9.69it/s]\n"
          ]
        },
        {
          "output_type": "stream",
          "name": "stdout",
          "text": [
            "              precision    recall  f1-score   support\n",
            "\n",
            "           0       0.81      0.69      0.75     10755\n",
            "           1       0.73      0.84      0.78     10755\n",
            "\n",
            "    accuracy                           0.77     21510\n",
            "   macro avg       0.77      0.77      0.76     21510\n",
            "weighted avg       0.77      0.77      0.76     21510\n",
            "\n",
            "\n",
            "Epoch 0 ... Val f1: 0.78 ... Mean val loss: 0.5302\n",
            "\n",
            "-------------------------------------------------------------------------------------------------------------------------\n",
            "\n"
          ]
        },
        {
          "output_type": "stream",
          "name": "stderr",
          "text": [
            "100%|██████████| 10756/10756 [1:03:12<00:00,  2.84it/s]\n"
          ]
        },
        {
          "output_type": "stream",
          "name": "stdout",
          "text": [
            "              precision    recall  f1-score   support\n",
            "\n",
            "           0       0.76      0.84      0.79     64535\n",
            "           1       0.82      0.73      0.77     64531\n",
            "\n",
            "    accuracy                           0.78    129066\n",
            "   macro avg       0.79      0.78      0.78    129066\n",
            "weighted avg       0.79      0.78      0.78    129066\n",
            "\n",
            "\n",
            "Epoch 1 ... Train f1: 0.77 ... Mean train loss: 0.5423\n",
            "\n"
          ]
        },
        {
          "output_type": "stream",
          "name": "stderr",
          "text": [
            "100%|██████████| 1793/1793 [03:04<00:00,  9.71it/s]\n"
          ]
        },
        {
          "output_type": "stream",
          "name": "stdout",
          "text": [
            "              precision    recall  f1-score   support\n",
            "\n",
            "           0       0.72      0.90      0.80     10755\n",
            "           1       0.86      0.65      0.74     10755\n",
            "\n",
            "    accuracy                           0.77     21510\n",
            "   macro avg       0.79      0.77      0.77     21510\n",
            "weighted avg       0.79      0.77      0.77     21510\n",
            "\n",
            "\n",
            "Epoch 1 ... Val f1: 0.74 ... Mean val loss: 0.5246\n",
            "\n",
            "-------------------------------------------------------------------------------------------------------------------------\n",
            "\n"
          ]
        }
      ]
    },
    {
      "cell_type": "code",
      "source": [
        "my_model = myBertModel(hidden_neurons=512, n_features=len(feature_cols))\n",
        "\n",
        "my_model.to(device)\n",
        "\n",
        "model_5, loss_set, val_loss_set = train_bert(model = my_model, \n",
        "                                            n_model = 5,\n",
        "                                            n_epochs = n_epochs, \n",
        "                                            train_dataloader = train_dataloader, \n",
        "                                            validation_dataloader = validation_dataloader)"
      ],
      "metadata": {
        "id": "OVIjxUvA1sRW"
      },
      "id": "OVIjxUvA1sRW",
      "execution_count": null,
      "outputs": []
    },
    {
      "cell_type": "code",
      "source": [
        "my_model = myBertModel(hidden_neurons=512, n_features=len(feature_cols))\n",
        "\n",
        "my_model.to(device)\n",
        "\n",
        "model_6, loss_set, val_loss_set = train_bert(model = my_model, \n",
        "                                            n_model = 6,\n",
        "                                            n_epochs = n_epochs, \n",
        "                                            train_dataloader = train_dataloader, \n",
        "                                            validation_dataloader = validation_dataloader)"
      ],
      "metadata": {
        "id": "Ki_r_Otf1zmY"
      },
      "id": "Ki_r_Otf1zmY",
      "execution_count": null,
      "outputs": []
    },
    {
      "cell_type": "code",
      "source": [
        "my_model = myBertModel(hidden_neurons=512, n_features=len(feature_cols))\n",
        "\n",
        "my_model.to(device)\n",
        "\n",
        "model_7, loss_set, val_loss_set = train_bert(model = my_model, \n",
        "                                            n_model = 7,\n",
        "                                            n_epochs = n_epochs, \n",
        "                                            train_dataloader = train_dataloader, \n",
        "                                            validation_dataloader = validation_dataloader)"
      ],
      "metadata": {
        "id": "rSJoyoVR1zfP"
      },
      "id": "rSJoyoVR1zfP",
      "execution_count": null,
      "outputs": []
    },
    {
      "cell_type": "code",
      "execution_count": null,
      "id": "e9207ad3",
      "metadata": {
        "id": "e9207ad3"
      },
      "outputs": [],
      "source": [
        "loss_set = []\n",
        "val_loss_set = []\n",
        "\n",
        "n_epochs = 3\n",
        "\n",
        "for epoch in range(n_epochs):\n",
        "    \n",
        "    train_labels = []\n",
        "    train_preds = []\n",
        "    \n",
        "    my_model.train()\n",
        "    \n",
        "    for batch in train_dataloader:\n",
        "        batch = tuple(t.to(device) for t in batch)\n",
        "        b_input_ids, b_input_mask, b_features, b_labels = batch\n",
        "        optimizer.zero_grad()\n",
        "        pred_probs = my_model.forward(b_input_ids, b_input_mask, b_features)\n",
        "        my_loss = loss(pred_probs, b_labels)\n",
        "        loss_set.append(my_loss.item())\n",
        "        my_loss.backward()\n",
        "        optimizer.step()\n",
        "        \n",
        "        b_labels = b_labels.to('cpu').numpy()\n",
        "        pred_probs = pred_probs.detach().to('cpu').numpy()\n",
        "        pred_labels = pred_probs.argmax(axis=1)\n",
        "        \n",
        "        train_labels.extend(b_labels)\n",
        "        train_preds.extend(pred_labels)\n",
        "        \n",
        "    train_acc = accuracy_score(train_labels, train_preds)\n",
        "    train_precision = precision_score(train_labels, train_preds)\n",
        "    train_recall = recall_score(train_labels, train_preds)\n",
        "    train_f1 = f1_score(train_labels, train_preds)   \n",
        "    \n",
        "    print('Epoch {} ... Train accuracy: {:.2f} ... Train precision: {:.2f} ... Train recall: {:.2f} ... Train f1: {:.2f} ... Train loss: {:.4f}'.format(epoch, train_acc, train_precision, train_recall, train_f1, my_loss.item()))\n",
        "        \n",
        "    val_labels = []\n",
        "    val_preds = []\n",
        "    \n",
        "    my_model.eval()\n",
        "    \n",
        "    for batch in validation_dataloader:\n",
        "        batch = tuple(t.to(device) for t in batch)\n",
        "        b_input_ids, b_input_mask, b_features, b_labels = batch\n",
        "\n",
        "        with torch.no_grad():\n",
        "            pred_probs = my_model.forward(b_input_ids, b_input_mask, b_features)\n",
        "            val_loss = loss(pred_probs, b_labels)\n",
        "            val_loss_set.append(val_loss.item())\n",
        "\n",
        "        b_labels = b_labels.to('cpu').numpy()\n",
        "        pred_probs = pred_probs.detach().to('cpu').numpy()\n",
        "\n",
        "        pred_labels = pred_probs.argmax(axis=1)\n",
        "\n",
        "        val_labels.extend(b_labels)\n",
        "        val_preds.extend(pred_labels)\n",
        "\n",
        "    val_acc = accuracy_score(val_labels, val_preds)\n",
        "    val_precision = precision_score(val_labels, val_preds)\n",
        "    val_recall = recall_score(val_labels, val_preds)\n",
        "    val_f1 = f1_score(val_labels, val_preds)\n",
        "\n",
        "    print('Epoch {} ... Val accuracy: {:.2f} ... Val precision: {:.2f} ... Val recall: {:.2f} ... Val f1: {:.2f} ... Val loss: {:.4f}'.format(epoch, val_acc, val_precision, val_recall, val_f1, val_loss.item()))\n",
        "    print()\n",
        "    print('-------------------------------------------------------------------------------------------------------------------------')\n",
        "    print()"
      ]
    },
    {
      "cell_type": "code",
      "execution_count": null,
      "id": "11426cb0",
      "metadata": {
        "id": "11426cb0"
      },
      "outputs": [],
      "source": [
        "torch.save(my_model.state_dict(), 'bert_model.pt')"
      ]
    },
    {
      "cell_type": "code",
      "source": [
        "my_model.load_state_dict(torch.load('bert_model_1.pt'))"
      ],
      "metadata": {
        "colab": {
          "base_uri": "https://localhost:8080/"
        },
        "id": "PDbtxjoPYq1Z",
        "outputId": "f3acffae-2a56-43c5-d133-c249d25d8c8c"
      },
      "id": "PDbtxjoPYq1Z",
      "execution_count": null,
      "outputs": [
        {
          "output_type": "execute_result",
          "data": {
            "text/plain": [
              "<All keys matched successfully>"
            ]
          },
          "metadata": {},
          "execution_count": 122
        }
      ]
    },
    {
      "cell_type": "code",
      "execution_count": null,
      "id": "f68c8c27",
      "metadata": {
        "id": "f68c8c27"
      },
      "outputs": [],
      "source": [
        "#my_model = myBertModel(hidden_neurons=512, n_features=len(feature_cols))\n",
        "\n",
        "def predict_test_labels(model, model_path, test_dataloader):\n",
        "  model.load_state_dict(torch.load(model_path))\n",
        "  model.to(device)\n",
        "  test_preds = []\n",
        "\n",
        "  for batch in tqdm(test_dataloader):\n",
        "      batch = tuple(t.to(device) for t in batch)\n",
        "      b_input_ids, b_input_mask, b_features = batch\n",
        "      with torch.no_grad():\n",
        "          pred_probs = model.forward(b_input_ids, b_input_mask, b_features)\n",
        "          pred_probs = torch.nn.Sigmoid()(pred_probs)\n",
        "          pred_labels = pred_probs.detach().to('cpu').numpy()\n",
        "          test_preds.extend(pred_labels)\n",
        "  return np.array(test_preds)"
      ]
    },
    {
      "cell_type": "code",
      "source": [
        "all_pred_probs = []"
      ],
      "metadata": {
        "id": "QClBbv9xSVZU"
      },
      "id": "QClBbv9xSVZU",
      "execution_count": null,
      "outputs": []
    },
    {
      "cell_type": "code",
      "source": [
        "import os, os.path\n",
        "\n",
        "for path in os.listdir('/content/drive/MyDrive/ruatd_models'):\n",
        "  path = os.path.join('/content/drive/MyDrive/ruatd_models', path)\n",
        "  if '5' in path:\n",
        "    pred_probs = predict_test_labels(my_model, path, test_dataloader)\n",
        "    all_pred_probs.append(pred_probs)"
      ],
      "metadata": {
        "colab": {
          "base_uri": "https://localhost:8080/"
        },
        "id": "TguYiMa-R3R6",
        "outputId": "988a1fce-7c84-4e72-d4e5-61d377735ce0"
      },
      "id": "TguYiMa-R3R6",
      "execution_count": null,
      "outputs": [
        {
          "output_type": "stream",
          "name": "stderr",
          "text": [
            "100%|██████████| 5378/5378 [10:02<00:00,  8.93it/s]\n",
            "100%|██████████| 5378/5378 [10:04<00:00,  8.90it/s]\n"
          ]
        }
      ]
    },
    {
      "cell_type": "code",
      "source": [
        "((all_pred_probs[1] + all_pred_probs[3] + all_pred_probs[5] + all_pred_probs[7]) / 4)"
      ],
      "metadata": {
        "colab": {
          "base_uri": "https://localhost:8080/"
        },
        "id": "WgdVbLVP0B-n",
        "outputId": "ba9ff5c1-00b3-4051-f3e8-e8ba574ae610"
      },
      "id": "WgdVbLVP0B-n",
      "execution_count": null,
      "outputs": [
        {
          "output_type": "execute_result",
          "data": {
            "text/plain": [
              "array([[0.14798021, 0.86675215],\n",
              "       [0.12564452, 0.74957836],\n",
              "       [0.37521672, 0.8088136 ],\n",
              "       ...,\n",
              "       [0.83021927, 0.140769  ],\n",
              "       [0.81810594, 0.2782445 ],\n",
              "       [0.73181605, 0.14040942]], dtype=float32)"
            ]
          },
          "metadata": {},
          "execution_count": 96
        }
      ]
    },
    {
      "cell_type": "code",
      "source": [
        "all_pred_probs[1] > 0.5"
      ],
      "metadata": {
        "colab": {
          "base_uri": "https://localhost:8080/"
        },
        "id": "b9PIW-x7KBs_",
        "outputId": "365a80f7-3822-4de4-9015-5713848c5fb2"
      },
      "id": "b9PIW-x7KBs_",
      "execution_count": null,
      "outputs": [
        {
          "output_type": "execute_result",
          "data": {
            "text/plain": [
              "array([[False],\n",
              "       [ True],\n",
              "       [ True],\n",
              "       ...,\n",
              "       [False],\n",
              "       [False],\n",
              "       [False]])"
            ]
          },
          "metadata": {},
          "execution_count": 62
        }
      ]
    },
    {
      "cell_type": "code",
      "source": [
        "all_pred_labels = np.zeros([all_pred_probs[0].shape[0], len(all_pred_probs)])"
      ],
      "metadata": {
        "id": "c6ZL2eH0yZLZ"
      },
      "id": "c6ZL2eH0yZLZ",
      "execution_count": null,
      "outputs": []
    },
    {
      "cell_type": "code",
      "source": [
        "for i in range(len(all_pred_probs)):\n",
        "  all_pred_labels[:, i] = all_pred_probs[i][:, 1]"
      ],
      "metadata": {
        "id": "ZjUUA6qpyMtX"
      },
      "id": "ZjUUA6qpyMtX",
      "execution_count": null,
      "outputs": []
    },
    {
      "cell_type": "code",
      "source": [
        "pred_probs = predict_test_labels(model_5, path, test_dataloader)"
      ],
      "metadata": {
        "id": "8yIMTkHH0A65"
      },
      "id": "8yIMTkHH0A65",
      "execution_count": null,
      "outputs": []
    },
    {
      "cell_type": "code",
      "source": [
        "all_pred_labels[:, [0,1]]"
      ],
      "metadata": {
        "colab": {
          "base_uri": "https://localhost:8080/"
        },
        "id": "ShqJWDHBz5BF",
        "outputId": "beee5dc2-80b2-4df2-d742-e1e3271891be"
      },
      "id": "ShqJWDHBz5BF",
      "execution_count": null,
      "outputs": [
        {
          "output_type": "execute_result",
          "data": {
            "text/plain": [
              "array([[0.5       , 0.98870814],\n",
              "       [0.9992888 , 0.99985027],\n",
              "       [0.5       , 0.99807382],\n",
              "       ...,\n",
              "       [0.5       , 0.01618995],\n",
              "       [0.5       , 0.06067248],\n",
              "       [0.07097869, 0.03607919]])"
            ]
          },
          "metadata": {},
          "execution_count": 78
        }
      ]
    },
    {
      "cell_type": "code",
      "source": [
        "models_path = '/content/drive/MyDrive/ruatd_models'"
      ],
      "metadata": {
        "id": "0F4Y3raYRKz4"
      },
      "id": "0F4Y3raYRKz4",
      "execution_count": null,
      "outputs": []
    },
    {
      "cell_type": "code",
      "source": [
        "import os, os.path"
      ],
      "metadata": {
        "id": "jVoYX3JjRP00"
      },
      "id": "jVoYX3JjRP00",
      "execution_count": null,
      "outputs": []
    },
    {
      "cell_type": "code",
      "source": [
        "models = [os.path.join(models_path, path) for path in os.listdir(models_path) if '.pt' in path]"
      ],
      "metadata": {
        "id": "Lwg5n7cpRRac"
      },
      "id": "Lwg5n7cpRRac",
      "execution_count": null,
      "outputs": []
    },
    {
      "cell_type": "code",
      "source": [
        "test_preds_2 = pd.read_csv('/content/submission_2.csv')"
      ],
      "metadata": {
        "id": "N42pMx017iPn"
      },
      "id": "N42pMx017iPn",
      "execution_count": null,
      "outputs": []
    },
    {
      "cell_type": "code",
      "source": [
        "test_preds_2['Class'] = test_preds_2['Class'].map({'M': 1, 'H': 0})\n",
        "test_preds_2 = np.array(test_preds_2['Class'])"
      ],
      "metadata": {
        "id": "uau1Iycv72rB"
      },
      "id": "uau1Iycv72rB",
      "execution_count": null,
      "outputs": []
    },
    {
      "cell_type": "code",
      "source": [
        "test_preds_2"
      ],
      "metadata": {
        "colab": {
          "base_uri": "https://localhost:8080/"
        },
        "id": "NHYCoqnf8NZG",
        "outputId": "b07b1831-bb0e-4233-d58d-e1777b81df0e"
      },
      "id": "NHYCoqnf8NZG",
      "execution_count": null,
      "outputs": [
        {
          "output_type": "execute_result",
          "data": {
            "text/plain": [
              "array([1, 1, 1, ..., 0, 0, 0])"
            ]
          },
          "metadata": {},
          "execution_count": 139
        }
      ]
    },
    {
      "cell_type": "code",
      "source": [
        "np.array(test_preds)[:, 1]"
      ],
      "metadata": {
        "colab": {
          "base_uri": "https://localhost:8080/"
        },
        "id": "Z6ftFcpp7C_Q",
        "outputId": "e28fff3a-7e9d-4b3d-ed32-8fcd1c2afc3d"
      },
      "id": "Z6ftFcpp7C_Q",
      "execution_count": null,
      "outputs": [
        {
          "output_type": "execute_result",
          "data": {
            "text/plain": [
              "array([0.9486863 , 0.991167  , 0.9868138 , ..., 0.00640566, 0.00909707,\n",
              "       0.00854746], dtype=float32)"
            ]
          },
          "metadata": {},
          "execution_count": 128
        }
      ]
    },
    {
      "cell_type": "code",
      "source": [
        "np.where(np.mean(np.c_[[np.array(test_preds)[:, 1], np.array(test_preds_1)[:, 1]]], axis=0) > 0.5, 1, 0)"
      ],
      "metadata": {
        "colab": {
          "base_uri": "https://localhost:8080/"
        },
        "id": "BRmcGIlz6jcB",
        "outputId": "619501fc-04ad-4e7d-bee5-b2e80ed4c862"
      },
      "id": "BRmcGIlz6jcB",
      "execution_count": null,
      "outputs": [
        {
          "output_type": "execute_result",
          "data": {
            "text/plain": [
              "array([1, 1, 1, ..., 0, 0, 0])"
            ]
          },
          "metadata": {},
          "execution_count": 133
        }
      ]
    },
    {
      "cell_type": "code",
      "source": [
        "(all_pred_probs[0] + all_pred_probs[1]) / 2"
      ],
      "metadata": {
        "colab": {
          "base_uri": "https://localhost:8080/"
        },
        "id": "Zy-2kqR939PP",
        "outputId": "72f5dcc1-f9df-41ea-f038-20d84d02618c"
      },
      "id": "Zy-2kqR939PP",
      "execution_count": null,
      "outputs": [
        {
          "output_type": "execute_result",
          "data": {
            "text/plain": [
              "[array([[ 0.        ,  0.        ],\n",
              "        [ 0.        ,  4.1205716 ],\n",
              "        [-2.3825376 ,  0.        ],\n",
              "        ...,\n",
              "        [ 0.91870266,  0.20173603],\n",
              "        [ 0.18253604,  1.1262189 ],\n",
              "        [ 0.        , -1.4729058 ]], dtype=float32),\n",
              " array([[-0.04369414,  0.        ],\n",
              "        [-4.775294  ,  5.4875674 ],\n",
              "        [ 0.        ,  2.691547  ],\n",
              "        ...,\n",
              "        [ 0.        , -0.20009337],\n",
              "        [ 0.        ,  0.25841194],\n",
              "        [ 0.        ,  0.06024629]], dtype=float32)]"
            ]
          },
          "metadata": {},
          "execution_count": 56
        }
      ]
    },
    {
      "cell_type": "code",
      "execution_count": null,
      "id": "0dfdc3ca",
      "metadata": {
        "id": "0dfdc3ca"
      },
      "outputs": [],
      "source": [
        "#test = pd.read_csv('test.csv')\n",
        "test['Class'] = np.where(all_pred_probs[1] > 0.5, 1, 0)\n",
        "test['Class'] = test['Class'].map({0: 'H', 1: 'M'})\n",
        "test[['Id', 'Class']].to_csv('submission_15.csv', index=False)"
      ]
    },
    {
      "cell_type": "code",
      "source": [
        ""
      ],
      "metadata": {
        "id": "U_MGdUnHKhAf"
      },
      "id": "U_MGdUnHKhAf",
      "execution_count": null,
      "outputs": []
    },
    {
      "cell_type": "code",
      "execution_count": null,
      "id": "775bc2be",
      "metadata": {
        "colab": {
          "base_uri": "https://localhost:8080/",
          "height": 281
        },
        "id": "775bc2be",
        "outputId": "ff7a241c-6ca1-4bb9-d938-9acc1e193915"
      },
      "outputs": [
        {
          "output_type": "display_data",
          "data": {
            "image/png": "[encoded data removed]",
            "text/plain": [
              "<Figure size 432x288 with 1 Axes>"
            ]
          },
          "metadata": {
            "needs_background": "light"
          }
        }
      ],
      "source": [
        "plt.plot(loss_set)\n",
        "plt.title('Train loss')\n",
        "plt.show()"
      ]
    },
    {
      "cell_type": "code",
      "execution_count": null,
      "id": "bbe64045",
      "metadata": {
        "colab": {
          "base_uri": "https://localhost:8080/",
          "height": 281
        },
        "id": "bbe64045",
        "outputId": "fef057e0-375c-4c53-bb08-d5bf593dd416"
      },
      "outputs": [
        {
          "output_type": "display_data",
          "data": {
            "image/png": "[encoded data removed]",
            "text/plain": [
              "<Figure size 432x288 with 1 Axes>"
            ]
          },
          "metadata": {
            "needs_background": "light"
          }
        }
      ],
      "source": [
        "plt.plot(val_loss_set)\n",
        "plt.title('Val loss')\n",
        "plt.show()"
      ]
    },
    {
      "cell_type": "code",
      "execution_count": null,
      "id": "97210bea",
      "metadata": {
        "id": "97210bea"
      },
      "outputs": [],
      "source": [
        ""
      ]
    },
    {
      "cell_type": "code",
      "execution_count": null,
      "id": "a768793d",
      "metadata": {
        "id": "a768793d"
      },
      "outputs": [],
      "source": [
        ""
      ]
    }
  ],
  "metadata": {
    "kernelspec": {
      "display_name": "Python 3",
      "language": "python",
      "name": "python3"
    },
    "language_info": {
      "codemirror_mode": {
        "name": "ipython",
        "version": 3
      },
      "file_extension": ".py",
      "mimetype": "text/x-python",
      "name": "python",
      "nbconvert_exporter": "python",
      "pygments_lexer": "ipython3",
      "version": "3.8.8"
    },
    "colab": {
      "name": "bert_model.ipynb",
      "provenance": [],
      "collapsed_sections": [],
      "machine_shape": "hm"
    },
    "accelerator": "GPU"
  },
  "nbformat": 4,
  "nbformat_minor": 5
}