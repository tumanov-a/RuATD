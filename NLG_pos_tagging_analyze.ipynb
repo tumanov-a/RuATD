{
 "cells": [
  {
   "cell_type": "markdown",
   "id": "981b3874",
   "metadata": {},
   "source": [
    "Импортируем необходимые библиотеки:"
   ]
  },
  {
   "cell_type": "code",
   "execution_count": 3,
   "id": "9142bacd",
   "metadata": {},
   "outputs": [],
   "source": [
    "import pandas as pd\n",
    "import numpy as np\n",
    "from collections import Counter\n",
    "\n",
    "from sklearn.feature_extraction.text import CountVectorizer\n",
    "from sklearn.linear_model import LogisticRegression\n",
    "from sklearn.svm import SVC\n",
    "from sklearn.model_selection import cross_val_score\n",
    "from sklearn.metrics import classification_report"
   ]
  },
  {
   "cell_type": "markdown",
   "id": "b5f2f33f",
   "metadata": {},
   "source": [
    "Загружаем датасеты:"
   ]
  },
  {
   "cell_type": "code",
   "execution_count": 4,
   "id": "d0314333",
   "metadata": {},
   "outputs": [],
   "source": [
    "train = pd.read_csv('prep_train.csv')\n",
    "val = pd.read_csv('prep_val.csv')"
   ]
  },
  {
   "cell_type": "markdown",
   "id": "91949850",
   "metadata": {},
   "source": [
    "Вывела список колонок:"
   ]
  },
  {
   "cell_type": "code",
   "execution_count": 5,
   "id": "477d474a",
   "metadata": {},
   "outputs": [
    {
     "data": {
      "text/plain": [
       "Index(['Id', 'Text', 'Class', 'Количество слов', 'Количество слогов',\n",
       "       'Количество предложений', 'Ср. количество слов в предложении',\n",
       "       'Ср. количество слогов в слове', 'Прилагательных', 'Наречий',\n",
       "       'Местоимений', 'Существительных', 'Глаголов', 'Средний ранг',\n",
       "       'Частотность (по словарю Шарова)', 'Индекс ФК (мод) SIS',\n",
       "       'Индекс ФК (О)', 'Индекс абстрактности', 'Local noun overlap',\n",
       "       'Global noun overlap', 'Local argument overlap',\n",
       "       'Global argument overlap', 'RR', 'TTR', 'Именительный падеж (СУЩ)',\n",
       "       'Родительный падеж (СУЩ)', 'Дательный падеж (СУЩ)',\n",
       "       'Винительный падеж (СУЩ)', 'Творительный падеж (СУЩ)',\n",
       "       'Предложный падеж (СУЩ)', 'Настоящее время (ГЛ)', 'Будущее время (ГЛ)',\n",
       "       'Прошедшее время (ГЛ)', 'Непрошедшее время (Mystem) (ГЛ)',\n",
       "       'Количество юридических терминов', 'Количество абзацев',\n",
       "       'Среднее количество предложений в абзаце',\n",
       "       'Среднее количество слов в предложении',\n",
       "       'Среднее количество слогов в слове', 'Средняя длина слова в тексте',\n",
       "       'tokens_Text', 'lemm_Text', 'len_Text', 'unique_tokens_Text',\n",
       "       'count_punct_Text', 'count_numbers_Text', 'count_digits_Text',\n",
       "       'count_uppercase_Text', 'count_lowercase_Text', 'avg_word_len_Text',\n",
       "       'mean_ru_vowel_occurance_Text', 'mean_ru_consonant_occurance_Text',\n",
       "       'mean_en_vowel_occurance_Text', 'mean_en_consonant_occurance_Text',\n",
       "       'count_space_Text', 'count_kirr_Text', 'count_lat_Text', 'ner_Text',\n",
       "       'POS_Text', 'count_POS_Text', 'sent_POS_Text', 'POS_PREP_Text',\n",
       "       'POS_ADJF_Text', 'POS_ADVB_Text', 'POS_NOUN_Text', 'POS_VERB_Text',\n",
       "       'POS_CONJ_Text', 'POS_PRCL_Text', 'POS_INFN_Text', 'POS_NPRO_Text',\n",
       "       'POS_None_Text', 'POS_PRTF_Text', 'POS_COMP_Text', 'POS_NUMR_Text',\n",
       "       'POS_INTJ_Text', 'POS_PRED_Text', 'POS_ADJS_Text', 'POS_PRTS_Text',\n",
       "       'POS_GRND_Text'],\n",
       "      dtype='object')"
      ]
     },
     "execution_count": 5,
     "metadata": {},
     "output_type": "execute_result"
    }
   ],
   "source": [
    "train.columns"
   ]
  },
  {
   "cell_type": "markdown",
   "id": "6d8834f6",
   "metadata": {},
   "source": [
    "Проверяем и убираем строки с пустыми ячейками в поле sent_POS_Text:"
   ]
  },
  {
   "cell_type": "code",
   "execution_count": 6,
   "id": "5ca50b53",
   "metadata": {},
   "outputs": [
    {
     "data": {
      "text/plain": [
       "(0, 1)"
      ]
     },
     "execution_count": 6,
     "metadata": {},
     "output_type": "execute_result"
    }
   ],
   "source": [
    "train['sent_POS_Text'].isnull().sum(), val['sent_POS_Text'].isnull().sum()"
   ]
  },
  {
   "cell_type": "code",
   "execution_count": 7,
   "id": "07199cd5",
   "metadata": {},
   "outputs": [],
   "source": [
    "val.dropna(subset=['sent_POS_Text'], inplace=True)\n",
    "# удаляем строки с NaN, перезаписываем ту же таблицу"
   ]
  },
  {
   "cell_type": "code",
   "execution_count": 8,
   "id": "d5db7639",
   "metadata": {},
   "outputs": [
    {
     "data": {
      "text/plain": [
       "(0, 0)"
      ]
     },
     "execution_count": 8,
     "metadata": {},
     "output_type": "execute_result"
    }
   ],
   "source": [
    "# проверка\n",
    "train['sent_POS_Text'].isnull().sum(), val['sent_POS_Text'].isnull().sum()"
   ]
  },
  {
   "cell_type": "markdown",
   "id": "0b7ce704",
   "metadata": {},
   "source": [
    "Удалим из датасета тексты не на русском."
   ]
  },
  {
   "cell_type": "code",
   "execution_count": 99,
   "id": "2462b49b",
   "metadata": {},
   "outputs": [],
   "source": [
    "from langdetect import detect"
   ]
  },
  {
   "cell_type": "code",
   "execution_count": 103,
   "id": "cf5dda56",
   "metadata": {},
   "outputs": [
    {
     "name": "stdout",
     "output_type": "stream",
     "text": [
      "ru \n",
      " После того как Александр Македонский был искушаем дьяволом, ему пришлось организовать огонь артиллерии, минометов и пулеметов. Вот и я о вас напишу сам.\n"
     ]
    }
   ],
   "source": [
    "# пример как работает langdetect\n",
    "print(detect(train['Text'][144]), '\\n', train['Text'][144])\n",
    "# она не всё правильно определяет, примеры выведу потом (примеры 197, 502, 144 в ориг датасете)"
   ]
  },
  {
   "cell_type": "code",
   "execution_count": 33,
   "id": "48af880d",
   "metadata": {},
   "outputs": [
    {
     "data": {
      "text/plain": [
       "(129066, 79)"
      ]
     },
     "execution_count": 33,
     "metadata": {},
     "output_type": "execute_result"
    }
   ],
   "source": [
    "train.shape"
   ]
  },
  {
   "cell_type": "code",
   "execution_count": 41,
   "id": "daef0a11",
   "metadata": {},
   "outputs": [],
   "source": [
    "from langdetect.lang_detect_exception import LangDetectException\n",
    "def detect_cached(t):\n",
    "    try:\n",
    "        return detect(t)\n",
    "    except LangDetectException:\n",
    "        return None"
   ]
  },
  {
   "cell_type": "code",
   "execution_count": 42,
   "id": "8ea2f249",
   "metadata": {},
   "outputs": [],
   "source": [
    "train['Language'] = list(map(detect_cached,train['Text']))"
   ]
  },
  {
   "cell_type": "code",
   "execution_count": 43,
   "id": "c3122268",
   "metadata": {},
   "outputs": [
    {
     "data": {
      "text/plain": [
       "0         ru\n",
       "1         ru\n",
       "2         ru\n",
       "3         ru\n",
       "4         ru\n",
       "          ..\n",
       "129061    ru\n",
       "129062    ru\n",
       "129063    ru\n",
       "129064    ru\n",
       "129065    ru\n",
       "Name: Language, Length: 129066, dtype: object"
      ]
     },
     "execution_count": 43,
     "metadata": {},
     "output_type": "execute_result"
    }
   ],
   "source": [
    "train['Language']"
   ]
  },
  {
   "cell_type": "code",
   "execution_count": 44,
   "id": "d0b2b3f8",
   "metadata": {},
   "outputs": [],
   "source": [
    "train = train.drop(train[train['Language'] != 'ru'].index)"
   ]
  },
  {
   "cell_type": "code",
   "execution_count": 45,
   "id": "0d48e5d4",
   "metadata": {},
   "outputs": [
    {
     "data": {
      "text/plain": [
       "(126642, 80)"
      ]
     },
     "execution_count": 45,
     "metadata": {},
     "output_type": "execute_result"
    }
   ],
   "source": [
    "train.shape"
   ]
  },
  {
   "cell_type": "code",
   "execution_count": 50,
   "id": "c0decce0",
   "metadata": {},
   "outputs": [],
   "source": [
    "val['Language'] = list(map(detect_cached,val['Text']))"
   ]
  },
  {
   "cell_type": "code",
   "execution_count": 51,
   "id": "ada3c7b4",
   "metadata": {},
   "outputs": [],
   "source": [
    "val = val.drop(val[val['Language'] != 'ru'].index)"
   ]
  },
  {
   "cell_type": "markdown",
   "id": "f5376559",
   "metadata": {},
   "source": [
    "Помимо этого оставим проверку на количество неопознанных pos-тэгов None и оставим предложения, где их не больше 40%:"
   ]
  },
  {
   "cell_type": "code",
   "execution_count": 46,
   "id": "37426a57",
   "metadata": {
    "scrolled": false
   },
   "outputs": [
    {
     "data": {
      "text/html": [
       "<div>\n",
       "<style scoped>\n",
       "    .dataframe tbody tr th:only-of-type {\n",
       "        vertical-align: middle;\n",
       "    }\n",
       "\n",
       "    .dataframe tbody tr th {\n",
       "        vertical-align: top;\n",
       "    }\n",
       "\n",
       "    .dataframe thead th {\n",
       "        text-align: right;\n",
       "    }\n",
       "</style>\n",
       "<table border=\"1\" class=\"dataframe\">\n",
       "  <thead>\n",
       "    <tr style=\"text-align: right;\">\n",
       "      <th></th>\n",
       "      <th>Id</th>\n",
       "      <th>Text</th>\n",
       "      <th>Class</th>\n",
       "      <th>Количество слов</th>\n",
       "      <th>Количество слогов</th>\n",
       "      <th>Количество предложений</th>\n",
       "      <th>Ср. количество слов в предложении</th>\n",
       "      <th>Ср. количество слогов в слове</th>\n",
       "      <th>Прилагательных</th>\n",
       "      <th>Наречий</th>\n",
       "      <th>...</th>\n",
       "      <th>POS_COMP_Text</th>\n",
       "      <th>POS_NUMR_Text</th>\n",
       "      <th>POS_INTJ_Text</th>\n",
       "      <th>POS_PRED_Text</th>\n",
       "      <th>POS_ADJS_Text</th>\n",
       "      <th>POS_PRTS_Text</th>\n",
       "      <th>POS_GRND_Text</th>\n",
       "      <th>Language</th>\n",
       "      <th>CountNone</th>\n",
       "      <th>percent_of_None</th>\n",
       "    </tr>\n",
       "  </thead>\n",
       "  <tbody>\n",
       "    <tr>\n",
       "      <th>0</th>\n",
       "      <td>107559</td>\n",
       "      <td>В следующие несколько лет Петерка переживал кр...</td>\n",
       "      <td>H</td>\n",
       "      <td>85.0</td>\n",
       "      <td>194.0</td>\n",
       "      <td>5.0</td>\n",
       "      <td>17.0</td>\n",
       "      <td>2.28</td>\n",
       "      <td>11.0</td>\n",
       "      <td>1.0</td>\n",
       "      <td>...</td>\n",
       "      <td>NaN</td>\n",
       "      <td>NaN</td>\n",
       "      <td>NaN</td>\n",
       "      <td>NaN</td>\n",
       "      <td>NaN</td>\n",
       "      <td>NaN</td>\n",
       "      <td>NaN</td>\n",
       "      <td>ru</td>\n",
       "      <td>{'PREP': 9, 'ADJF': 12, 'ADVB': 2, 'NOUN': 40,...</td>\n",
       "      <td>0.035294</td>\n",
       "    </tr>\n",
       "    <tr>\n",
       "      <th>1</th>\n",
       "      <td>107562</td>\n",
       "      <td>Турнир, стартовавший в Вильнюсе, продлится с 2...</td>\n",
       "      <td>H</td>\n",
       "      <td>11.0</td>\n",
       "      <td>19.0</td>\n",
       "      <td>1.0</td>\n",
       "      <td>11.0</td>\n",
       "      <td>1.73</td>\n",
       "      <td>2.0</td>\n",
       "      <td>0.0</td>\n",
       "      <td>...</td>\n",
       "      <td>NaN</td>\n",
       "      <td>NaN</td>\n",
       "      <td>NaN</td>\n",
       "      <td>NaN</td>\n",
       "      <td>NaN</td>\n",
       "      <td>NaN</td>\n",
       "      <td>NaN</td>\n",
       "      <td>ru</td>\n",
       "      <td>{'NOUN': 4, 'PRTF': 1, 'PREP': 3, 'VERB': 1, '...</td>\n",
       "      <td>0.181818</td>\n",
       "    </tr>\n",
       "    <tr>\n",
       "      <th>2</th>\n",
       "      <td>107563</td>\n",
       "      <td>В кульминационной сцене киноверсии 1960-х годо...</td>\n",
       "      <td>H</td>\n",
       "      <td>15.0</td>\n",
       "      <td>39.0</td>\n",
       "      <td>1.0</td>\n",
       "      <td>15.0</td>\n",
       "      <td>2.60</td>\n",
       "      <td>2.0</td>\n",
       "      <td>0.0</td>\n",
       "      <td>...</td>\n",
       "      <td>NaN</td>\n",
       "      <td>NaN</td>\n",
       "      <td>NaN</td>\n",
       "      <td>NaN</td>\n",
       "      <td>NaN</td>\n",
       "      <td>NaN</td>\n",
       "      <td>NaN</td>\n",
       "      <td>ru</td>\n",
       "      <td>{'PREP': 2, 'ADJF': 2, 'NOUN': 7, 'VERB': 3, '...</td>\n",
       "      <td>0.000000</td>\n",
       "    </tr>\n",
       "    <tr>\n",
       "      <th>3</th>\n",
       "      <td>107565</td>\n",
       "      <td>Как бы я ни старался, я не могу сделать это лу...</td>\n",
       "      <td>M</td>\n",
       "      <td>14.0</td>\n",
       "      <td>22.0</td>\n",
       "      <td>1.0</td>\n",
       "      <td>14.0</td>\n",
       "      <td>1.57</td>\n",
       "      <td>1.0</td>\n",
       "      <td>1.0</td>\n",
       "      <td>...</td>\n",
       "      <td>1.0</td>\n",
       "      <td>NaN</td>\n",
       "      <td>NaN</td>\n",
       "      <td>NaN</td>\n",
       "      <td>NaN</td>\n",
       "      <td>NaN</td>\n",
       "      <td>NaN</td>\n",
       "      <td>ru</td>\n",
       "      <td>{'CONJ': 2, 'PRCL': 4, 'NPRO': 3, 'VERB': 3, '...</td>\n",
       "      <td>0.000000</td>\n",
       "    </tr>\n",
       "    <tr>\n",
       "      <th>4</th>\n",
       "      <td>107567</td>\n",
       "      <td>Любит поговорить по телефону.</td>\n",
       "      <td>H</td>\n",
       "      <td>4.0</td>\n",
       "      <td>11.0</td>\n",
       "      <td>1.0</td>\n",
       "      <td>4.0</td>\n",
       "      <td>2.75</td>\n",
       "      <td>0.0</td>\n",
       "      <td>0.0</td>\n",
       "      <td>...</td>\n",
       "      <td>NaN</td>\n",
       "      <td>NaN</td>\n",
       "      <td>NaN</td>\n",
       "      <td>NaN</td>\n",
       "      <td>NaN</td>\n",
       "      <td>NaN</td>\n",
       "      <td>NaN</td>\n",
       "      <td>ru</td>\n",
       "      <td>{'VERB': 1, 'INFN': 1, 'PREP': 1, 'NOUN': 1}</td>\n",
       "      <td>0.000000</td>\n",
       "    </tr>\n",
       "  </tbody>\n",
       "</table>\n",
       "<p>5 rows × 82 columns</p>\n",
       "</div>"
      ],
      "text/plain": [
       "       Id                                               Text Class  \\\n",
       "0  107559  В следующие несколько лет Петерка переживал кр...     H   \n",
       "1  107562  Турнир, стартовавший в Вильнюсе, продлится с 2...     H   \n",
       "2  107563  В кульминационной сцене киноверсии 1960-х годо...     H   \n",
       "3  107565  Как бы я ни старался, я не могу сделать это лу...     M   \n",
       "4  107567                      Любит поговорить по телефону.     H   \n",
       "\n",
       "   Количество слов  Количество слогов  Количество предложений  \\\n",
       "0             85.0              194.0                     5.0   \n",
       "1             11.0               19.0                     1.0   \n",
       "2             15.0               39.0                     1.0   \n",
       "3             14.0               22.0                     1.0   \n",
       "4              4.0               11.0                     1.0   \n",
       "\n",
       "   Ср. количество слов в предложении  Ср. количество слогов в слове  \\\n",
       "0                               17.0                           2.28   \n",
       "1                               11.0                           1.73   \n",
       "2                               15.0                           2.60   \n",
       "3                               14.0                           1.57   \n",
       "4                                4.0                           2.75   \n",
       "\n",
       "   Прилагательных  Наречий  ...  POS_COMP_Text  POS_NUMR_Text  POS_INTJ_Text  \\\n",
       "0            11.0      1.0  ...            NaN            NaN            NaN   \n",
       "1             2.0      0.0  ...            NaN            NaN            NaN   \n",
       "2             2.0      0.0  ...            NaN            NaN            NaN   \n",
       "3             1.0      1.0  ...            1.0            NaN            NaN   \n",
       "4             0.0      0.0  ...            NaN            NaN            NaN   \n",
       "\n",
       "   POS_PRED_Text  POS_ADJS_Text  POS_PRTS_Text  POS_GRND_Text  Language  \\\n",
       "0            NaN            NaN            NaN            NaN        ru   \n",
       "1            NaN            NaN            NaN            NaN        ru   \n",
       "2            NaN            NaN            NaN            NaN        ru   \n",
       "3            NaN            NaN            NaN            NaN        ru   \n",
       "4            NaN            NaN            NaN            NaN        ru   \n",
       "\n",
       "                                           CountNone  percent_of_None  \n",
       "0  {'PREP': 9, 'ADJF': 12, 'ADVB': 2, 'NOUN': 40,...         0.035294  \n",
       "1  {'NOUN': 4, 'PRTF': 1, 'PREP': 3, 'VERB': 1, '...         0.181818  \n",
       "2  {'PREP': 2, 'ADJF': 2, 'NOUN': 7, 'VERB': 3, '...         0.000000  \n",
       "3  {'CONJ': 2, 'PRCL': 4, 'NPRO': 3, 'VERB': 3, '...         0.000000  \n",
       "4       {'VERB': 1, 'INFN': 1, 'PREP': 1, 'NOUN': 1}         0.000000  \n",
       "\n",
       "[5 rows x 82 columns]"
      ]
     },
     "execution_count": 46,
     "metadata": {},
     "output_type": "execute_result"
    }
   ],
   "source": [
    "train['CountNone'] = list(map(Counter,train['sent_POS_Text'].str.split()))\n",
    "train.loc[:, 'percent_of_None'] = \\\n",
    "train['CountNone'].map(lambda x: x['None'])/list(map(len,train['sent_POS_Text'].str.split()))\n",
    "train.head()"
   ]
  },
  {
   "cell_type": "code",
   "execution_count": 52,
   "id": "2375c83f",
   "metadata": {},
   "outputs": [
    {
     "data": {
      "text/html": [
       "<div>\n",
       "<style scoped>\n",
       "    .dataframe tbody tr th:only-of-type {\n",
       "        vertical-align: middle;\n",
       "    }\n",
       "\n",
       "    .dataframe tbody tr th {\n",
       "        vertical-align: top;\n",
       "    }\n",
       "\n",
       "    .dataframe thead th {\n",
       "        text-align: right;\n",
       "    }\n",
       "</style>\n",
       "<table border=\"1\" class=\"dataframe\">\n",
       "  <thead>\n",
       "    <tr style=\"text-align: right;\">\n",
       "      <th></th>\n",
       "      <th>Id</th>\n",
       "      <th>Text</th>\n",
       "      <th>Class</th>\n",
       "      <th>Количество слов</th>\n",
       "      <th>Количество слогов</th>\n",
       "      <th>Количество предложений</th>\n",
       "      <th>Ср. количество слов в предложении</th>\n",
       "      <th>Ср. количество слогов в слове</th>\n",
       "      <th>Прилагательных</th>\n",
       "      <th>Наречий</th>\n",
       "      <th>...</th>\n",
       "      <th>POS_PRED</th>\n",
       "      <th>POS_PREP</th>\n",
       "      <th>POS_NUMR</th>\n",
       "      <th>POS_PRCL</th>\n",
       "      <th>POS_INTJ</th>\n",
       "      <th>POS_NPRO</th>\n",
       "      <th>POS_COMP</th>\n",
       "      <th>CountNone</th>\n",
       "      <th>percent_of_None</th>\n",
       "      <th>Language</th>\n",
       "    </tr>\n",
       "  </thead>\n",
       "  <tbody>\n",
       "    <tr>\n",
       "      <th>0</th>\n",
       "      <td>9</td>\n",
       "      <td>В связи с этим в подпрограмму включены следующ...</td>\n",
       "      <td>H</td>\n",
       "      <td>18.0</td>\n",
       "      <td>51.0</td>\n",
       "      <td>1.0</td>\n",
       "      <td>18.0</td>\n",
       "      <td>2.83</td>\n",
       "      <td>3.0</td>\n",
       "      <td>0.0</td>\n",
       "      <td>...</td>\n",
       "      <td>0.0</td>\n",
       "      <td>0.0</td>\n",
       "      <td>0.0</td>\n",
       "      <td>0.0</td>\n",
       "      <td>0.0</td>\n",
       "      <td>0.0</td>\n",
       "      <td>0.0</td>\n",
       "      <td>{'PREP': 4, 'NOUN': 7, 'NPRO': 1, 'PRTS': 1, '...</td>\n",
       "      <td>0.000000</td>\n",
       "      <td>ru</td>\n",
       "    </tr>\n",
       "    <tr>\n",
       "      <th>1</th>\n",
       "      <td>25</td>\n",
       "      <td>В последнее время я её нечасто видел.</td>\n",
       "      <td>H</td>\n",
       "      <td>7.0</td>\n",
       "      <td>14.0</td>\n",
       "      <td>1.0</td>\n",
       "      <td>7.0</td>\n",
       "      <td>2.00</td>\n",
       "      <td>1.0</td>\n",
       "      <td>1.0</td>\n",
       "      <td>...</td>\n",
       "      <td>0.0</td>\n",
       "      <td>0.0</td>\n",
       "      <td>0.0</td>\n",
       "      <td>0.0</td>\n",
       "      <td>0.0</td>\n",
       "      <td>0.0</td>\n",
       "      <td>0.0</td>\n",
       "      <td>{'PREP': 1, 'ADJF': 2, 'NOUN': 1, 'NPRO': 1, '...</td>\n",
       "      <td>0.000000</td>\n",
       "      <td>ru</td>\n",
       "    </tr>\n",
       "    <tr>\n",
       "      <th>2</th>\n",
       "      <td>27</td>\n",
       "      <td>Лермонтов прибыл на Кавказ, чтобы задействоват...</td>\n",
       "      <td>M</td>\n",
       "      <td>25.0</td>\n",
       "      <td>56.0</td>\n",
       "      <td>2.0</td>\n",
       "      <td>12.5</td>\n",
       "      <td>2.24</td>\n",
       "      <td>1.0</td>\n",
       "      <td>0.0</td>\n",
       "      <td>...</td>\n",
       "      <td>0.0</td>\n",
       "      <td>0.0</td>\n",
       "      <td>0.0</td>\n",
       "      <td>0.0</td>\n",
       "      <td>0.0</td>\n",
       "      <td>0.0</td>\n",
       "      <td>0.0</td>\n",
       "      <td>{'NOUN': 11, 'VERB': 2, 'PREP': 5, 'CONJ': 2, ...</td>\n",
       "      <td>0.000000</td>\n",
       "      <td>ru</td>\n",
       "    </tr>\n",
       "    <tr>\n",
       "      <th>4</th>\n",
       "      <td>62</td>\n",
       "      <td>Однако, в рамках существующих условий «...</td>\n",
       "      <td>M</td>\n",
       "      <td>5.0</td>\n",
       "      <td>13.0</td>\n",
       "      <td>1.0</td>\n",
       "      <td>5.0</td>\n",
       "      <td>2.60</td>\n",
       "      <td>0.0</td>\n",
       "      <td>1.0</td>\n",
       "      <td>...</td>\n",
       "      <td>0.0</td>\n",
       "      <td>0.0</td>\n",
       "      <td>0.0</td>\n",
       "      <td>0.0</td>\n",
       "      <td>0.0</td>\n",
       "      <td>0.0</td>\n",
       "      <td>0.0</td>\n",
       "      <td>{'CONJ': 1, 'PREP': 1, 'NOUN': 2, 'ADJF': 1, '...</td>\n",
       "      <td>0.166667</td>\n",
       "      <td>ru</td>\n",
       "    </tr>\n",
       "    <tr>\n",
       "      <th>5</th>\n",
       "      <td>67</td>\n",
       "      <td>Указами Президента Российской Федерации от 7 м...</td>\n",
       "      <td>H</td>\n",
       "      <td>82.0</td>\n",
       "      <td>215.0</td>\n",
       "      <td>1.0</td>\n",
       "      <td>82.0</td>\n",
       "      <td>2.62</td>\n",
       "      <td>20.0</td>\n",
       "      <td>1.0</td>\n",
       "      <td>...</td>\n",
       "      <td>0.0</td>\n",
       "      <td>0.0</td>\n",
       "      <td>0.0</td>\n",
       "      <td>0.0</td>\n",
       "      <td>0.0</td>\n",
       "      <td>0.0</td>\n",
       "      <td>0.0</td>\n",
       "      <td>{'NOUN': 33, 'ADJF': 15, 'PREP': 13, 'None': 1...</td>\n",
       "      <td>0.123457</td>\n",
       "      <td>ru</td>\n",
       "    </tr>\n",
       "  </tbody>\n",
       "</table>\n",
       "<p>5 rows × 100 columns</p>\n",
       "</div>"
      ],
      "text/plain": [
       "   Id                                               Text Class  \\\n",
       "0   9  В связи с этим в подпрограмму включены следующ...     H   \n",
       "1  25              В последнее время я её нечасто видел.     H   \n",
       "2  27  Лермонтов прибыл на Кавказ, чтобы задействоват...     M   \n",
       "4  62         Однако, в рамках существующих условий «...     M   \n",
       "5  67  Указами Президента Российской Федерации от 7 м...     H   \n",
       "\n",
       "   Количество слов  Количество слогов  Количество предложений  \\\n",
       "0             18.0               51.0                     1.0   \n",
       "1              7.0               14.0                     1.0   \n",
       "2             25.0               56.0                     2.0   \n",
       "4              5.0               13.0                     1.0   \n",
       "5             82.0              215.0                     1.0   \n",
       "\n",
       "   Ср. количество слов в предложении  Ср. количество слогов в слове  \\\n",
       "0                               18.0                           2.83   \n",
       "1                                7.0                           2.00   \n",
       "2                               12.5                           2.24   \n",
       "4                                5.0                           2.60   \n",
       "5                               82.0                           2.62   \n",
       "\n",
       "   Прилагательных  Наречий  ...  POS_PRED  POS_PREP  POS_NUMR  POS_PRCL  \\\n",
       "0             3.0      0.0  ...       0.0       0.0       0.0       0.0   \n",
       "1             1.0      1.0  ...       0.0       0.0       0.0       0.0   \n",
       "2             1.0      0.0  ...       0.0       0.0       0.0       0.0   \n",
       "4             0.0      1.0  ...       0.0       0.0       0.0       0.0   \n",
       "5            20.0      1.0  ...       0.0       0.0       0.0       0.0   \n",
       "\n",
       "   POS_INTJ  POS_NPRO  POS_COMP  \\\n",
       "0       0.0       0.0       0.0   \n",
       "1       0.0       0.0       0.0   \n",
       "2       0.0       0.0       0.0   \n",
       "4       0.0       0.0       0.0   \n",
       "5       0.0       0.0       0.0   \n",
       "\n",
       "                                           CountNone  percent_of_None  \\\n",
       "0  {'PREP': 4, 'NOUN': 7, 'NPRO': 1, 'PRTS': 1, '...         0.000000   \n",
       "1  {'PREP': 1, 'ADJF': 2, 'NOUN': 1, 'NPRO': 1, '...         0.000000   \n",
       "2  {'NOUN': 11, 'VERB': 2, 'PREP': 5, 'CONJ': 2, ...         0.000000   \n",
       "4  {'CONJ': 1, 'PREP': 1, 'NOUN': 2, 'ADJF': 1, '...         0.166667   \n",
       "5  {'NOUN': 33, 'ADJF': 15, 'PREP': 13, 'None': 1...         0.123457   \n",
       "\n",
       "   Language  \n",
       "0        ru  \n",
       "1        ru  \n",
       "2        ru  \n",
       "4        ru  \n",
       "5        ru  \n",
       "\n",
       "[5 rows x 100 columns]"
      ]
     },
     "execution_count": 52,
     "metadata": {},
     "output_type": "execute_result"
    }
   ],
   "source": [
    "val['CountNone'] = list(map(Counter,val['sent_POS_Text'].str.split()))\n",
    "val.loc[:, 'percent_of_None'] = \\\n",
    "val['CountNone'].map(lambda x: x['None'])/list(map(len,val['sent_POS_Text'].str.split()))\n",
    "val.head()"
   ]
  },
  {
   "cell_type": "code",
   "execution_count": 48,
   "id": "39b1b13b",
   "metadata": {},
   "outputs": [
    {
     "name": "stdout",
     "output_type": "stream",
     "text": [
      "(126642, 82)\n",
      "(21510, 99)\n"
     ]
    }
   ],
   "source": [
    "print(train.shape)\n",
    "print(val.shape)"
   ]
  },
  {
   "cell_type": "code",
   "execution_count": 53,
   "id": "9b7fd8f9",
   "metadata": {},
   "outputs": [
    {
     "name": "stdout",
     "output_type": "stream",
     "text": [
      "(125060, 82)\n",
      "(20848, 100)\n"
     ]
    }
   ],
   "source": [
    "train = train.drop(train[train['percent_of_None'] > 0.4].index)\n",
    "val = val.drop(val[val['percent_of_None'] > 0.4].index)\n",
    "print(train.shape)\n",
    "print(val.shape)"
   ]
  },
  {
   "cell_type": "markdown",
   "id": "fb557df8",
   "metadata": {},
   "source": [
    "Переиндексируем:"
   ]
  },
  {
   "cell_type": "code",
   "execution_count": 54,
   "id": "e3eeb9e0",
   "metadata": {},
   "outputs": [],
   "source": [
    "train.reset_index(inplace=True, drop=True)\n",
    "val.reset_index(inplace=True, drop=True)"
   ]
  },
  {
   "cell_type": "code",
   "execution_count": 55,
   "id": "deeb7592",
   "metadata": {},
   "outputs": [],
   "source": [
    "vectorizer = CountVectorizer(ngram_range=(1,2))\n",
    "# Convert a collection of text documents to a matrix of token counts.\n",
    "# The lower and upper boundary of the range of n-values for different word n-grams or char n-grams\n",
    "# to be extracted.\n",
    "# All values of n such such that min_n <= n <= max_n will be used. \n",
    "# For example an ngram_range of (1, 1) means only unigrams, (1, 2) means unigrams and bigrams"
   ]
  },
  {
   "cell_type": "code",
   "execution_count": 56,
   "id": "b6771a98",
   "metadata": {},
   "outputs": [
    {
     "data": {
      "text/plain": [
       "0        H\n",
       "1        H\n",
       "2        M\n",
       "3        M\n",
       "4        H\n",
       "        ..\n",
       "20843    H\n",
       "20844    M\n",
       "20845    M\n",
       "20846    M\n",
       "20847    M\n",
       "Name: Class, Length: 20848, dtype: object"
      ]
     },
     "execution_count": 56,
     "metadata": {},
     "output_type": "execute_result"
    }
   ],
   "source": [
    "val['Class']"
   ]
  },
  {
   "cell_type": "code",
   "execution_count": 57,
   "id": "0f8c6d7a",
   "metadata": {},
   "outputs": [],
   "source": [
    "train['Class'] = train['Class'].map({'H': 0, 'M': 1})\n",
    "val['Class'] = val['Class'].map({'H': 0, 'M': 1})\n",
    "# Встроенная в Python функция map() используется для применения функции к каждому элементу итерируемого объекта"
   ]
  },
  {
   "cell_type": "code",
   "execution_count": 58,
   "id": "40501cff",
   "metadata": {},
   "outputs": [
    {
     "data": {
      "text/plain": [
       "0        0\n",
       "1        0\n",
       "2        1\n",
       "3        1\n",
       "4        0\n",
       "        ..\n",
       "20843    0\n",
       "20844    1\n",
       "20845    1\n",
       "20846    1\n",
       "20847    1\n",
       "Name: Class, Length: 20848, dtype: int64"
      ]
     },
     "execution_count": 58,
     "metadata": {},
     "output_type": "execute_result"
    }
   ],
   "source": [
    "val['Class']"
   ]
  },
  {
   "cell_type": "code",
   "execution_count": 59,
   "id": "caa7b0ee",
   "metadata": {},
   "outputs": [],
   "source": [
    "x_train = train['sent_POS_Text'].values\n",
    "x_val = val['sent_POS_Text'].values\n",
    "\n",
    "y_train = train['Class'].values\n",
    "y_val = val['Class'].values"
   ]
  },
  {
   "cell_type": "code",
   "execution_count": 60,
   "id": "17526856",
   "metadata": {},
   "outputs": [
    {
     "data": {
      "text/plain": [
       "array(['PREP ADJF ADVB NOUN NOUN VERB NOUN CONJ CONJ NOUN NOUN NOUN ADJF NOUN PRCL VERB INFN PREP ADJF ADJF NOUN CONJ NOUN ADJF NOUN INFN ADJF NOUN NOUN NPRO VERB ADJF NOUN NOUN NOUN CONJ PREP None NOUN NOUN VERB PREP ADJF NOUN NOUN PREP ADJF NOUN PREP NOUN NOUN NOUN NOUN NOUN NOUN NOUN NOUN NOUN CONJ NOUN NOUN VERB NOUN PREP NPRO NOUN VERB ADJF ADJF NOUN ADJF ADVB VERB None NOUN CONJ VERB NOUN NOUN PREP NOUN NOUN PREP None NOUN',\n",
       "       'NOUN PRTF PREP NOUN VERB PREP None NOUN PREP None NOUN',\n",
       "       'PREP ADJF NOUN NOUN NOUN NOUN VERB VERB CONJ ADJF NOUN VERB PREP NOUN NOUN',\n",
       "       ..., 'CONJ NPRO VERB CONJ INFN PREP NPRO VERB NOUN',\n",
       "       'ADJF NOUN NOUN PRTS PREP NOUN CONJ ADJF NOUN ADJF VERB NOUN NOUN PREP ADJF VERB NOUN NOUN NOUN',\n",
       "       'NPRO NOUN PREP NOUN VERB PRTS NOUN CONJ NOUN PREP NOUN ADJS NOUN NOUN ADJF PREP NOUN ADJF ADJF NOUN NOUN NOUN NOUN NOUN NOUN GRND ADJF NOUN CONJ NOUN NOUN NOUN None VERB PREP NOUN ADVB VERB None NOUN None NOUN PREP NOUN NOUN NOUN PREP NOUN PREP NOUN PREP NOUN PREP ADJF NOUN PRTF PREP NOUN NOUN PREP NOUN NOUN VERB INFN ADJF PRTF PREP ADJF NOUN PREP NOUN NOUN CONJ INFN NOUN ADJF ADJF NOUN VERB PRTS NOUN'],\n",
       "      dtype=object)"
      ]
     },
     "execution_count": 60,
     "metadata": {},
     "output_type": "execute_result"
    }
   ],
   "source": [
    "train['sent_POS_Text'].values"
   ]
  },
  {
   "cell_type": "code",
   "execution_count": 61,
   "id": "8e388dda",
   "metadata": {},
   "outputs": [],
   "source": [
    "x_train_bow = vectorizer.fit_transform(x_train)\n",
    "x_val_bow = vectorizer.transform(x_val)"
   ]
  },
  {
   "cell_type": "code",
   "execution_count": 62,
   "id": "f3cb3b97",
   "metadata": {},
   "outputs": [
    {
     "name": "stderr",
     "output_type": "stream",
     "text": [
      "/usr/local/lib/python3.7/site-packages/sklearn/utils/deprecation.py:87: FutureWarning: Function get_feature_names is deprecated; get_feature_names is deprecated in 1.0 and will be removed in 1.2. Please use get_feature_names_out instead.\n",
      "  warnings.warn(msg, category=FutureWarning)\n"
     ]
    },
    {
     "data": {
      "text/plain": [
       "['adjf',\n",
       " 'adjf adjf',\n",
       " 'adjf adjs',\n",
       " 'adjf advb',\n",
       " 'adjf comp',\n",
       " 'adjf conj',\n",
       " 'adjf grnd',\n",
       " 'adjf infn',\n",
       " 'adjf intj',\n",
       " 'adjf none',\n",
       " 'adjf noun',\n",
       " 'adjf npro',\n",
       " 'adjf numr',\n",
       " 'adjf prcl',\n",
       " 'adjf pred',\n",
       " 'adjf prep',\n",
       " 'adjf prtf',\n",
       " 'adjf prts',\n",
       " 'adjf verb',\n",
       " 'adjs',\n",
       " 'adjs adjf',\n",
       " 'adjs adjs',\n",
       " 'adjs advb',\n",
       " 'adjs comp',\n",
       " 'adjs conj',\n",
       " 'adjs grnd',\n",
       " 'adjs infn',\n",
       " 'adjs intj',\n",
       " 'adjs none',\n",
       " 'adjs noun',\n",
       " 'adjs npro',\n",
       " 'adjs numr',\n",
       " 'adjs prcl',\n",
       " 'adjs pred',\n",
       " 'adjs prep',\n",
       " 'adjs prtf',\n",
       " 'adjs prts',\n",
       " 'adjs verb',\n",
       " 'advb',\n",
       " 'advb adjf',\n",
       " 'advb adjs',\n",
       " 'advb advb',\n",
       " 'advb comp',\n",
       " 'advb conj',\n",
       " 'advb grnd',\n",
       " 'advb infn',\n",
       " 'advb intj',\n",
       " 'advb none',\n",
       " 'advb noun',\n",
       " 'advb npro',\n",
       " 'advb numr',\n",
       " 'advb prcl',\n",
       " 'advb pred',\n",
       " 'advb prep',\n",
       " 'advb prtf',\n",
       " 'advb prts',\n",
       " 'advb verb',\n",
       " 'comp',\n",
       " 'comp adjf',\n",
       " 'comp adjs',\n",
       " 'comp advb',\n",
       " 'comp comp',\n",
       " 'comp conj',\n",
       " 'comp grnd',\n",
       " 'comp infn',\n",
       " 'comp intj',\n",
       " 'comp none',\n",
       " 'comp noun',\n",
       " 'comp npro',\n",
       " 'comp numr',\n",
       " 'comp prcl',\n",
       " 'comp pred',\n",
       " 'comp prep',\n",
       " 'comp prtf',\n",
       " 'comp prts',\n",
       " 'comp verb',\n",
       " 'conj',\n",
       " 'conj adjf',\n",
       " 'conj adjs',\n",
       " 'conj advb',\n",
       " 'conj comp',\n",
       " 'conj conj',\n",
       " 'conj grnd',\n",
       " 'conj infn',\n",
       " 'conj intj',\n",
       " 'conj none',\n",
       " 'conj noun',\n",
       " 'conj npro',\n",
       " 'conj numr',\n",
       " 'conj prcl',\n",
       " 'conj pred',\n",
       " 'conj prep',\n",
       " 'conj prtf',\n",
       " 'conj prts',\n",
       " 'conj verb',\n",
       " 'grnd',\n",
       " 'grnd adjf',\n",
       " 'grnd adjs',\n",
       " 'grnd advb',\n",
       " 'grnd comp',\n",
       " 'grnd conj',\n",
       " 'grnd grnd',\n",
       " 'grnd infn',\n",
       " 'grnd intj',\n",
       " 'grnd none',\n",
       " 'grnd noun',\n",
       " 'grnd npro',\n",
       " 'grnd numr',\n",
       " 'grnd prcl',\n",
       " 'grnd pred',\n",
       " 'grnd prep',\n",
       " 'grnd prtf',\n",
       " 'grnd prts',\n",
       " 'grnd verb',\n",
       " 'infn',\n",
       " 'infn adjf',\n",
       " 'infn adjs',\n",
       " 'infn advb',\n",
       " 'infn comp',\n",
       " 'infn conj',\n",
       " 'infn grnd',\n",
       " 'infn infn',\n",
       " 'infn intj',\n",
       " 'infn none',\n",
       " 'infn noun',\n",
       " 'infn npro',\n",
       " 'infn numr',\n",
       " 'infn prcl',\n",
       " 'infn pred',\n",
       " 'infn prep',\n",
       " 'infn prtf',\n",
       " 'infn prts',\n",
       " 'infn verb',\n",
       " 'intj',\n",
       " 'intj adjf',\n",
       " 'intj adjs',\n",
       " 'intj advb',\n",
       " 'intj comp',\n",
       " 'intj conj',\n",
       " 'intj grnd',\n",
       " 'intj infn',\n",
       " 'intj intj',\n",
       " 'intj none',\n",
       " 'intj noun',\n",
       " 'intj npro',\n",
       " 'intj numr',\n",
       " 'intj prcl',\n",
       " 'intj pred',\n",
       " 'intj prep',\n",
       " 'intj prtf',\n",
       " 'intj prts',\n",
       " 'intj verb',\n",
       " 'none',\n",
       " 'none adjf',\n",
       " 'none adjs',\n",
       " 'none advb',\n",
       " 'none comp',\n",
       " 'none conj',\n",
       " 'none grnd',\n",
       " 'none infn',\n",
       " 'none intj',\n",
       " 'none none',\n",
       " 'none noun',\n",
       " 'none npro',\n",
       " 'none numr',\n",
       " 'none prcl',\n",
       " 'none pred',\n",
       " 'none prep',\n",
       " 'none prtf',\n",
       " 'none prts',\n",
       " 'none verb',\n",
       " 'noun',\n",
       " 'noun adjf',\n",
       " 'noun adjs',\n",
       " 'noun advb',\n",
       " 'noun comp',\n",
       " 'noun conj',\n",
       " 'noun grnd',\n",
       " 'noun infn',\n",
       " 'noun intj',\n",
       " 'noun none',\n",
       " 'noun noun',\n",
       " 'noun npro',\n",
       " 'noun numr',\n",
       " 'noun prcl',\n",
       " 'noun pred',\n",
       " 'noun prep',\n",
       " 'noun prtf',\n",
       " 'noun prts',\n",
       " 'noun verb',\n",
       " 'npro',\n",
       " 'npro adjf',\n",
       " 'npro adjs',\n",
       " 'npro advb',\n",
       " 'npro comp',\n",
       " 'npro conj',\n",
       " 'npro grnd',\n",
       " 'npro infn',\n",
       " 'npro intj',\n",
       " 'npro none',\n",
       " 'npro noun',\n",
       " 'npro npro',\n",
       " 'npro numr',\n",
       " 'npro prcl',\n",
       " 'npro pred',\n",
       " 'npro prep',\n",
       " 'npro prtf',\n",
       " 'npro prts',\n",
       " 'npro verb',\n",
       " 'numr',\n",
       " 'numr adjf',\n",
       " 'numr adjs',\n",
       " 'numr advb',\n",
       " 'numr comp',\n",
       " 'numr conj',\n",
       " 'numr grnd',\n",
       " 'numr infn',\n",
       " 'numr intj',\n",
       " 'numr none',\n",
       " 'numr noun',\n",
       " 'numr npro',\n",
       " 'numr numr',\n",
       " 'numr prcl',\n",
       " 'numr pred',\n",
       " 'numr prep',\n",
       " 'numr prtf',\n",
       " 'numr prts',\n",
       " 'numr verb',\n",
       " 'prcl',\n",
       " 'prcl adjf',\n",
       " 'prcl adjs',\n",
       " 'prcl advb',\n",
       " 'prcl comp',\n",
       " 'prcl conj',\n",
       " 'prcl grnd',\n",
       " 'prcl infn',\n",
       " 'prcl intj',\n",
       " 'prcl none',\n",
       " 'prcl noun',\n",
       " 'prcl npro',\n",
       " 'prcl numr',\n",
       " 'prcl prcl',\n",
       " 'prcl pred',\n",
       " 'prcl prep',\n",
       " 'prcl prtf',\n",
       " 'prcl prts',\n",
       " 'prcl verb',\n",
       " 'pred',\n",
       " 'pred adjf',\n",
       " 'pred adjs',\n",
       " 'pred advb',\n",
       " 'pred comp',\n",
       " 'pred conj',\n",
       " 'pred grnd',\n",
       " 'pred infn',\n",
       " 'pred intj',\n",
       " 'pred none',\n",
       " 'pred noun',\n",
       " 'pred npro',\n",
       " 'pred numr',\n",
       " 'pred prcl',\n",
       " 'pred pred',\n",
       " 'pred prep',\n",
       " 'pred prtf',\n",
       " 'pred prts',\n",
       " 'pred verb',\n",
       " 'prep',\n",
       " 'prep adjf',\n",
       " 'prep adjs',\n",
       " 'prep advb',\n",
       " 'prep comp',\n",
       " 'prep conj',\n",
       " 'prep grnd',\n",
       " 'prep infn',\n",
       " 'prep intj',\n",
       " 'prep none',\n",
       " 'prep noun',\n",
       " 'prep npro',\n",
       " 'prep numr',\n",
       " 'prep prcl',\n",
       " 'prep pred',\n",
       " 'prep prep',\n",
       " 'prep prtf',\n",
       " 'prep prts',\n",
       " 'prep verb',\n",
       " 'prtf',\n",
       " 'prtf adjf',\n",
       " 'prtf adjs',\n",
       " 'prtf advb',\n",
       " 'prtf comp',\n",
       " 'prtf conj',\n",
       " 'prtf grnd',\n",
       " 'prtf infn',\n",
       " 'prtf intj',\n",
       " 'prtf none',\n",
       " 'prtf noun',\n",
       " 'prtf npro',\n",
       " 'prtf numr',\n",
       " 'prtf prcl',\n",
       " 'prtf pred',\n",
       " 'prtf prep',\n",
       " 'prtf prtf',\n",
       " 'prtf prts',\n",
       " 'prtf verb',\n",
       " 'prts',\n",
       " 'prts adjf',\n",
       " 'prts adjs',\n",
       " 'prts advb',\n",
       " 'prts comp',\n",
       " 'prts conj',\n",
       " 'prts grnd',\n",
       " 'prts infn',\n",
       " 'prts intj',\n",
       " 'prts none',\n",
       " 'prts noun',\n",
       " 'prts npro',\n",
       " 'prts numr',\n",
       " 'prts prcl',\n",
       " 'prts pred',\n",
       " 'prts prep',\n",
       " 'prts prtf',\n",
       " 'prts prts',\n",
       " 'prts verb',\n",
       " 'verb',\n",
       " 'verb adjf',\n",
       " 'verb adjs',\n",
       " 'verb advb',\n",
       " 'verb comp',\n",
       " 'verb conj',\n",
       " 'verb grnd',\n",
       " 'verb infn',\n",
       " 'verb intj',\n",
       " 'verb none',\n",
       " 'verb noun',\n",
       " 'verb npro',\n",
       " 'verb numr',\n",
       " 'verb prcl',\n",
       " 'verb pred',\n",
       " 'verb prep',\n",
       " 'verb prtf',\n",
       " 'verb prts',\n",
       " 'verb verb']"
      ]
     },
     "execution_count": 62,
     "metadata": {},
     "output_type": "execute_result"
    }
   ],
   "source": [
    "vectorizer.get_feature_names()\n",
    "# http://zabaykin.ru/?p=463"
   ]
  },
  {
   "cell_type": "code",
   "execution_count": 63,
   "id": "4aa6a275",
   "metadata": {},
   "outputs": [],
   "source": [
    "lr = LogisticRegression(solver='liblinear')\n",
    "# solver: Algorithm to use in the optimization problem. Default is ‘lbfgs’.\n",
    "# To choose a solver, you might want to consider the following aspects:\n",
    "# For small datasets, ‘liblinear’ is a good choice, whereas ‘sag’ and ‘saga’ are faster for large ones;\n",
    "svc = SVC()\n",
    "# For large datasets consider using LinearSVC or SGDClassifier instead, possibly after a Nystroem transformer."
   ]
  },
  {
   "cell_type": "code",
   "execution_count": 64,
   "id": "8ea6dcb2",
   "metadata": {},
   "outputs": [],
   "source": [
    "lr.fit(x_train_bow, y_train)\n",
    "y_pred = lr.predict(x_val_bow)"
   ]
  },
  {
   "cell_type": "code",
   "execution_count": 65,
   "id": "e6b54c4b",
   "metadata": {},
   "outputs": [
    {
     "name": "stderr",
     "output_type": "stream",
     "text": [
      "/usr/local/lib/python3.7/site-packages/sklearn/utils/deprecation.py:87: FutureWarning: Function get_feature_names is deprecated; get_feature_names is deprecated in 1.0 and will be removed in 1.2. Please use get_feature_names_out instead.\n",
      "  warnings.warn(msg, category=FutureWarning)\n"
     ]
    },
    {
     "data": {
      "text/html": [
       "<div>\n",
       "<style scoped>\n",
       "    .dataframe tbody tr th:only-of-type {\n",
       "        vertical-align: middle;\n",
       "    }\n",
       "\n",
       "    .dataframe tbody tr th {\n",
       "        vertical-align: top;\n",
       "    }\n",
       "\n",
       "    .dataframe thead th {\n",
       "        text-align: right;\n",
       "    }\n",
       "</style>\n",
       "<table border=\"1\" class=\"dataframe\">\n",
       "  <thead>\n",
       "    <tr style=\"text-align: right;\">\n",
       "      <th></th>\n",
       "      <th>feature</th>\n",
       "      <th>coef</th>\n",
       "    </tr>\n",
       "  </thead>\n",
       "  <tbody>\n",
       "    <tr>\n",
       "      <th>266</th>\n",
       "      <td>prep</td>\n",
       "      <td>1.4745826421304147</td>\n",
       "    </tr>\n",
       "    <tr>\n",
       "      <th>66</th>\n",
       "      <td>comp none</td>\n",
       "      <td>1.3610935377819602</td>\n",
       "    </tr>\n",
       "    <tr>\n",
       "      <th>156</th>\n",
       "      <td>none comp</td>\n",
       "      <td>1.1015844005642328</td>\n",
       "    </tr>\n",
       "    <tr>\n",
       "      <th>255</th>\n",
       "      <td>pred intj</td>\n",
       "      <td>1.0689129543211784</td>\n",
       "    </tr>\n",
       "    <tr>\n",
       "      <th>60</th>\n",
       "      <td>comp advb</td>\n",
       "      <td>1.0042036345192429</td>\n",
       "    </tr>\n",
       "  </tbody>\n",
       "</table>\n",
       "</div>"
      ],
      "text/plain": [
       "       feature                coef\n",
       "266       prep  1.4745826421304147\n",
       "66   comp none  1.3610935377819602\n",
       "156  none comp  1.1015844005642328\n",
       "255  pred intj  1.0689129543211784\n",
       "60   comp advb  1.0042036345192429"
      ]
     },
     "execution_count": 65,
     "metadata": {},
     "output_type": "execute_result"
    }
   ],
   "source": [
    "pd.DataFrame(np.c_[np.array(list(vectorizer.get_feature_names())), lr.coef_[0]],\n",
    "             columns=['feature', 'coef']).sort_values(by='coef', ascending=False).head(5)\n",
    "# np.c_ = concatenate\n",
    "# мы конкатенейтим 2 аррея\n",
    "# vectorizer.get_feature_names() = словарь всех фичей векторайзера, ключи=фичи, значение = номер колонки в векторайзере\n",
    "# list(vectorizer.vocabulary_) = лист фичей векторайзера\n",
    "# vectorizer.getfeautre_names ???\n",
    "# lr.coef_ = насколько фичи важны при принятии решения моделью\n",
    "# получаем слитки из фичи и её коефа\n",
    "# делаем из этого датафрейм\n",
    "# колонки: ['feature', 'coef']\n",
    "# сортируем это по коефу в убывающем порядке"
   ]
  },
  {
   "cell_type": "code",
   "execution_count": 66,
   "id": "6b3540b7",
   "metadata": {},
   "outputs": [
    {
     "name": "stderr",
     "output_type": "stream",
     "text": [
      "/usr/local/lib/python3.7/site-packages/sklearn/utils/deprecation.py:87: FutureWarning: Function get_feature_names is deprecated; get_feature_names is deprecated in 1.0 and will be removed in 1.2. Please use get_feature_names_out instead.\n",
      "  warnings.warn(msg, category=FutureWarning)\n"
     ]
    }
   ],
   "source": [
    "bow_train = pd.DataFrame(x_train_bow.toarray(), columns=vectorizer.get_feature_names())\n",
    "bow_train['Class'] = train['Class']"
   ]
  },
  {
   "cell_type": "code",
   "execution_count": 67,
   "id": "5c62c828",
   "metadata": {},
   "outputs": [],
   "source": [
    "bow_train['Количество слов'] = train['Количество слов']"
   ]
  },
  {
   "cell_type": "code",
   "execution_count": 68,
   "id": "6bc3a95a",
   "metadata": {},
   "outputs": [
    {
     "data": {
      "text/html": [
       "<div>\n",
       "<style scoped>\n",
       "    .dataframe tbody tr th:only-of-type {\n",
       "        vertical-align: middle;\n",
       "    }\n",
       "\n",
       "    .dataframe tbody tr th {\n",
       "        vertical-align: top;\n",
       "    }\n",
       "\n",
       "    .dataframe thead th {\n",
       "        text-align: right;\n",
       "    }\n",
       "</style>\n",
       "<table border=\"1\" class=\"dataframe\">\n",
       "  <thead>\n",
       "    <tr style=\"text-align: right;\">\n",
       "      <th></th>\n",
       "      <th>adjf</th>\n",
       "      <th>adjf adjf</th>\n",
       "      <th>adjf adjs</th>\n",
       "      <th>adjf advb</th>\n",
       "      <th>adjf comp</th>\n",
       "      <th>adjf conj</th>\n",
       "      <th>adjf grnd</th>\n",
       "      <th>adjf infn</th>\n",
       "      <th>adjf intj</th>\n",
       "      <th>adjf none</th>\n",
       "      <th>...</th>\n",
       "      <th>verb npro</th>\n",
       "      <th>verb numr</th>\n",
       "      <th>verb prcl</th>\n",
       "      <th>verb pred</th>\n",
       "      <th>verb prep</th>\n",
       "      <th>verb prtf</th>\n",
       "      <th>verb prts</th>\n",
       "      <th>verb verb</th>\n",
       "      <th>Class</th>\n",
       "      <th>Количество слов</th>\n",
       "    </tr>\n",
       "  </thead>\n",
       "  <tbody>\n",
       "    <tr>\n",
       "      <th>0</th>\n",
       "      <td>12</td>\n",
       "      <td>2</td>\n",
       "      <td>0</td>\n",
       "      <td>2</td>\n",
       "      <td>0</td>\n",
       "      <td>0</td>\n",
       "      <td>0</td>\n",
       "      <td>0</td>\n",
       "      <td>0</td>\n",
       "      <td>0</td>\n",
       "      <td>...</td>\n",
       "      <td>0</td>\n",
       "      <td>0</td>\n",
       "      <td>0</td>\n",
       "      <td>0</td>\n",
       "      <td>1</td>\n",
       "      <td>0</td>\n",
       "      <td>0</td>\n",
       "      <td>0</td>\n",
       "      <td>0</td>\n",
       "      <td>85.0</td>\n",
       "    </tr>\n",
       "    <tr>\n",
       "      <th>1</th>\n",
       "      <td>0</td>\n",
       "      <td>0</td>\n",
       "      <td>0</td>\n",
       "      <td>0</td>\n",
       "      <td>0</td>\n",
       "      <td>0</td>\n",
       "      <td>0</td>\n",
       "      <td>0</td>\n",
       "      <td>0</td>\n",
       "      <td>0</td>\n",
       "      <td>...</td>\n",
       "      <td>0</td>\n",
       "      <td>0</td>\n",
       "      <td>0</td>\n",
       "      <td>0</td>\n",
       "      <td>1</td>\n",
       "      <td>0</td>\n",
       "      <td>0</td>\n",
       "      <td>0</td>\n",
       "      <td>0</td>\n",
       "      <td>11.0</td>\n",
       "    </tr>\n",
       "    <tr>\n",
       "      <th>5</th>\n",
       "      <td>4</td>\n",
       "      <td>1</td>\n",
       "      <td>0</td>\n",
       "      <td>0</td>\n",
       "      <td>0</td>\n",
       "      <td>0</td>\n",
       "      <td>0</td>\n",
       "      <td>0</td>\n",
       "      <td>0</td>\n",
       "      <td>0</td>\n",
       "      <td>...</td>\n",
       "      <td>1</td>\n",
       "      <td>0</td>\n",
       "      <td>2</td>\n",
       "      <td>0</td>\n",
       "      <td>0</td>\n",
       "      <td>0</td>\n",
       "      <td>0</td>\n",
       "      <td>0</td>\n",
       "      <td>0</td>\n",
       "      <td>20.0</td>\n",
       "    </tr>\n",
       "    <tr>\n",
       "      <th>12</th>\n",
       "      <td>0</td>\n",
       "      <td>0</td>\n",
       "      <td>0</td>\n",
       "      <td>0</td>\n",
       "      <td>0</td>\n",
       "      <td>0</td>\n",
       "      <td>0</td>\n",
       "      <td>0</td>\n",
       "      <td>0</td>\n",
       "      <td>0</td>\n",
       "      <td>...</td>\n",
       "      <td>0</td>\n",
       "      <td>0</td>\n",
       "      <td>0</td>\n",
       "      <td>0</td>\n",
       "      <td>0</td>\n",
       "      <td>0</td>\n",
       "      <td>0</td>\n",
       "      <td>0</td>\n",
       "      <td>1</td>\n",
       "      <td>12.0</td>\n",
       "    </tr>\n",
       "    <tr>\n",
       "      <th>13</th>\n",
       "      <td>1</td>\n",
       "      <td>0</td>\n",
       "      <td>0</td>\n",
       "      <td>0</td>\n",
       "      <td>0</td>\n",
       "      <td>0</td>\n",
       "      <td>0</td>\n",
       "      <td>0</td>\n",
       "      <td>0</td>\n",
       "      <td>0</td>\n",
       "      <td>...</td>\n",
       "      <td>0</td>\n",
       "      <td>0</td>\n",
       "      <td>0</td>\n",
       "      <td>0</td>\n",
       "      <td>2</td>\n",
       "      <td>0</td>\n",
       "      <td>0</td>\n",
       "      <td>0</td>\n",
       "      <td>0</td>\n",
       "      <td>17.0</td>\n",
       "    </tr>\n",
       "    <tr>\n",
       "      <th>...</th>\n",
       "      <td>...</td>\n",
       "      <td>...</td>\n",
       "      <td>...</td>\n",
       "      <td>...</td>\n",
       "      <td>...</td>\n",
       "      <td>...</td>\n",
       "      <td>...</td>\n",
       "      <td>...</td>\n",
       "      <td>...</td>\n",
       "      <td>...</td>\n",
       "      <td>...</td>\n",
       "      <td>...</td>\n",
       "      <td>...</td>\n",
       "      <td>...</td>\n",
       "      <td>...</td>\n",
       "      <td>...</td>\n",
       "      <td>...</td>\n",
       "      <td>...</td>\n",
       "      <td>...</td>\n",
       "      <td>...</td>\n",
       "      <td>...</td>\n",
       "    </tr>\n",
       "    <tr>\n",
       "      <th>125052</th>\n",
       "      <td>8</td>\n",
       "      <td>0</td>\n",
       "      <td>0</td>\n",
       "      <td>0</td>\n",
       "      <td>0</td>\n",
       "      <td>0</td>\n",
       "      <td>0</td>\n",
       "      <td>0</td>\n",
       "      <td>0</td>\n",
       "      <td>0</td>\n",
       "      <td>...</td>\n",
       "      <td>0</td>\n",
       "      <td>0</td>\n",
       "      <td>0</td>\n",
       "      <td>0</td>\n",
       "      <td>0</td>\n",
       "      <td>0</td>\n",
       "      <td>0</td>\n",
       "      <td>0</td>\n",
       "      <td>1</td>\n",
       "      <td>77.0</td>\n",
       "    </tr>\n",
       "    <tr>\n",
       "      <th>125054</th>\n",
       "      <td>9</td>\n",
       "      <td>0</td>\n",
       "      <td>0</td>\n",
       "      <td>0</td>\n",
       "      <td>0</td>\n",
       "      <td>2</td>\n",
       "      <td>0</td>\n",
       "      <td>0</td>\n",
       "      <td>0</td>\n",
       "      <td>1</td>\n",
       "      <td>...</td>\n",
       "      <td>2</td>\n",
       "      <td>0</td>\n",
       "      <td>0</td>\n",
       "      <td>0</td>\n",
       "      <td>1</td>\n",
       "      <td>0</td>\n",
       "      <td>0</td>\n",
       "      <td>0</td>\n",
       "      <td>1</td>\n",
       "      <td>96.0</td>\n",
       "    </tr>\n",
       "    <tr>\n",
       "      <th>125055</th>\n",
       "      <td>0</td>\n",
       "      <td>0</td>\n",
       "      <td>0</td>\n",
       "      <td>0</td>\n",
       "      <td>0</td>\n",
       "      <td>0</td>\n",
       "      <td>0</td>\n",
       "      <td>0</td>\n",
       "      <td>0</td>\n",
       "      <td>0</td>\n",
       "      <td>...</td>\n",
       "      <td>1</td>\n",
       "      <td>0</td>\n",
       "      <td>0</td>\n",
       "      <td>0</td>\n",
       "      <td>0</td>\n",
       "      <td>0</td>\n",
       "      <td>0</td>\n",
       "      <td>0</td>\n",
       "      <td>0</td>\n",
       "      <td>4.0</td>\n",
       "    </tr>\n",
       "    <tr>\n",
       "      <th>125056</th>\n",
       "      <td>1</td>\n",
       "      <td>0</td>\n",
       "      <td>0</td>\n",
       "      <td>0</td>\n",
       "      <td>0</td>\n",
       "      <td>0</td>\n",
       "      <td>0</td>\n",
       "      <td>0</td>\n",
       "      <td>0</td>\n",
       "      <td>0</td>\n",
       "      <td>...</td>\n",
       "      <td>0</td>\n",
       "      <td>0</td>\n",
       "      <td>0</td>\n",
       "      <td>0</td>\n",
       "      <td>0</td>\n",
       "      <td>0</td>\n",
       "      <td>1</td>\n",
       "      <td>0</td>\n",
       "      <td>1</td>\n",
       "      <td>8.0</td>\n",
       "    </tr>\n",
       "    <tr>\n",
       "      <th>125059</th>\n",
       "      <td>9</td>\n",
       "      <td>2</td>\n",
       "      <td>0</td>\n",
       "      <td>0</td>\n",
       "      <td>0</td>\n",
       "      <td>0</td>\n",
       "      <td>0</td>\n",
       "      <td>0</td>\n",
       "      <td>0</td>\n",
       "      <td>0</td>\n",
       "      <td>...</td>\n",
       "      <td>0</td>\n",
       "      <td>0</td>\n",
       "      <td>0</td>\n",
       "      <td>0</td>\n",
       "      <td>1</td>\n",
       "      <td>0</td>\n",
       "      <td>2</td>\n",
       "      <td>0</td>\n",
       "      <td>0</td>\n",
       "      <td>81.0</td>\n",
       "    </tr>\n",
       "  </tbody>\n",
       "</table>\n",
       "<p>52684 rows × 344 columns</p>\n",
       "</div>"
      ],
      "text/plain": [
       "        adjf  adjf adjf  adjf adjs  adjf advb  adjf comp  adjf conj  \\\n",
       "0         12          2          0          2          0          0   \n",
       "1          0          0          0          0          0          0   \n",
       "5          4          1          0          0          0          0   \n",
       "12         0          0          0          0          0          0   \n",
       "13         1          0          0          0          0          0   \n",
       "...      ...        ...        ...        ...        ...        ...   \n",
       "125052     8          0          0          0          0          0   \n",
       "125054     9          0          0          0          0          2   \n",
       "125055     0          0          0          0          0          0   \n",
       "125056     1          0          0          0          0          0   \n",
       "125059     9          2          0          0          0          0   \n",
       "\n",
       "        adjf grnd  adjf infn  adjf intj  adjf none  ...  verb npro  verb numr  \\\n",
       "0               0          0          0          0  ...          0          0   \n",
       "1               0          0          0          0  ...          0          0   \n",
       "5               0          0          0          0  ...          1          0   \n",
       "12              0          0          0          0  ...          0          0   \n",
       "13              0          0          0          0  ...          0          0   \n",
       "...           ...        ...        ...        ...  ...        ...        ...   \n",
       "125052          0          0          0          0  ...          0          0   \n",
       "125054          0          0          0          1  ...          2          0   \n",
       "125055          0          0          0          0  ...          1          0   \n",
       "125056          0          0          0          0  ...          0          0   \n",
       "125059          0          0          0          0  ...          0          0   \n",
       "\n",
       "        verb prcl  verb pred  verb prep  verb prtf  verb prts  verb verb  \\\n",
       "0               0          0          1          0          0          0   \n",
       "1               0          0          1          0          0          0   \n",
       "5               2          0          0          0          0          0   \n",
       "12              0          0          0          0          0          0   \n",
       "13              0          0          2          0          0          0   \n",
       "...           ...        ...        ...        ...        ...        ...   \n",
       "125052          0          0          0          0          0          0   \n",
       "125054          0          0          1          0          0          0   \n",
       "125055          0          0          0          0          0          0   \n",
       "125056          0          0          0          0          1          0   \n",
       "125059          0          0          1          0          2          0   \n",
       "\n",
       "        Class  Количество слов  \n",
       "0           0             85.0  \n",
       "1           0             11.0  \n",
       "5           0             20.0  \n",
       "12          1             12.0  \n",
       "13          0             17.0  \n",
       "...       ...              ...  \n",
       "125052      1             77.0  \n",
       "125054      1             96.0  \n",
       "125055      0              4.0  \n",
       "125056      1              8.0  \n",
       "125059      0             81.0  \n",
       "\n",
       "[52684 rows x 344 columns]"
      ]
     },
     "execution_count": 68,
     "metadata": {},
     "output_type": "execute_result"
    }
   ],
   "source": [
    "bow_train[bow_train['none']!=0]"
   ]
  },
  {
   "cell_type": "code",
   "execution_count": 70,
   "id": "d6f93e14",
   "metadata": {},
   "outputs": [
    {
     "name": "stdout",
     "output_type": "stream",
     "text": [
      "Многие фронтовики из Косогор были награждены орденами и медалями. В селе установлен памятник воинам, погибшим на фронтах Великой Отечественной войны.Уроженец села Маркин Андрей Семенович,будучи кадровым военным и командиром взвода Т34, дошёл до Берлина,где погиб 27 апреля 1945 года. По воспоминаниям жителей села при весте о Победе над Германией, у Никольской церкви,переделанной на время войны под склад зерна, стали собираться все жившие на тот момент в Косогорах люди и праздновать Победу. Все ближайшие улицы были заполнены людьми. \n",
      " ['NPRO', 'NOUN', 'PREP', 'NOUN', 'VERB', 'PRTS', 'NOUN', 'CONJ', 'NOUN', 'PREP', 'NOUN', 'ADJS', 'NOUN', 'NOUN', 'ADJF', 'PREP', 'NOUN', 'ADJF', 'ADJF', 'NOUN', 'NOUN', 'NOUN', 'NOUN', 'NOUN', 'NOUN', 'GRND', 'ADJF', 'NOUN', 'CONJ', 'NOUN', 'NOUN', 'NOUN', None, 'VERB', 'PREP', 'NOUN', 'ADVB', 'VERB', None, 'NOUN', None, 'NOUN', 'PREP', 'NOUN', 'NOUN', 'NOUN', 'PREP', 'NOUN', 'PREP', 'NOUN', 'PREP', 'NOUN', 'PREP', 'ADJF', 'NOUN', 'PRTF', 'PREP', 'NOUN', 'NOUN', 'PREP', 'NOUN', 'NOUN', 'VERB', 'INFN', 'ADJF', 'PRTF', 'PREP', 'ADJF', 'NOUN', 'PREP', 'NOUN', 'NOUN', 'CONJ', 'INFN', 'NOUN', 'ADJF', 'ADJF', 'NOUN', 'VERB', 'PRTS', 'NOUN']\n"
     ]
    }
   ],
   "source": [
    "print(train['Text'].iloc[125059],'\\n',train['POS_Text'].iloc[125059])"
   ]
  },
  {
   "cell_type": "markdown",
   "id": "a2616a95",
   "metadata": {},
   "source": [
    "# АНАЛИЗ ДАННЫХ"
   ]
  },
  {
   "cell_type": "code",
   "execution_count": 71,
   "id": "b567b175",
   "metadata": {},
   "outputs": [],
   "source": [
    "import seaborn as sns"
   ]
  },
  {
   "cell_type": "markdown",
   "id": "5668a178",
   "metadata": {},
   "source": [
    "Анализируем фичи с наибольшим coef из кода выше."
   ]
  },
  {
   "cell_type": "code",
   "execution_count": 72,
   "id": "b3d7339e",
   "metadata": {},
   "outputs": [
    {
     "data": {
      "text/plain": [
       "(125060, 344)"
      ]
     },
     "execution_count": 72,
     "metadata": {},
     "output_type": "execute_result"
    }
   ],
   "source": [
    "bow_train.shape"
   ]
  },
  {
   "cell_type": "code",
   "execution_count": 73,
   "id": "ef19add8",
   "metadata": {},
   "outputs": [
    {
     "data": {
      "text/plain": [
       "103476"
      ]
     },
     "execution_count": 73,
     "metadata": {},
     "output_type": "execute_result"
    }
   ],
   "source": [
    "bow_train[bow_train['prep']!=0]['prep'].count()\n",
    "# эта фича встречается в 103476 текстах из 125060, это может быть показательно"
   ]
  },
  {
   "cell_type": "code",
   "execution_count": 74,
   "id": "424eb777",
   "metadata": {},
   "outputs": [],
   "source": [
    "bow_human = bow_train[bow_train['Class'] == 0]\n",
    "bow_machine = bow_train[bow_train['Class'] == 1]"
   ]
  },
  {
   "cell_type": "code",
   "execution_count": 75,
   "id": "bac662f1",
   "metadata": {},
   "outputs": [
    {
     "name": "stdout",
     "output_type": "stream",
     "text": [
      "51128\n",
      "52348\n"
     ]
    }
   ],
   "source": [
    "print(bow_human[bow_human['prep']!=0]['prep'].count())\n",
    "print(bow_machine[bow_machine['prep']!=0]['prep'].count())\n",
    "# из них в 51128 human и 52348, так что наличие фичи нам ни о чем не говорит"
   ]
  },
  {
   "cell_type": "code",
   "execution_count": 76,
   "id": "061f0f81",
   "metadata": {},
   "outputs": [
    {
     "name": "stdout",
     "output_type": "stream",
     "text": [
      "244387\n",
      "235715\n"
     ]
    }
   ],
   "source": [
    "print(bow_train.loc[bow_train['Class'] == 0]['prep'].sum())\n",
    "print(bow_train.loc[bow_train['Class'] == 1]['prep'].sum())\n",
    "# общее количество также ни о чем не говорит"
   ]
  },
  {
   "cell_type": "markdown",
   "id": "03e784eb",
   "metadata": {},
   "source": [
    "Посмотрим распределение по количеству этих биграмм на текст."
   ]
  },
  {
   "cell_type": "code",
   "execution_count": 77,
   "id": "8c411038",
   "metadata": {},
   "outputs": [
    {
     "data": {
      "text/plain": [
       "<AxesSubplot:xlabel='prep', ylabel='Count'>"
      ]
     },
     "execution_count": 77,
     "metadata": {},
     "output_type": "execute_result"
    },
    {
     "data": {
      "image/png": "[encoded data removed]",
      "text/plain": [
       "<Figure size 432x288 with 1 Axes>"
      ]
     },
     "metadata": {
      "needs_background": "light"
     },
     "output_type": "display_data"
    }
   ],
   "source": [
    "sns.histplot(data=bow_train[(bow_train['Class']==0)&(bow_train['prep']!=0)], x='prep')"
   ]
  },
  {
   "cell_type": "code",
   "execution_count": 78,
   "id": "00722421",
   "metadata": {},
   "outputs": [
    {
     "data": {
      "text/plain": [
       "<AxesSubplot:xlabel='prep', ylabel='Count'>"
      ]
     },
     "execution_count": 78,
     "metadata": {},
     "output_type": "execute_result"
    },
    {
     "data": {
      "image/png": "[encoded data removed]",
      "text/plain": [
       "<Figure size 432x288 with 1 Axes>"
      ]
     },
     "metadata": {
      "needs_background": "light"
     },
     "output_type": "display_data"
    }
   ],
   "source": [
    "sns.histplot(data=bow_train[(bow_train['Class']==1)&(bow_train['prep']!=0)], x='prep')"
   ]
  },
  {
   "cell_type": "code",
   "execution_count": null,
   "id": "a7f1e428",
   "metadata": {},
   "outputs": [],
   "source": [
    "# sns.displot(data=bow_train, x='prep grnd', hue=\"Class\", col = \"Class\")"
   ]
  },
  {
   "cell_type": "code",
   "execution_count": 79,
   "id": "4cbb2265",
   "metadata": {},
   "outputs": [
    {
     "data": {
      "text/plain": [
       "61"
      ]
     },
     "execution_count": 79,
     "metadata": {},
     "output_type": "execute_result"
    }
   ],
   "source": [
    "max(bow_train.loc[bow_train['Class'] == 0]['prep'])"
   ]
  },
  {
   "cell_type": "code",
   "execution_count": 80,
   "id": "3a59aa16",
   "metadata": {},
   "outputs": [
    {
     "data": {
      "text/plain": [
       "37"
      ]
     },
     "execution_count": 80,
     "metadata": {},
     "output_type": "execute_result"
    }
   ],
   "source": [
    "max(bow_train.loc[bow_train['Class'] == 1]['prep'])"
   ]
  },
  {
   "cell_type": "markdown",
   "id": "0a4bd1c7",
   "metadata": {},
   "source": [
    "По этому распределению мы видим что эта унирамма встречается в обеих группах практически одинаково."
   ]
  },
  {
   "cell_type": "code",
   "execution_count": 81,
   "id": "5969ed69",
   "metadata": {},
   "outputs": [
    {
     "data": {
      "text/plain": [
       "2.0"
      ]
     },
     "execution_count": 81,
     "metadata": {},
     "output_type": "execute_result"
    }
   ],
   "source": [
    "bow_train.loc[bow_train['Class'] == 0]['prep'].median()"
   ]
  },
  {
   "cell_type": "code",
   "execution_count": 82,
   "id": "83605554",
   "metadata": {},
   "outputs": [
    {
     "data": {
      "text/plain": [
       "2.0"
      ]
     },
     "execution_count": 82,
     "metadata": {},
     "output_type": "execute_result"
    }
   ],
   "source": [
    "bow_train.loc[bow_train['Class'] == 1]['prep'].median()"
   ]
  },
  {
   "cell_type": "markdown",
   "id": "1e11a405",
   "metadata": {},
   "source": [
    "Изобразим распределение на другом графике:"
   ]
  },
  {
   "cell_type": "code",
   "execution_count": 83,
   "id": "88199699",
   "metadata": {},
   "outputs": [
    {
     "data": {
      "text/plain": [
       "<AxesSubplot:xlabel='Class', ylabel='prep'>"
      ]
     },
     "execution_count": 83,
     "metadata": {},
     "output_type": "execute_result"
    },
    {
     "data": {
      "image/png": "[encoded data removed]",
      "text/plain": [
       "<Figure size 432x288 with 1 Axes>"
      ]
     },
     "metadata": {
      "needs_background": "light"
     },
     "output_type": "display_data"
    }
   ],
   "source": [
    "sns.violinplot(x=\"Class\", y=\"prep\", data=bow_train)"
   ]
  },
  {
   "cell_type": "markdown",
   "id": "8c99cc03",
   "metadata": {},
   "source": [
    "Вывод: распределение по этой биграмме визуально практически не отличается. Остальные биграммы встречаются очень в маленьком количестве, непонятно, насколько такое получится использовать. Вторая по coef биграмма встречается максимум 4 раза в одном тексте:"
   ]
  },
  {
   "cell_type": "code",
   "execution_count": 84,
   "id": "7bb912ba",
   "metadata": {},
   "outputs": [
    {
     "data": {
      "text/plain": [
       "1055"
      ]
     },
     "execution_count": 84,
     "metadata": {},
     "output_type": "execute_result"
    }
   ],
   "source": [
    "bow_train[bow_train['comp none']!=0]['comp none'].count()"
   ]
  },
  {
   "cell_type": "code",
   "execution_count": 85,
   "id": "0f068fb8",
   "metadata": {},
   "outputs": [
    {
     "data": {
      "text/plain": [
       "<AxesSubplot:xlabel='Class', ylabel='comp none'>"
      ]
     },
     "execution_count": 85,
     "metadata": {},
     "output_type": "execute_result"
    },
    {
     "data": {
      "image/png": "[encoded data removed]",
      "text/plain": [
       "<Figure size 432x288 with 1 Axes>"
      ]
     },
     "metadata": {
      "needs_background": "light"
     },
     "output_type": "display_data"
    }
   ],
   "source": [
    "sns.violinplot(x=\"Class\", y=\"comp none\", data=bow_train)"
   ]
  },
  {
   "cell_type": "code",
   "execution_count": 86,
   "id": "b21dfe19",
   "metadata": {},
   "outputs": [
    {
     "data": {
      "text/plain": [
       "<AxesSubplot:xlabel='comp none', ylabel='Count'>"
      ]
     },
     "execution_count": 86,
     "metadata": {},
     "output_type": "execute_result"
    },
    {
     "data": {
      "image/png": "[encoded data removed]",
      "text/plain": [
       "<Figure size 432x288 with 1 Axes>"
      ]
     },
     "metadata": {
      "needs_background": "light"
     },
     "output_type": "display_data"
    }
   ],
   "source": [
    "sns.histplot(data=bow_train, x='comp none')\n",
    "# по второй биграмме делаем вывод что практически во всех текстах их 0, и в очень маленьком количестве текстов она от 1 до 4"
   ]
  },
  {
   "cell_type": "code",
   "execution_count": 87,
   "id": "08f2aa66",
   "metadata": {},
   "outputs": [
    {
     "data": {
      "text/plain": [
       "<AxesSubplot:xlabel='comp none', ylabel='Count'>"
      ]
     },
     "execution_count": 87,
     "metadata": {},
     "output_type": "execute_result"
    },
    {
     "data": {
      "image/png": "[encoded data removed]",
      "text/plain": [
       "<Figure size 720x360 with 1 Axes>"
      ]
     },
     "metadata": {
      "needs_background": "light"
     },
     "output_type": "display_data"
    }
   ],
   "source": [
    "import matplotlib.pyplot as plt\n",
    "plt.subplots(figsize=(10,5))\n",
    "sns.histplot(data=bow_train[bow_train[\"comp none\"]!=0], x=\"comp none\", hue=\"Class\", multiple=\"dodge\", shrink=1,\\\n",
    "            bins=8)"
   ]
  },
  {
   "cell_type": "code",
   "execution_count": 88,
   "id": "4992ca6d",
   "metadata": {},
   "outputs": [
    {
     "name": "stdout",
     "output_type": "stream",
     "text": [
      "Биграмма \"comp none\" встречается 1 раз в 920 текстах\n",
      "Из них в сгенерированных текстах: 738 раз\n",
      "В human текстах: 182 раз\n"
     ]
    }
   ],
   "source": [
    "a = bow_train[bow_train['comp none'] == 1]['comp none'].sum()\n",
    "b = bow_train[(bow_train['comp none'] == 1) & (bow_train['Class'] == 1)]['comp none'].sum()\n",
    "c = bow_train[(bow_train['comp none'] == 1) & (bow_train['Class'] == 0)]['comp none'].sum()\n",
    "print(f'Биграмма \"comp none\" встречается 1 раз в {a} текстах')\n",
    "print(f'Из них в сгенерированных текстах: {b} раз')\n",
    "print(f'В human текстах: {c} раз')"
   ]
  },
  {
   "cell_type": "code",
   "execution_count": 89,
   "id": "d25eb744",
   "metadata": {},
   "outputs": [
    {
     "name": "stdout",
     "output_type": "stream",
     "text": [
      "Биграмма \"comp none\" встречается 2 раза в 123 текстах\n",
      "Из них в сгенерированных текстах: 89 раз\n",
      "В human текстах: 34 раз\n"
     ]
    }
   ],
   "source": [
    "a = int(bow_train[bow_train['comp none'] == 2]['comp none'].sum()/2)\n",
    "b = int(bow_train[(bow_train['comp none'] == 2) & (bow_train['Class'] == 1)]['comp none'].sum()/2)\n",
    "c = int(bow_train[(bow_train['comp none'] == 2) & (bow_train['Class'] == 0)]['comp none'].sum()/2)\n",
    "print(f'Биграмма \"comp none\" встречается 2 раза в {a} текстах')\n",
    "print(f'Из них в сгенерированных текстах: {b} раз')\n",
    "print(f'В human текстах: {c} раз')"
   ]
  },
  {
   "cell_type": "code",
   "execution_count": 90,
   "id": "ae584d2a",
   "metadata": {},
   "outputs": [
    {
     "name": "stdout",
     "output_type": "stream",
     "text": [
      "Биграмма \"comp none\" встречается 3 раза в 10 текстах\n",
      "Из них в сгенерированных текстах: 9 раз\n",
      "В human текстах: 1 раз\n"
     ]
    }
   ],
   "source": [
    "a = int(bow_train[bow_train['comp none'] == 3]['comp none'].sum()/3)\n",
    "b = int(bow_train[(bow_train['comp none'] == 3) & (bow_train['Class'] == 1)]['comp none'].sum()/3)\n",
    "c = int(bow_train[(bow_train['comp none'] == 3) & (bow_train['Class'] == 0)]['comp none'].sum()/3)\n",
    "print(f'Биграмма \"comp none\" встречается 3 раза в {a} текстах')\n",
    "print(f'Из них в сгенерированных текстах: {b} раз')\n",
    "print(f'В human текстах: {c} раз')"
   ]
  },
  {
   "cell_type": "code",
   "execution_count": 91,
   "id": "f47628b4",
   "metadata": {},
   "outputs": [
    {
     "name": "stdout",
     "output_type": "stream",
     "text": [
      "Биграмма \"comp none\" встречается 4 раза в 2 текстах\n",
      "Из них в сгенерированных текстах: 1 раз\n",
      "В human текстах: 1 раз\n"
     ]
    }
   ],
   "source": [
    "a = int(bow_train[bow_train['comp none'] == 4]['comp none'].sum()/4)\n",
    "b = int(bow_train[(bow_train['comp none'] == 4) & (bow_train['Class'] == 1)]['comp none'].sum()/4)\n",
    "c = int(bow_train[(bow_train['comp none'] == 4) & (bow_train['Class'] == 0)]['comp none'].sum()/4)\n",
    "print(f'Биграмма \"comp none\" встречается 4 раза в {a} текстах')\n",
    "print(f'Из них в сгенерированных текстах: {b} раз')\n",
    "print(f'В human текстах: {c} раз')"
   ]
  },
  {
   "cell_type": "markdown",
   "id": "8e7e4ca7",
   "metadata": {},
   "source": [
    "Проверим то же самое для 3 фичи:"
   ]
  },
  {
   "cell_type": "code",
   "execution_count": 92,
   "id": "d71bce25",
   "metadata": {},
   "outputs": [
    {
     "data": {
      "text/plain": [
       "<AxesSubplot:xlabel='none comp', ylabel='Count'>"
      ]
     },
     "execution_count": 92,
     "metadata": {},
     "output_type": "execute_result"
    },
    {
     "data": {
      "image/png": "[encoded data removed]",
      "text/plain": [
       "<Figure size 720x360 with 1 Axes>"
      ]
     },
     "metadata": {
      "needs_background": "light"
     },
     "output_type": "display_data"
    }
   ],
   "source": [
    "plt.subplots(figsize=(10,5))\n",
    "sns.histplot(data=bow_train[bow_train[\"none comp\"]!=0], x=\"none comp\", hue=\"Class\", multiple=\"dodge\", shrink=1)"
   ]
  },
  {
   "cell_type": "markdown",
   "id": "d1ddfa94",
   "metadata": {},
   "source": [
    "Тоже работает. Проверим для 4й:"
   ]
  },
  {
   "cell_type": "code",
   "execution_count": 93,
   "id": "941dcff8",
   "metadata": {},
   "outputs": [
    {
     "data": {
      "text/plain": [
       "<AxesSubplot:xlabel='pred intj', ylabel='Count'>"
      ]
     },
     "execution_count": 93,
     "metadata": {},
     "output_type": "execute_result"
    },
    {
     "data": {
      "image/png": "[encoded data removed]",
      "text/plain": [
       "<Figure size 720x360 with 1 Axes>"
      ]
     },
     "metadata": {
      "needs_background": "light"
     },
     "output_type": "display_data"
    }
   ],
   "source": [
    "plt.subplots(figsize=(10,5))\n",
    "sns.histplot(data=bow_train[bow_train[\"pred intj\"]!=0], x=\"pred intj\", hue=\"Class\", multiple=\"dodge\", shrink=1)"
   ]
  },
  {
   "cell_type": "code",
   "execution_count": 94,
   "id": "3bb9b6e1",
   "metadata": {},
   "outputs": [
    {
     "name": "stdout",
     "output_type": "stream",
     "text": [
      "0\n",
      "11\n"
     ]
    }
   ],
   "source": [
    "print(bow_human[bow_human['pred intj']!=0]['pred intj'].count())\n",
    "print(bow_machine[bow_machine['pred intj']!=0]['pred intj'].count())"
   ]
  },
  {
   "cell_type": "code",
   "execution_count": 95,
   "id": "0b7ae2e8",
   "metadata": {},
   "outputs": [],
   "source": [
    "bow_train['Id'] = train['Id']"
   ]
  },
  {
   "cell_type": "code",
   "execution_count": 96,
   "id": "2770fcb9",
   "metadata": {},
   "outputs": [
    {
     "data": {
      "text/html": [
       "<div>\n",
       "<style scoped>\n",
       "    .dataframe tbody tr th:only-of-type {\n",
       "        vertical-align: middle;\n",
       "    }\n",
       "\n",
       "    .dataframe tbody tr th {\n",
       "        vertical-align: top;\n",
       "    }\n",
       "\n",
       "    .dataframe thead th {\n",
       "        text-align: right;\n",
       "    }\n",
       "</style>\n",
       "<table border=\"1\" class=\"dataframe\">\n",
       "  <thead>\n",
       "    <tr style=\"text-align: right;\">\n",
       "      <th></th>\n",
       "      <th>adjf</th>\n",
       "      <th>adjf adjf</th>\n",
       "      <th>adjf adjs</th>\n",
       "      <th>adjf advb</th>\n",
       "      <th>adjf comp</th>\n",
       "      <th>adjf conj</th>\n",
       "      <th>adjf grnd</th>\n",
       "      <th>adjf infn</th>\n",
       "      <th>adjf intj</th>\n",
       "      <th>adjf none</th>\n",
       "      <th>...</th>\n",
       "      <th>verb numr</th>\n",
       "      <th>verb prcl</th>\n",
       "      <th>verb pred</th>\n",
       "      <th>verb prep</th>\n",
       "      <th>verb prtf</th>\n",
       "      <th>verb prts</th>\n",
       "      <th>verb verb</th>\n",
       "      <th>Class</th>\n",
       "      <th>Количество слов</th>\n",
       "      <th>Id</th>\n",
       "    </tr>\n",
       "  </thead>\n",
       "  <tbody>\n",
       "    <tr>\n",
       "      <th>5295</th>\n",
       "      <td>0</td>\n",
       "      <td>0</td>\n",
       "      <td>0</td>\n",
       "      <td>0</td>\n",
       "      <td>0</td>\n",
       "      <td>0</td>\n",
       "      <td>0</td>\n",
       "      <td>0</td>\n",
       "      <td>0</td>\n",
       "      <td>0</td>\n",
       "      <td>...</td>\n",
       "      <td>0</td>\n",
       "      <td>0</td>\n",
       "      <td>0</td>\n",
       "      <td>1</td>\n",
       "      <td>0</td>\n",
       "      <td>0</td>\n",
       "      <td>0</td>\n",
       "      <td>1</td>\n",
       "      <td>17.0</td>\n",
       "      <td>116637</td>\n",
       "    </tr>\n",
       "    <tr>\n",
       "      <th>10018</th>\n",
       "      <td>8</td>\n",
       "      <td>3</td>\n",
       "      <td>0</td>\n",
       "      <td>0</td>\n",
       "      <td>0</td>\n",
       "      <td>1</td>\n",
       "      <td>0</td>\n",
       "      <td>0</td>\n",
       "      <td>0</td>\n",
       "      <td>1</td>\n",
       "      <td>...</td>\n",
       "      <td>0</td>\n",
       "      <td>0</td>\n",
       "      <td>0</td>\n",
       "      <td>0</td>\n",
       "      <td>0</td>\n",
       "      <td>0</td>\n",
       "      <td>0</td>\n",
       "      <td>1</td>\n",
       "      <td>80.0</td>\n",
       "      <td>124861</td>\n",
       "    </tr>\n",
       "    <tr>\n",
       "      <th>41570</th>\n",
       "      <td>8</td>\n",
       "      <td>0</td>\n",
       "      <td>0</td>\n",
       "      <td>0</td>\n",
       "      <td>0</td>\n",
       "      <td>0</td>\n",
       "      <td>0</td>\n",
       "      <td>0</td>\n",
       "      <td>0</td>\n",
       "      <td>1</td>\n",
       "      <td>...</td>\n",
       "      <td>0</td>\n",
       "      <td>0</td>\n",
       "      <td>1</td>\n",
       "      <td>1</td>\n",
       "      <td>0</td>\n",
       "      <td>0</td>\n",
       "      <td>0</td>\n",
       "      <td>1</td>\n",
       "      <td>82.0</td>\n",
       "      <td>44869</td>\n",
       "    </tr>\n",
       "    <tr>\n",
       "      <th>50990</th>\n",
       "      <td>11</td>\n",
       "      <td>1</td>\n",
       "      <td>0</td>\n",
       "      <td>0</td>\n",
       "      <td>0</td>\n",
       "      <td>0</td>\n",
       "      <td>0</td>\n",
       "      <td>0</td>\n",
       "      <td>0</td>\n",
       "      <td>0</td>\n",
       "      <td>...</td>\n",
       "      <td>0</td>\n",
       "      <td>0</td>\n",
       "      <td>0</td>\n",
       "      <td>0</td>\n",
       "      <td>0</td>\n",
       "      <td>0</td>\n",
       "      <td>0</td>\n",
       "      <td>1</td>\n",
       "      <td>85.0</td>\n",
       "      <td>87693</td>\n",
       "    </tr>\n",
       "    <tr>\n",
       "      <th>55396</th>\n",
       "      <td>8</td>\n",
       "      <td>1</td>\n",
       "      <td>0</td>\n",
       "      <td>2</td>\n",
       "      <td>0</td>\n",
       "      <td>1</td>\n",
       "      <td>0</td>\n",
       "      <td>0</td>\n",
       "      <td>0</td>\n",
       "      <td>0</td>\n",
       "      <td>...</td>\n",
       "      <td>0</td>\n",
       "      <td>0</td>\n",
       "      <td>0</td>\n",
       "      <td>2</td>\n",
       "      <td>0</td>\n",
       "      <td>0</td>\n",
       "      <td>0</td>\n",
       "      <td>1</td>\n",
       "      <td>84.0</td>\n",
       "      <td>95389</td>\n",
       "    </tr>\n",
       "    <tr>\n",
       "      <th>56189</th>\n",
       "      <td>0</td>\n",
       "      <td>0</td>\n",
       "      <td>0</td>\n",
       "      <td>0</td>\n",
       "      <td>0</td>\n",
       "      <td>0</td>\n",
       "      <td>0</td>\n",
       "      <td>0</td>\n",
       "      <td>0</td>\n",
       "      <td>0</td>\n",
       "      <td>...</td>\n",
       "      <td>0</td>\n",
       "      <td>0</td>\n",
       "      <td>0</td>\n",
       "      <td>0</td>\n",
       "      <td>0</td>\n",
       "      <td>0</td>\n",
       "      <td>0</td>\n",
       "      <td>1</td>\n",
       "      <td>7.0</td>\n",
       "      <td>96729</td>\n",
       "    </tr>\n",
       "    <tr>\n",
       "      <th>57448</th>\n",
       "      <td>14</td>\n",
       "      <td>2</td>\n",
       "      <td>0</td>\n",
       "      <td>0</td>\n",
       "      <td>0</td>\n",
       "      <td>1</td>\n",
       "      <td>0</td>\n",
       "      <td>0</td>\n",
       "      <td>0</td>\n",
       "      <td>0</td>\n",
       "      <td>...</td>\n",
       "      <td>0</td>\n",
       "      <td>0</td>\n",
       "      <td>1</td>\n",
       "      <td>7</td>\n",
       "      <td>0</td>\n",
       "      <td>0</td>\n",
       "      <td>0</td>\n",
       "      <td>1</td>\n",
       "      <td>217.0</td>\n",
       "      <td>98807</td>\n",
       "    </tr>\n",
       "    <tr>\n",
       "      <th>58719</th>\n",
       "      <td>20</td>\n",
       "      <td>2</td>\n",
       "      <td>0</td>\n",
       "      <td>0</td>\n",
       "      <td>0</td>\n",
       "      <td>0</td>\n",
       "      <td>0</td>\n",
       "      <td>0</td>\n",
       "      <td>1</td>\n",
       "      <td>0</td>\n",
       "      <td>...</td>\n",
       "      <td>0</td>\n",
       "      <td>0</td>\n",
       "      <td>0</td>\n",
       "      <td>2</td>\n",
       "      <td>0</td>\n",
       "      <td>0</td>\n",
       "      <td>0</td>\n",
       "      <td>1</td>\n",
       "      <td>264.0</td>\n",
       "      <td>100978</td>\n",
       "    </tr>\n",
       "    <tr>\n",
       "      <th>99189</th>\n",
       "      <td>9</td>\n",
       "      <td>1</td>\n",
       "      <td>0</td>\n",
       "      <td>0</td>\n",
       "      <td>0</td>\n",
       "      <td>2</td>\n",
       "      <td>0</td>\n",
       "      <td>0</td>\n",
       "      <td>0</td>\n",
       "      <td>0</td>\n",
       "      <td>...</td>\n",
       "      <td>0</td>\n",
       "      <td>0</td>\n",
       "      <td>0</td>\n",
       "      <td>2</td>\n",
       "      <td>0</td>\n",
       "      <td>0</td>\n",
       "      <td>0</td>\n",
       "      <td>1</td>\n",
       "      <td>75.0</td>\n",
       "      <td>9373</td>\n",
       "    </tr>\n",
       "    <tr>\n",
       "      <th>123236</th>\n",
       "      <td>15</td>\n",
       "      <td>0</td>\n",
       "      <td>0</td>\n",
       "      <td>0</td>\n",
       "      <td>0</td>\n",
       "      <td>1</td>\n",
       "      <td>0</td>\n",
       "      <td>0</td>\n",
       "      <td>0</td>\n",
       "      <td>0</td>\n",
       "      <td>...</td>\n",
       "      <td>0</td>\n",
       "      <td>0</td>\n",
       "      <td>0</td>\n",
       "      <td>5</td>\n",
       "      <td>0</td>\n",
       "      <td>0</td>\n",
       "      <td>0</td>\n",
       "      <td>1</td>\n",
       "      <td>327.0</td>\n",
       "      <td>158125</td>\n",
       "    </tr>\n",
       "    <tr>\n",
       "      <th>123942</th>\n",
       "      <td>17</td>\n",
       "      <td>1</td>\n",
       "      <td>0</td>\n",
       "      <td>0</td>\n",
       "      <td>0</td>\n",
       "      <td>5</td>\n",
       "      <td>0</td>\n",
       "      <td>0</td>\n",
       "      <td>0</td>\n",
       "      <td>0</td>\n",
       "      <td>...</td>\n",
       "      <td>0</td>\n",
       "      <td>1</td>\n",
       "      <td>0</td>\n",
       "      <td>2</td>\n",
       "      <td>0</td>\n",
       "      <td>0</td>\n",
       "      <td>0</td>\n",
       "      <td>1</td>\n",
       "      <td>108.0</td>\n",
       "      <td>159346</td>\n",
       "    </tr>\n",
       "  </tbody>\n",
       "</table>\n",
       "<p>11 rows × 345 columns</p>\n",
       "</div>"
      ],
      "text/plain": [
       "        adjf  adjf adjf  adjf adjs  adjf advb  adjf comp  adjf conj  \\\n",
       "5295       0          0          0          0          0          0   \n",
       "10018      8          3          0          0          0          1   \n",
       "41570      8          0          0          0          0          0   \n",
       "50990     11          1          0          0          0          0   \n",
       "55396      8          1          0          2          0          1   \n",
       "56189      0          0          0          0          0          0   \n",
       "57448     14          2          0          0          0          1   \n",
       "58719     20          2          0          0          0          0   \n",
       "99189      9          1          0          0          0          2   \n",
       "123236    15          0          0          0          0          1   \n",
       "123942    17          1          0          0          0          5   \n",
       "\n",
       "        adjf grnd  adjf infn  adjf intj  adjf none  ...  verb numr  verb prcl  \\\n",
       "5295            0          0          0          0  ...          0          0   \n",
       "10018           0          0          0          1  ...          0          0   \n",
       "41570           0          0          0          1  ...          0          0   \n",
       "50990           0          0          0          0  ...          0          0   \n",
       "55396           0          0          0          0  ...          0          0   \n",
       "56189           0          0          0          0  ...          0          0   \n",
       "57448           0          0          0          0  ...          0          0   \n",
       "58719           0          0          1          0  ...          0          0   \n",
       "99189           0          0          0          0  ...          0          0   \n",
       "123236          0          0          0          0  ...          0          0   \n",
       "123942          0          0          0          0  ...          0          1   \n",
       "\n",
       "        verb pred  verb prep  verb prtf  verb prts  verb verb  Class  \\\n",
       "5295            0          1          0          0          0      1   \n",
       "10018           0          0          0          0          0      1   \n",
       "41570           1          1          0          0          0      1   \n",
       "50990           0          0          0          0          0      1   \n",
       "55396           0          2          0          0          0      1   \n",
       "56189           0          0          0          0          0      1   \n",
       "57448           1          7          0          0          0      1   \n",
       "58719           0          2          0          0          0      1   \n",
       "99189           0          2          0          0          0      1   \n",
       "123236          0          5          0          0          0      1   \n",
       "123942          0          2          0          0          0      1   \n",
       "\n",
       "        Количество слов      Id  \n",
       "5295               17.0  116637  \n",
       "10018              80.0  124861  \n",
       "41570              82.0   44869  \n",
       "50990              85.0   87693  \n",
       "55396              84.0   95389  \n",
       "56189               7.0   96729  \n",
       "57448             217.0   98807  \n",
       "58719             264.0  100978  \n",
       "99189              75.0    9373  \n",
       "123236            327.0  158125  \n",
       "123942            108.0  159346  \n",
       "\n",
       "[11 rows x 345 columns]"
      ]
     },
     "execution_count": 96,
     "metadata": {},
     "output_type": "execute_result"
    }
   ],
   "source": [
    "# посмотрим что за тексты. Это фича предикатив междометие. Но во всех примерах неправильно присвоен тэг.\n",
    "bow_train[bow_train['pred intj']!=0]"
   ]
  },
  {
   "cell_type": "code",
   "execution_count": 98,
   "id": "58b3c3cc",
   "metadata": {},
   "outputs": [
    {
     "name": "stdout",
     "output_type": "stream",
     "text": [
      "Вам не надо есть деньги, а отдать их их сестрице, они их приготовили с вечера, утром хвать-похвать. \n",
      " ['NPRO', 'PRCL', 'PRED', 'INTJ', 'NOUN', 'CONJ', 'INFN', 'NPRO', 'NPRO', 'NOUN', 'NPRO', 'NPRO', 'VERB', 'PREP', 'NOUN', 'ADVB', 'INFN']\n",
      "Территория муниципального образования город Тольятти, ул. Советская \n",
      "\n",
      " Как вы думаете почему люди стали больше пить? Да потому что они перестали быть здоровыми! :) В результате этого и происходит то самое пресловутое \"вредное\" население планеты Земля... :( А ведь это так просто - не надо есть сладкое на ночь (хотя бы по утрам), можно выпить стакан сока перед сном или съесть кусочек хлеба с маслом вместо колбасы. ;) И еще: если человек ест много фруктов в день за завтраком – он здоровее всех остальных людей во \n",
      " ['NOUN', 'ADJF', 'NOUN', 'NOUN', 'NOUN', None, 'ADJF', 'CONJ', 'NPRO', 'VERB', 'ADVB', 'NOUN', 'VERB', 'COMP', 'INFN', 'PRCL', 'ADVB', 'CONJ', 'NPRO', 'VERB', 'INFN', 'ADJF', None, 'PREP', 'NOUN', 'NPRO', 'CONJ', 'VERB', 'CONJ', 'ADJF', 'ADJF', 'ADJF', 'NOUN', 'NOUN', 'NOUN', None, None, 'CONJ', 'CONJ', 'PRCL', 'CONJ', 'PRCL', 'PRCL', 'PRED', 'INTJ', 'NOUN', 'PREP', 'NOUN', 'CONJ', 'PRCL', 'PREP', 'NOUN', 'PRED', 'INFN', 'NOUN', 'NOUN', 'PREP', 'NOUN', 'CONJ', 'INFN', 'NOUN', 'NOUN', 'PREP', 'NOUN', 'PREP', 'NOUN', None, 'CONJ', 'PRCL', 'CONJ', 'NOUN', 'VERB', 'ADVB', 'NOUN', 'PREP', 'NOUN', 'PREP', 'NOUN', None, 'NPRO', 'COMP', 'ADJF', 'ADJF', 'NOUN', 'PREP']\n",
      "Несмотря на запрет на продажу алкогольных напитков, в России растет число людей с лишним весом.\n",
      "На сегодняшний день количество страдающих от лишнего веса достигло рекордного уровня - почти 2 млн человек! И это только официальная статистика: неофициальные данные говорят о более чем 20-ти миллионах россиян...»  \n",
      "  \"'.Врач сказал что надо есть мясо и пить кефир...А я сказала нет!!!!!! Я хочу быть стройной!!!!Я не могу без мяса жить!!!И мне его хватает...и ещё много чего..\" http://www....deti4ka7@yandex \n",
      " ['PREP', 'PREP', 'NOUN', 'PREP', 'NOUN', 'ADJF', 'NOUN', 'PREP', 'NOUN', 'VERB', 'NOUN', 'NOUN', 'PREP', 'ADJF', 'NOUN', 'PREP', 'ADJF', 'NOUN', 'NOUN', 'PRTF', 'PREP', 'ADJF', 'NOUN', 'VERB', 'ADJF', 'NOUN', 'ADVB', None, 'NOUN', 'NOUN', 'CONJ', 'PRCL', 'PRCL', 'ADJF', 'NOUN', 'ADJF', 'PRTF', 'CONJ', 'PREP', 'ADVB', 'CONJ', 'NOUN', 'NOUN', 'NOUN', None, 'NOUN', 'VERB', 'CONJ', 'PRED', 'INTJ', 'NOUN', 'CONJ', 'INFN', 'NOUN', None, 'CONJ', 'NPRO', 'VERB', 'PRED', None, 'NPRO', 'VERB', 'INFN', 'ADJF', None, 'NPRO', 'PRCL', 'VERB', 'PREP', 'NOUN', 'INFN', None, 'CONJ', 'NPRO', 'NPRO', 'VERB', None, 'CONJ', 'ADVB', 'ADVB', 'NPRO', None, None, None, None, None, None, None, None, None]\n",
      "Этиология и патогенез\n",
      "Ксения Петровна Тальбашева, доктор медицинских наук. \n",
      " В настоящее время в клинике проводится комплексное лечение различных заболеваний органов пищеваренья: желчных путей; кишечника (в том числе хронических), поджелудочной железы ; печени. На сегодняшний день разработаны методики лечения таких проблем как гастрит с повышенной кислотностью желудка или холецистит при заболеваниях почек : атеросклерозе сосудов сердца - на уровне капилляров). 2-3 раза за сутки необходимо употреблять по 1 столовой ложке меда без газа перед едой 3 дня подряд до еды 6 дней после этого можно есть только мед через \n",
      " ['NOUN', 'CONJ', 'NOUN', 'NOUN', 'NOUN', 'NOUN', 'NOUN', 'ADJF', 'NOUN', 'PREP', 'NOUN', 'NOUN', 'PREP', 'NOUN', 'VERB', 'ADJF', 'NOUN', 'ADJF', 'NOUN', 'NOUN', 'NOUN', 'ADJF', 'NOUN', 'NOUN', 'PREP', 'ADJF', 'NOUN', 'ADJF', 'ADJF', 'NOUN', 'NOUN', 'PREP', 'ADJF', 'NOUN', 'PRTS', 'NOUN', 'NOUN', 'ADJF', 'NOUN', 'CONJ', 'NOUN', 'PREP', 'ADJF', 'NOUN', 'NOUN', 'CONJ', 'NOUN', 'PREP', 'NOUN', 'NOUN', 'NOUN', 'NOUN', 'NOUN', 'PREP', 'NOUN', 'NOUN', None, 'NOUN', 'PREP', 'NOUN', 'ADJS', 'INFN', 'PREP', None, 'ADJF', 'NOUN', 'NOUN', 'PREP', 'NOUN', 'PREP', 'NOUN', None, 'NOUN', 'ADVB', 'PREP', 'NOUN', None, 'NOUN', 'PREP', 'NPRO', 'PRED', 'INTJ', 'PRCL', 'NOUN', 'PREP']\n"
     ]
    }
   ],
   "source": [
    "# Human:\n",
    "print(train['Text'].iloc[5295],'\\n',train['POS_Text'].iloc[5295])\n",
    "# здесь это \"надо есть\"\n",
    "print(train['Text'].iloc[10018],'\\n',train['POS_Text'].iloc[10018])\n",
    "# \"надо есть\"\n",
    "# Machine:\n",
    "print(train['Text'].iloc[41570],'\\n',train['POS_Text'].iloc[41570])\n",
    "# надо есть\n",
    "print(train['Text'].iloc[50990],'\\n',train['POS_Text'].iloc[50990])\n",
    "# можно есть"
   ]
  },
  {
   "cell_type": "markdown",
   "id": "9b020147",
   "metadata": {},
   "source": [
    "Штош, получается так, но она всего встречается в 11 текстах, не думаю что это показательно. К тому же токенизатор всё неправильно определил. Проверим 5-ю фичу:"
   ]
  },
  {
   "cell_type": "code",
   "execution_count": 107,
   "id": "5c0a42c1",
   "metadata": {},
   "outputs": [
    {
     "data": {
      "text/plain": [
       "<AxesSubplot:xlabel='comp advb', ylabel='Count'>"
      ]
     },
     "execution_count": 107,
     "metadata": {},
     "output_type": "execute_result"
    },
    {
     "data": {
      "image/png": "[encoded data removed]",
      "text/plain": [
       "<Figure size 720x360 with 1 Axes>"
      ]
     },
     "metadata": {
      "needs_background": "light"
     },
     "output_type": "display_data"
    }
   ],
   "source": [
    "plt.subplots(figsize=(10,5))\n",
    "sns.histplot(data=bow_train[bow_train[\"comp advb\"]!=0], x=\"comp advb\", hue=\"Class\", multiple=\"dodge\", shrink=1)"
   ]
  },
  {
   "cell_type": "markdown",
   "id": "f442ec7c",
   "metadata": {},
   "source": [
    "У неё тоже видна разница в human и machine. Она встречается в относительно большом количестве текстов (500+), то есть может быть можно использовать. Проверим количество:"
   ]
  },
  {
   "cell_type": "code",
   "execution_count": 108,
   "id": "2621dd47",
   "metadata": {},
   "outputs": [
    {
     "name": "stdout",
     "output_type": "stream",
     "text": [
      "163\n",
      "353\n",
      "516\n"
     ]
    }
   ],
   "source": [
    "print(bow_human[bow_human['comp advb']!=0]['comp advb'].count())\n",
    "print(bow_machine[bow_machine['comp advb']!=0]['comp advb'].count())\n",
    "print (bow_human[bow_human['comp advb']!=0]['comp advb'].count()+bow_machine[bow_machine['comp advb']!=0]['comp advb'].count())"
   ]
  },
  {
   "cell_type": "markdown",
   "id": "e3cda058",
   "metadata": {},
   "source": [
    "Вывод: мне кажется можно использовать 1,2,3 и 5 фичу из списка отранжированных по coef биграмм. У 1-й отличается средняя частота употребления, при этом общее число текстов, в которых она есть, и общее количество биграмм не отличается для Н и М. Остальные проанализированные биграммы имеют большую разницу в частоте употребления в Н и М.\n",
    "У остальных биграмм coef меньше 1, не стала их анализировать."
   ]
  },
  {
   "cell_type": "markdown",
   "id": "291cde54",
   "metadata": {},
   "source": [
    "Проверим по частотам."
   ]
  },
  {
   "cell_type": "code",
   "execution_count": 110,
   "id": "940099d5",
   "metadata": {},
   "outputs": [
    {
     "data": {
      "text/html": [
       "<div>\n",
       "<style scoped>\n",
       "    .dataframe tbody tr th:only-of-type {\n",
       "        vertical-align: middle;\n",
       "    }\n",
       "\n",
       "    .dataframe tbody tr th {\n",
       "        vertical-align: top;\n",
       "    }\n",
       "\n",
       "    .dataframe thead th {\n",
       "        text-align: right;\n",
       "    }\n",
       "</style>\n",
       "<table border=\"1\" class=\"dataframe\">\n",
       "  <thead>\n",
       "    <tr style=\"text-align: right;\">\n",
       "      <th></th>\n",
       "      <th>adjf</th>\n",
       "      <th>adjf adjf</th>\n",
       "      <th>adjf adjs</th>\n",
       "      <th>adjf advb</th>\n",
       "      <th>adjf comp</th>\n",
       "      <th>adjf conj</th>\n",
       "      <th>adjf grnd</th>\n",
       "      <th>adjf infn</th>\n",
       "      <th>adjf intj</th>\n",
       "      <th>adjf none</th>\n",
       "      <th>...</th>\n",
       "      <th>verb prtf</th>\n",
       "      <th>verb prts</th>\n",
       "      <th>verb verb</th>\n",
       "      <th>Class</th>\n",
       "      <th>Количество слов</th>\n",
       "      <th>Id</th>\n",
       "      <th>prep_freq</th>\n",
       "      <th>comp_none_freq</th>\n",
       "      <th>none_comp_freq</th>\n",
       "      <th>comp_advb_freq</th>\n",
       "    </tr>\n",
       "  </thead>\n",
       "  <tbody>\n",
       "    <tr>\n",
       "      <th>0</th>\n",
       "      <td>12</td>\n",
       "      <td>2</td>\n",
       "      <td>0</td>\n",
       "      <td>2</td>\n",
       "      <td>0</td>\n",
       "      <td>0</td>\n",
       "      <td>0</td>\n",
       "      <td>0</td>\n",
       "      <td>0</td>\n",
       "      <td>0</td>\n",
       "      <td>...</td>\n",
       "      <td>0</td>\n",
       "      <td>0</td>\n",
       "      <td>0</td>\n",
       "      <td>0</td>\n",
       "      <td>85.0</td>\n",
       "      <td>107559</td>\n",
       "      <td>0.105882</td>\n",
       "      <td>0.0</td>\n",
       "      <td>0.0</td>\n",
       "      <td>0.0</td>\n",
       "    </tr>\n",
       "    <tr>\n",
       "      <th>1</th>\n",
       "      <td>0</td>\n",
       "      <td>0</td>\n",
       "      <td>0</td>\n",
       "      <td>0</td>\n",
       "      <td>0</td>\n",
       "      <td>0</td>\n",
       "      <td>0</td>\n",
       "      <td>0</td>\n",
       "      <td>0</td>\n",
       "      <td>0</td>\n",
       "      <td>...</td>\n",
       "      <td>0</td>\n",
       "      <td>0</td>\n",
       "      <td>0</td>\n",
       "      <td>0</td>\n",
       "      <td>11.0</td>\n",
       "      <td>107562</td>\n",
       "      <td>0.272727</td>\n",
       "      <td>0.0</td>\n",
       "      <td>0.0</td>\n",
       "      <td>0.0</td>\n",
       "    </tr>\n",
       "    <tr>\n",
       "      <th>2</th>\n",
       "      <td>2</td>\n",
       "      <td>0</td>\n",
       "      <td>0</td>\n",
       "      <td>0</td>\n",
       "      <td>0</td>\n",
       "      <td>0</td>\n",
       "      <td>0</td>\n",
       "      <td>0</td>\n",
       "      <td>0</td>\n",
       "      <td>0</td>\n",
       "      <td>...</td>\n",
       "      <td>0</td>\n",
       "      <td>0</td>\n",
       "      <td>1</td>\n",
       "      <td>0</td>\n",
       "      <td>15.0</td>\n",
       "      <td>107563</td>\n",
       "      <td>0.133333</td>\n",
       "      <td>0.0</td>\n",
       "      <td>0.0</td>\n",
       "      <td>0.0</td>\n",
       "    </tr>\n",
       "    <tr>\n",
       "      <th>4</th>\n",
       "      <td>0</td>\n",
       "      <td>0</td>\n",
       "      <td>0</td>\n",
       "      <td>0</td>\n",
       "      <td>0</td>\n",
       "      <td>0</td>\n",
       "      <td>0</td>\n",
       "      <td>0</td>\n",
       "      <td>0</td>\n",
       "      <td>0</td>\n",
       "      <td>...</td>\n",
       "      <td>0</td>\n",
       "      <td>0</td>\n",
       "      <td>0</td>\n",
       "      <td>0</td>\n",
       "      <td>4.0</td>\n",
       "      <td>107567</td>\n",
       "      <td>0.250000</td>\n",
       "      <td>0.0</td>\n",
       "      <td>0.0</td>\n",
       "      <td>0.0</td>\n",
       "    </tr>\n",
       "    <tr>\n",
       "      <th>5</th>\n",
       "      <td>4</td>\n",
       "      <td>1</td>\n",
       "      <td>0</td>\n",
       "      <td>0</td>\n",
       "      <td>0</td>\n",
       "      <td>0</td>\n",
       "      <td>0</td>\n",
       "      <td>0</td>\n",
       "      <td>0</td>\n",
       "      <td>0</td>\n",
       "      <td>...</td>\n",
       "      <td>0</td>\n",
       "      <td>0</td>\n",
       "      <td>0</td>\n",
       "      <td>0</td>\n",
       "      <td>20.0</td>\n",
       "      <td>107568</td>\n",
       "      <td>0.050000</td>\n",
       "      <td>0.0</td>\n",
       "      <td>0.0</td>\n",
       "      <td>0.0</td>\n",
       "    </tr>\n",
       "    <tr>\n",
       "      <th>...</th>\n",
       "      <td>...</td>\n",
       "      <td>...</td>\n",
       "      <td>...</td>\n",
       "      <td>...</td>\n",
       "      <td>...</td>\n",
       "      <td>...</td>\n",
       "      <td>...</td>\n",
       "      <td>...</td>\n",
       "      <td>...</td>\n",
       "      <td>...</td>\n",
       "      <td>...</td>\n",
       "      <td>...</td>\n",
       "      <td>...</td>\n",
       "      <td>...</td>\n",
       "      <td>...</td>\n",
       "      <td>...</td>\n",
       "      <td>...</td>\n",
       "      <td>...</td>\n",
       "      <td>...</td>\n",
       "      <td>...</td>\n",
       "      <td>...</td>\n",
       "    </tr>\n",
       "    <tr>\n",
       "      <th>125053</th>\n",
       "      <td>1</td>\n",
       "      <td>0</td>\n",
       "      <td>0</td>\n",
       "      <td>0</td>\n",
       "      <td>0</td>\n",
       "      <td>0</td>\n",
       "      <td>0</td>\n",
       "      <td>0</td>\n",
       "      <td>0</td>\n",
       "      <td>0</td>\n",
       "      <td>...</td>\n",
       "      <td>0</td>\n",
       "      <td>0</td>\n",
       "      <td>0</td>\n",
       "      <td>0</td>\n",
       "      <td>16.0</td>\n",
       "      <td>161275</td>\n",
       "      <td>0.187500</td>\n",
       "      <td>0.0</td>\n",
       "      <td>0.0</td>\n",
       "      <td>0.0</td>\n",
       "    </tr>\n",
       "    <tr>\n",
       "      <th>125054</th>\n",
       "      <td>9</td>\n",
       "      <td>0</td>\n",
       "      <td>0</td>\n",
       "      <td>0</td>\n",
       "      <td>0</td>\n",
       "      <td>2</td>\n",
       "      <td>0</td>\n",
       "      <td>0</td>\n",
       "      <td>0</td>\n",
       "      <td>1</td>\n",
       "      <td>...</td>\n",
       "      <td>0</td>\n",
       "      <td>0</td>\n",
       "      <td>0</td>\n",
       "      <td>1</td>\n",
       "      <td>96.0</td>\n",
       "      <td>161279</td>\n",
       "      <td>0.093750</td>\n",
       "      <td>0.0</td>\n",
       "      <td>0.0</td>\n",
       "      <td>0.0</td>\n",
       "    </tr>\n",
       "    <tr>\n",
       "      <th>125057</th>\n",
       "      <td>0</td>\n",
       "      <td>0</td>\n",
       "      <td>0</td>\n",
       "      <td>0</td>\n",
       "      <td>0</td>\n",
       "      <td>0</td>\n",
       "      <td>0</td>\n",
       "      <td>0</td>\n",
       "      <td>0</td>\n",
       "      <td>0</td>\n",
       "      <td>...</td>\n",
       "      <td>0</td>\n",
       "      <td>0</td>\n",
       "      <td>0</td>\n",
       "      <td>0</td>\n",
       "      <td>9.0</td>\n",
       "      <td>161286</td>\n",
       "      <td>0.111111</td>\n",
       "      <td>0.0</td>\n",
       "      <td>0.0</td>\n",
       "      <td>0.0</td>\n",
       "    </tr>\n",
       "    <tr>\n",
       "      <th>125058</th>\n",
       "      <td>4</td>\n",
       "      <td>0</td>\n",
       "      <td>0</td>\n",
       "      <td>0</td>\n",
       "      <td>0</td>\n",
       "      <td>0</td>\n",
       "      <td>0</td>\n",
       "      <td>0</td>\n",
       "      <td>0</td>\n",
       "      <td>0</td>\n",
       "      <td>...</td>\n",
       "      <td>0</td>\n",
       "      <td>0</td>\n",
       "      <td>0</td>\n",
       "      <td>1</td>\n",
       "      <td>19.0</td>\n",
       "      <td>161290</td>\n",
       "      <td>0.105263</td>\n",
       "      <td>0.0</td>\n",
       "      <td>0.0</td>\n",
       "      <td>0.0</td>\n",
       "    </tr>\n",
       "    <tr>\n",
       "      <th>125059</th>\n",
       "      <td>9</td>\n",
       "      <td>2</td>\n",
       "      <td>0</td>\n",
       "      <td>0</td>\n",
       "      <td>0</td>\n",
       "      <td>0</td>\n",
       "      <td>0</td>\n",
       "      <td>0</td>\n",
       "      <td>0</td>\n",
       "      <td>0</td>\n",
       "      <td>...</td>\n",
       "      <td>0</td>\n",
       "      <td>2</td>\n",
       "      <td>0</td>\n",
       "      <td>0</td>\n",
       "      <td>81.0</td>\n",
       "      <td>161291</td>\n",
       "      <td>0.160494</td>\n",
       "      <td>0.0</td>\n",
       "      <td>0.0</td>\n",
       "      <td>0.0</td>\n",
       "    </tr>\n",
       "  </tbody>\n",
       "</table>\n",
       "<p>103476 rows × 349 columns</p>\n",
       "</div>"
      ],
      "text/plain": [
       "        adjf  adjf adjf  adjf adjs  adjf advb  adjf comp  adjf conj  \\\n",
       "0         12          2          0          2          0          0   \n",
       "1          0          0          0          0          0          0   \n",
       "2          2          0          0          0          0          0   \n",
       "4          0          0          0          0          0          0   \n",
       "5          4          1          0          0          0          0   \n",
       "...      ...        ...        ...        ...        ...        ...   \n",
       "125053     1          0          0          0          0          0   \n",
       "125054     9          0          0          0          0          2   \n",
       "125057     0          0          0          0          0          0   \n",
       "125058     4          0          0          0          0          0   \n",
       "125059     9          2          0          0          0          0   \n",
       "\n",
       "        adjf grnd  adjf infn  adjf intj  adjf none  ...  verb prtf  verb prts  \\\n",
       "0               0          0          0          0  ...          0          0   \n",
       "1               0          0          0          0  ...          0          0   \n",
       "2               0          0          0          0  ...          0          0   \n",
       "4               0          0          0          0  ...          0          0   \n",
       "5               0          0          0          0  ...          0          0   \n",
       "...           ...        ...        ...        ...  ...        ...        ...   \n",
       "125053          0          0          0          0  ...          0          0   \n",
       "125054          0          0          0          1  ...          0          0   \n",
       "125057          0          0          0          0  ...          0          0   \n",
       "125058          0          0          0          0  ...          0          0   \n",
       "125059          0          0          0          0  ...          0          2   \n",
       "\n",
       "        verb verb  Class  Количество слов      Id  prep_freq  comp_none_freq  \\\n",
       "0               0      0             85.0  107559   0.105882             0.0   \n",
       "1               0      0             11.0  107562   0.272727             0.0   \n",
       "2               1      0             15.0  107563   0.133333             0.0   \n",
       "4               0      0              4.0  107567   0.250000             0.0   \n",
       "5               0      0             20.0  107568   0.050000             0.0   \n",
       "...           ...    ...              ...     ...        ...             ...   \n",
       "125053          0      0             16.0  161275   0.187500             0.0   \n",
       "125054          0      1             96.0  161279   0.093750             0.0   \n",
       "125057          0      0              9.0  161286   0.111111             0.0   \n",
       "125058          0      1             19.0  161290   0.105263             0.0   \n",
       "125059          0      0             81.0  161291   0.160494             0.0   \n",
       "\n",
       "        none_comp_freq  comp_advb_freq  \n",
       "0                  0.0             0.0  \n",
       "1                  0.0             0.0  \n",
       "2                  0.0             0.0  \n",
       "4                  0.0             0.0  \n",
       "5                  0.0             0.0  \n",
       "...                ...             ...  \n",
       "125053             0.0             0.0  \n",
       "125054             0.0             0.0  \n",
       "125057             0.0             0.0  \n",
       "125058             0.0             0.0  \n",
       "125059             0.0             0.0  \n",
       "\n",
       "[103476 rows x 349 columns]"
      ]
     },
     "execution_count": 110,
     "metadata": {},
     "output_type": "execute_result"
    }
   ],
   "source": [
    "# делаем столбцы с частотами фичей 1,2,3,5\n",
    "bow_train['prep_freq'] = bow_train['prep']/bow_train['Количество слов']\n",
    "bow_train['comp_none_freq'] = bow_train['comp none']/bow_train['Количество слов']\n",
    "bow_train['none_comp_freq'] = bow_train['none comp']/bow_train['Количество слов']\n",
    "bow_train['comp_advb_freq'] = bow_train['comp advb']/bow_train['Количество слов']\n",
    "\n",
    "bow_train[bow_train['prep']!=0]"
   ]
  },
  {
   "cell_type": "markdown",
   "id": "db207dcd",
   "metadata": {},
   "source": [
    "Анализируем 1-ю униграмму, prep"
   ]
  },
  {
   "cell_type": "code",
   "execution_count": 111,
   "id": "d48af464",
   "metadata": {},
   "outputs": [
    {
     "data": {
      "image/png": "[encoded data removed]",
      "text/plain": [
       "<Figure size 1440x360 with 1 Axes>"
      ]
     },
     "metadata": {
      "needs_background": "light"
     },
     "output_type": "display_data"
    }
   ],
   "source": [
    "fig, ax = plt.subplots(figsize=(20,5))\n",
    "try:\n",
    "    sns.histplot(data=bow_train[(bow_train['prep_freq'] != 0) & (bow_train['Class'] == 0)], x='prep_freq')\n",
    "    ax.set_xlim(-0.02,0.52)\n",
    "    ax.set_xticks(range(0,0.5))\n",
    "except TypeError:\n",
    "    pass"
   ]
  },
  {
   "cell_type": "code",
   "execution_count": 112,
   "id": "49dd89bf",
   "metadata": {},
   "outputs": [
    {
     "data": {
      "text/plain": [
       "<AxesSubplot:xlabel='prep_freq', ylabel='Count'>"
      ]
     },
     "execution_count": 112,
     "metadata": {},
     "output_type": "execute_result"
    },
    {
     "data": {
      "image/png": "[encoded data removed]",
      "text/plain": [
       "<Figure size 1440x360 with 1 Axes>"
      ]
     },
     "metadata": {
      "needs_background": "light"
     },
     "output_type": "display_data"
    }
   ],
   "source": [
    "plt.subplots(figsize=(20,5))\n",
    "sns.histplot(data=bow_train[(bow_train['prep_freq'] != 0) & (bow_train['Class'] == 1)], x='prep_freq')"
   ]
  },
  {
   "cell_type": "code",
   "execution_count": 113,
   "id": "efeec368",
   "metadata": {},
   "outputs": [
    {
     "data": {
      "image/png": "[encoded data removed]",
      "text/plain": [
       "<Figure size 1440x360 with 1 Axes>"
      ]
     },
     "metadata": {
      "needs_background": "light"
     },
     "output_type": "display_data"
    }
   ],
   "source": [
    "fig, ax = plt.subplots(figsize=(20,5))\n",
    "try:\n",
    "    sns.boxplot(data=bow_train[(bow_train['prep_freq'] != 0) & (bow_train['Class'] == 0)], x='prep_freq')\n",
    "    ax.set_xlim(-0.02,0.52)\n",
    "    ax.set_xticks(range(0,0.5))\n",
    "except TypeError:\n",
    "    pass"
   ]
  },
  {
   "cell_type": "code",
   "execution_count": 114,
   "id": "f62bb8d7",
   "metadata": {},
   "outputs": [
    {
     "data": {
      "text/plain": [
       "<AxesSubplot:xlabel='prep_freq'>"
      ]
     },
     "execution_count": 114,
     "metadata": {},
     "output_type": "execute_result"
    },
    {
     "data": {
      "image/png": "[encoded data removed]",
      "text/plain": [
       "<Figure size 1440x360 with 1 Axes>"
      ]
     },
     "metadata": {
      "needs_background": "light"
     },
     "output_type": "display_data"
    }
   ],
   "source": [
    "plt.subplots(figsize=(20,5))\n",
    "sns.boxplot(data=bow_train[(bow_train['prep_freq'] != 0) & (bow_train['Class'] == 1)], x='prep_freq')"
   ]
  },
  {
   "cell_type": "markdown",
   "id": "17d7e823",
   "metadata": {},
   "source": [
    "Получается что распределение частот у этой униграммы очень похожее, просто в машинных текстах есть большие выбросы. Похожее респределение показывает фактически одинаковое значение медиан:"
   ]
  },
  {
   "cell_type": "code",
   "execution_count": 115,
   "id": "2bf7aa59",
   "metadata": {},
   "outputs": [
    {
     "name": "stdout",
     "output_type": "stream",
     "text": [
      "0.13976146875146733\n",
      "0.14285714285714285\n"
     ]
    }
   ],
   "source": [
    "print(bow_train[(bow_train['prep_freq'] != 0) & (bow_train['Class'] == 0)]['prep_freq'].median())\n",
    "print(bow_train[(bow_train['prep_freq'] != 0) & (bow_train['Class'] == 1)]['prep_freq'].median())"
   ]
  },
  {
   "cell_type": "code",
   "execution_count": 116,
   "id": "bf57fc8d",
   "metadata": {},
   "outputs": [
    {
     "data": {
      "text/plain": [
       "0.5"
      ]
     },
     "execution_count": 116,
     "metadata": {},
     "output_type": "execute_result"
    }
   ],
   "source": [
    "max(bow_train[bow_train['Class'] == 0]['prep_freq'])"
   ]
  },
  {
   "cell_type": "markdown",
   "id": "029d1d59",
   "metadata": {},
   "source": [
    "prep означает \"предлог\"\n",
    "Пример текстов Н и М, где максимальная частота этой униграммы:"
   ]
  },
  {
   "cell_type": "code",
   "execution_count": 117,
   "id": "a96dbf5b",
   "metadata": {},
   "outputs": [
    {
     "data": {
      "text/html": [
       "<div>\n",
       "<style scoped>\n",
       "    .dataframe tbody tr th:only-of-type {\n",
       "        vertical-align: middle;\n",
       "    }\n",
       "\n",
       "    .dataframe tbody tr th {\n",
       "        vertical-align: top;\n",
       "    }\n",
       "\n",
       "    .dataframe thead th {\n",
       "        text-align: right;\n",
       "    }\n",
       "</style>\n",
       "<table border=\"1\" class=\"dataframe\">\n",
       "  <thead>\n",
       "    <tr style=\"text-align: right;\">\n",
       "      <th></th>\n",
       "      <th>adjf</th>\n",
       "      <th>adjf adjf</th>\n",
       "      <th>adjf adjs</th>\n",
       "      <th>adjf advb</th>\n",
       "      <th>adjf comp</th>\n",
       "      <th>adjf conj</th>\n",
       "      <th>adjf grnd</th>\n",
       "      <th>adjf infn</th>\n",
       "      <th>adjf intj</th>\n",
       "      <th>adjf none</th>\n",
       "      <th>...</th>\n",
       "      <th>verb prtf</th>\n",
       "      <th>verb prts</th>\n",
       "      <th>verb verb</th>\n",
       "      <th>Class</th>\n",
       "      <th>Количество слов</th>\n",
       "      <th>Id</th>\n",
       "      <th>prep_freq</th>\n",
       "      <th>comp_none_freq</th>\n",
       "      <th>none_comp_freq</th>\n",
       "      <th>comp_advb_freq</th>\n",
       "    </tr>\n",
       "  </thead>\n",
       "  <tbody>\n",
       "    <tr>\n",
       "      <th>50</th>\n",
       "      <td>0</td>\n",
       "      <td>0</td>\n",
       "      <td>0</td>\n",
       "      <td>0</td>\n",
       "      <td>0</td>\n",
       "      <td>0</td>\n",
       "      <td>0</td>\n",
       "      <td>0</td>\n",
       "      <td>0</td>\n",
       "      <td>0</td>\n",
       "      <td>...</td>\n",
       "      <td>0</td>\n",
       "      <td>0</td>\n",
       "      <td>0</td>\n",
       "      <td>0</td>\n",
       "      <td>4.0</td>\n",
       "      <td>107632</td>\n",
       "      <td>0.5</td>\n",
       "      <td>0.0</td>\n",
       "      <td>0.0</td>\n",
       "      <td>0.0</td>\n",
       "    </tr>\n",
       "    <tr>\n",
       "      <th>5520</th>\n",
       "      <td>0</td>\n",
       "      <td>0</td>\n",
       "      <td>0</td>\n",
       "      <td>0</td>\n",
       "      <td>0</td>\n",
       "      <td>0</td>\n",
       "      <td>0</td>\n",
       "      <td>0</td>\n",
       "      <td>0</td>\n",
       "      <td>0</td>\n",
       "      <td>...</td>\n",
       "      <td>0</td>\n",
       "      <td>0</td>\n",
       "      <td>0</td>\n",
       "      <td>1</td>\n",
       "      <td>12.0</td>\n",
       "      <td>117033</td>\n",
       "      <td>0.5</td>\n",
       "      <td>0.0</td>\n",
       "      <td>0.0</td>\n",
       "      <td>0.0</td>\n",
       "    </tr>\n",
       "    <tr>\n",
       "      <th>8746</th>\n",
       "      <td>0</td>\n",
       "      <td>0</td>\n",
       "      <td>0</td>\n",
       "      <td>0</td>\n",
       "      <td>0</td>\n",
       "      <td>0</td>\n",
       "      <td>0</td>\n",
       "      <td>0</td>\n",
       "      <td>0</td>\n",
       "      <td>0</td>\n",
       "      <td>...</td>\n",
       "      <td>0</td>\n",
       "      <td>0</td>\n",
       "      <td>0</td>\n",
       "      <td>0</td>\n",
       "      <td>4.0</td>\n",
       "      <td>122588</td>\n",
       "      <td>0.5</td>\n",
       "      <td>0.0</td>\n",
       "      <td>0.0</td>\n",
       "      <td>0.0</td>\n",
       "    </tr>\n",
       "    <tr>\n",
       "      <th>12938</th>\n",
       "      <td>0</td>\n",
       "      <td>0</td>\n",
       "      <td>0</td>\n",
       "      <td>0</td>\n",
       "      <td>0</td>\n",
       "      <td>0</td>\n",
       "      <td>0</td>\n",
       "      <td>0</td>\n",
       "      <td>0</td>\n",
       "      <td>0</td>\n",
       "      <td>...</td>\n",
       "      <td>0</td>\n",
       "      <td>0</td>\n",
       "      <td>0</td>\n",
       "      <td>0</td>\n",
       "      <td>2.0</td>\n",
       "      <td>129840</td>\n",
       "      <td>0.5</td>\n",
       "      <td>0.0</td>\n",
       "      <td>0.0</td>\n",
       "      <td>0.0</td>\n",
       "    </tr>\n",
       "    <tr>\n",
       "      <th>16603</th>\n",
       "      <td>0</td>\n",
       "      <td>0</td>\n",
       "      <td>0</td>\n",
       "      <td>0</td>\n",
       "      <td>0</td>\n",
       "      <td>0</td>\n",
       "      <td>0</td>\n",
       "      <td>0</td>\n",
       "      <td>0</td>\n",
       "      <td>0</td>\n",
       "      <td>...</td>\n",
       "      <td>0</td>\n",
       "      <td>0</td>\n",
       "      <td>0</td>\n",
       "      <td>1</td>\n",
       "      <td>4.0</td>\n",
       "      <td>189895</td>\n",
       "      <td>0.5</td>\n",
       "      <td>0.0</td>\n",
       "      <td>0.0</td>\n",
       "      <td>0.0</td>\n",
       "    </tr>\n",
       "    <tr>\n",
       "      <th>19240</th>\n",
       "      <td>0</td>\n",
       "      <td>0</td>\n",
       "      <td>0</td>\n",
       "      <td>0</td>\n",
       "      <td>0</td>\n",
       "      <td>0</td>\n",
       "      <td>0</td>\n",
       "      <td>0</td>\n",
       "      <td>0</td>\n",
       "      <td>0</td>\n",
       "      <td>...</td>\n",
       "      <td>0</td>\n",
       "      <td>0</td>\n",
       "      <td>0</td>\n",
       "      <td>1</td>\n",
       "      <td>6.0</td>\n",
       "      <td>194399</td>\n",
       "      <td>0.5</td>\n",
       "      <td>0.0</td>\n",
       "      <td>0.0</td>\n",
       "      <td>0.0</td>\n",
       "    </tr>\n",
       "    <tr>\n",
       "      <th>31163</th>\n",
       "      <td>0</td>\n",
       "      <td>0</td>\n",
       "      <td>0</td>\n",
       "      <td>0</td>\n",
       "      <td>0</td>\n",
       "      <td>0</td>\n",
       "      <td>0</td>\n",
       "      <td>0</td>\n",
       "      <td>0</td>\n",
       "      <td>0</td>\n",
       "      <td>...</td>\n",
       "      <td>0</td>\n",
       "      <td>0</td>\n",
       "      <td>0</td>\n",
       "      <td>0</td>\n",
       "      <td>4.0</td>\n",
       "      <td>214946</td>\n",
       "      <td>0.5</td>\n",
       "      <td>0.0</td>\n",
       "      <td>0.0</td>\n",
       "      <td>0.0</td>\n",
       "    </tr>\n",
       "    <tr>\n",
       "      <th>45251</th>\n",
       "      <td>0</td>\n",
       "      <td>0</td>\n",
       "      <td>0</td>\n",
       "      <td>0</td>\n",
       "      <td>0</td>\n",
       "      <td>0</td>\n",
       "      <td>0</td>\n",
       "      <td>0</td>\n",
       "      <td>0</td>\n",
       "      <td>0</td>\n",
       "      <td>...</td>\n",
       "      <td>0</td>\n",
       "      <td>0</td>\n",
       "      <td>0</td>\n",
       "      <td>0</td>\n",
       "      <td>4.0</td>\n",
       "      <td>51236</td>\n",
       "      <td>0.5</td>\n",
       "      <td>0.0</td>\n",
       "      <td>0.0</td>\n",
       "      <td>0.0</td>\n",
       "    </tr>\n",
       "    <tr>\n",
       "      <th>45756</th>\n",
       "      <td>0</td>\n",
       "      <td>0</td>\n",
       "      <td>0</td>\n",
       "      <td>0</td>\n",
       "      <td>0</td>\n",
       "      <td>0</td>\n",
       "      <td>0</td>\n",
       "      <td>0</td>\n",
       "      <td>0</td>\n",
       "      <td>0</td>\n",
       "      <td>...</td>\n",
       "      <td>0</td>\n",
       "      <td>0</td>\n",
       "      <td>0</td>\n",
       "      <td>0</td>\n",
       "      <td>4.0</td>\n",
       "      <td>52062</td>\n",
       "      <td>0.5</td>\n",
       "      <td>0.0</td>\n",
       "      <td>0.0</td>\n",
       "      <td>0.0</td>\n",
       "    </tr>\n",
       "    <tr>\n",
       "      <th>48669</th>\n",
       "      <td>0</td>\n",
       "      <td>0</td>\n",
       "      <td>0</td>\n",
       "      <td>0</td>\n",
       "      <td>0</td>\n",
       "      <td>0</td>\n",
       "      <td>0</td>\n",
       "      <td>0</td>\n",
       "      <td>0</td>\n",
       "      <td>0</td>\n",
       "      <td>...</td>\n",
       "      <td>0</td>\n",
       "      <td>0</td>\n",
       "      <td>0</td>\n",
       "      <td>1</td>\n",
       "      <td>10.0</td>\n",
       "      <td>83727</td>\n",
       "      <td>0.5</td>\n",
       "      <td>0.0</td>\n",
       "      <td>0.0</td>\n",
       "      <td>0.0</td>\n",
       "    </tr>\n",
       "    <tr>\n",
       "      <th>57651</th>\n",
       "      <td>0</td>\n",
       "      <td>0</td>\n",
       "      <td>0</td>\n",
       "      <td>0</td>\n",
       "      <td>0</td>\n",
       "      <td>0</td>\n",
       "      <td>0</td>\n",
       "      <td>0</td>\n",
       "      <td>0</td>\n",
       "      <td>0</td>\n",
       "      <td>...</td>\n",
       "      <td>0</td>\n",
       "      <td>0</td>\n",
       "      <td>0</td>\n",
       "      <td>1</td>\n",
       "      <td>14.0</td>\n",
       "      <td>99170</td>\n",
       "      <td>0.5</td>\n",
       "      <td>0.0</td>\n",
       "      <td>0.0</td>\n",
       "      <td>0.0</td>\n",
       "    </tr>\n",
       "    <tr>\n",
       "      <th>59288</th>\n",
       "      <td>0</td>\n",
       "      <td>0</td>\n",
       "      <td>0</td>\n",
       "      <td>0</td>\n",
       "      <td>0</td>\n",
       "      <td>0</td>\n",
       "      <td>0</td>\n",
       "      <td>0</td>\n",
       "      <td>0</td>\n",
       "      <td>0</td>\n",
       "      <td>...</td>\n",
       "      <td>0</td>\n",
       "      <td>0</td>\n",
       "      <td>0</td>\n",
       "      <td>1</td>\n",
       "      <td>4.0</td>\n",
       "      <td>101951</td>\n",
       "      <td>0.5</td>\n",
       "      <td>0.0</td>\n",
       "      <td>0.0</td>\n",
       "      <td>0.0</td>\n",
       "    </tr>\n",
       "    <tr>\n",
       "      <th>61206</th>\n",
       "      <td>0</td>\n",
       "      <td>0</td>\n",
       "      <td>0</td>\n",
       "      <td>0</td>\n",
       "      <td>0</td>\n",
       "      <td>0</td>\n",
       "      <td>0</td>\n",
       "      <td>0</td>\n",
       "      <td>0</td>\n",
       "      <td>0</td>\n",
       "      <td>...</td>\n",
       "      <td>0</td>\n",
       "      <td>0</td>\n",
       "      <td>0</td>\n",
       "      <td>0</td>\n",
       "      <td>4.0</td>\n",
       "      <td>105323</td>\n",
       "      <td>0.5</td>\n",
       "      <td>0.0</td>\n",
       "      <td>0.0</td>\n",
       "      <td>0.0</td>\n",
       "    </tr>\n",
       "    <tr>\n",
       "      <th>66461</th>\n",
       "      <td>0</td>\n",
       "      <td>0</td>\n",
       "      <td>0</td>\n",
       "      <td>0</td>\n",
       "      <td>0</td>\n",
       "      <td>0</td>\n",
       "      <td>0</td>\n",
       "      <td>0</td>\n",
       "      <td>0</td>\n",
       "      <td>0</td>\n",
       "      <td>...</td>\n",
       "      <td>0</td>\n",
       "      <td>0</td>\n",
       "      <td>0</td>\n",
       "      <td>0</td>\n",
       "      <td>6.0</td>\n",
       "      <td>168065</td>\n",
       "      <td>0.5</td>\n",
       "      <td>0.0</td>\n",
       "      <td>0.0</td>\n",
       "      <td>0.0</td>\n",
       "    </tr>\n",
       "    <tr>\n",
       "      <th>67852</th>\n",
       "      <td>0</td>\n",
       "      <td>0</td>\n",
       "      <td>0</td>\n",
       "      <td>0</td>\n",
       "      <td>0</td>\n",
       "      <td>0</td>\n",
       "      <td>0</td>\n",
       "      <td>0</td>\n",
       "      <td>0</td>\n",
       "      <td>0</td>\n",
       "      <td>...</td>\n",
       "      <td>0</td>\n",
       "      <td>0</td>\n",
       "      <td>0</td>\n",
       "      <td>0</td>\n",
       "      <td>4.0</td>\n",
       "      <td>170489</td>\n",
       "      <td>0.5</td>\n",
       "      <td>0.0</td>\n",
       "      <td>0.0</td>\n",
       "      <td>0.0</td>\n",
       "    </tr>\n",
       "    <tr>\n",
       "      <th>71697</th>\n",
       "      <td>0</td>\n",
       "      <td>0</td>\n",
       "      <td>0</td>\n",
       "      <td>0</td>\n",
       "      <td>0</td>\n",
       "      <td>0</td>\n",
       "      <td>0</td>\n",
       "      <td>0</td>\n",
       "      <td>0</td>\n",
       "      <td>0</td>\n",
       "      <td>...</td>\n",
       "      <td>0</td>\n",
       "      <td>0</td>\n",
       "      <td>0</td>\n",
       "      <td>0</td>\n",
       "      <td>4.0</td>\n",
       "      <td>177042</td>\n",
       "      <td>0.5</td>\n",
       "      <td>0.0</td>\n",
       "      <td>0.0</td>\n",
       "      <td>0.0</td>\n",
       "    </tr>\n",
       "    <tr>\n",
       "      <th>72050</th>\n",
       "      <td>0</td>\n",
       "      <td>0</td>\n",
       "      <td>0</td>\n",
       "      <td>0</td>\n",
       "      <td>0</td>\n",
       "      <td>0</td>\n",
       "      <td>0</td>\n",
       "      <td>0</td>\n",
       "      <td>0</td>\n",
       "      <td>0</td>\n",
       "      <td>...</td>\n",
       "      <td>0</td>\n",
       "      <td>0</td>\n",
       "      <td>0</td>\n",
       "      <td>0</td>\n",
       "      <td>6.0</td>\n",
       "      <td>177664</td>\n",
       "      <td>0.5</td>\n",
       "      <td>0.0</td>\n",
       "      <td>0.0</td>\n",
       "      <td>0.0</td>\n",
       "    </tr>\n",
       "    <tr>\n",
       "      <th>78319</th>\n",
       "      <td>0</td>\n",
       "      <td>0</td>\n",
       "      <td>0</td>\n",
       "      <td>0</td>\n",
       "      <td>0</td>\n",
       "      <td>0</td>\n",
       "      <td>0</td>\n",
       "      <td>0</td>\n",
       "      <td>0</td>\n",
       "      <td>0</td>\n",
       "      <td>...</td>\n",
       "      <td>0</td>\n",
       "      <td>0</td>\n",
       "      <td>0</td>\n",
       "      <td>1</td>\n",
       "      <td>8.0</td>\n",
       "      <td>54192</td>\n",
       "      <td>0.5</td>\n",
       "      <td>0.0</td>\n",
       "      <td>0.0</td>\n",
       "      <td>0.0</td>\n",
       "    </tr>\n",
       "    <tr>\n",
       "      <th>95286</th>\n",
       "      <td>1</td>\n",
       "      <td>0</td>\n",
       "      <td>0</td>\n",
       "      <td>0</td>\n",
       "      <td>0</td>\n",
       "      <td>0</td>\n",
       "      <td>0</td>\n",
       "      <td>0</td>\n",
       "      <td>0</td>\n",
       "      <td>0</td>\n",
       "      <td>...</td>\n",
       "      <td>0</td>\n",
       "      <td>0</td>\n",
       "      <td>0</td>\n",
       "      <td>1</td>\n",
       "      <td>2.0</td>\n",
       "      <td>2638</td>\n",
       "      <td>0.5</td>\n",
       "      <td>0.0</td>\n",
       "      <td>0.0</td>\n",
       "      <td>0.0</td>\n",
       "    </tr>\n",
       "    <tr>\n",
       "      <th>96003</th>\n",
       "      <td>1</td>\n",
       "      <td>0</td>\n",
       "      <td>0</td>\n",
       "      <td>0</td>\n",
       "      <td>0</td>\n",
       "      <td>0</td>\n",
       "      <td>0</td>\n",
       "      <td>0</td>\n",
       "      <td>0</td>\n",
       "      <td>0</td>\n",
       "      <td>...</td>\n",
       "      <td>0</td>\n",
       "      <td>0</td>\n",
       "      <td>0</td>\n",
       "      <td>1</td>\n",
       "      <td>2.0</td>\n",
       "      <td>3886</td>\n",
       "      <td>0.5</td>\n",
       "      <td>0.0</td>\n",
       "      <td>0.0</td>\n",
       "      <td>0.0</td>\n",
       "    </tr>\n",
       "    <tr>\n",
       "      <th>105359</th>\n",
       "      <td>0</td>\n",
       "      <td>0</td>\n",
       "      <td>0</td>\n",
       "      <td>0</td>\n",
       "      <td>0</td>\n",
       "      <td>0</td>\n",
       "      <td>0</td>\n",
       "      <td>0</td>\n",
       "      <td>0</td>\n",
       "      <td>0</td>\n",
       "      <td>...</td>\n",
       "      <td>0</td>\n",
       "      <td>0</td>\n",
       "      <td>0</td>\n",
       "      <td>1</td>\n",
       "      <td>12.0</td>\n",
       "      <td>20012</td>\n",
       "      <td>0.5</td>\n",
       "      <td>0.0</td>\n",
       "      <td>0.0</td>\n",
       "      <td>0.0</td>\n",
       "    </tr>\n",
       "    <tr>\n",
       "      <th>107962</th>\n",
       "      <td>1</td>\n",
       "      <td>0</td>\n",
       "      <td>0</td>\n",
       "      <td>0</td>\n",
       "      <td>0</td>\n",
       "      <td>0</td>\n",
       "      <td>0</td>\n",
       "      <td>0</td>\n",
       "      <td>0</td>\n",
       "      <td>0</td>\n",
       "      <td>...</td>\n",
       "      <td>0</td>\n",
       "      <td>0</td>\n",
       "      <td>0</td>\n",
       "      <td>0</td>\n",
       "      <td>6.0</td>\n",
       "      <td>24472</td>\n",
       "      <td>0.5</td>\n",
       "      <td>0.0</td>\n",
       "      <td>0.0</td>\n",
       "      <td>0.0</td>\n",
       "    </tr>\n",
       "    <tr>\n",
       "      <th>114909</th>\n",
       "      <td>1</td>\n",
       "      <td>0</td>\n",
       "      <td>0</td>\n",
       "      <td>0</td>\n",
       "      <td>0</td>\n",
       "      <td>0</td>\n",
       "      <td>0</td>\n",
       "      <td>0</td>\n",
       "      <td>0</td>\n",
       "      <td>0</td>\n",
       "      <td>...</td>\n",
       "      <td>0</td>\n",
       "      <td>0</td>\n",
       "      <td>0</td>\n",
       "      <td>0</td>\n",
       "      <td>6.0</td>\n",
       "      <td>143835</td>\n",
       "      <td>0.5</td>\n",
       "      <td>0.0</td>\n",
       "      <td>0.0</td>\n",
       "      <td>0.0</td>\n",
       "    </tr>\n",
       "    <tr>\n",
       "      <th>117159</th>\n",
       "      <td>0</td>\n",
       "      <td>0</td>\n",
       "      <td>0</td>\n",
       "      <td>0</td>\n",
       "      <td>0</td>\n",
       "      <td>0</td>\n",
       "      <td>0</td>\n",
       "      <td>0</td>\n",
       "      <td>0</td>\n",
       "      <td>0</td>\n",
       "      <td>...</td>\n",
       "      <td>0</td>\n",
       "      <td>0</td>\n",
       "      <td>1</td>\n",
       "      <td>1</td>\n",
       "      <td>14.0</td>\n",
       "      <td>147676</td>\n",
       "      <td>0.5</td>\n",
       "      <td>0.0</td>\n",
       "      <td>0.0</td>\n",
       "      <td>0.0</td>\n",
       "    </tr>\n",
       "  </tbody>\n",
       "</table>\n",
       "<p>24 rows × 349 columns</p>\n",
       "</div>"
      ],
      "text/plain": [
       "        adjf  adjf adjf  adjf adjs  adjf advb  adjf comp  adjf conj  \\\n",
       "50         0          0          0          0          0          0   \n",
       "5520       0          0          0          0          0          0   \n",
       "8746       0          0          0          0          0          0   \n",
       "12938      0          0          0          0          0          0   \n",
       "16603      0          0          0          0          0          0   \n",
       "19240      0          0          0          0          0          0   \n",
       "31163      0          0          0          0          0          0   \n",
       "45251      0          0          0          0          0          0   \n",
       "45756      0          0          0          0          0          0   \n",
       "48669      0          0          0          0          0          0   \n",
       "57651      0          0          0          0          0          0   \n",
       "59288      0          0          0          0          0          0   \n",
       "61206      0          0          0          0          0          0   \n",
       "66461      0          0          0          0          0          0   \n",
       "67852      0          0          0          0          0          0   \n",
       "71697      0          0          0          0          0          0   \n",
       "72050      0          0          0          0          0          0   \n",
       "78319      0          0          0          0          0          0   \n",
       "95286      1          0          0          0          0          0   \n",
       "96003      1          0          0          0          0          0   \n",
       "105359     0          0          0          0          0          0   \n",
       "107962     1          0          0          0          0          0   \n",
       "114909     1          0          0          0          0          0   \n",
       "117159     0          0          0          0          0          0   \n",
       "\n",
       "        adjf grnd  adjf infn  adjf intj  adjf none  ...  verb prtf  verb prts  \\\n",
       "50              0          0          0          0  ...          0          0   \n",
       "5520            0          0          0          0  ...          0          0   \n",
       "8746            0          0          0          0  ...          0          0   \n",
       "12938           0          0          0          0  ...          0          0   \n",
       "16603           0          0          0          0  ...          0          0   \n",
       "19240           0          0          0          0  ...          0          0   \n",
       "31163           0          0          0          0  ...          0          0   \n",
       "45251           0          0          0          0  ...          0          0   \n",
       "45756           0          0          0          0  ...          0          0   \n",
       "48669           0          0          0          0  ...          0          0   \n",
       "57651           0          0          0          0  ...          0          0   \n",
       "59288           0          0          0          0  ...          0          0   \n",
       "61206           0          0          0          0  ...          0          0   \n",
       "66461           0          0          0          0  ...          0          0   \n",
       "67852           0          0          0          0  ...          0          0   \n",
       "71697           0          0          0          0  ...          0          0   \n",
       "72050           0          0          0          0  ...          0          0   \n",
       "78319           0          0          0          0  ...          0          0   \n",
       "95286           0          0          0          0  ...          0          0   \n",
       "96003           0          0          0          0  ...          0          0   \n",
       "105359          0          0          0          0  ...          0          0   \n",
       "107962          0          0          0          0  ...          0          0   \n",
       "114909          0          0          0          0  ...          0          0   \n",
       "117159          0          0          0          0  ...          0          0   \n",
       "\n",
       "        verb verb  Class  Количество слов      Id  prep_freq  comp_none_freq  \\\n",
       "50              0      0              4.0  107632        0.5             0.0   \n",
       "5520            0      1             12.0  117033        0.5             0.0   \n",
       "8746            0      0              4.0  122588        0.5             0.0   \n",
       "12938           0      0              2.0  129840        0.5             0.0   \n",
       "16603           0      1              4.0  189895        0.5             0.0   \n",
       "19240           0      1              6.0  194399        0.5             0.0   \n",
       "31163           0      0              4.0  214946        0.5             0.0   \n",
       "45251           0      0              4.0   51236        0.5             0.0   \n",
       "45756           0      0              4.0   52062        0.5             0.0   \n",
       "48669           0      1             10.0   83727        0.5             0.0   \n",
       "57651           0      1             14.0   99170        0.5             0.0   \n",
       "59288           0      1              4.0  101951        0.5             0.0   \n",
       "61206           0      0              4.0  105323        0.5             0.0   \n",
       "66461           0      0              6.0  168065        0.5             0.0   \n",
       "67852           0      0              4.0  170489        0.5             0.0   \n",
       "71697           0      0              4.0  177042        0.5             0.0   \n",
       "72050           0      0              6.0  177664        0.5             0.0   \n",
       "78319           0      1              8.0   54192        0.5             0.0   \n",
       "95286           0      1              2.0    2638        0.5             0.0   \n",
       "96003           0      1              2.0    3886        0.5             0.0   \n",
       "105359          0      1             12.0   20012        0.5             0.0   \n",
       "107962          0      0              6.0   24472        0.5             0.0   \n",
       "114909          0      0              6.0  143835        0.5             0.0   \n",
       "117159          1      1             14.0  147676        0.5             0.0   \n",
       "\n",
       "        none_comp_freq  comp_advb_freq  \n",
       "50                 0.0             0.0  \n",
       "5520               0.0             0.0  \n",
       "8746               0.0             0.0  \n",
       "12938              0.0             0.0  \n",
       "16603              0.0             0.0  \n",
       "19240              0.0             0.0  \n",
       "31163              0.0             0.0  \n",
       "45251              0.0             0.0  \n",
       "45756              0.0             0.0  \n",
       "48669              0.0             0.0  \n",
       "57651              0.0             0.0  \n",
       "59288              0.0             0.0  \n",
       "61206              0.0             0.0  \n",
       "66461              0.0             0.0  \n",
       "67852              0.0             0.0  \n",
       "71697              0.0             0.0  \n",
       "72050              0.0             0.0  \n",
       "78319              0.0             0.0  \n",
       "95286              0.0             0.0  \n",
       "96003              0.0             0.0  \n",
       "105359             0.0             0.0  \n",
       "107962             0.0             0.0  \n",
       "114909             0.0             0.0  \n",
       "117159             0.0             0.0  \n",
       "\n",
       "[24 rows x 349 columns]"
      ]
     },
     "execution_count": 117,
     "metadata": {},
     "output_type": "execute_result"
    }
   ],
   "source": [
    "bow_train[bow_train['prep_freq']==max(bow_train[bow_train['Class'] == 0]['prep_freq'])]"
   ]
  },
  {
   "cell_type": "code",
   "execution_count": 118,
   "id": "1fbb6420",
   "metadata": {},
   "outputs": [
    {
     "data": {
      "text/plain": [
       "7"
      ]
     },
     "execution_count": 118,
     "metadata": {},
     "output_type": "execute_result"
    }
   ],
   "source": [
    "bow_train['prep'][117159]"
   ]
  },
  {
   "cell_type": "code",
   "execution_count": 120,
   "id": "e3b9611b",
   "metadata": {},
   "outputs": [
    {
     "name": "stdout",
     "output_type": "stream",
     "text": [
      "Он ходил с О.В., ходил к Л., обедал; были разговоры с У.В.\n"
     ]
    }
   ],
   "source": [
    "print(train['Text'][117159])"
   ]
  },
  {
   "cell_type": "code",
   "execution_count": 122,
   "id": "94bd683e",
   "metadata": {},
   "outputs": [
    {
     "data": {
      "text/plain": [
       "'NPRO VERB PREP PREP PREP VERB PREP NOUN VERB VERB NOUN PREP PREP PREP'"
      ]
     },
     "execution_count": 122,
     "metadata": {},
     "output_type": "execute_result"
    }
   ],
   "source": [
    "train['sent_POS_Text'][117159]"
   ]
  },
  {
   "cell_type": "code",
   "execution_count": 123,
   "id": "dbf7796a",
   "metadata": {},
   "outputs": [
    {
     "data": {
      "text/plain": [
       "1.0"
      ]
     },
     "execution_count": 123,
     "metadata": {},
     "output_type": "execute_result"
    }
   ],
   "source": [
    "max(bow_train[bow_train['Class'] == 1]['prep_freq'])"
   ]
  },
  {
   "cell_type": "code",
   "execution_count": 124,
   "id": "799f1a57",
   "metadata": {},
   "outputs": [
    {
     "data": {
      "text/html": [
       "<div>\n",
       "<style scoped>\n",
       "    .dataframe tbody tr th:only-of-type {\n",
       "        vertical-align: middle;\n",
       "    }\n",
       "\n",
       "    .dataframe tbody tr th {\n",
       "        vertical-align: top;\n",
       "    }\n",
       "\n",
       "    .dataframe thead th {\n",
       "        text-align: right;\n",
       "    }\n",
       "</style>\n",
       "<table border=\"1\" class=\"dataframe\">\n",
       "  <thead>\n",
       "    <tr style=\"text-align: right;\">\n",
       "      <th></th>\n",
       "      <th>adjf</th>\n",
       "      <th>adjf adjf</th>\n",
       "      <th>adjf adjs</th>\n",
       "      <th>adjf advb</th>\n",
       "      <th>adjf comp</th>\n",
       "      <th>adjf conj</th>\n",
       "      <th>adjf grnd</th>\n",
       "      <th>adjf infn</th>\n",
       "      <th>adjf intj</th>\n",
       "      <th>adjf none</th>\n",
       "      <th>...</th>\n",
       "      <th>verb prtf</th>\n",
       "      <th>verb prts</th>\n",
       "      <th>verb verb</th>\n",
       "      <th>Class</th>\n",
       "      <th>Количество слов</th>\n",
       "      <th>Id</th>\n",
       "      <th>prep_freq</th>\n",
       "      <th>comp_none_freq</th>\n",
       "      <th>none_comp_freq</th>\n",
       "      <th>comp_advb_freq</th>\n",
       "    </tr>\n",
       "  </thead>\n",
       "  <tbody>\n",
       "    <tr>\n",
       "      <th>95714</th>\n",
       "      <td>0</td>\n",
       "      <td>0</td>\n",
       "      <td>0</td>\n",
       "      <td>0</td>\n",
       "      <td>0</td>\n",
       "      <td>0</td>\n",
       "      <td>0</td>\n",
       "      <td>0</td>\n",
       "      <td>0</td>\n",
       "      <td>0</td>\n",
       "      <td>...</td>\n",
       "      <td>0</td>\n",
       "      <td>0</td>\n",
       "      <td>0</td>\n",
       "      <td>1</td>\n",
       "      <td>9.0</td>\n",
       "      <td>3378</td>\n",
       "      <td>1.0</td>\n",
       "      <td>0.0</td>\n",
       "      <td>0.0</td>\n",
       "      <td>0.0</td>\n",
       "    </tr>\n",
       "  </tbody>\n",
       "</table>\n",
       "<p>1 rows × 349 columns</p>\n",
       "</div>"
      ],
      "text/plain": [
       "       adjf  adjf adjf  adjf adjs  adjf advb  adjf comp  adjf conj  adjf grnd  \\\n",
       "95714     0          0          0          0          0          0          0   \n",
       "\n",
       "       adjf infn  adjf intj  adjf none  ...  verb prtf  verb prts  verb verb  \\\n",
       "95714          0          0          0  ...          0          0          0   \n",
       "\n",
       "       Class  Количество слов    Id  prep_freq  comp_none_freq  \\\n",
       "95714      1              9.0  3378        1.0             0.0   \n",
       "\n",
       "       none_comp_freq  comp_advb_freq  \n",
       "95714             0.0             0.0  \n",
       "\n",
       "[1 rows x 349 columns]"
      ]
     },
     "execution_count": 124,
     "metadata": {},
     "output_type": "execute_result"
    }
   ],
   "source": [
    "bow_train[bow_train['prep_freq']==max(bow_train[bow_train['Class'] == 1]['prep_freq'])]"
   ]
  },
  {
   "cell_type": "code",
   "execution_count": 125,
   "id": "7f448795",
   "metadata": {},
   "outputs": [
    {
     "data": {
      "text/html": [
       "<div>\n",
       "<style scoped>\n",
       "    .dataframe tbody tr th:only-of-type {\n",
       "        vertical-align: middle;\n",
       "    }\n",
       "\n",
       "    .dataframe tbody tr th {\n",
       "        vertical-align: top;\n",
       "    }\n",
       "\n",
       "    .dataframe thead th {\n",
       "        text-align: right;\n",
       "    }\n",
       "</style>\n",
       "<table border=\"1\" class=\"dataframe\">\n",
       "  <thead>\n",
       "    <tr style=\"text-align: right;\">\n",
       "      <th></th>\n",
       "      <th>adjf</th>\n",
       "      <th>adjf adjf</th>\n",
       "      <th>adjf adjs</th>\n",
       "      <th>adjf advb</th>\n",
       "      <th>adjf comp</th>\n",
       "      <th>adjf conj</th>\n",
       "      <th>adjf grnd</th>\n",
       "      <th>adjf infn</th>\n",
       "      <th>adjf intj</th>\n",
       "      <th>adjf none</th>\n",
       "      <th>...</th>\n",
       "      <th>verb prtf</th>\n",
       "      <th>verb prts</th>\n",
       "      <th>verb verb</th>\n",
       "      <th>Class</th>\n",
       "      <th>Количество слов</th>\n",
       "      <th>Id</th>\n",
       "      <th>prep_freq</th>\n",
       "      <th>comp_none_freq</th>\n",
       "      <th>none_comp_freq</th>\n",
       "      <th>comp_advb_freq</th>\n",
       "    </tr>\n",
       "  </thead>\n",
       "  <tbody>\n",
       "    <tr>\n",
       "      <th>45756</th>\n",
       "      <td>0</td>\n",
       "      <td>0</td>\n",
       "      <td>0</td>\n",
       "      <td>0</td>\n",
       "      <td>0</td>\n",
       "      <td>0</td>\n",
       "      <td>0</td>\n",
       "      <td>0</td>\n",
       "      <td>0</td>\n",
       "      <td>0</td>\n",
       "      <td>...</td>\n",
       "      <td>0</td>\n",
       "      <td>0</td>\n",
       "      <td>0</td>\n",
       "      <td>0</td>\n",
       "      <td>4.0</td>\n",
       "      <td>52062</td>\n",
       "      <td>0.5</td>\n",
       "      <td>0.0</td>\n",
       "      <td>0.0</td>\n",
       "      <td>0.0</td>\n",
       "    </tr>\n",
       "    <tr>\n",
       "      <th>72050</th>\n",
       "      <td>0</td>\n",
       "      <td>0</td>\n",
       "      <td>0</td>\n",
       "      <td>0</td>\n",
       "      <td>0</td>\n",
       "      <td>0</td>\n",
       "      <td>0</td>\n",
       "      <td>0</td>\n",
       "      <td>0</td>\n",
       "      <td>0</td>\n",
       "      <td>...</td>\n",
       "      <td>0</td>\n",
       "      <td>0</td>\n",
       "      <td>0</td>\n",
       "      <td>0</td>\n",
       "      <td>6.0</td>\n",
       "      <td>177664</td>\n",
       "      <td>0.5</td>\n",
       "      <td>0.0</td>\n",
       "      <td>0.0</td>\n",
       "      <td>0.0</td>\n",
       "    </tr>\n",
       "    <tr>\n",
       "      <th>31163</th>\n",
       "      <td>0</td>\n",
       "      <td>0</td>\n",
       "      <td>0</td>\n",
       "      <td>0</td>\n",
       "      <td>0</td>\n",
       "      <td>0</td>\n",
       "      <td>0</td>\n",
       "      <td>0</td>\n",
       "      <td>0</td>\n",
       "      <td>0</td>\n",
       "      <td>...</td>\n",
       "      <td>0</td>\n",
       "      <td>0</td>\n",
       "      <td>0</td>\n",
       "      <td>0</td>\n",
       "      <td>4.0</td>\n",
       "      <td>214946</td>\n",
       "      <td>0.5</td>\n",
       "      <td>0.0</td>\n",
       "      <td>0.0</td>\n",
       "      <td>0.0</td>\n",
       "    </tr>\n",
       "    <tr>\n",
       "      <th>12938</th>\n",
       "      <td>0</td>\n",
       "      <td>0</td>\n",
       "      <td>0</td>\n",
       "      <td>0</td>\n",
       "      <td>0</td>\n",
       "      <td>0</td>\n",
       "      <td>0</td>\n",
       "      <td>0</td>\n",
       "      <td>0</td>\n",
       "      <td>0</td>\n",
       "      <td>...</td>\n",
       "      <td>0</td>\n",
       "      <td>0</td>\n",
       "      <td>0</td>\n",
       "      <td>0</td>\n",
       "      <td>2.0</td>\n",
       "      <td>129840</td>\n",
       "      <td>0.5</td>\n",
       "      <td>0.0</td>\n",
       "      <td>0.0</td>\n",
       "      <td>0.0</td>\n",
       "    </tr>\n",
       "    <tr>\n",
       "      <th>45251</th>\n",
       "      <td>0</td>\n",
       "      <td>0</td>\n",
       "      <td>0</td>\n",
       "      <td>0</td>\n",
       "      <td>0</td>\n",
       "      <td>0</td>\n",
       "      <td>0</td>\n",
       "      <td>0</td>\n",
       "      <td>0</td>\n",
       "      <td>0</td>\n",
       "      <td>...</td>\n",
       "      <td>0</td>\n",
       "      <td>0</td>\n",
       "      <td>0</td>\n",
       "      <td>0</td>\n",
       "      <td>4.0</td>\n",
       "      <td>51236</td>\n",
       "      <td>0.5</td>\n",
       "      <td>0.0</td>\n",
       "      <td>0.0</td>\n",
       "      <td>0.0</td>\n",
       "    </tr>\n",
       "  </tbody>\n",
       "</table>\n",
       "<p>5 rows × 349 columns</p>\n",
       "</div>"
      ],
      "text/plain": [
       "       adjf  adjf adjf  adjf adjs  adjf advb  adjf comp  adjf conj  adjf grnd  \\\n",
       "45756     0          0          0          0          0          0          0   \n",
       "72050     0          0          0          0          0          0          0   \n",
       "31163     0          0          0          0          0          0          0   \n",
       "12938     0          0          0          0          0          0          0   \n",
       "45251     0          0          0          0          0          0          0   \n",
       "\n",
       "       adjf infn  adjf intj  adjf none  ...  verb prtf  verb prts  verb verb  \\\n",
       "45756          0          0          0  ...          0          0          0   \n",
       "72050          0          0          0  ...          0          0          0   \n",
       "31163          0          0          0  ...          0          0          0   \n",
       "12938          0          0          0  ...          0          0          0   \n",
       "45251          0          0          0  ...          0          0          0   \n",
       "\n",
       "       Class  Количество слов      Id  prep_freq  comp_none_freq  \\\n",
       "45756      0              4.0   52062        0.5             0.0   \n",
       "72050      0              6.0  177664        0.5             0.0   \n",
       "31163      0              4.0  214946        0.5             0.0   \n",
       "12938      0              2.0  129840        0.5             0.0   \n",
       "45251      0              4.0   51236        0.5             0.0   \n",
       "\n",
       "       none_comp_freq  comp_advb_freq  \n",
       "45756             0.0             0.0  \n",
       "72050             0.0             0.0  \n",
       "31163             0.0             0.0  \n",
       "12938             0.0             0.0  \n",
       "45251             0.0             0.0  \n",
       "\n",
       "[5 rows x 349 columns]"
      ]
     },
     "execution_count": 125,
     "metadata": {},
     "output_type": "execute_result"
    }
   ],
   "source": [
    "bow_train[(bow_train['prep_freq'] >= 0.1)&(bow_train['Class'] == 0)]\\\n",
    ".sort_values (by='prep_freq', ascending=False).head(5)"
   ]
  },
  {
   "cell_type": "code",
   "execution_count": 127,
   "id": "7e6dfbd5",
   "metadata": {},
   "outputs": [
    {
     "name": "stdout",
     "output_type": "stream",
     "text": [
      "«О Аллах (о Господи)!\n",
      "В Университете — на заседании по программе.\n",
      "Из Пелища в Речицы.\n",
      "-- С рестораном\".\n",
      "Из Рубежевичи в Волму.\n"
     ]
    }
   ],
   "source": [
    "print(train['Text'][45756])\n",
    "print(train['Text'][72050])\n",
    "print(train['Text'][31163])\n",
    "print(train['Text'][12938])\n",
    "print(train['Text'][45251])"
   ]
  },
  {
   "cell_type": "code",
   "execution_count": 131,
   "id": "832b391b",
   "metadata": {},
   "outputs": [],
   "source": [
    "# посмотрим что в других самых частотных М текстах:\n",
    "# bow_train[(bow_train['prep_grnd_freq'] >= 0.1)&(bow_train['Class'] == 1)]\\\n",
    "# .sort_values (by='prep_grnd_freq', ascending=False).head(5)"
   ]
  },
  {
   "cell_type": "code",
   "execution_count": 132,
   "id": "361e89f3",
   "metadata": {},
   "outputs": [],
   "source": [
    "# print(train['Text'][59346])\n",
    "# print(train['Text'][32848])\n",
    "# print(train['Text'][33750])\n",
    "# print(train['Text'][71289])\n",
    "# print(train['Text'][14549])"
   ]
  },
  {
   "cell_type": "code",
   "execution_count": null,
   "id": "d344528a",
   "metadata": {},
   "outputs": [],
   "source": [
    "# print(data['text'][58148])\n",
    "# print(train['sent_POS_text'][58148])\n",
    "# bow_train.loc[58148][bow_train.loc[58148]!=0]"
   ]
  },
  {
   "cell_type": "markdown",
   "id": "6b6d4f5b",
   "metadata": {},
   "source": [
    "Проверим вторую биграмму, 'comp none'."
   ]
  },
  {
   "cell_type": "code",
   "execution_count": 134,
   "id": "c39e7e9e",
   "metadata": {},
   "outputs": [
    {
     "data": {
      "text/html": [
       "<div>\n",
       "<style scoped>\n",
       "    .dataframe tbody tr th:only-of-type {\n",
       "        vertical-align: middle;\n",
       "    }\n",
       "\n",
       "    .dataframe tbody tr th {\n",
       "        vertical-align: top;\n",
       "    }\n",
       "\n",
       "    .dataframe thead th {\n",
       "        text-align: right;\n",
       "    }\n",
       "</style>\n",
       "<table border=\"1\" class=\"dataframe\">\n",
       "  <thead>\n",
       "    <tr style=\"text-align: right;\">\n",
       "      <th></th>\n",
       "      <th>adjf</th>\n",
       "      <th>adjf adjf</th>\n",
       "      <th>adjf adjs</th>\n",
       "      <th>adjf advb</th>\n",
       "      <th>adjf comp</th>\n",
       "      <th>adjf conj</th>\n",
       "      <th>adjf grnd</th>\n",
       "      <th>adjf infn</th>\n",
       "      <th>adjf intj</th>\n",
       "      <th>adjf none</th>\n",
       "      <th>...</th>\n",
       "      <th>verb prtf</th>\n",
       "      <th>verb prts</th>\n",
       "      <th>verb verb</th>\n",
       "      <th>Class</th>\n",
       "      <th>Количество слов</th>\n",
       "      <th>Id</th>\n",
       "      <th>prep_freq</th>\n",
       "      <th>comp_none_freq</th>\n",
       "      <th>none_comp_freq</th>\n",
       "      <th>comp_advb_freq</th>\n",
       "    </tr>\n",
       "  </thead>\n",
       "  <tbody>\n",
       "    <tr>\n",
       "      <th>59346</th>\n",
       "      <td>0</td>\n",
       "      <td>0</td>\n",
       "      <td>0</td>\n",
       "      <td>0</td>\n",
       "      <td>0</td>\n",
       "      <td>0</td>\n",
       "      <td>0</td>\n",
       "      <td>0</td>\n",
       "      <td>0</td>\n",
       "      <td>0</td>\n",
       "      <td>...</td>\n",
       "      <td>0</td>\n",
       "      <td>0</td>\n",
       "      <td>0</td>\n",
       "      <td>1</td>\n",
       "      <td>5.0</td>\n",
       "      <td>102056</td>\n",
       "      <td>0.0</td>\n",
       "      <td>0.200000</td>\n",
       "      <td>0.0</td>\n",
       "      <td>0.0</td>\n",
       "    </tr>\n",
       "    <tr>\n",
       "      <th>33750</th>\n",
       "      <td>0</td>\n",
       "      <td>0</td>\n",
       "      <td>0</td>\n",
       "      <td>0</td>\n",
       "      <td>0</td>\n",
       "      <td>0</td>\n",
       "      <td>0</td>\n",
       "      <td>0</td>\n",
       "      <td>0</td>\n",
       "      <td>0</td>\n",
       "      <td>...</td>\n",
       "      <td>0</td>\n",
       "      <td>0</td>\n",
       "      <td>0</td>\n",
       "      <td>1</td>\n",
       "      <td>6.0</td>\n",
       "      <td>31347</td>\n",
       "      <td>0.0</td>\n",
       "      <td>0.166667</td>\n",
       "      <td>0.0</td>\n",
       "      <td>0.0</td>\n",
       "    </tr>\n",
       "    <tr>\n",
       "      <th>32848</th>\n",
       "      <td>0</td>\n",
       "      <td>0</td>\n",
       "      <td>0</td>\n",
       "      <td>0</td>\n",
       "      <td>0</td>\n",
       "      <td>0</td>\n",
       "      <td>0</td>\n",
       "      <td>0</td>\n",
       "      <td>0</td>\n",
       "      <td>0</td>\n",
       "      <td>...</td>\n",
       "      <td>0</td>\n",
       "      <td>0</td>\n",
       "      <td>0</td>\n",
       "      <td>1</td>\n",
       "      <td>6.0</td>\n",
       "      <td>29821</td>\n",
       "      <td>0.0</td>\n",
       "      <td>0.166667</td>\n",
       "      <td>0.0</td>\n",
       "      <td>0.0</td>\n",
       "    </tr>\n",
       "    <tr>\n",
       "      <th>71289</th>\n",
       "      <td>0</td>\n",
       "      <td>0</td>\n",
       "      <td>0</td>\n",
       "      <td>0</td>\n",
       "      <td>0</td>\n",
       "      <td>0</td>\n",
       "      <td>0</td>\n",
       "      <td>0</td>\n",
       "      <td>0</td>\n",
       "      <td>0</td>\n",
       "      <td>...</td>\n",
       "      <td>0</td>\n",
       "      <td>0</td>\n",
       "      <td>0</td>\n",
       "      <td>1</td>\n",
       "      <td>6.0</td>\n",
       "      <td>176256</td>\n",
       "      <td>0.0</td>\n",
       "      <td>0.166667</td>\n",
       "      <td>0.0</td>\n",
       "      <td>0.0</td>\n",
       "    </tr>\n",
       "    <tr>\n",
       "      <th>14549</th>\n",
       "      <td>0</td>\n",
       "      <td>0</td>\n",
       "      <td>0</td>\n",
       "      <td>0</td>\n",
       "      <td>0</td>\n",
       "      <td>0</td>\n",
       "      <td>0</td>\n",
       "      <td>0</td>\n",
       "      <td>0</td>\n",
       "      <td>0</td>\n",
       "      <td>...</td>\n",
       "      <td>0</td>\n",
       "      <td>0</td>\n",
       "      <td>0</td>\n",
       "      <td>1</td>\n",
       "      <td>7.0</td>\n",
       "      <td>132599</td>\n",
       "      <td>0.0</td>\n",
       "      <td>0.142857</td>\n",
       "      <td>0.0</td>\n",
       "      <td>0.0</td>\n",
       "    </tr>\n",
       "  </tbody>\n",
       "</table>\n",
       "<p>5 rows × 349 columns</p>\n",
       "</div>"
      ],
      "text/plain": [
       "       adjf  adjf adjf  adjf adjs  adjf advb  adjf comp  adjf conj  adjf grnd  \\\n",
       "59346     0          0          0          0          0          0          0   \n",
       "33750     0          0          0          0          0          0          0   \n",
       "32848     0          0          0          0          0          0          0   \n",
       "71289     0          0          0          0          0          0          0   \n",
       "14549     0          0          0          0          0          0          0   \n",
       "\n",
       "       adjf infn  adjf intj  adjf none  ...  verb prtf  verb prts  verb verb  \\\n",
       "59346          0          0          0  ...          0          0          0   \n",
       "33750          0          0          0  ...          0          0          0   \n",
       "32848          0          0          0  ...          0          0          0   \n",
       "71289          0          0          0  ...          0          0          0   \n",
       "14549          0          0          0  ...          0          0          0   \n",
       "\n",
       "       Class  Количество слов      Id  prep_freq  comp_none_freq  \\\n",
       "59346      1              5.0  102056        0.0        0.200000   \n",
       "33750      1              6.0   31347        0.0        0.166667   \n",
       "32848      1              6.0   29821        0.0        0.166667   \n",
       "71289      1              6.0  176256        0.0        0.166667   \n",
       "14549      1              7.0  132599        0.0        0.142857   \n",
       "\n",
       "       none_comp_freq  comp_advb_freq  \n",
       "59346             0.0             0.0  \n",
       "33750             0.0             0.0  \n",
       "32848             0.0             0.0  \n",
       "71289             0.0             0.0  \n",
       "14549             0.0             0.0  \n",
       "\n",
       "[5 rows x 349 columns]"
      ]
     },
     "execution_count": 134,
     "metadata": {},
     "output_type": "execute_result"
    }
   ],
   "source": [
    "bow_train[(bow_train['comp_none_freq'] > 0)&(bow_train['Class'] == 1)]\\\n",
    ".sort_values (by='comp_none_freq', ascending=False).head(5)"
   ]
  },
  {
   "cell_type": "code",
   "execution_count": 136,
   "id": "752935ff",
   "metadata": {},
   "outputs": [
    {
     "name": "stdout",
     "output_type": "stream",
     "text": [
      "Что больше — Токио или Кобе? \n",
      " ['CONJ', 'COMP', None, 'NOUN', 'CONJ', 'NOUN'] \n",
      "\n",
      "Он играет лучше piano, чем я. \n",
      " ['NPRO', 'VERB', 'COMP', None, 'CONJ', 'NPRO'] \n",
      "\n",
      "Кто бегает быстрее, Юми или Кейко? \n",
      " ['NPRO', 'VERB', 'COMP', None, 'CONJ', 'NOUN'] \n",
      "\n",
      "Сегодня гостиница больше 50 лет существует. \n",
      " ['ADVB', 'NOUN', 'COMP', None, 'NOUN', 'VERB'] \n",
      "\n",
      "Это лучше 100 друзей, чем 100 рублей. \n",
      " ['PRCL', 'COMP', None, 'NOUN', 'CONJ', None, 'NOUN'] \n",
      "\n"
     ]
    }
   ],
   "source": [
    "# здесь должна быть пара компаратив - неопределенный POS\n",
    "# Machine:\n",
    "print(train['Text'][59346],'\\n',train['POS_Text'][59346],'\\n')\n",
    "print(train['Text'][33750],'\\n',train['POS_Text'][33750],'\\n')\n",
    "print(train['Text'][32848],'\\n',train['POS_Text'][32848],'\\n')\n",
    "print(train['Text'][71289],'\\n',train['POS_Text'][71289],'\\n')\n",
    "print(train['Text'][14549],'\\n',train['POS_Text'][14549],'\\n')"
   ]
  },
  {
   "cell_type": "markdown",
   "id": "b8948bd2",
   "metadata": {},
   "source": [
    "Мы сталкиваемся с несколькими фактами:\n",
    "Тире воспринимается как слово, которому надо присвоить POS-тэг.\n",
    "None фиксирует внезапный английский, но я не думаю что в контексте биграмм это показательно. Надо посмотреть распределение по None отдельно.\n",
    "Некоторые цифры воспринимаются как None, это путает классификатор."
   ]
  },
  {
   "cell_type": "code",
   "execution_count": 137,
   "id": "df12315f",
   "metadata": {},
   "outputs": [
    {
     "data": {
      "text/html": [
       "<div>\n",
       "<style scoped>\n",
       "    .dataframe tbody tr th:only-of-type {\n",
       "        vertical-align: middle;\n",
       "    }\n",
       "\n",
       "    .dataframe tbody tr th {\n",
       "        vertical-align: top;\n",
       "    }\n",
       "\n",
       "    .dataframe thead th {\n",
       "        text-align: right;\n",
       "    }\n",
       "</style>\n",
       "<table border=\"1\" class=\"dataframe\">\n",
       "  <thead>\n",
       "    <tr style=\"text-align: right;\">\n",
       "      <th></th>\n",
       "      <th>adjf</th>\n",
       "      <th>adjf adjf</th>\n",
       "      <th>adjf adjs</th>\n",
       "      <th>adjf advb</th>\n",
       "      <th>adjf comp</th>\n",
       "      <th>adjf conj</th>\n",
       "      <th>adjf grnd</th>\n",
       "      <th>adjf infn</th>\n",
       "      <th>adjf intj</th>\n",
       "      <th>adjf none</th>\n",
       "      <th>...</th>\n",
       "      <th>verb prtf</th>\n",
       "      <th>verb prts</th>\n",
       "      <th>verb verb</th>\n",
       "      <th>Class</th>\n",
       "      <th>Количество слов</th>\n",
       "      <th>Id</th>\n",
       "      <th>prep_freq</th>\n",
       "      <th>comp_none_freq</th>\n",
       "      <th>none_comp_freq</th>\n",
       "      <th>comp_advb_freq</th>\n",
       "    </tr>\n",
       "  </thead>\n",
       "  <tbody>\n",
       "    <tr>\n",
       "      <th>36614</th>\n",
       "      <td>0</td>\n",
       "      <td>0</td>\n",
       "      <td>0</td>\n",
       "      <td>0</td>\n",
       "      <td>0</td>\n",
       "      <td>0</td>\n",
       "      <td>0</td>\n",
       "      <td>0</td>\n",
       "      <td>0</td>\n",
       "      <td>0</td>\n",
       "      <td>...</td>\n",
       "      <td>0</td>\n",
       "      <td>0</td>\n",
       "      <td>0</td>\n",
       "      <td>0</td>\n",
       "      <td>6.0</td>\n",
       "      <td>36375</td>\n",
       "      <td>0.000000</td>\n",
       "      <td>0.166667</td>\n",
       "      <td>0.0</td>\n",
       "      <td>0.0</td>\n",
       "    </tr>\n",
       "    <tr>\n",
       "      <th>102244</th>\n",
       "      <td>0</td>\n",
       "      <td>0</td>\n",
       "      <td>0</td>\n",
       "      <td>0</td>\n",
       "      <td>0</td>\n",
       "      <td>0</td>\n",
       "      <td>0</td>\n",
       "      <td>0</td>\n",
       "      <td>0</td>\n",
       "      <td>0</td>\n",
       "      <td>...</td>\n",
       "      <td>0</td>\n",
       "      <td>0</td>\n",
       "      <td>0</td>\n",
       "      <td>0</td>\n",
       "      <td>6.0</td>\n",
       "      <td>14566</td>\n",
       "      <td>0.000000</td>\n",
       "      <td>0.166667</td>\n",
       "      <td>0.0</td>\n",
       "      <td>0.0</td>\n",
       "    </tr>\n",
       "    <tr>\n",
       "      <th>86391</th>\n",
       "      <td>0</td>\n",
       "      <td>0</td>\n",
       "      <td>0</td>\n",
       "      <td>0</td>\n",
       "      <td>0</td>\n",
       "      <td>0</td>\n",
       "      <td>0</td>\n",
       "      <td>0</td>\n",
       "      <td>0</td>\n",
       "      <td>0</td>\n",
       "      <td>...</td>\n",
       "      <td>0</td>\n",
       "      <td>0</td>\n",
       "      <td>0</td>\n",
       "      <td>0</td>\n",
       "      <td>6.0</td>\n",
       "      <td>67861</td>\n",
       "      <td>0.166667</td>\n",
       "      <td>0.166667</td>\n",
       "      <td>0.0</td>\n",
       "      <td>0.0</td>\n",
       "    </tr>\n",
       "    <tr>\n",
       "      <th>25609</th>\n",
       "      <td>1</td>\n",
       "      <td>0</td>\n",
       "      <td>0</td>\n",
       "      <td>0</td>\n",
       "      <td>0</td>\n",
       "      <td>0</td>\n",
       "      <td>0</td>\n",
       "      <td>0</td>\n",
       "      <td>0</td>\n",
       "      <td>0</td>\n",
       "      <td>...</td>\n",
       "      <td>0</td>\n",
       "      <td>0</td>\n",
       "      <td>0</td>\n",
       "      <td>0</td>\n",
       "      <td>13.0</td>\n",
       "      <td>205302</td>\n",
       "      <td>0.076923</td>\n",
       "      <td>0.153846</td>\n",
       "      <td>0.0</td>\n",
       "      <td>0.0</td>\n",
       "    </tr>\n",
       "    <tr>\n",
       "      <th>48653</th>\n",
       "      <td>0</td>\n",
       "      <td>0</td>\n",
       "      <td>0</td>\n",
       "      <td>0</td>\n",
       "      <td>0</td>\n",
       "      <td>0</td>\n",
       "      <td>0</td>\n",
       "      <td>0</td>\n",
       "      <td>0</td>\n",
       "      <td>0</td>\n",
       "      <td>...</td>\n",
       "      <td>0</td>\n",
       "      <td>0</td>\n",
       "      <td>0</td>\n",
       "      <td>0</td>\n",
       "      <td>7.0</td>\n",
       "      <td>83696</td>\n",
       "      <td>0.000000</td>\n",
       "      <td>0.142857</td>\n",
       "      <td>0.0</td>\n",
       "      <td>0.0</td>\n",
       "    </tr>\n",
       "  </tbody>\n",
       "</table>\n",
       "<p>5 rows × 349 columns</p>\n",
       "</div>"
      ],
      "text/plain": [
       "        adjf  adjf adjf  adjf adjs  adjf advb  adjf comp  adjf conj  \\\n",
       "36614      0          0          0          0          0          0   \n",
       "102244     0          0          0          0          0          0   \n",
       "86391      0          0          0          0          0          0   \n",
       "25609      1          0          0          0          0          0   \n",
       "48653      0          0          0          0          0          0   \n",
       "\n",
       "        adjf grnd  adjf infn  adjf intj  adjf none  ...  verb prtf  verb prts  \\\n",
       "36614           0          0          0          0  ...          0          0   \n",
       "102244          0          0          0          0  ...          0          0   \n",
       "86391           0          0          0          0  ...          0          0   \n",
       "25609           0          0          0          0  ...          0          0   \n",
       "48653           0          0          0          0  ...          0          0   \n",
       "\n",
       "        verb verb  Class  Количество слов      Id  prep_freq  comp_none_freq  \\\n",
       "36614           0      0              6.0   36375   0.000000        0.166667   \n",
       "102244          0      0              6.0   14566   0.000000        0.166667   \n",
       "86391           0      0              6.0   67861   0.166667        0.166667   \n",
       "25609           0      0             13.0  205302   0.076923        0.153846   \n",
       "48653           0      0              7.0   83696   0.000000        0.142857   \n",
       "\n",
       "        none_comp_freq  comp_advb_freq  \n",
       "36614              0.0             0.0  \n",
       "102244             0.0             0.0  \n",
       "86391              0.0             0.0  \n",
       "25609              0.0             0.0  \n",
       "48653              0.0             0.0  \n",
       "\n",
       "[5 rows x 349 columns]"
      ]
     },
     "execution_count": 137,
     "metadata": {},
     "output_type": "execute_result"
    }
   ],
   "source": [
    "# Human\n",
    "bow_train[(bow_train['comp_none_freq'] > 0)&(bow_train['Class'] == 0)]\\\n",
    ".sort_values (by='comp_none_freq', ascending=False).head(5)"
   ]
  },
  {
   "cell_type": "code",
   "execution_count": 138,
   "id": "394ee2a5",
   "metadata": {},
   "outputs": [
    {
     "name": "stdout",
     "output_type": "stream",
     "text": [
      "Сегодня занятия шли лучше — 15 страниц. \n",
      " ['ADVB', 'NOUN', 'VERB', 'COMP', None, None, 'NOUN'] \n",
      "\n",
      "Количество выписанных значительно больше - 504 человека. \n",
      " ['NOUN', 'PRTF', 'ADVB', 'COMP', None, 'NOUN'] \n",
      "\n",
      "Что дальше -- Мы ехали на трамвае. \n",
      " ['CONJ', 'COMP', None, 'NPRO', 'VERB', 'PREP', 'NOUN'] \n",
      "\n",
      "Фортуново число для pn# всегда больше pn и все его делители больше pn. \n",
      " ['ADVB', 'NOUN', 'PREP', None, 'ADVB', 'COMP', None, 'CONJ', 'ADJF', 'NPRO', 'NOUN', 'COMP', None] \n",
      "\n",
      "Когда мы были сильнее — тогда или теперь? \n",
      " ['CONJ', 'NPRO', 'VERB', 'COMP', None, 'ADVB', 'CONJ', 'ADVB'] \n",
      "\n"
     ]
    }
   ],
   "source": [
    "# Human\n",
    "print(train['Text'][36614],'\\n',train['POS_Text'][36614],'\\n')\n",
    "print(train['Text'][102244],'\\n',train['POS_Text'][102244],'\\n')\n",
    "print(train['Text'][86391],'\\n',train['POS_Text'][86391],'\\n')\n",
    "print(train['Text'][25609],'\\n',train['POS_Text'][25609],'\\n')\n",
    "print(train['Text'][48653],'\\n',train['POS_Text'][48653],'\\n')"
   ]
  },
  {
   "cell_type": "markdown",
   "id": "e4988f87",
   "metadata": {},
   "source": [
    "Здесь тоже просто проблемы с присвоением тегов в основном. Тире, непонятные символы (хотя это Human!).\n",
    "\n",
    "Посмотрим 5 фичу:"
   ]
  },
  {
   "cell_type": "code",
   "execution_count": 139,
   "id": "35574152",
   "metadata": {},
   "outputs": [
    {
     "data": {
      "image/png": "[encoded data removed]",
      "text/plain": [
       "<Figure size 1440x360 with 1 Axes>"
      ]
     },
     "metadata": {
      "needs_background": "light"
     },
     "output_type": "display_data"
    }
   ],
   "source": [
    "fig, ay = plt.subplots(figsize=(20,5))\n",
    "try:\n",
    "    sns.histplot(data=bow_train[(bow_train['comp_advb_freq'] != 0) & (bow_train['Class'] == 0)], x='comp_advb_freq')\n",
    "    ay.set_ylim(0,300)\n",
    "#     ay.set_yticks(range(0,300))\n",
    "except TypeError:\n",
    "    pass"
   ]
  },
  {
   "cell_type": "code",
   "execution_count": 140,
   "id": "b9dba80f",
   "metadata": {},
   "outputs": [
    {
     "data": {
      "text/plain": [
       "<AxesSubplot:xlabel='comp_advb_freq', ylabel='Count'>"
      ]
     },
     "execution_count": 140,
     "metadata": {},
     "output_type": "execute_result"
    },
    {
     "data": {
      "image/png": "[encoded data removed]",
      "text/plain": [
       "<Figure size 1440x360 with 1 Axes>"
      ]
     },
     "metadata": {
      "needs_background": "light"
     },
     "output_type": "display_data"
    }
   ],
   "source": [
    "plt.subplots(figsize=(20,5))\n",
    "sns.histplot(data=bow_train[(bow_train['comp_advb_freq'] != 0) & (bow_train['Class'] == 1)], x='comp_advb_freq')"
   ]
  },
  {
   "cell_type": "code",
   "execution_count": 141,
   "id": "6b072573",
   "metadata": {},
   "outputs": [
    {
     "name": "stdout",
     "output_type": "stream",
     "text": [
      "Биграмма \"comp advb\" встречается с частотой от 0 до 0.005 в 171 текстах\n",
      "Из них в сгенерированных текстах: 116 раз\n",
      "В human текстах: 55 раз\n"
     ]
    }
   ],
   "source": [
    "a = bow_train[(bow_train['comp_advb_freq'] > 0)&(bow_train['comp_advb_freq'] <= 0.005)]['comp_advb_freq'].count()\n",
    "b = bow_train[(bow_train['comp_advb_freq'] > 0)&(bow_train['comp_advb_freq'] <= 0.005) & (bow_train['Class'] == 1)]['comp_advb_freq'].count()\n",
    "c = bow_train[(bow_train['comp_advb_freq'] > 0)&(bow_train['comp_advb_freq'] <= 0.005) & (bow_train['Class'] == 0)]['comp_advb_freq'].count()\n",
    "print(f'Биграмма \"comp advb\" встречается с частотой от 0 до 0.005 в {a} текстах')\n",
    "print(f'Из них в сгенерированных текстах: {b} раз')\n",
    "print(f'В human текстах: {c} раз')"
   ]
  },
  {
   "cell_type": "code",
   "execution_count": 142,
   "id": "3e5c52f8",
   "metadata": {},
   "outputs": [
    {
     "name": "stdout",
     "output_type": "stream",
     "text": [
      "Биграмма \"comp advb\" встречается с частотой от 0.005 до 0.01 в 60 текстах\n",
      "Из них в сгенерированных текстах: 45 раз\n",
      "В human текстах: 15 раз\n"
     ]
    }
   ],
   "source": [
    "a = bow_train[(bow_train['comp_advb_freq'] > 0.005)&(bow_train['comp_advb_freq'] <= 0.01)]['comp_advb_freq'].count()\n",
    "b = bow_train[(bow_train['comp_advb_freq'] > 0.005)&(bow_train['comp_advb_freq'] <= 0.01) & (bow_train['Class'] == 1)]['comp_advb_freq'].count()\n",
    "c = bow_train[(bow_train['comp_advb_freq'] > 0.005)&(bow_train['comp_advb_freq'] <= 0.01) & (bow_train['Class'] == 0)]['comp_advb_freq'].count()\n",
    "print(f'Биграмма \"comp advb\" встречается с частотой от 0.005 до 0.01 в {a} текстах')\n",
    "print(f'Из них в сгенерированных текстах: {b} раз')\n",
    "print(f'В human текстах: {c} раз')"
   ]
  },
  {
   "cell_type": "markdown",
   "id": "af107913",
   "metadata": {},
   "source": [
    "По частоте от 0 до 0.005 есть большие различия в Н и М. На бОльшей частоте уже очень мало текстов и наверное это не показательно."
   ]
  },
  {
   "cell_type": "code",
   "execution_count": 143,
   "id": "2ebe4cb2",
   "metadata": {},
   "outputs": [
    {
     "data": {
      "text/html": [
       "<div>\n",
       "<style scoped>\n",
       "    .dataframe tbody tr th:only-of-type {\n",
       "        vertical-align: middle;\n",
       "    }\n",
       "\n",
       "    .dataframe tbody tr th {\n",
       "        vertical-align: top;\n",
       "    }\n",
       "\n",
       "    .dataframe thead th {\n",
       "        text-align: right;\n",
       "    }\n",
       "</style>\n",
       "<table border=\"1\" class=\"dataframe\">\n",
       "  <thead>\n",
       "    <tr style=\"text-align: right;\">\n",
       "      <th></th>\n",
       "      <th>adjf</th>\n",
       "      <th>adjf adjf</th>\n",
       "      <th>adjf adjs</th>\n",
       "      <th>adjf advb</th>\n",
       "      <th>adjf comp</th>\n",
       "      <th>adjf conj</th>\n",
       "      <th>adjf grnd</th>\n",
       "      <th>adjf infn</th>\n",
       "      <th>adjf intj</th>\n",
       "      <th>adjf none</th>\n",
       "      <th>...</th>\n",
       "      <th>verb prtf</th>\n",
       "      <th>verb prts</th>\n",
       "      <th>verb verb</th>\n",
       "      <th>Class</th>\n",
       "      <th>Количество слов</th>\n",
       "      <th>Id</th>\n",
       "      <th>prep_freq</th>\n",
       "      <th>comp_none_freq</th>\n",
       "      <th>none_comp_freq</th>\n",
       "      <th>comp_advb_freq</th>\n",
       "    </tr>\n",
       "  </thead>\n",
       "  <tbody>\n",
       "    <tr>\n",
       "      <th>102117</th>\n",
       "      <td>0</td>\n",
       "      <td>0</td>\n",
       "      <td>0</td>\n",
       "      <td>0</td>\n",
       "      <td>0</td>\n",
       "      <td>0</td>\n",
       "      <td>0</td>\n",
       "      <td>0</td>\n",
       "      <td>0</td>\n",
       "      <td>0</td>\n",
       "      <td>...</td>\n",
       "      <td>0</td>\n",
       "      <td>0</td>\n",
       "      <td>0</td>\n",
       "      <td>1</td>\n",
       "      <td>4.0</td>\n",
       "      <td>14324</td>\n",
       "      <td>0.0</td>\n",
       "      <td>0.0</td>\n",
       "      <td>0.0</td>\n",
       "      <td>0.25</td>\n",
       "    </tr>\n",
       "    <tr>\n",
       "      <th>110134</th>\n",
       "      <td>0</td>\n",
       "      <td>0</td>\n",
       "      <td>0</td>\n",
       "      <td>0</td>\n",
       "      <td>0</td>\n",
       "      <td>0</td>\n",
       "      <td>0</td>\n",
       "      <td>0</td>\n",
       "      <td>0</td>\n",
       "      <td>0</td>\n",
       "      <td>...</td>\n",
       "      <td>0</td>\n",
       "      <td>0</td>\n",
       "      <td>0</td>\n",
       "      <td>1</td>\n",
       "      <td>4.0</td>\n",
       "      <td>135671</td>\n",
       "      <td>0.0</td>\n",
       "      <td>0.0</td>\n",
       "      <td>0.0</td>\n",
       "      <td>0.25</td>\n",
       "    </tr>\n",
       "    <tr>\n",
       "      <th>8908</th>\n",
       "      <td>0</td>\n",
       "      <td>0</td>\n",
       "      <td>0</td>\n",
       "      <td>0</td>\n",
       "      <td>0</td>\n",
       "      <td>0</td>\n",
       "      <td>0</td>\n",
       "      <td>0</td>\n",
       "      <td>0</td>\n",
       "      <td>0</td>\n",
       "      <td>...</td>\n",
       "      <td>0</td>\n",
       "      <td>0</td>\n",
       "      <td>0</td>\n",
       "      <td>1</td>\n",
       "      <td>4.0</td>\n",
       "      <td>122879</td>\n",
       "      <td>0.0</td>\n",
       "      <td>0.0</td>\n",
       "      <td>0.0</td>\n",
       "      <td>0.25</td>\n",
       "    </tr>\n",
       "    <tr>\n",
       "      <th>35485</th>\n",
       "      <td>0</td>\n",
       "      <td>0</td>\n",
       "      <td>0</td>\n",
       "      <td>0</td>\n",
       "      <td>0</td>\n",
       "      <td>0</td>\n",
       "      <td>0</td>\n",
       "      <td>0</td>\n",
       "      <td>0</td>\n",
       "      <td>0</td>\n",
       "      <td>...</td>\n",
       "      <td>0</td>\n",
       "      <td>0</td>\n",
       "      <td>0</td>\n",
       "      <td>1</td>\n",
       "      <td>4.0</td>\n",
       "      <td>34391</td>\n",
       "      <td>0.0</td>\n",
       "      <td>0.0</td>\n",
       "      <td>0.0</td>\n",
       "      <td>0.25</td>\n",
       "    </tr>\n",
       "    <tr>\n",
       "      <th>71248</th>\n",
       "      <td>0</td>\n",
       "      <td>0</td>\n",
       "      <td>0</td>\n",
       "      <td>0</td>\n",
       "      <td>0</td>\n",
       "      <td>0</td>\n",
       "      <td>0</td>\n",
       "      <td>0</td>\n",
       "      <td>0</td>\n",
       "      <td>0</td>\n",
       "      <td>...</td>\n",
       "      <td>0</td>\n",
       "      <td>0</td>\n",
       "      <td>0</td>\n",
       "      <td>1</td>\n",
       "      <td>5.0</td>\n",
       "      <td>176186</td>\n",
       "      <td>0.0</td>\n",
       "      <td>0.0</td>\n",
       "      <td>0.0</td>\n",
       "      <td>0.20</td>\n",
       "    </tr>\n",
       "  </tbody>\n",
       "</table>\n",
       "<p>5 rows × 349 columns</p>\n",
       "</div>"
      ],
      "text/plain": [
       "        adjf  adjf adjf  adjf adjs  adjf advb  adjf comp  adjf conj  \\\n",
       "102117     0          0          0          0          0          0   \n",
       "110134     0          0          0          0          0          0   \n",
       "8908       0          0          0          0          0          0   \n",
       "35485      0          0          0          0          0          0   \n",
       "71248      0          0          0          0          0          0   \n",
       "\n",
       "        adjf grnd  adjf infn  adjf intj  adjf none  ...  verb prtf  verb prts  \\\n",
       "102117          0          0          0          0  ...          0          0   \n",
       "110134          0          0          0          0  ...          0          0   \n",
       "8908            0          0          0          0  ...          0          0   \n",
       "35485           0          0          0          0  ...          0          0   \n",
       "71248           0          0          0          0  ...          0          0   \n",
       "\n",
       "        verb verb  Class  Количество слов      Id  prep_freq  comp_none_freq  \\\n",
       "102117          0      1              4.0   14324        0.0             0.0   \n",
       "110134          0      1              4.0  135671        0.0             0.0   \n",
       "8908            0      1              4.0  122879        0.0             0.0   \n",
       "35485           0      1              4.0   34391        0.0             0.0   \n",
       "71248           0      1              5.0  176186        0.0             0.0   \n",
       "\n",
       "        none_comp_freq  comp_advb_freq  \n",
       "102117             0.0            0.25  \n",
       "110134             0.0            0.25  \n",
       "8908               0.0            0.25  \n",
       "35485              0.0            0.25  \n",
       "71248              0.0            0.20  \n",
       "\n",
       "[5 rows x 349 columns]"
      ]
     },
     "execution_count": 143,
     "metadata": {},
     "output_type": "execute_result"
    }
   ],
   "source": [
    "bow_train[(bow_train['comp_advb_freq'] >= 0.04)&(bow_train['Class'] == 1)]\\\n",
    ".sort_values (by='comp_advb_freq', ascending=False).head(5)"
   ]
  },
  {
   "cell_type": "code",
   "execution_count": 145,
   "id": "69d022f3",
   "metadata": {},
   "outputs": [
    {
     "name": "stdout",
     "output_type": "stream",
     "text": [
      "Она намного лучше сегодня. \n",
      " ['NPRO', 'ADVB', 'COMP', 'ADVB'] \n",
      "\n",
      "Горы выглядят красивее издалека. \n",
      " ['NOUN', 'VERB', 'COMP', 'ADVB'] \n",
      "\n",
      "Лучше всего быть командиром. \n",
      " ['COMP', 'ADVB', 'INFN', 'NOUN'] \n",
      "\n",
      "Лучше всего прозвучала серенада. \n",
      " ['COMP', 'ADVB', 'VERB', 'NOUN'] \n",
      "\n",
      "Я чувствую себя лучше сегодня. \n",
      " ['NPRO', 'VERB', 'NPRO', 'COMP', 'ADVB'] \n",
      "\n"
     ]
    }
   ],
   "source": [
    "print(train['Text'][102117],'\\n',train['POS_Text'][102117],'\\n')\n",
    "print(train['Text'][110134],'\\n',train['POS_Text'][110134],'\\n')\n",
    "print(train['Text'][8908],'\\n',train['POS_Text'][8908],'\\n')\n",
    "print(train['Text'][35485],'\\n',train['POS_Text'][35485],'\\n')\n",
    "print(train['Text'][71248],'\\n',train['POS_Text'][71248],'\\n')"
   ]
  },
  {
   "cell_type": "markdown",
   "id": "e1d65540",
   "metadata": {},
   "source": [
    "Частота биграммы зависит от длины предложения, поэтому как мы видим, самая большая частота получилась там, где эта биграмма встречается один раз, но просто предложение короткое. Поэтому для анализа конкретных предложений придется вернуться к "
   ]
  },
  {
   "cell_type": "code",
   "execution_count": 146,
   "id": "1017cf53",
   "metadata": {},
   "outputs": [
    {
     "data": {
      "text/html": [
       "<div>\n",
       "<style scoped>\n",
       "    .dataframe tbody tr th:only-of-type {\n",
       "        vertical-align: middle;\n",
       "    }\n",
       "\n",
       "    .dataframe tbody tr th {\n",
       "        vertical-align: top;\n",
       "    }\n",
       "\n",
       "    .dataframe thead th {\n",
       "        text-align: right;\n",
       "    }\n",
       "</style>\n",
       "<table border=\"1\" class=\"dataframe\">\n",
       "  <thead>\n",
       "    <tr style=\"text-align: right;\">\n",
       "      <th></th>\n",
       "      <th>adjf</th>\n",
       "      <th>adjf adjf</th>\n",
       "      <th>adjf adjs</th>\n",
       "      <th>adjf advb</th>\n",
       "      <th>adjf comp</th>\n",
       "      <th>adjf conj</th>\n",
       "      <th>adjf grnd</th>\n",
       "      <th>adjf infn</th>\n",
       "      <th>adjf intj</th>\n",
       "      <th>adjf none</th>\n",
       "      <th>...</th>\n",
       "      <th>verb prtf</th>\n",
       "      <th>verb prts</th>\n",
       "      <th>verb verb</th>\n",
       "      <th>Class</th>\n",
       "      <th>Количество слов</th>\n",
       "      <th>Id</th>\n",
       "      <th>prep_freq</th>\n",
       "      <th>comp_none_freq</th>\n",
       "      <th>none_comp_freq</th>\n",
       "      <th>comp_advb_freq</th>\n",
       "    </tr>\n",
       "  </thead>\n",
       "  <tbody>\n",
       "    <tr>\n",
       "      <th>96513</th>\n",
       "      <td>39</td>\n",
       "      <td>5</td>\n",
       "      <td>0</td>\n",
       "      <td>3</td>\n",
       "      <td>0</td>\n",
       "      <td>1</td>\n",
       "      <td>1</td>\n",
       "      <td>0</td>\n",
       "      <td>0</td>\n",
       "      <td>0</td>\n",
       "      <td>...</td>\n",
       "      <td>0</td>\n",
       "      <td>0</td>\n",
       "      <td>3</td>\n",
       "      <td>0</td>\n",
       "      <td>267.0</td>\n",
       "      <td>4828</td>\n",
       "      <td>0.134831</td>\n",
       "      <td>0.0</td>\n",
       "      <td>0.0</td>\n",
       "      <td>0.011236</td>\n",
       "    </tr>\n",
       "  </tbody>\n",
       "</table>\n",
       "<p>1 rows × 349 columns</p>\n",
       "</div>"
      ],
      "text/plain": [
       "       adjf  adjf adjf  adjf adjs  adjf advb  adjf comp  adjf conj  adjf grnd  \\\n",
       "96513    39          5          0          3          0          1          1   \n",
       "\n",
       "       adjf infn  adjf intj  adjf none  ...  verb prtf  verb prts  verb verb  \\\n",
       "96513          0          0          0  ...          0          0          3   \n",
       "\n",
       "       Class  Количество слов    Id  prep_freq  comp_none_freq  \\\n",
       "96513      0            267.0  4828   0.134831             0.0   \n",
       "\n",
       "       none_comp_freq  comp_advb_freq  \n",
       "96513             0.0        0.011236  \n",
       "\n",
       "[1 rows x 349 columns]"
      ]
     },
     "execution_count": 146,
     "metadata": {},
     "output_type": "execute_result"
    }
   ],
   "source": [
    "bow_train[(bow_train[\"comp advb\"]==3)&(bow_train['Class'] == 0)]"
   ]
  },
  {
   "cell_type": "code",
   "execution_count": 147,
   "id": "33bce3d6",
   "metadata": {},
   "outputs": [
    {
     "name": "stdout",
     "output_type": "stream",
     "text": [
      "Мозжинка. $$Воскресенье. 1 ч. дня$$. Сюда приехали только сегодня, в 12-ом часу. В Москве — выборы в В[ерховный] С[овет]. Погода сияющая, небольшой мороз, недавний снег и солнце. 33 года назад — февральская революция. Луцк, антресоли, ночной вестовой с нешифрованной радиограммой] из Берлина: «В[аше] благородие — нешифрованная передача». «В Петербурге революция. Тридцать тысяч душ присоединилось к восставшим. Родзянко — президент России» — это текст радио[граммы] из Науеп’а, переданный в ночь с 28-ого февраля на 1-ое марта. Начало совсем нового в мире.    \n",
      "Отчетливое ясное чувство облака, собравшегося на минуту и разлетающегося. Сознание «я» — призрачное бытие такого облака как «целого». Все бежит, течет, меняется. Ничего прочного, начиная от электронов и протонов и кончая спиральными туманностями. Сомнительное постоянство «целого», о котором ни у кого никакого представления. «Я», свой мир, воспоминания, люди, близкие, знакомые, дом, квартира, книги, пейзажи, слова, сны, краски, картины, музыка, «история» — все мимолетное, субъективное, которое навсегда уйдет как растаявшее облако, вернее, вместе с ним.    \n",
      "Неделя после возвращения из Ленинграда — дергательная. Встречи с избирателями. Речи. Записки: «почему до сих пор не вступаете в партию?». Отсутствие денег в Академии, скандалы с Алихановыми. Тысячи мелочей, всегда неприятных в Академии, которую сейчас дергают со всех сторон.    \n",
      "Здесь тихий оазис. Белый снег, голубое небо. Солнце. Радио с Бахом, Бетховеным и Брамсом и душевная тишина.    \n",
      "Сам же пустею, иссякает творчество, пустышка; трудно дышать (комбинация сердца и эмфиземы). За что же цепляться, чтобы жить? Люди, государство, народ. Истина только здесь.    \n",
      "Рациональнее всего военный строй. Личное совсем уходит на задний план. Здесь яснее всего, как из «я» выходит «не я».    \n",
      "В радио Григ, смерть Азы. Хочется под эту музыку и исчезнуть в небытие. \n",
      " ['NOUN', 'NOUN', None, 'NOUN', 'NOUN', 'ADVB', 'VERB', 'PRCL', 'ADVB', 'PREP', 'NOUN', 'NOUN', 'PREP', 'NOUN', None, 'NOUN', 'PREP', 'PREP', 'ADJF', 'PREP', 'NOUN', 'NOUN', 'PRTF', 'ADJF', 'NOUN', 'ADJF', 'NOUN', 'CONJ', 'NOUN', None, 'NOUN', 'ADVB', None, 'ADJF', 'NOUN', 'NOUN', 'NOUN', 'ADJF', 'ADJF', 'PREP', 'ADJF', 'NOUN', 'PREP', 'NOUN', 'PREP', 'NOUN', 'NOUN', None, 'ADJF', 'NOUN', 'PREP', 'NOUN', 'NOUN', 'NUMR', 'NOUN', 'NOUN', 'VERB', 'PREP', 'PRTF', 'NOUN', None, 'NOUN', 'NOUN', None, 'PRCL', 'NOUN', 'NOUN', 'NOUN', 'PREP', 'NOUN', None, 'CONJ', 'PRTF', 'PREP', 'NOUN', 'PREP', 'INTJ', 'NOUN', 'PREP', 'ADJF', 'NOUN', 'VERB', 'ADVB', 'NOUN', 'PREP', 'NOUN', 'ADJF', 'ADJF', 'NOUN', 'NOUN', 'PRTF', 'PREP', 'NOUN', 'CONJ', 'PRTF', 'NOUN', 'NPRO', None, 'ADJF', 'NOUN', 'ADJF', 'NOUN', 'CONJ', 'NOUN', 'ADJF', 'VERB', 'VERB', 'VERB', 'NPRO', 'ADJF', 'GRND', 'PREP', 'NOUN', 'CONJ', 'NOUN', 'CONJ', 'GRND', 'ADJF', 'NOUN', 'ADJF', 'NOUN', 'NOUN', 'PREP', 'ADJF', 'PRCL', 'PREP', 'NPRO', 'ADJF', 'NOUN', 'NPRO', 'ADJF', 'NOUN', 'NOUN', 'NOUN', 'NOUN', 'ADJF', 'NOUN', 'NOUN', 'NOUN', 'NOUN', 'NOUN', 'NOUN', 'NOUN', 'NOUN', 'NOUN', 'NOUN', None, 'ADJF', 'ADJF', 'ADJF', 'ADJF', 'ADVB', 'VERB', 'CONJ', 'PRTF', 'NOUN', 'COMP', 'ADVB', 'PREP', 'NPRO', 'NOUN', 'PREP', 'NOUN', 'PREP', 'NOUN', None, 'ADJF', 'NOUN', 'PREP', 'NOUN', 'NOUN', 'NOUN', 'ADVB', 'PREP', 'ADJF', 'NOUN', 'PRCL', 'VERB', 'PREP', 'NOUN', 'NOUN', 'NOUN', 'PREP', 'NOUN', 'NOUN', 'PREP', 'NOUN', 'NOUN', 'NOUN', 'ADVB', 'ADJF', 'PREP', 'NOUN', 'ADJF', 'ADVB', 'VERB', 'PREP', 'ADJF', 'NOUN', 'ADVB', 'ADJF', 'NOUN', 'ADJF', 'NOUN', 'ADJF', 'NOUN', 'NOUN', 'NOUN', 'PREP', 'NOUN', 'ADJF', 'CONJ', 'NOUN', 'CONJ', 'ADJF', 'NOUN', 'ADJF', 'PRCL', 'VERB', 'VERB', 'NOUN', 'NOUN', 'ADVB', 'INFN', 'NOUN', 'NOUN', 'CONJ', 'NOUN', 'PREP', 'CONJ', 'PRCL', 'INFN', 'CONJ', 'INFN', 'NOUN', 'NOUN', 'NOUN', 'NOUN', 'PRCL', 'ADVB', 'COMP', 'ADVB', 'NOUN', 'VERB', 'ADJF', 'ADVB', 'VERB', 'PREP', 'ADJF', 'NOUN', 'ADVB', 'COMP', 'ADVB', 'CONJ', 'PREP', 'NPRO', 'VERB', 'PRCL', 'NPRO', 'PREP', 'NOUN', 'NOUN', 'NOUN', 'NOUN', 'VERB', 'PREP', 'ADJF', 'NOUN', 'CONJ', 'INFN', 'PREP', 'NOUN'] \n",
      "\n"
     ]
    }
   ],
   "source": [
    "# Human:\n",
    "print(train['Text'][96513],'\\n',train['POS_Text'][96513],'\\n')"
   ]
  },
  {
   "cell_type": "markdown",
   "id": "0fd1757f",
   "metadata": {},
   "source": [
    "Текст огромный, поэтому можно сделать вывод, что неудивительно, что там 3 раза встречается биграмма компоратив-наречие.\n",
    "\n",
    "Проверим Machine тексты:"
   ]
  },
  {
   "cell_type": "code",
   "execution_count": 148,
   "id": "05b7c587",
   "metadata": {},
   "outputs": [
    {
     "data": {
      "text/html": [
       "<div>\n",
       "<style scoped>\n",
       "    .dataframe tbody tr th:only-of-type {\n",
       "        vertical-align: middle;\n",
       "    }\n",
       "\n",
       "    .dataframe tbody tr th {\n",
       "        vertical-align: top;\n",
       "    }\n",
       "\n",
       "    .dataframe thead th {\n",
       "        text-align: right;\n",
       "    }\n",
       "</style>\n",
       "<table border=\"1\" class=\"dataframe\">\n",
       "  <thead>\n",
       "    <tr style=\"text-align: right;\">\n",
       "      <th></th>\n",
       "      <th>adjf</th>\n",
       "      <th>adjf adjf</th>\n",
       "      <th>adjf adjs</th>\n",
       "      <th>adjf advb</th>\n",
       "      <th>adjf comp</th>\n",
       "      <th>adjf conj</th>\n",
       "      <th>adjf grnd</th>\n",
       "      <th>adjf infn</th>\n",
       "      <th>adjf intj</th>\n",
       "      <th>adjf none</th>\n",
       "      <th>...</th>\n",
       "      <th>verb prtf</th>\n",
       "      <th>verb prts</th>\n",
       "      <th>verb verb</th>\n",
       "      <th>Class</th>\n",
       "      <th>Количество слов</th>\n",
       "      <th>Id</th>\n",
       "      <th>prep_freq</th>\n",
       "      <th>comp_none_freq</th>\n",
       "      <th>none_comp_freq</th>\n",
       "      <th>comp_advb_freq</th>\n",
       "    </tr>\n",
       "  </thead>\n",
       "  <tbody>\n",
       "    <tr>\n",
       "      <th>39047</th>\n",
       "      <td>41</td>\n",
       "      <td>7</td>\n",
       "      <td>0</td>\n",
       "      <td>1</td>\n",
       "      <td>0</td>\n",
       "      <td>2</td>\n",
       "      <td>0</td>\n",
       "      <td>0</td>\n",
       "      <td>0</td>\n",
       "      <td>2</td>\n",
       "      <td>...</td>\n",
       "      <td>1</td>\n",
       "      <td>0</td>\n",
       "      <td>1</td>\n",
       "      <td>1</td>\n",
       "      <td>289.0</td>\n",
       "      <td>40536</td>\n",
       "      <td>0.055363</td>\n",
       "      <td>0.0</td>\n",
       "      <td>0.0</td>\n",
       "      <td>0.010381</td>\n",
       "    </tr>\n",
       "    <tr>\n",
       "      <th>61522</th>\n",
       "      <td>32</td>\n",
       "      <td>1</td>\n",
       "      <td>0</td>\n",
       "      <td>3</td>\n",
       "      <td>0</td>\n",
       "      <td>2</td>\n",
       "      <td>0</td>\n",
       "      <td>0</td>\n",
       "      <td>0</td>\n",
       "      <td>1</td>\n",
       "      <td>...</td>\n",
       "      <td>0</td>\n",
       "      <td>4</td>\n",
       "      <td>1</td>\n",
       "      <td>1</td>\n",
       "      <td>352.0</td>\n",
       "      <td>105863</td>\n",
       "      <td>0.085227</td>\n",
       "      <td>0.0</td>\n",
       "      <td>0.0</td>\n",
       "      <td>0.008523</td>\n",
       "    </tr>\n",
       "  </tbody>\n",
       "</table>\n",
       "<p>2 rows × 349 columns</p>\n",
       "</div>"
      ],
      "text/plain": [
       "       adjf  adjf adjf  adjf adjs  adjf advb  adjf comp  adjf conj  adjf grnd  \\\n",
       "39047    41          7          0          1          0          2          0   \n",
       "61522    32          1          0          3          0          2          0   \n",
       "\n",
       "       adjf infn  adjf intj  adjf none  ...  verb prtf  verb prts  verb verb  \\\n",
       "39047          0          0          2  ...          1          0          1   \n",
       "61522          0          0          1  ...          0          4          1   \n",
       "\n",
       "       Class  Количество слов      Id  prep_freq  comp_none_freq  \\\n",
       "39047      1            289.0   40536   0.055363             0.0   \n",
       "61522      1            352.0  105863   0.085227             0.0   \n",
       "\n",
       "       none_comp_freq  comp_advb_freq  \n",
       "39047             0.0        0.010381  \n",
       "61522             0.0        0.008523  \n",
       "\n",
       "[2 rows x 349 columns]"
      ]
     },
     "execution_count": 148,
     "metadata": {},
     "output_type": "execute_result"
    }
   ],
   "source": [
    "bow_train[(bow_train[\"comp advb\"]==3)&(bow_train['Class'] == 1)]"
   ]
  },
  {
   "cell_type": "code",
   "execution_count": 149,
   "id": "232de446",
   "metadata": {},
   "outputs": [
    {
     "name": "stdout",
     "output_type": "stream",
     "text": [
      "Вечером Слава принес починенный велосипед. Он был не новый, но все же вполне исправный и с мотором (наверное из-за этого он так быстро заработал). И еще на нем были новые покрышки – «липучки», как их называли в деревне мальчишки! Они очень нравились Славе…\n",
      "С этими колесами Славка катался до тех пор пока у него совсем перестали ноги держать после аварии: нога стала короче чуть ли ни вдвое; колени стали тоньше почти наполовину от того размера который они имели при рождении Славы!.. А потом его родители купили ему машину... \n",
      "  Он купил себе новенький автомобиль марки BMW X3! Это было что -то потрясающее!!! Впечатление производила машина больше всего потому,что это была новая модель машины.И она выглядела просто фантастически.. Она действительно завораживала своей красотой : серебристой блестящей краской кузова ; серебристым блеском хромированных дисков колес.. Все выглядело таким красивым … Но главное...это конечно внешний вид автомобиля!!! Как бы красиво ты ее никогда раньше здесь НЕ увидел.... Вот именно эта красота притягивает взгляды людей к машине а если человек сам ездит по городу или парку где есть такая красивая дорогая иномарка тогда уже можно считать этот город одним целым!! Конечно для многих такое сочетание цветов может показаться немного странным поэтому я думаю стоит объяснить почему.... Дело вот чем…. Я живу во Владивостоке много лет назад когда мы всей семьей ездили отдыхать за границу там тоже такие красивые дороги только красивее да? Да наверное намного лучше выглядят эти самые автомобили которые вы видите сегодня утром например такой красавец белый седан БМВ Х 3 выглядит более шикарно нежели какой нибудь убогий черный Зилезик без колёс хотя разница незначительна ведь оба этих вида машин являются представителями одной фирмы производителя автомобилей Bugatti Type 35 Coupe Sedan / Fiat 500ZL Gran Turismo/ Mercedes Benz E 250SWB Luxury Car \n",
      " ['ADVB', 'NOUN', 'VERB', 'PRTF', 'NOUN', 'NPRO', 'VERB', 'PRCL', 'ADJF', 'CONJ', 'ADJF', 'PRCL', 'ADVB', 'ADJF', 'CONJ', 'PREP', 'NOUN', 'ADVB', 'PREP', 'NPRO', 'NPRO', 'CONJ', 'ADVB', 'VERB', 'CONJ', 'PRCL', 'PREP', 'ADJS', 'VERB', 'NOUN', 'NOUN', None, 'NOUN', 'CONJ', 'NPRO', 'VERB', 'PREP', 'NOUN', 'NOUN', 'NPRO', 'ADVB', 'VERB', 'NOUN', None, 'PREP', 'ADJF', 'NOUN', 'NOUN', 'VERB', 'PREP', 'ADJF', 'NOUN', 'ADVB', 'PREP', 'NPRO', 'ADVB', 'VERB', 'NOUN', 'INFN', 'PREP', 'NOUN', 'NOUN', 'VERB', 'CONJ', 'ADVB', 'PRCL', 'PRCL', 'ADVB', 'NOUN', 'VERB', 'COMP', 'ADVB', 'ADVB', 'PREP', 'ADJF', 'NOUN', 'ADJF', 'NPRO', 'VERB', 'PREP', 'NOUN', 'NOUN', None, 'CONJ', 'ADVB', 'NPRO', 'NOUN', 'VERB', 'NPRO', 'NOUN', None, 'NPRO', 'VERB', 'NPRO', 'ADJF', 'NOUN', 'NOUN', None, None, None, 'PRCL', 'VERB', 'CONJ', None, 'PRTF', None, 'NOUN', 'VERB', 'NOUN', 'COMP', 'ADVB', 'ADVB', 'CONJ', 'PRCL', 'VERB', 'ADJF', 'NOUN', 'NOUN', 'CONJ', 'NPRO', 'VERB', 'PRCL', 'ADVB', None, 'NPRO', 'ADVB', 'VERB', 'ADJF', 'NOUN', 'ADJF', 'ADJF', 'NOUN', 'NOUN', 'ADJF', 'NOUN', 'ADJF', 'NOUN', 'NOUN', None, 'ADJF', 'VERB', 'ADJF', 'ADJF', None, 'CONJ', 'ADJF', None, 'PRCL', 'CONJ', 'ADJF', 'NOUN', 'NOUN', None, 'CONJ', 'PRCL', 'ADVB', 'NPRO', 'NPRO', 'ADVB', 'COMP', 'ADVB', 'PRCL', 'VERB', None, 'PRCL', 'PRCL', 'ADJF', 'NOUN', 'VERB', 'NOUN', 'NOUN', 'PREP', 'NOUN', 'CONJ', 'CONJ', 'NOUN', 'ADJF', 'VERB', 'PREP', 'NOUN', 'CONJ', 'NOUN', 'ADVB', 'INTJ', 'ADJF', 'ADJF', 'ADJF', 'NOUN', 'ADVB', 'ADVB', 'PRED', 'INFN', 'ADJF', 'NOUN', 'ADJF', 'NOUN', None, 'CONJ', 'PREP', 'ADJF', 'ADJF', 'NOUN', 'NOUN', 'VERB', 'INFN', 'ADVB', 'ADJF', 'ADVB', 'NPRO', 'VERB', 'VERB', 'INFN', 'ADVB', None, 'NOUN', 'PRCL', 'CONJ', None, 'NPRO', 'VERB', 'PREP', 'NOUN', 'ADVB', 'NOUN', 'ADVB', 'CONJ', 'NPRO', 'ADJF', 'NOUN', 'VERB', 'INFN', 'PREP', 'NOUN', 'ADVB', 'ADVB', 'ADJF', 'ADJF', 'NOUN', 'PRCL', 'COMP', 'PRCL', 'PRCL', 'ADVB', 'ADVB', 'COMP', 'VERB', 'ADJF', 'ADJF', 'NOUN', 'ADJF', 'NPRO', 'VERB', 'ADVB', 'ADVB', 'CONJ', 'ADJF', 'NOUN', 'ADJF', 'NOUN', None, 'NOUN', None, 'VERB', 'ADVB', 'ADVB', 'CONJ', 'ADJF', 'VERB', 'ADJF', 'NOUN', 'NOUN', 'PREP', 'NOUN', 'CONJ', 'NOUN', 'ADJS', 'CONJ', 'NUMR', 'ADJF', 'NOUN', 'NOUN', 'VERB', 'NOUN', 'ADJF', 'NOUN', 'NOUN', 'NOUN', None, None, None, None, None, None, None, None, None, None, None, None, None, None, None, None, None] \n",
      "\n",
      "Четв[ер]ая и Третья.\n",
      "Священник Георгий, настоятель храма Святых Апостолов Петра митрополита Московского в Москве (1910—1992 гг.): «Начиная со второй половины 1920-х годов на территории Московской губернии было построено около 50 храмов с крестами разных видов — деревянных или металлических». По воспоминаниям настоятеля церкви протоиерея Сергия Мечёва из деревни Погорелецкого сельского совета Пушкинского района Смоленской области он часто бывал у священника Георгия во время богослужения по случаю престольных праздников… В 1930 году священник служил молебен о здравии Патриарха Тихона перед началом гражданской войны как представитель советской власти при патриархе Алексии I. С 1937 года священником Георгием была создана община верующих для оказания помощи голодающим Поволжья.. Священника арестовали 28 ноября 1940 г., расстреляли 7 января 1941г.[1], а затем сослали куда подальше - сначала Беломорскою ссылку сроком от 10 лет до 25,потом ссылка длительная(до 1953) где отец был расстрелян 21 декабря 1954года... После того что произошло дальше уже никто не верил ни отцуГеоргию так же сильно верили его сыну который стал священнослужителем.....После расстрела отца многие люди остались без крова но все кто мог были спасены благодаря тому кому повезло больше всего это ему самому....Отец Димитрий Смирнов [2][3]. Он родился 17 мая 1905 годa когда началась война вместе родителями уехал служить под Москву к своему дяде Николаю Дмитриевичу Смирнову..Он остался верны семье дяди Николая Дмитриевича...Когда началось наступление немцев они эвакуировались домой через Ригу потом ехали поездом Москва Ленинград Минск Брест Витебск далее пароходами шли пешком за 2 недели дошли наконец то добрались вот только после этого дядя Николай Дмитриевич умер....В 1942м немцы пришли их дом сожгли поэтому мать осталась одна воспитывала двух младших братьев которые погибли еще раньше она жила тогда отдельно работала учителем истории там тоже нужны знания чтобы выжить ей пришлось пойти работать уборщицей школы дети ее умерли голодные потому школа стала пустовать учителя ушли туда откуда приходили другие ученики учительница рассказывала им сказки про войну говорила учителям детям нужно помогать друг другу чем могут тем помогают даже если сами еле ходят учиться можно ведь жить да есть нечего значит надо помочь другому иначе пропадешь ты будешь просто обузой другим людям \n",
      " ['NOUN', 'NOUN', 'NOUN', 'CONJ', 'ADJF', 'NOUN', 'NOUN', 'NOUN', 'NOUN', 'ADJF', 'NOUN', 'NOUN', 'NOUN', 'ADJF', 'PREP', 'NOUN', None, 'NOUN', 'GRND', 'PREP', 'ADJF', 'NOUN', 'NOUN', 'NOUN', 'PREP', 'NOUN', 'ADJF', 'NOUN', 'VERB', 'PRTS', 'PREP', None, 'NOUN', 'PREP', 'NOUN', 'ADJF', 'NOUN', None, 'ADJF', 'CONJ', 'ADJF', 'PREP', 'NOUN', 'NOUN', 'NOUN', 'NOUN', 'NOUN', 'ADJS', 'PREP', 'NOUN', 'ADJF', 'ADJF', 'NOUN', 'ADJF', 'NOUN', 'ADJF', 'NOUN', 'NPRO', 'ADVB', 'VERB', 'PREP', 'NOUN', 'NOUN', 'PREP', 'NOUN', 'NOUN', 'PREP', 'NOUN', 'ADJF', 'NOUN', None, 'PREP', None, 'NOUN', 'NOUN', 'ADJS', 'NOUN', 'PREP', 'NOUN', 'NOUN', 'NOUN', 'PREP', 'NOUN', 'ADJF', 'NOUN', 'CONJ', 'NOUN', 'ADJF', 'NOUN', 'PREP', 'NOUN', 'NOUN', None, 'PREP', None, 'NOUN', 'NOUN', 'NOUN', 'VERB', 'PRTS', 'NOUN', 'ADJF', 'PREP', 'NOUN', 'NOUN', 'PRTF', 'NOUN', None, 'NOUN', 'VERB', None, 'NOUN', None, 'NOUN', 'VERB', None, 'NOUN', None, 'NOUN', None, 'CONJ', 'ADVB', 'VERB', 'NOUN', 'COMP', 'ADVB', 'ADJF', 'NOUN', 'NOUN', 'PREP', None, 'NOUN', 'PREP', None, 'ADVB', 'NOUN', 'ADJF', 'PREP', None, 'ADVB', 'NOUN', 'VERB', 'PRTS', None, 'NOUN', None, 'NOUN', None, 'PREP', 'ADJF', 'CONJ', 'VERB', 'COMP', 'ADVB', 'NPRO', 'PRCL', 'VERB', 'PRCL', 'NOUN', 'CONJ', 'PRCL', 'ADVB', 'VERB', 'NPRO', 'NOUN', 'ADJF', 'VERB', 'NOUN', None, 'PREP', 'NOUN', 'NOUN', 'NPRO', 'NOUN', 'VERB', 'PREP', 'NOUN', 'CONJ', 'ADJF', 'NPRO', 'VERB', 'VERB', 'PRTS', 'PREP', 'ADJF', 'NOUN', 'VERB', 'COMP', 'ADVB', 'PRCL', 'NPRO', 'ADJF', None, 'NOUN', 'NOUN', 'NOUN', None, None, 'NPRO', 'VERB', None, 'NOUN', None, 'NOUN', None, 'CONJ', 'VERB', 'NOUN', 'ADVB', 'NOUN', 'VERB', 'INFN', 'PREP', 'NOUN', 'PREP', 'ADJF', 'NOUN', 'NOUN', 'NOUN', 'NOUN', None, 'NPRO', 'VERB', 'ADJS', 'NOUN', 'NOUN', 'NOUN', 'NOUN', None, 'CONJ', 'VERB', 'NOUN', 'NOUN', 'NPRO', 'VERB', 'ADVB', 'PREP', 'NOUN', 'ADVB', 'VERB', 'NOUN', 'NOUN', 'NOUN', 'NOUN', 'NOUN', 'NOUN', 'ADVB', 'NOUN', 'VERB', 'ADVB', 'PREP', None, 'NOUN', 'VERB', 'ADVB', 'CONJ', 'VERB', 'PRCL', 'PRCL', 'PREP', 'NPRO', 'NOUN', 'NOUN', 'NOUN', 'VERB', None, 'PREP', None, 'NOUN', 'NOUN', 'VERB', 'NPRO', 'NOUN', 'VERB', 'ADVB', 'NOUN', 'VERB', 'ADJF', 'VERB', 'NUMR', 'ADJF', 'NOUN', 'ADJF', 'VERB', 'PRCL', 'COMP', 'NPRO', 'VERB', 'ADVB', 'ADVB', 'VERB', 'NOUN', 'NOUN', 'ADVB', 'ADVB', 'ADJS', 'NOUN', 'CONJ', 'INFN', 'NPRO', 'VERB', 'INFN', 'INFN', 'NOUN', 'NOUN', 'NOUN', 'NPRO', 'VERB', 'ADJF', 'ADVB', 'NOUN', 'VERB', 'INFN', 'NOUN', 'VERB', 'ADVB', 'ADVB', 'VERB', 'ADJF', 'NOUN', 'NOUN', 'VERB', 'NOUN', 'NOUN', 'PREP', 'NOUN', 'VERB', 'NOUN', 'NOUN', 'PRED', 'INFN', 'NOUN', 'NOUN', 'CONJ', 'VERB', 'CONJ', 'VERB', 'PRCL', 'CONJ', 'ADJF', 'ADVB', 'VERB', 'INFN', 'PRED', 'CONJ', 'INFN', 'PRCL', 'INTJ', 'NPRO', 'CONJ', 'PRED', 'INFN', 'ADJF', 'ADVB', 'VERB', 'NPRO', 'VERB', 'PRCL', 'NOUN', 'ADJF', 'NOUN'] \n",
      "\n"
     ]
    }
   ],
   "source": [
    "print(train['Text'][39047],'\\n',train['POS_Text'][39047],'\\n')\n",
    "print(train['Text'][61522],'\\n',train['POS_Text'][61522],'\\n')"
   ]
  },
  {
   "cell_type": "markdown",
   "id": "c7d26f4f",
   "metadata": {},
   "source": [
    "Они тоже очень большого размера.\n",
    "Что-то мне подсказывает, что какой-то смысловой значимости мы в распределении биграмм не найдём.\n",
    "Хочу еще проверить распределение по None."
   ]
  },
  {
   "cell_type": "code",
   "execution_count": 150,
   "id": "21b1b3f2",
   "metadata": {},
   "outputs": [
    {
     "data": {
      "text/plain": [
       "52684"
      ]
     },
     "execution_count": 150,
     "metadata": {},
     "output_type": "execute_result"
    }
   ],
   "source": [
    "bow_train[bow_train['none']!=0]['none'].count()"
   ]
  },
  {
   "cell_type": "code",
   "execution_count": 151,
   "id": "6c430fc1",
   "metadata": {},
   "outputs": [
    {
     "name": "stdout",
     "output_type": "stream",
     "text": [
      "27682\n",
      "25002\n"
     ]
    }
   ],
   "source": [
    "print(bow_human[bow_human['none']!=0]['none'].count())\n",
    "print(bow_machine[bow_machine['none']!=0]['none'].count())\n",
    "# почти поровну, наверное это из-за тире и прочего."
   ]
  },
  {
   "cell_type": "markdown",
   "id": "5f083a54",
   "metadata": {},
   "source": [
    "Посмотрим на предложения, где больше всего none, в Human текстах, и посмотрим, можно ли улучшить токенизатор и тэггер."
   ]
  },
  {
   "cell_type": "code",
   "execution_count": 152,
   "id": "8bfea454",
   "metadata": {},
   "outputs": [
    {
     "data": {
      "text/plain": [
       "79172    100\n",
       "62749     81\n",
       "93054     80\n",
       "55223     75\n",
       "76169     73\n",
       "Name: none, dtype: int64"
      ]
     },
     "execution_count": 152,
     "metadata": {},
     "output_type": "execute_result"
    }
   ],
   "source": [
    "bow_train[(bow_train['none'] > 0)&(bow_train['Class'] == 0)]\\\n",
    ".sort_values (by='none', ascending=False).head(5)['none']"
   ]
  },
  {
   "cell_type": "code",
   "execution_count": 163,
   "id": "d5ab4e2d",
   "metadata": {
    "scrolled": false
   },
   "outputs": [
    {
     "name": "stdout",
     "output_type": "stream",
     "text": [
      "Завершился юбилейный турнир по смешанным единоборствам UFC 200, среди гостей которого был замечен и ирландец Конор Макгрегор, чей бой-реванш с Нейтоном Диасомnмог пройтиnв рамках этого вечера.nРезультаты UFC 200:nГлавный кард.nnАманда Нуньес победила Мишу Тейт — удушением со спины, Р1, 3:15, и стала новой чемпионкой UFC в легчайшем весеnБрок Леснар победил Марка Ханта — единогласным решением судей, (29-27, 29-27, 29-27)nnДаниэль Кормье победил Андерсона Сильву — единогласным решением судей, (30-26; 30-26; 30-26)nЖозе Альдо победил Фрэнки Эдгара — единогласным решением судей, (49-46, 49-46, 48-47)nКейн Веласкез победил Трэвиса Брауна — ТКО (удары), Р1, 4:57nПредварительный кард.nnДжулиана Пенья победила Кэт Цингано — единогласным решением судей, (29-28; 29-28; 29-28)nКелвин Гастелум победил Джонни Хендрикса — единогласным решением судей, (29-28, 30-27, 30-27)nТи Джей Диллашоу победил Рафаэля Ассунсао — единогласным решением судей, (30-27, 30-27, 30-27)nСейдж Норткатт победил Энрике Марина — единогласным решением судейnПрелимы на Fight Pass.nnДжо Лоузон победил Диего Санчеза — ТКО (удары), Р1 0:86nГегард Мусаси победил Тиаго Сантоса — КО (удары руками), Р1, 4:32nДжим Миллер победил Таканори Гоми — ТКО (удары руками), Р1, 2:18.nС другими новостями, материалами и статистикой вы можете ознакомиться наnстраницеnбокса и ММА, а также в группах отдела спорта в социальных сетяхnFacebooknиn«ВКонтакте»n.nFront and back view of Conor McGregor standing during Aldo-Edgar fight at UFC 200 tonightnpic.twitter.com/fHmwT4Psaf \n",
      " ['VERB', 'ADJF', 'NOUN', 'PREP', 'ADJF', 'NOUN', None, None, 'PREP', 'NOUN', 'ADJF', 'VERB', 'PRTS', 'CONJ', 'NOUN', 'NOUN', 'NOUN', 'ADJF', 'NOUN', 'PREP', 'NOUN', 'NOUN', None, 'VERB', 'INFN', None, 'PREP', 'NOUN', 'NPRO', 'NOUN', None, 'NOUN', None, None, None, 'ADJF', 'NOUN', None, 'NOUN', 'NOUN', 'VERB', 'NOUN', 'NOUN', None, 'NOUN', 'PREP', 'NOUN', 'NOUN', None, None, None, 'CONJ', 'VERB', 'ADJF', 'NOUN', None, 'PREP', 'ADJF', 'NOUN', None, 'NOUN', 'NOUN', 'VERB', 'NOUN', 'NOUN', None, 'ADJF', 'NOUN', 'NOUN', None, None, None, None, 'NOUN', 'NOUN', 'VERB', 'NOUN', 'NOUN', None, 'ADJF', 'NOUN', 'NOUN', None, None, None, None, 'NOUN', 'NOUN', 'VERB', 'NOUN', 'NOUN', None, 'ADJF', 'NOUN', 'NOUN', None, None, None, None, 'NOUN', 'NOUN', 'VERB', 'NOUN', 'NOUN', None, None, 'NOUN', 'NOUN', None, None, None, None, 'ADJF', 'NOUN', None, 'NOUN', 'NOUN', 'VERB', 'NOUN', 'NOUN', None, 'ADJF', 'NOUN', 'NOUN', None, None, None, None, 'NOUN', 'NOUN', 'VERB', 'NOUN', 'NOUN', None, 'ADJF', 'NOUN', 'NOUN', None, None, None, None, 'NOUN', 'NOUN', 'NOUN', 'VERB', 'NOUN', 'NOUN', None, 'ADJF', 'NOUN', 'NOUN', None, None, None, None, 'NOUN', 'NOUN', 'VERB', 'NOUN', 'NOUN', None, 'ADJF', 'NOUN', 'NOUN', None, 'NOUN', 'PREP', None, None, None, 'NOUN', 'NOUN', 'VERB', 'NOUN', 'NOUN', None, None, 'NOUN', 'NOUN', None, None, None, None, 'NOUN', 'NOUN', 'VERB', 'NOUN', 'NOUN', None, 'PREP', 'NOUN', 'NOUN', 'NOUN', None, None, None, None, 'NOUN', 'NOUN', 'VERB', 'NOUN', 'NOUN', None, None, 'NOUN', 'NOUN', 'NOUN', None, None, None, None, 'PREP', 'ADJF', 'NOUN', 'NOUN', 'CONJ', 'NOUN', 'NPRO', 'VERB', 'INFN', 'PREP', None, 'NOUN', None, 'NOUN', 'CONJ', None, 'CONJ', 'CONJ', 'PREP', 'NOUN', 'NOUN', 'NOUN', 'PREP', 'ADJF', 'NOUN', None, 'CONJ', None, 'NOUN', None, None, None, None, None, None, None, None, None, None, None, None, None, None, None, None, None, None, None, None, None] \n",
      "\n",
      "МОСКВА, 14 ноября. /ТАСС/. Россиянин Даниил Медведев впервые в своей карьере вошел в первую сотню рейтинга Ассоциации теннисистов-профессионалов (ATP). Новая версия рейтинга опубликована на сайте организации.nНа прошлой неделе Медведев дошел до полуфинала турнира ATP в Братиславе, где уступил румынскому теннисисту Мариусу Копилу. Этот результат позволил 20-летнему россиянину подняться на шесть позиций в рейтинге и расположиться на 98-м месте.nДругой российский теннисист Михаил Южный потерял одну позицию в рейтинге, опустившись на 56-ю строчку. Константин Кравчук, который на прошлой неделе занимал 78-е место, стал 82-м. Положение Андрея Кузнецова и Карена Хачанова не изменилось.nВ топ-40 рейтинга положение теннисистов также не претерпело изменений. Лидировать продолжает британец Энди Маррей.nРейтинг ATP от 14 ноября:n1 (1). Энди Маррей (Великобритания) - 11185 очковn2 (2). Новак Джокович (Сербия) - 10780n3 (3). Станислас Вавринка (Швейцария) - 5115n4 (4). Милош Раонич (Канада) - 5050n5 (5). Кэй Нисикори (Япония) - 4705n6 (6). Гаэль Монфис (Франция) - 3625n7 (7). Марин Чилич (Хорватия) - 3450n8 (8). Рафаэль Надаль (Испания) - 3300n9 (9). Доминик Тим (Австрия) - 3215n10 (10). Томаш Бердых (Чехия) - 3060…n16 (16). Роджер Федерер (Швейцария) - 2130...n46 (46). Андрей Кузнецов (Россия) - 970…n52 (52). Карен Хачанов (Россия) - 863…n56 (55). Михаил Южный (Россия) - 826…n82 (78). Константин Кравчук (Россия) - 683…n98 (104). Даниил Медведев (Россия) - 611. \n",
      " ['NOUN', None, 'NOUN', 'NOUN', 'NOUN', 'NOUN', 'NOUN', 'ADVB', 'PREP', 'ADJF', 'NOUN', 'VERB', 'PREP', 'ADJF', 'NOUN', 'NOUN', 'NOUN', 'NOUN', None, 'ADJF', 'NOUN', 'NOUN', 'PRTS', 'PREP', 'NOUN', 'NOUN', None, 'PREP', 'ADJF', 'NOUN', 'NOUN', 'VERB', 'PREP', 'NOUN', 'NOUN', None, 'PREP', 'NOUN', 'ADVB', 'VERB', 'ADJF', 'NOUN', 'NOUN', 'NOUN', 'ADJF', 'NOUN', 'VERB', 'ADJF', 'NOUN', 'INFN', 'PREP', 'NUMR', 'NOUN', 'PREP', 'NOUN', 'CONJ', 'INFN', 'PREP', 'NOUN', 'NOUN', None, 'ADJF', 'ADJF', 'NOUN', 'NOUN', 'ADJF', 'VERB', 'ADJF', 'NOUN', 'PREP', 'NOUN', 'GRND', 'PREP', 'VERB', 'NOUN', 'NOUN', 'NOUN', 'ADJF', 'PREP', 'ADJF', 'NOUN', 'VERB', 'NOUN', 'NOUN', 'VERB', 'NOUN', 'NOUN', 'NOUN', 'NOUN', 'CONJ', 'NOUN', 'ADJS', 'PRCL', 'VERB', None, 'PREP', None, 'NOUN', 'NOUN', 'NOUN', 'CONJ', 'PRCL', 'VERB', 'NOUN', 'INFN', 'VERB', 'NOUN', 'NOUN', 'NOUN', None, 'NOUN', None, 'PREP', None, 'NOUN', None, None, None, 'NOUN', 'NOUN', 'NOUN', None, 'NOUN', None, None, None, 'NOUN', 'NOUN', 'NOUN', None, None, None, None, 'NOUN', 'NOUN', 'NOUN', None, None, None, None, 'NOUN', 'NOUN', 'NOUN', None, None, None, None, None, 'NOUN', 'NOUN', None, None, None, None, 'NOUN', 'NOUN', 'NOUN', None, None, None, None, 'NOUN', 'NOUN', 'NOUN', None, None, None, None, 'NOUN', 'NOUN', 'NOUN', None, None, None, None, 'NOUN', 'NOUN', 'NOUN', None, None, None, None, 'NOUN', 'ADJF', 'NOUN', None, None, None, None, None, 'NOUN', 'NOUN', 'NOUN', None, None, None, None, None, 'NOUN', 'NOUN', 'NOUN', None, None, None, None, None, 'NOUN', 'NOUN', 'NOUN', None, None, None, None, None, 'NOUN', 'ADJF', 'NOUN', None, None, None, None, None, 'NOUN', 'NOUN', 'NOUN', None, None, None, None, None, 'NOUN', 'NOUN', 'NOUN', None] \n",
      "\n",
      "Шутер Duke Nukem Forever поступит в продажу 1 февраля 2011 года, сообщает Kotaku. Такая дата появилась на страницах игры в магазинах Amazon и Gamestop. Журналисты связались с компанией-разработчиком Gearbox Software. Представители компании заявили, что дата выхода игры на любом сайте является не более чем догадкой. Разработка игры Duke Nukem Forever стала одной из самых продолжительных в истории игровой индустрии. Студия 3D Realms анонсировала этот проект 27 апреля 1997 года. Изначально предполагалось, что игра выйдет на следующий год. Однако вскоре компания id Software выпустила Quake II, и руководство 3D Realms приняло решение лицензировать движок игры и делать Duke Nukem Forever на нем. На практике это фактически означало разработку игры с нуля. В июне 1998 года 3D Realms объявила о новой смене движка, теперь на Unreal Engine. В 2004 году GameSpot сообщал, что Duke Nukem Forever создается на движке игры Doom III, однако эта информация была опровергнута главой 3D Realms Джорджем Бруссардом (George Broussard). 8 мая 2009 года команда разработчиков Duke Nukem Forever была распущена по причине недостатка средств. 14 мая издатель игры Take-Two Interactive подала в суд на 3D Realms. Take-Two Interactive требовала компенсации за то, что игра так и не была доделана. 11 июня конфликт двух компаний был улажен. 3 сентября на выставке Penny Arcade Expo 2010 представители компании Gearbox Software, известной по таким играм как Brothers in Arms и Borderlands, объявили, что они купили права на сериал Duke Nukem. Позже стало известно, что Duke Nukem Forever находится в финальной стадии разработки. Было объявлено, что игра выйдет в начале 2011 года. Издателем игры выступит компания 2K Games. \n",
      " ['VERB', None, None, None, 'VERB', 'PREP', 'NOUN', None, 'NOUN', None, 'NOUN', 'VERB', None, 'ADJF', 'NOUN', 'VERB', 'PREP', 'NOUN', 'NOUN', 'PREP', 'NOUN', None, 'CONJ', None, 'NOUN', 'VERB', 'PREP', 'NOUN', None, None, 'NOUN', 'NOUN', 'VERB', 'CONJ', 'NOUN', 'NOUN', 'NOUN', 'PREP', 'NPRO', 'NOUN', 'VERB', 'PRCL', 'ADVB', 'CONJ', 'NOUN', 'NOUN', 'NOUN', None, None, None, 'VERB', 'ADJF', 'PREP', 'ADJF', 'ADJF', 'PREP', 'NOUN', 'ADJF', 'NOUN', 'NOUN', None, None, None, 'VERB', 'ADJF', 'NOUN', None, 'NOUN', None, 'NOUN', 'ADVB', 'VERB', 'CONJ', 'NOUN', 'VERB', 'PREP', 'ADJF', 'NOUN', 'CONJ', 'ADVB', 'NOUN', None, None, 'VERB', None, None, 'CONJ', 'NOUN', None, None, None, 'VERB', 'NOUN', 'INFN', 'NOUN', 'NOUN', 'CONJ', 'INFN', None, None, None, 'PREP', 'ADJS', 'PREP', 'NOUN', 'PRCL', 'ADVB', 'VERB', 'NOUN', 'NOUN', 'PREP', 'NOUN', 'PREP', 'NOUN', None, 'NOUN', None, None, None, 'VERB', 'PREP', 'ADJF', 'NOUN', 'NOUN', 'ADVB', 'PREP', None, None, 'PREP', None, 'NOUN', None, 'VERB', 'CONJ', None, None, None, 'VERB', 'PREP', 'NOUN', 'NOUN', None, None, 'CONJ', 'ADJF', 'NOUN', 'VERB', 'PRTS', 'ADJF', None, None, None, 'NOUN', 'NOUN', None, None, None, 'NOUN', None, 'NOUN', 'NOUN', 'NOUN', None, None, None, 'VERB', 'PRTS', 'PREP', 'NOUN', 'NOUN', 'NOUN', None, 'NOUN', 'NOUN', 'NOUN', None, None, 'VERB', 'PREP', 'NOUN', 'PREP', None, None, None, None, None, 'VERB', 'NOUN', 'PREP', 'CONJ', 'CONJ', 'NOUN', 'CONJ', 'CONJ', 'PRCL', 'VERB', 'PRTS', None, 'NOUN', 'NOUN', 'NUMR', 'NOUN', 'VERB', 'PRTS', None, 'NOUN', 'PREP', 'NOUN', None, None, None, None, 'NOUN', 'NOUN', None, None, 'ADJF', 'PREP', 'ADJF', 'NOUN', 'CONJ', None, None, None, 'CONJ', None, 'VERB', 'CONJ', 'NPRO', 'VERB', 'NOUN', 'PREP', 'NOUN', None, None, 'COMP', 'VERB', 'PRED', 'CONJ', None, None, None, 'VERB', 'PREP', 'ADJF', 'NOUN', 'NOUN', 'VERB', 'PRTS', 'CONJ', 'NOUN', 'VERB', 'PREP', 'NOUN', None, 'NOUN', 'NOUN', 'NOUN', 'VERB', 'NOUN', None, None, None] \n",
      "\n",
      "Состоялась коллегия Минэнерго.    \n",
      "1) Мой доклад о поездке в США по работе двухсторонней Межправительственной комиссии по энергетике СССР — США.    \n",
      "Содоклад сделал Ф.В. Сапожников по ядерной энергетике США и организации изготовления электротехнического оборудования для АЭС. Мы ответили на многие вопросы участников заседания коллегии.    \n",
      "2) Подготовка материалов для доклада в Совмине СССР по прохождению осенне-зимнего максимума нагрузок.    \n",
      "— 3. Рассмотрение состояния ввода мощностей.    \n",
      "— Экибастузская ГРЭС — отстает дымовая труба, отстает монтаж котла.    \n",
      "— Сургутская ГРЭС — блок 10 — вопросов нет; по блоку 11 — нужен металл.    \n",
      "— Алма-Атинская ТЭЦ — блок реальный, но нужны стеновые панели.    \n",
      "— Западно-Сибирская ТЭЦ — блок реальный. Ввод будет обеспечен.    \n",
      "— Кзыл-Ординская ТЭЦ — блок реальный. Ввод будет обеспечен.    \n",
      "— Тобольская ТЭЦ — блок реальный. Ввод будет обеспечен.    \n",
      "— Костромская ГРЭС — блок 1200 — нет оборудования.    \n",
      "— Рязанская ГРЭС — блок 800 — усилить монтаж и наладку.    \n",
      "— ТЭЦ-25 — блок 250 — реальный.    \n",
      "— Печорская ГРЭС — блок 210 — нужен трансформатор.    \n",
      "— Смоленская ГРЭС — блок 210 обеспечен пуском.    \n",
      "— Минская ТЭЦ, ТЭЦ-9, Орел — блоки реальные.    \n",
      "— Архангельская ТЭЦ — блок 200 — отстает оборудование.    \n",
      "— Белоярская ГРЭС — вопросов нет.    \n",
      "— Рефтинская ГРЭС — вопросов нет.    \n",
      "— Ириклинская ГРЭС, Гусииоозерская ГРЭС, Стерлитамакская ТЭЦ, Уфимская ТЭЦ, Омская ТЭЦ, Пермская ТЭЦ, Южно-Сахалинская ТЭЦ, Тюменская ТЭЦ — необходимо укомплектовать оборудование.    \n",
      "— Саяно Шушенская ГЭС — гидроагрегат № 3 — будет пущен.    \n",
      "— Нурекская ГЭС — гидроагрегат Ne 9 — будет пущен.    \n",
      "— Ингурская ГЭС — гидроагрегат Ne 5 — будет пущен.    \n",
      "— Нижнекамская ГЭС — гидроагрегат Ne 1, 2 — неясно с напором. \n",
      " ['VERB', 'NOUN', 'NOUN', None, 'ADJF', 'NOUN', 'PREP', 'NOUN', 'PREP', 'NOUN', 'PREP', 'NOUN', 'ADJF', 'ADJF', 'NOUN', 'PREP', 'NOUN', 'NOUN', None, 'NOUN', 'NOUN', 'VERB', 'NOUN', 'PREP', 'NOUN', 'PREP', 'ADJF', 'NOUN', 'NOUN', 'CONJ', 'NOUN', 'NOUN', 'ADJF', 'NOUN', 'PREP', 'NOUN', 'NPRO', 'VERB', 'PREP', 'NPRO', 'NOUN', 'NOUN', 'NOUN', 'NOUN', None, 'NOUN', 'NOUN', 'PREP', 'NOUN', 'PREP', 'NOUN', 'NOUN', 'PREP', 'NOUN', 'ADJF', 'NOUN', 'NOUN', None, None, 'NOUN', 'NOUN', 'NOUN', 'NOUN', None, 'ADJF', 'NOUN', None, 'VERB', 'ADJF', 'NOUN', 'VERB', 'NOUN', 'NOUN', None, 'ADJF', 'NOUN', None, 'NOUN', None, None, 'NOUN', 'PRED', 'PREP', 'NOUN', None, None, 'ADJS', 'NOUN', None, 'ADJF', 'NOUN', None, 'NOUN', 'ADJF', 'CONJ', 'ADJS', 'ADJF', 'NOUN', None, 'ADJF', 'NOUN', None, 'NOUN', 'ADJF', 'NOUN', 'VERB', 'PRTS', None, 'ADJF', 'NOUN', None, 'NOUN', 'ADJF', 'NOUN', 'VERB', 'PRTS', None, 'ADJF', 'NOUN', None, 'NOUN', 'ADJF', 'NOUN', 'VERB', 'PRTS', None, 'ADJF', 'NOUN', None, 'NOUN', None, None, 'PRED', 'NOUN', None, 'ADJF', 'NOUN', None, 'NOUN', None, None, 'INFN', 'NOUN', 'CONJ', 'NOUN', None, None, None, 'NOUN', None, None, 'ADJF', None, 'ADJF', 'NOUN', None, 'NOUN', None, None, 'ADJS', 'NOUN', None, 'ADJF', 'NOUN', None, 'NOUN', None, 'PRTS', 'NOUN', None, 'ADJF', 'NOUN', None, 'NOUN', None, 'NOUN', 'ADJF', None, 'ADJF', 'NOUN', None, 'NOUN', None, None, 'VERB', 'NOUN', None, 'ADJF', 'NOUN', None, 'NOUN', 'PRED', None, 'ADJF', 'NOUN', None, 'NOUN', 'PRED', None, 'ADJF', 'NOUN', 'ADJF', 'NOUN', 'ADJF', 'NOUN', 'ADJF', 'NOUN', 'ADJF', 'NOUN', 'ADJF', 'NOUN', 'ADJF', 'NOUN', 'ADJF', 'NOUN', None, 'ADJS', 'INFN', 'NOUN', None, 'PRTS', 'ADJF', 'NOUN', None, 'NOUN', None, None, None, 'VERB', 'PRTS', None, 'NOUN', 'NOUN', None, 'NOUN', None, None, None, 'VERB', 'PRTS', None, 'NOUN', 'NOUN', None, 'NOUN', None, None, None, 'VERB', 'PRTS', None, 'ADJF', 'NOUN', None, 'NOUN', None, None, None, None, 'ADVB', 'PREP', 'NOUN'] \n",
      "\n",
      "Швейцарская часовая мануфактура IWC Schaffhausen анонсировала новинки Международного салона высокого часового искусства (SIHH) в Женеве в январе 2018 года. Об этом сообщается в пресс-релизе, присланном в редакцию «Ленты.ру» в субботу, 2 декабря. Во время салона будет представлена коллекция из 27 новых моделей в линиях Portugieser, Portofino, Pilot’s Watches и Da Vinci. Примечательная новинка — IWC Tribute to Pallweber Edition «150 Years» с единственной секундной стрелкой, оснащенная механизмом IWC 94200. Модель навеяна историческими карманными часами 1884 года с так называемым «прыгающим» цифровым указателем: часы и минуты на их циферблате отображаются с помощью появляющихся в окошках крупных цифр, которые нанесены на вращающиеся диски. Модель Portugieser Constant-Force Tourbillon Edition «150 Years» в корпусе из платины, с белым лакированным циферблатом и воронеными оснащена новым мануфактурным калибром IWC 94805 с ручным подзаводом и запасом хода 96 часов. В механизме впервые скомбинированы турбийон постоянной силы и классический указатель фаз Луны, который нуждается в корректировке на один день только через 577,5 лет. Женская модель Da Vinci Automatic Moon Phase 36 Edition «150 Years» в корпусе из 18-каратного розового золота, с белым лакированным циферблатом и воронеными стрелками оснащена указателем фаз Луны у отметки «12 часов». Корпус и подвижные ушки часов покрыты 206 бриллиантами. Модель выпущена лимитированной серией из 50 экземпляров. Другая новинка в серии Da Vinci — Da Vinci Automatic Edition «150 Years» с синим лакированным циферблатом. Она оснащена новым мануфактурным калибром IWC 82200 с автоматической системой подзавода Пеллатона и запасом хода 60 часов. Механизм заключен в корпус из нержавеющей стали. 29 ноября сообщалось, что ювелирно-часовой дом Van Cleef & Arpels представит на Международном салоне высокого часового искусства в Женеве новую модель Lady Arpels Planétarium. Это женская версия часов Midnight Planétarium, воспроизводящих на циферблате ход планет Солнечной системы. Она входит в линию The Poetry of Time. \n",
      " ['ADJF', 'ADJF', 'NOUN', None, None, 'VERB', 'NOUN', 'ADJF', 'NOUN', 'ADJF', 'ADJF', 'NOUN', None, 'PREP', 'NOUN', 'PREP', 'NOUN', None, 'NOUN', 'PREP', 'NPRO', 'VERB', 'PREP', 'NOUN', 'PRTF', 'PREP', 'NOUN', 'NOUN', None, 'PREP', 'NOUN', None, 'NOUN', 'PREP', 'NOUN', 'NOUN', 'VERB', 'PRTS', 'NOUN', 'PREP', None, 'ADJF', 'NOUN', 'PREP', 'NOUN', None, None, None, None, None, None, 'CONJ', None, None, 'ADJF', 'NOUN', None, None, None, None, None, None, None, None, 'PREP', 'ADJF', 'ADJF', 'NOUN', 'PRTF', 'NOUN', None, None, 'NOUN', 'PRTS', 'ADJF', 'ADJF', 'ADVB', None, 'NOUN', 'PREP', 'CONJ', 'PRTF', 'PRTF', 'ADJF', 'NOUN', 'NOUN', 'CONJ', 'NOUN', 'PREP', 'NPRO', 'NOUN', 'VERB', 'PREP', 'NOUN', 'PRTF', 'PREP', 'NOUN', 'ADJF', 'NOUN', 'ADJF', 'PRTS', 'PREP', 'PRTF', 'NOUN', 'NOUN', None, None, None, None, None, None, 'PREP', 'NOUN', 'PREP', 'NOUN', 'PREP', 'NOUN', 'ADJF', 'NOUN', 'CONJ', 'ADJF', 'PRTS', 'ADJF', 'ADJF', 'NOUN', None, None, 'PREP', 'ADJF', 'NOUN', 'CONJ', 'NOUN', 'NOUN', None, 'NOUN', 'PREP', 'NOUN', 'ADVB', 'PRTS', 'NOUN', 'ADJF', 'NOUN', 'CONJ', 'ADJF', 'NOUN', 'NOUN', 'NOUN', 'ADJF', 'VERB', 'PREP', 'NOUN', 'PREP', 'ADJF', 'NOUN', 'PRCL', 'PREP', None, 'NOUN', 'ADJF', 'NOUN', None, None, None, None, None, None, None, None, None, 'PREP', 'NOUN', 'PREP', 'ADJF', 'ADJF', 'NOUN', 'PREP', 'NOUN', 'ADJF', 'NOUN', 'CONJ', 'ADJF', 'NOUN', 'PRTS', 'NOUN', 'NOUN', 'NOUN', 'PREP', 'NOUN', None, 'NOUN', 'NOUN', 'CONJ', 'ADJF', 'NOUN', 'NOUN', 'PRTS', None, 'NOUN', 'NOUN', 'PRTS', 'PRTF', 'NOUN', 'PREP', None, 'NOUN', 'ADJF', 'NOUN', 'PREP', 'NOUN', None, None, None, None, None, None, None, None, None, 'PREP', 'VERB', 'ADJF', 'NOUN', 'NPRO', 'PRTS', 'ADJF', 'ADJF', 'NOUN', None, None, 'PREP', 'ADJF', 'NOUN', 'NOUN', 'NOUN', 'CONJ', 'NOUN', 'NOUN', None, 'NOUN', 'NOUN', 'PRTS', 'PREP', 'NOUN', 'PREP', 'ADJF', 'VERB', None, 'NOUN', 'VERB', 'CONJ', 'ADJF', 'NOUN', None, None, None, 'VERB', 'PREP', 'ADJF', 'NOUN', 'ADJF', 'ADJF', 'NOUN', 'PREP', 'NOUN', 'ADJF', 'NOUN', None, None, None, 'PRCL', 'ADJF', 'NOUN', 'NOUN', None, None, 'PRTF', 'PREP', 'NOUN', 'NOUN', 'NOUN', 'ADJF', 'NOUN', 'NPRO', 'VERB', 'PREP', 'NOUN', None, None, None, None] \n",
      "\n"
     ]
    }
   ],
   "source": [
    "print(train['Text'][79172],'\\n',train['POS_Text'][79172],'\\n')\n",
    "print(train['Text'][62749],'\\n',train['POS_Text'][62749],'\\n')\n",
    "print(train['Text'][93054],'\\n',train['POS_Text'][93054],'\\n')\n",
    "print(train['Text'][55223],'\\n',train['POS_Text'][55223],'\\n')\n",
    "print(train['Text'][76169],'\\n',train['POS_Text'][76169],'\\n')"
   ]
  },
  {
   "cell_type": "markdown",
   "id": "1d0818cb",
   "metadata": {},
   "source": [
    "Посмотрим на Machine тексты с большим количеством None:"
   ]
  },
  {
   "cell_type": "code",
   "execution_count": 154,
   "id": "5ccbe5a1",
   "metadata": {},
   "outputs": [
    {
     "data": {
      "text/html": [
       "<div>\n",
       "<style scoped>\n",
       "    .dataframe tbody tr th:only-of-type {\n",
       "        vertical-align: middle;\n",
       "    }\n",
       "\n",
       "    .dataframe tbody tr th {\n",
       "        vertical-align: top;\n",
       "    }\n",
       "\n",
       "    .dataframe thead th {\n",
       "        text-align: right;\n",
       "    }\n",
       "</style>\n",
       "<table border=\"1\" class=\"dataframe\">\n",
       "  <thead>\n",
       "    <tr style=\"text-align: right;\">\n",
       "      <th></th>\n",
       "      <th>adjf</th>\n",
       "      <th>adjf adjf</th>\n",
       "      <th>adjf adjs</th>\n",
       "      <th>adjf advb</th>\n",
       "      <th>adjf comp</th>\n",
       "      <th>adjf conj</th>\n",
       "      <th>adjf grnd</th>\n",
       "      <th>adjf infn</th>\n",
       "      <th>adjf intj</th>\n",
       "      <th>adjf none</th>\n",
       "      <th>...</th>\n",
       "      <th>verb prtf</th>\n",
       "      <th>verb prts</th>\n",
       "      <th>verb verb</th>\n",
       "      <th>Class</th>\n",
       "      <th>Количество слов</th>\n",
       "      <th>Id</th>\n",
       "      <th>prep_freq</th>\n",
       "      <th>comp_none_freq</th>\n",
       "      <th>none_comp_freq</th>\n",
       "      <th>comp_advb_freq</th>\n",
       "    </tr>\n",
       "  </thead>\n",
       "  <tbody>\n",
       "    <tr>\n",
       "      <th>17312</th>\n",
       "      <td>27</td>\n",
       "      <td>1</td>\n",
       "      <td>0</td>\n",
       "      <td>0</td>\n",
       "      <td>0</td>\n",
       "      <td>0</td>\n",
       "      <td>0</td>\n",
       "      <td>0</td>\n",
       "      <td>0</td>\n",
       "      <td>1</td>\n",
       "      <td>...</td>\n",
       "      <td>0</td>\n",
       "      <td>0</td>\n",
       "      <td>0</td>\n",
       "      <td>1</td>\n",
       "      <td>330.0</td>\n",
       "      <td>191085</td>\n",
       "      <td>0.030303</td>\n",
       "      <td>0.000000</td>\n",
       "      <td>0.0</td>\n",
       "      <td>0.000000</td>\n",
       "    </tr>\n",
       "    <tr>\n",
       "      <th>76765</th>\n",
       "      <td>25</td>\n",
       "      <td>2</td>\n",
       "      <td>0</td>\n",
       "      <td>0</td>\n",
       "      <td>0</td>\n",
       "      <td>1</td>\n",
       "      <td>0</td>\n",
       "      <td>0</td>\n",
       "      <td>0</td>\n",
       "      <td>1</td>\n",
       "      <td>...</td>\n",
       "      <td>0</td>\n",
       "      <td>1</td>\n",
       "      <td>0</td>\n",
       "      <td>1</td>\n",
       "      <td>323.0</td>\n",
       "      <td>185740</td>\n",
       "      <td>0.065015</td>\n",
       "      <td>0.003096</td>\n",
       "      <td>0.0</td>\n",
       "      <td>0.000000</td>\n",
       "    </tr>\n",
       "    <tr>\n",
       "      <th>67498</th>\n",
       "      <td>25</td>\n",
       "      <td>3</td>\n",
       "      <td>0</td>\n",
       "      <td>0</td>\n",
       "      <td>0</td>\n",
       "      <td>0</td>\n",
       "      <td>0</td>\n",
       "      <td>0</td>\n",
       "      <td>0</td>\n",
       "      <td>0</td>\n",
       "      <td>...</td>\n",
       "      <td>0</td>\n",
       "      <td>1</td>\n",
       "      <td>0</td>\n",
       "      <td>1</td>\n",
       "      <td>342.0</td>\n",
       "      <td>169871</td>\n",
       "      <td>0.064327</td>\n",
       "      <td>0.002924</td>\n",
       "      <td>0.0</td>\n",
       "      <td>0.000000</td>\n",
       "    </tr>\n",
       "    <tr>\n",
       "      <th>32909</th>\n",
       "      <td>26</td>\n",
       "      <td>0</td>\n",
       "      <td>0</td>\n",
       "      <td>0</td>\n",
       "      <td>0</td>\n",
       "      <td>1</td>\n",
       "      <td>0</td>\n",
       "      <td>0</td>\n",
       "      <td>0</td>\n",
       "      <td>0</td>\n",
       "      <td>...</td>\n",
       "      <td>0</td>\n",
       "      <td>0</td>\n",
       "      <td>0</td>\n",
       "      <td>1</td>\n",
       "      <td>341.0</td>\n",
       "      <td>29911</td>\n",
       "      <td>0.058651</td>\n",
       "      <td>0.000000</td>\n",
       "      <td>0.0</td>\n",
       "      <td>0.000000</td>\n",
       "    </tr>\n",
       "    <tr>\n",
       "      <th>37751</th>\n",
       "      <td>19</td>\n",
       "      <td>2</td>\n",
       "      <td>0</td>\n",
       "      <td>1</td>\n",
       "      <td>0</td>\n",
       "      <td>1</td>\n",
       "      <td>0</td>\n",
       "      <td>0</td>\n",
       "      <td>2</td>\n",
       "      <td>3</td>\n",
       "      <td>...</td>\n",
       "      <td>0</td>\n",
       "      <td>0</td>\n",
       "      <td>0</td>\n",
       "      <td>1</td>\n",
       "      <td>324.0</td>\n",
       "      <td>38268</td>\n",
       "      <td>0.077160</td>\n",
       "      <td>0.000000</td>\n",
       "      <td>0.0</td>\n",
       "      <td>0.003086</td>\n",
       "    </tr>\n",
       "  </tbody>\n",
       "</table>\n",
       "<p>5 rows × 349 columns</p>\n",
       "</div>"
      ],
      "text/plain": [
       "       adjf  adjf adjf  adjf adjs  adjf advb  adjf comp  adjf conj  adjf grnd  \\\n",
       "17312    27          1          0          0          0          0          0   \n",
       "76765    25          2          0          0          0          1          0   \n",
       "67498    25          3          0          0          0          0          0   \n",
       "32909    26          0          0          0          0          1          0   \n",
       "37751    19          2          0          1          0          1          0   \n",
       "\n",
       "       adjf infn  adjf intj  adjf none  ...  verb prtf  verb prts  verb verb  \\\n",
       "17312          0          0          1  ...          0          0          0   \n",
       "76765          0          0          1  ...          0          1          0   \n",
       "67498          0          0          0  ...          0          1          0   \n",
       "32909          0          0          0  ...          0          0          0   \n",
       "37751          0          2          3  ...          0          0          0   \n",
       "\n",
       "       Class  Количество слов      Id  prep_freq  comp_none_freq  \\\n",
       "17312      1            330.0  191085   0.030303        0.000000   \n",
       "76765      1            323.0  185740   0.065015        0.003096   \n",
       "67498      1            342.0  169871   0.064327        0.002924   \n",
       "32909      1            341.0   29911   0.058651        0.000000   \n",
       "37751      1            324.0   38268   0.077160        0.000000   \n",
       "\n",
       "       none_comp_freq  comp_advb_freq  \n",
       "17312             0.0        0.000000  \n",
       "76765             0.0        0.000000  \n",
       "67498             0.0        0.000000  \n",
       "32909             0.0        0.000000  \n",
       "37751             0.0        0.003086  \n",
       "\n",
       "[5 rows x 349 columns]"
      ]
     },
     "execution_count": 154,
     "metadata": {},
     "output_type": "execute_result"
    }
   ],
   "source": [
    "bow_train[(bow_train['none'] > 0)&(bow_train['Class'] == 1)]\\\n",
    ".sort_values (by='none', ascending=False).head(5)#['none']"
   ]
  },
  {
   "cell_type": "code",
   "execution_count": 155,
   "id": "b7d98111",
   "metadata": {
    "scrolled": false
   },
   "outputs": [
    {
     "name": "stdout",
     "output_type": "stream",
     "text": [
      "Англия объявляет войну Германии\n",
      "Александр Сергеевич Пушкин. \n",
      "  В России в конце XVIII века началась гражданская война между Англией и Россией, начавшаяся с убийства короля Генриха IV Английского (1713-1802) во время его пребывания у власти при малолетнем сыне Георге VI Иоанновиче Романовых[1]. В ходе этого события были убиты многие знатные лица того времени: король Георг V Брауншвейгский - граф Яков Брюс I Анжуйское королевство Польская Республика Пруссия Англо — Австрийские Нидерланды Германия Франция Англия Голландия Бельгия Люксембург Португалия Дания Швеция Испания Чехия Венгрия Румынство Словактия Болгары Италия США Канада Великобритания Австралийцы Ирландских островов Британской Индии Малайзии Новой Зеландии Австралии Тайвань Китай Индонезии Индонезия Новая Гвинеа Перу Французскую Остальную Африку Японцев Америки Индийским Океаном Тихий океан Америка Азия Европа Скандинавия Норвегии Финляндия Польша Литва Латвийскоязычная Россия Белоруссию Украину Польшу Эстонию Молдавию Беларусь Молдову Хорватию Швецию Югославию Албании Мальту Швейцарию Греческую Республику Македоний Сербию Черногории Босфор Турецкий Кипр Греция Грузинское Государство Азербайджан Армения Украина Израиль Эстонляндск Киргизстан Таджикистане Кыргызстана Туркменистану Узбекиду Казахстан Туркмении Казахстана Киргизии Узбекистана Литовщине Латвии Эстонии Литвы Беларуси Таджикистана Армении Украины Польши Болгарии Румынии Сербии Молдавии Приднестровье Абхазии Южной Африки Южная Корея Япония Северная Индия ПакистоВенесуэла Венесуэлы Зимбабве ЮАР Экстрасенсы Японии Инопланетяне Сверхъестественное Небеса Иллюзий На Земле существует огромное количество различных инопланетян... Читать дальше на сайте  Оригинал записи andrei_kovalin\t2017/11\\t<….. Москва \\thttp://russiancommunistruciesnewsdaysshortfoldsphotoedischatchesworldlabel=rus#postnazvalidaroda #warcolor31257641584523071961438489163688684666674744403739490285623332758775557432035252429347879596970809926226086010010507590985442000650000100%http https… Post by Alexander Schultzberg on 18 ноябрь 2017 г....... at httpoutinghousehowmoonlightdaytheme//greatestblog poster in the year of warcraft : The World's Best Of War Craft 2015! We are globally engaged to create this world for all us! Thank you everyone we will not let it happen again!!! And so far there is no need or obstacle here but a great deal more than just watchfully enjoyable experience with our people!!! Still love those who were lost as many years ago that was unaware about their lives!! You know what happens now when they die? Why does some one like them still be fighting? They can't take anything \n",
      " ['NOUN', 'VERB', 'NOUN', 'NOUN', 'NOUN', 'NOUN', 'NOUN', 'PREP', 'NOUN', 'PREP', 'NOUN', None, 'NOUN', 'VERB', 'ADJF', 'NOUN', 'PREP', 'NOUN', 'CONJ', 'NOUN', 'PRTF', 'PREP', 'NOUN', 'NOUN', 'NOUN', None, 'ADJF', None, 'PREP', 'NOUN', 'NPRO', 'NOUN', 'PREP', 'NOUN', 'PREP', 'ADJF', 'NOUN', 'NOUN', None, 'NOUN', 'NOUN', None, 'PREP', 'NOUN', 'NPRO', 'NOUN', 'VERB', 'ADJS', 'NPRO', 'ADJF', 'NOUN', 'ADJF', 'NOUN', 'NOUN', 'NOUN', None, 'ADJF', 'NOUN', 'NOUN', 'NOUN', None, 'ADJF', 'NOUN', 'ADJF', 'NOUN', 'NOUN', 'VERB', None, 'ADJF', 'NOUN', 'NOUN', 'NOUN', 'NOUN', 'NOUN', 'NOUN', 'NOUN', 'NOUN', 'NOUN', 'NOUN', 'NOUN', 'NOUN', 'NOUN', 'NOUN', 'NOUN', 'NOUN', 'NOUN', 'NOUN', 'NOUN', 'NOUN', 'NOUN', 'ADJF', 'NOUN', 'ADJF', 'NOUN', 'NOUN', 'ADJF', 'NOUN', 'NOUN', 'NOUN', 'NOUN', 'NOUN', 'NOUN', 'ADJF', 'NOUN', 'NOUN', 'ADJF', 'ADJF', 'NOUN', 'NOUN', 'NOUN', 'ADJF', 'NOUN', 'ADJF', 'NOUN', 'NOUN', 'NOUN', 'NOUN', 'NOUN', 'NOUN', 'NOUN', 'NOUN', 'NOUN', 'ADJF', 'NOUN', 'NOUN', 'NOUN', 'NOUN', 'NOUN', 'NOUN', 'NOUN', 'NOUN', 'NOUN', 'NOUN', 'NOUN', 'NOUN', 'NOUN', 'NOUN', 'ADJF', 'NOUN', 'NOUN', 'NOUN', 'NOUN', 'NOUN', 'ADJF', 'NOUN', 'NOUN', 'ADJF', 'NOUN', 'NOUN', 'NOUN', 'NOUN', 'NOUN', 'NOUN', 'NOUN', 'NOUN', 'NOUN', 'NOUN', 'NOUN', 'NOUN', 'NOUN', 'NOUN', 'NOUN', 'NOUN', 'NOUN', 'NOUN', 'NOUN', 'NOUN', 'NOUN', 'NOUN', 'NOUN', 'NOUN', 'NOUN', 'NOUN', 'NOUN', 'NOUN', 'NOUN', 'NOUN', 'NOUN', 'ADJF', 'NOUN', 'ADJF', 'NOUN', 'NOUN', 'ADJF', 'NOUN', 'NOUN', 'NOUN', 'NOUN', 'NOUN', 'NOUN', 'NOUN', 'NOUN', 'ADJF', 'NOUN', 'NOUN', 'PREP', 'NOUN', 'VERB', 'ADJF', 'NOUN', 'ADJF', 'NOUN', None, 'INFN', 'COMP', 'PREP', 'NOUN', 'NOUN', 'NOUN', None, None, None, None, 'NOUN', None, None, None, None, None, None, None, None, None, None, None, None, None, None, None, 'NOUN', None, 'NOUN', None, None, None, None, None, None, None, None, None, None, None, None, None, None, None, None, None, None, None, None, None, None, None, None, None, None, None, None, None, None, None, None, None, None, None, None, None, None, None, None, None, None, None, None, None, None, None, None, None, None, None, None, None, None, None, None, None, None, None, None, None, None, None, None, None, None, None, None, None, None, None, None, None, None, None, None, None, None, None, None, None, None, None, None, None, None, None, None, None, None, None, None, None, None, None, None, None, None, None, None, None, None, None] \n",
      "\n",
      "МОСКВА, 1 авг - РИА Новости. Премьер-министр РФ Владимир Путин поручил правительству разработать меры по повышению безопасности на объектах \"Росатома\", в том числе за счет создания системы мониторинга и контроля объектов атомно–промышленности (АЭС), сообщил журналистам глава правительства Дмитрий Медведев во вторник после заседания кабинета министров России с руководителями профильных министерств \n",
      "\n",
      "Власти Петербурга приняли решение о создании комплексной автоматизированной информационной системой обеспечения градостроительной деятельности города при участии Агентства стратегических инициатив совместно со Сбербанком Российской Федерации для реализации проекта строительства второй очереди Северо‐Западной хорды через Неву от Московского шоссе до КАД общей протяженностью около 640 километров.\"Для решения задач комплексного управления объектами городской среды мы создали систему электронного документооборота между всеми субъектами строительного процесса — застройщиками территорий размещения АЭС\",— заявил губернатор Георгий Полтавченко.- Для этого уже создан специальный отдел под руководством заместителя председателя комитета Госдумы ФСО Сергея Попова\".Он добавил:  «Система будет интегрироваться также c другими системами АСИ – такими как система ГИС ЖКХ или портал госзакупок».Напомним ранее сообщалось что правительство одобрило строительство новой дороги вокруг станции метро Пионерская. По информации СМИ проект предполагает возведение нового участка автодороги длиной более 330 метров вдоль территории Ленинградской области стоимостью 480 миллионов рублей из которых 160 миллиардов будут вложены непосредственно компанией РЖД а остальные средства пойдут только частично либо вообще не поступят.( Читать дальше... )http://www1newsru...✂.........pdfs=2&id_tnwqkgjlzcr0u4vm5a7h8e9y6x/%DF#ixzz3NWYLbRME( Comments |Comment on this)Ссылка : http//computerraffic--blogs----120813231617142418272939283834263735787976999877888968969069751556664648364555596549255860332287448401479519571167108370862064509321198743212054000940085201079731199732004310542109521504950000115098006316041201020132015201620172018 2019 2020 20 21 22 23 24 25 26 30 32 36 38 39 41 42 43 44 45 46 47 49 60 63 65 67 68 69 70 80 81 82 84 85 86 87 89 90 91 92 94 96 97 99 100 1011121011103001001000200040050060070025020052007200920112012 2012 2013 2014 2015 2016 2017 2018 201 2 12 11 13 14 15 18 17 19 29 28 27 33 34 35 40 37 31 48 50 51 52 54 55 59 61 \n",
      " ['NOUN', None, None, 'NOUN', 'NOUN', 'NOUN', 'NOUN', 'NOUN', 'NOUN', 'VERB', 'NOUN', 'INFN', 'NOUN', 'PREP', 'NOUN', 'NOUN', 'PREP', 'NOUN', 'NOUN', 'PREP', 'ADJF', 'NOUN', 'PREP', 'NOUN', 'NOUN', 'NOUN', 'NOUN', 'CONJ', 'NOUN', 'NOUN', 'NOUN', 'NOUN', 'VERB', 'NOUN', 'NOUN', 'NOUN', 'NOUN', 'NOUN', 'PREP', 'NOUN', 'PREP', 'NOUN', 'NOUN', 'NOUN', 'NOUN', 'PREP', 'NOUN', 'ADJF', 'NOUN', 'NOUN', 'NOUN', 'VERB', 'NOUN', 'PREP', 'NOUN', 'ADJF', 'ADJF', 'ADJF', 'NOUN', 'NOUN', 'ADJF', 'NOUN', 'NOUN', 'PREP', 'NOUN', 'NOUN', 'ADJF', 'NOUN', 'ADVB', 'PREP', 'NOUN', 'ADJF', 'NOUN', 'PREP', 'NOUN', 'NOUN', 'NOUN', 'ADJF', 'NOUN', 'ADJF', 'NOUN', 'PREP', 'NOUN', 'PREP', 'ADJF', 'NOUN', 'PREP', None, 'ADJF', 'NOUN', 'PREP', None, 'NOUN', 'PREP', 'NOUN', 'NOUN', 'ADJF', 'NOUN', 'NOUN', 'ADJF', 'NOUN', 'NPRO', 'VERB', 'NOUN', 'ADJF', 'NOUN', 'PREP', 'ADJF', 'NOUN', 'ADJF', 'NOUN', None, 'NOUN', 'NOUN', 'NOUN', 'NOUN', None, 'VERB', 'NOUN', 'NOUN', 'NOUN', 'PREP', 'NPRO', 'ADVB', 'PRTS', 'ADJF', 'NOUN', 'PREP', 'NOUN', 'NOUN', 'NOUN', 'NOUN', 'NOUN', None, 'NOUN', 'NOUN', 'NPRO', 'VERB', 'NOUN', 'VERB', 'INFN', 'CONJ', None, 'ADJF', 'NOUN', 'NOUN', None, 'ADJF', 'CONJ', 'NOUN', None, 'NOUN', 'CONJ', 'NOUN', 'NOUN', 'VERB', 'ADVB', 'VERB', 'CONJ', 'NOUN', 'VERB', 'NOUN', 'ADJF', 'NOUN', 'ADVB', 'NOUN', 'NOUN', 'ADJF', 'PREP', 'NOUN', 'NOUN', 'NOUN', 'VERB', 'NOUN', 'NOUN', 'NOUN', 'NOUN', 'NOUN', 'ADVB', None, 'NOUN', 'ADVB', 'NOUN', 'ADJF', 'NOUN', 'NOUN', None, 'NOUN', 'NOUN', 'PREP', 'ADJF', None, 'NOUN', 'VERB', 'PRTS', 'ADVB', 'NOUN', 'NOUN', 'CONJ', 'ADJF', 'NOUN', 'VERB', 'PRCL', 'ADVB', 'CONJ', 'ADVB', 'PRCL', 'VERB', 'INFN', 'COMP', None, None, None, None, None, None, None, None, None, None, None, None, None, None, None, None, None, None, None, None, None, None, None, None, None, None, None, None, None, None, None, None, None, 'NOUN', None, None, None, None, None, None, None, None, None, None, None, None, None, None, None, None, None, None, None, None, None, None, None, None, None, None, None, None, None, None, None, None, None, None, None, None, None, None, None, None, None, None, None, None, None, None, None, None, None, None, None, None, None, None, None, None, None, None, None, None, None, None, None, None, None, None, None, None, None, None, None, None, None, None, None, None, None, None, None, None, None, None, None, None, None, None] \n",
      "\n",
      "В России может появиться семейная полиция. В Госдуме рассматривают возможность создания в нашей стране службы, которая будет заниматься вопросами защиты семьи и несовершеннолетних от насилия со стороны сверстников или родителей (в том числе приемных). Соответствующий документ был опубликован на сайте нижней палаты парламента 22 октября 2014 года...\n",
      "      \n",
      "    На прошлой неделе президент Владимир Путин подписал указ № 690 о создании Федеральной семейной полиции с передачей функций по защите прав граждан при помощи системы межведомственного взаимодействия....\". http://wwwsvoboda-expressa2x4y1c3e5d6eb9bfcc8ad0af7de80/news_main/. И вот тут уже становится не до смеха! Ведь речь идет об организации работы именно такой структуры - Службы охраны правопорядка для детей из неблагополучной многодетносемейные среды:httpnofollow noreferrer\t201910112 03 23 16     \"Семейное право\" как инструмент профилактики безнадзорности среди подростков... Читать дальше(C) 2018 InoSMI Бу Андерссон | Блог Янис Бергмасон Send abuse to parents of young offenses by means family law and the protection from violent crimes that may occur within a child's home or neighborhood.\" https//blogsbergmarketingenjournalist #семейныйзакон pic..twitter                         Сетевое издание «Ёжедневник» зарегистрировано Роскомнадзором 31 декабря 2017 г., свидетельство Эл No ФС77–591793 Учредитель ООО НТЦ ИТ Проспект✌Стендап шоу🎉 @mediazzzona Публикация материалов возможна только c письменного разрешения редакции сайта © vsepublikatsii@gmail.com Twitter images Instagram photos Вконтакте Facebook Telegram Одноклассники Google+ Россия 1 + Ленинградская область 2 495 788 68 78 Москва 8 800 333 67 79 Екатеринбург 9500267935 Skype greyoutnikov Igor Vasilyevich ✔️☀‼#детскоезащитуроссии,работаюсообществом Posted via LiveJouru on 19 дек 2019 at 10 ч 30 мин PDT Как вы считаете? Это правильно?! А если нет… то почему тогда так происходит сейчас?.. Почему мы позволяем себе такое поведение сегодня?? Или же нам просто нужно принять закон чтобы все это прекратилось??? Что делать родителям маленьких детишек которые вынуждены ходить под присмотром чужих людей????!! Кто должен защищать права ребенка во всем мире!!! Где искать ответы?????????».............................Postscriptum : По сообщению пресс –службы ГУ МВД РФ Москвы 17 ноября текущего году состоялось совещание у начальника Департамента региональной безопасности города Владимира Зотова относительно реализации мероприятий \n",
      " ['PREP', 'NOUN', 'VERB', 'INFN', 'ADJF', 'NOUN', 'PREP', 'NOUN', 'VERB', 'NOUN', 'NOUN', 'PREP', 'ADJF', 'NOUN', 'NOUN', 'ADJF', 'VERB', 'INFN', 'NOUN', 'NOUN', 'NOUN', 'CONJ', 'ADJF', 'PREP', 'NOUN', 'PREP', 'NOUN', 'NOUN', 'CONJ', 'NOUN', 'PREP', 'ADJF', 'NOUN', 'ADJF', 'ADJF', 'NOUN', 'VERB', 'PRTS', 'PREP', 'NOUN', 'ADJF', 'NOUN', 'NOUN', None, 'NOUN', None, 'NOUN', None, 'PREP', 'ADJF', 'NOUN', 'NOUN', 'NOUN', 'NOUN', 'VERB', 'NOUN', None, None, 'PREP', 'NOUN', 'ADJF', 'ADJF', 'NOUN', 'PREP', 'NOUN', 'NOUN', 'PREP', 'NOUN', 'NOUN', 'NOUN', 'PREP', 'NOUN', 'NOUN', 'ADJF', 'NOUN', None, None, None, None, None, None, None, None, None, None, None, None, None, None, None, None, None, None, None, None, None, None, None, None, None, 'CONJ', 'PRCL', 'ADVB', 'ADVB', 'VERB', 'PRCL', 'PREP', 'NOUN', 'CONJ', 'NOUN', 'VERB', 'PREP', 'NOUN', 'NOUN', 'PRCL', 'ADJF', 'NOUN', 'NOUN', 'NOUN', 'NOUN', 'PREP', 'NOUN', 'PREP', 'ADJF', 'ADJF', 'NOUN', None, None, None, None, None, None, 'ADJF', 'NOUN', 'CONJ', 'NOUN', 'NOUN', 'NOUN', 'PREP', 'NOUN', None, 'INFN', 'COMP', None, None, None, None, 'NOUN', 'NOUN', 'NOUN', 'NOUN', None, None, None, None, None, None, None, None, None, None, None, None, None, None, None, None, None, None, None, None, None, None, None, None, None, None, None, None, None, 'NOUN', None, None, None, 'ADJF', 'NOUN', 'NOUN', 'PRTS', 'NOUN', None, 'NOUN', None, 'NOUN', 'NOUN', None, None, 'NOUN', None, 'NOUN', 'NOUN', 'NOUN', 'NOUN', 'NOUN', None, None, 'NOUN', 'NOUN', 'ADJS', 'PRCL', None, 'ADJF', 'NOUN', 'NOUN', 'NOUN', None, None, None, None, None, None, None, None, 'NOUN', None, None, 'NOUN', None, 'NOUN', None, 'ADJF', 'NOUN', None, None, None, None, None, 'NOUN', None, None, None, None, None, 'NOUN', None, None, None, None, None, None, 'NOUN', 'NOUN', None, None, None, None, None, 'NOUN', None, None, None, 'NOUN', None, 'NOUN', None, 'CONJ', 'NPRO', 'VERB', 'PRCL', 'ADVB', None, 'CONJ', 'CONJ', 'PRED', None, 'CONJ', 'ADVB', 'ADVB', 'CONJ', 'VERB', 'ADVB', None, 'ADVB', 'NPRO', 'VERB', 'NPRO', 'ADJF', 'NOUN', 'ADVB', None, 'CONJ', 'PRCL', 'NPRO', 'PRCL', 'PRED', 'INFN', 'NOUN', 'CONJ', 'ADJF', 'PRCL', 'VERB', None, 'CONJ', 'INFN', 'NOUN', 'NOUN', 'NOUN', 'ADJF', 'PRTS', 'INFN', 'PREP', 'NOUN', 'NOUN', 'NOUN', None, 'NPRO', 'ADJS', 'INFN', 'NOUN', 'NOUN', 'PREP', 'ADJF', 'NOUN', None, 'ADVB', 'INFN', 'NOUN', None, None, None, 'PREP', 'NOUN', 'NOUN', 'NOUN', None, 'NOUN', 'NOUN', 'NOUN', None, 'NOUN', 'ADJF', 'NOUN', 'VERB', 'NOUN', 'PREP', 'NOUN', 'NOUN', 'ADJF', 'NOUN', 'NOUN', 'NOUN', 'NOUN', 'PREP', 'NOUN', 'NOUN'] \n",
      "\n",
      "Четверг. В субботу я в Москве, а на следующей неделе у нас будет еще одна поездка по маршруту Москва-Питер и обратно! И если кто хочет поучаствовать - пишите мне или звоните +7 (916) 540 0000 \n",
      "\n",
      " \"Внимание: все материалы сайта являются объектами авторского права\" При полном либо частичном использовании информации ссылка обязательна Разработка портала – ООО Компания БИЗНЕС Групп Екатеринбург, 2013 Дизайн — Роман Анохин. 2010 Все логотипы защищены законом об авторских правах Использование текстовых материалов возможно только с письменного разрешения правообладателя Информация о сайте носит информационный характер Учредители проекта не несут ответственности за содержание рекламных объявлений Редакция газеты Телекоммуникатор Урал : 8 800 200 33 03 Email редакции Реклама здесь Карта проезда Связь для связи через соцсеть Facebook VKontakte Telegram Одноклассники Odnoklassnik Перепечатка разрешена при наличии активной ссылки Сайт разработан компанией Biznes Group Издательский дом ЗАО НПК ПИКМАХ Медиа Группа Рукоделие О проекте Пользовательское соглашение Условия использования ресурса || копирование текстов без указания источника Новости компании Технологии успеха Интерактивная карта ВТБ 24 Открытие офиса продаж Промокоды Настройки Личный кабинет Google Play Конкурсы Работаем со всей России Обратная связь Телефон/факс По вопросам рекламы тел.: 8917878550380 Адрес электронной почты info@businessgroupru Соглашение Об издании Настоящий ресурс может содержать контент 12+ Материалы подготовлены экспертами агентствами SIANS NEXTRA and Interesting Kids Свидетельство Эл No ФС77–39561 от 21 июля 2012 года Сетевое издание www @ b2blogger Краснодар КМВ Партнерская программа Яндекс Деньги Описание бизнеса Контакты Рекламные услуги Банковские реквизиты Закрыть Блог / Регистрация Вход Для пользователей системы бронирования банковских карт Сбербанк Онлайн Корзина 0 товаров Забыли пароль? {{settingsPanel('SELECTED_ID', 'UNIQUSTRYGONALCEFICES[]}); //Если введенный Вами e e‑Mail is sent to SMS on or using an ID from the inboxes associated with a requested password disabled by sender., check this method again if not found The following code will be used for execution of JavaScript permitted violation including HTML encountered as part AWARDS WITHOOD CURRENTAL OVERBISACTICA FOR TABLE IMPLAIRED DAMACHINATy required include Mobile Applications Agreement Object Module version 2 beta 3//You need help understand whatsapp you are missile here://temperskaya--news --info----volga------------------------__rssaleniehmaximovatrizheva19741279614181320242630333437353642538474546484958595566695770676076758699888985106590688701023731527290698 \n",
      " ['NOUN', 'PREP', 'NOUN', 'NPRO', 'PREP', 'NOUN', 'CONJ', 'PREP', 'ADJF', 'NOUN', 'PREP', 'NPRO', 'VERB', 'PRCL', 'ADJF', 'NOUN', 'PREP', 'NOUN', 'NOUN', 'CONJ', 'ADVB', 'CONJ', 'CONJ', 'NPRO', 'VERB', 'INFN', 'VERB', 'NPRO', 'CONJ', 'VERB', None, None, None, None, 'NOUN', 'ADJF', 'NOUN', 'NOUN', 'VERB', 'NOUN', 'ADJF', 'NOUN', 'PREP', 'ADJF', 'CONJ', 'ADJF', 'NOUN', 'NOUN', 'NOUN', 'ADJS', 'NOUN', 'NOUN', None, 'NOUN', 'NOUN', 'NOUN', 'NOUN', 'NOUN', None, 'NOUN', None, 'NOUN', 'NOUN', None, 'ADJF', 'NOUN', 'PRTS', 'NOUN', 'PREP', 'ADJF', 'NOUN', 'NOUN', 'ADJF', 'NOUN', 'CONJ', 'PRCL', 'PREP', 'ADJF', 'NOUN', 'NOUN', 'NOUN', 'PREP', 'NOUN', 'VERB', 'ADJF', 'NOUN', 'NOUN', 'NOUN', 'PRCL', 'VERB', 'NOUN', 'PREP', 'NOUN', 'ADJF', 'NOUN', 'NOUN', 'NOUN', 'NOUN', 'NOUN', None, None, None, None, None, None, 'NOUN', 'NOUN', 'ADVB', 'NOUN', 'NOUN', 'NOUN', 'PREP', 'NOUN', 'PREP', 'NOUN', None, None, None, 'NOUN', None, 'NOUN', 'PRTS', 'PREP', 'NOUN', 'ADJF', 'NOUN', 'NOUN', 'PRTS', 'NOUN', None, None, 'ADJF', 'NOUN', 'NOUN', None, 'NOUN', 'NOUN', 'NOUN', 'NOUN', 'PREP', 'NOUN', 'ADJF', 'NOUN', 'NOUN', 'NOUN', 'NOUN', 'NOUN', 'NOUN', 'PREP', 'NOUN', 'NOUN', 'NOUN', 'NOUN', 'NOUN', 'NOUN', 'ADJF', 'NOUN', 'NOUN', None, 'NOUN', 'NOUN', 'NOUN', 'NOUN', 'NOUN', 'ADJF', 'NOUN', None, None, 'NOUN', 'VERB', 'PREP', 'ADJF', 'NOUN', 'ADJF', 'NOUN', 'NOUN', 'NOUN', 'PREP', 'NOUN', 'NOUN', 'NOUN', None, 'NOUN', 'ADJF', 'NOUN', None, None, 'NOUN', 'PREP', 'NOUN', 'ADJF', 'NOUN', 'VERB', 'INFN', 'NOUN', None, 'NOUN', 'PRTS', 'NOUN', 'NOUN', None, None, None, None, None, 'NOUN', None, None, 'NOUN', None, 'PREP', None, 'NOUN', None, 'NOUN', 'ADJF', 'NOUN', None, None, None, None, 'NOUN', None, 'ADJF', 'NOUN', 'NOUN', 'NOUN', 'NOUN', 'NOUN', 'NOUN', 'ADJF', 'NOUN', 'ADJF', 'NOUN', 'INFN', 'NOUN', 'NOUN', 'NOUN', 'PREP', 'NOUN', 'NOUN', 'NOUN', 'ADJF', 'NOUN', 'NOUN', 'ADVB', 'NOUN', None, 'NOUN', 'VERB', 'NOUN', None, None, None, 'CONJ', 'PRTF', 'NPRO', None, None, None, None, None, None, None, None, None, None, None, None, None, None, None, None, None, None, None, None, None, None, None, None, None, None, None, None, None, None, None, None, None, None, None, None, None, None, None, None, None, None, None, None, None, None, None, None, None, None, None, None, None, None, None, None, None, None, None, None, None, None, None, None, None, None, None, None, None, None, None, None, None, None, None, None, None, None, None, None, None, None, None, None] \n",
      "\n",
      "Среда. Проспал на работе, но зато выспался!\n",
      "Воскресенье:  проспали в школе с мамой и сестрой до 9 часов вечера; потом пошли домой - я был дома только после обеда (собрались все вместе) ; по дороге заехали к бабушке навестить ее маму... В воскресенье утром мы были очень заняты своими делами :-) Вечером поехали смотреть фильм \"Достучаться До Небес\", а затем смотрели его уже втроем со Светой.. После фильма долго гуляли вдвоем у нее во дворе.... \n",
      " Четверг прошел хорошо :) За это время успели сходить несколько киносеансов (\"Фантастика\", фантастика про инопланетян), посмотреть мультфильм о Гарри Поттере..и еще немного погулять под дождём ;)...А вот пятница прошла хуже всего!! Сначала была встреча одноклассников из школы где-то рядом ))) Потом ходили гулять вечером около метро ВДНХ. А когда пришли обратно то оказалось что нас нет ни одного!!! Мы так устали от этого дня!!!! Но всё равно было весело!!! И даже не смотряна дождь! ))))) Так здорово погуляли....В общем вечер получился просто замечательный!!!!!!!! Спасибо всем кто принимал участие ) Всем спасибо большое!) Всех целую нежно)) \"e;.pdf/tmp4xzjvr7l1kbmnqc2g9yhw8o5_0sa3u6iXRYWGFHVUEZDLJSKMQAIOPCNBMATICCABADARAINERRUSSIANSONID=%22screenpartners%.html#comment176820302666703969382599862700162324143533121336153418585688777648787547464937559879454460295989195040909528651164808501068432108310520105967421150410008719867100574310953200974219972111199994160543112073000093499711804955120160980060070030050010108400200062200820102014201520092012201320172018 2019 2020 20 25 27 28 31 33 34 35 36 37 38 39 40 41 42 43 44 45 46 47 48 49 55 56 57 60 61 62 63 64 65 66 67 68 69 80 90 89 91 93 98 95 100 101 102 103 104 105 106 107 108 109 110 111 112 115 114 118 120 113 116 117 12 130 13 140 14 160 17 16 18 19 21 22 23 24 26 29 30 3 4 5 6 7 8 10 11 15 >;Огромное человеческое СПАСИБО ВСЕМ ЗА УДАЧУ ПРИЯТНОГО ДНЯ ПРОШЕДШЕГО ЧЕТВЕРГА СЧАСТЛИВОЙ ЖИЗНИ НАШИ ХРАНИТЕЛЯМИ СОЗЕРЦАНИЕ МЫ ОКАЗАЛАСЬ ПОБРАТЬСЯ К СЕБЕ ВОЛНУЮЩИМ ОТ ТАКОООооооКак же классно проводить этот день без забот)))) Я бы наверное ещё много чего сделал хорошего......Но увы \n",
      " ['NOUN', 'VERB', 'PREP', 'NOUN', 'CONJ', 'CONJ', 'VERB', 'NOUN', 'VERB', 'PREP', 'NOUN', 'PREP', 'NOUN', 'CONJ', 'NOUN', 'PREP', None, 'NOUN', 'NOUN', 'ADVB', 'VERB', 'ADVB', 'NPRO', 'VERB', 'NOUN', 'PRCL', 'PREP', 'NOUN', 'VERB', 'ADJF', 'ADVB', 'PREP', 'NOUN', 'VERB', 'PREP', 'NOUN', 'INFN', 'NPRO', 'NOUN', None, 'PREP', 'NOUN', 'ADVB', 'NPRO', 'VERB', 'ADVB', 'ADJS', 'ADJF', 'NOUN', 'ADVB', 'VERB', 'INFN', 'NOUN', 'INFN', 'PREP', 'NOUN', 'CONJ', 'ADVB', 'VERB', 'NPRO', 'ADVB', 'ADVB', 'PREP', 'NOUN', None, 'PREP', 'NOUN', 'ADVB', 'VERB', 'ADVB', 'PREP', 'NOUN', 'PREP', 'NOUN', None, 'NOUN', 'VERB', 'ADVB', None, 'PREP', 'PRCL', 'NOUN', 'VERB', 'INFN', 'ADVB', 'NOUN', 'NOUN', 'NOUN', 'PREP', 'NOUN', 'INFN', 'NOUN', 'PREP', 'NOUN', 'NOUN', None, 'CONJ', 'PRCL', 'ADVB', 'INFN', 'PREP', 'NOUN', None, None, 'CONJ', 'PRCL', 'NOUN', 'VERB', 'COMP', 'ADVB', None, 'ADVB', 'VERB', 'NOUN', 'NOUN', 'PREP', 'NOUN', 'ADVB', 'NOUN', 'ADVB', 'VERB', 'INFN', 'ADVB', 'PREP', 'NOUN', 'NOUN', 'CONJ', 'CONJ', 'VERB', 'ADVB', 'CONJ', 'VERB', 'CONJ', 'NPRO', 'PRED', 'PRCL', 'ADJF', None, 'NPRO', 'CONJ', 'VERB', 'PREP', 'NPRO', 'NOUN', None, 'CONJ', 'ADJF', 'CONJ', 'VERB', 'ADVB', None, 'CONJ', 'PRCL', 'PRCL', 'NOUN', 'NOUN', 'CONJ', 'INTJ', 'VERB', None, 'PREP', 'ADJF', 'NOUN', 'VERB', 'PRCL', 'ADJF', None, 'INTJ', 'ADJF', 'NPRO', 'VERB', 'NOUN', 'ADJF', 'INTJ', 'ADJF', 'ADJF', 'VERB', 'ADVB', None, None, None, None, None, None, None, None, None, None, None, None, None, None, None, None, None, None, None, None, None, None, None, None, None, None, None, None, None, None, None, None, None, None, None, None, None, None, None, None, None, None, None, None, None, None, None, None, None, None, None, None, None, None, None, None, None, None, None, None, None, None, None, None, None, None, None, None, None, None, None, None, None, None, None, None, None, None, None, None, None, None, None, None, None, None, None, None, None, None, None, None, None, None, None, None, None, None, None, None, None, None, None, None, None, None, None, None, None, None, None, None, None, None, None, None, 'ADJF', 'ADJF', 'INTJ', 'ADJF', 'PREP', 'NOUN', 'ADJF', 'NOUN', 'NOUN', 'NOUN', 'ADJF', 'NOUN', 'ADJF', 'NOUN', 'NOUN', 'NPRO', 'VERB', 'INFN', 'PREP', 'NPRO', 'ADJF', 'PREP', 'ADVB', 'PRCL', 'ADVB', 'INFN', 'ADJF', 'NOUN', 'PREP', 'NOUN', 'NPRO', 'PRCL', 'ADVB', 'ADVB', 'ADVB', 'NPRO', 'VERB', 'ADJF', None, 'CONJ', 'INTJ'] \n",
      "\n"
     ]
    }
   ],
   "source": [
    "print(train['Text'][17312],'\\n',train['POS_Text'][17312],'\\n')\n",
    "print(train['Text'][76765],'\\n',train['POS_Text'][76765],'\\n')\n",
    "print(train['Text'][67498],'\\n',train['POS_Text'][67498],'\\n')\n",
    "print(train['Text'][32909],'\\n',train['POS_Text'][32909],'\\n')\n",
    "print(train['Text'][37751],'\\n',train['POS_Text'][37751],'\\n')"
   ]
  },
  {
   "cell_type": "markdown",
   "id": "f3579ee3",
   "metadata": {},
   "source": [
    "Неа взгляд различий принципиальных не увидела."
   ]
  },
  {
   "cell_type": "code",
   "execution_count": 157,
   "id": "5239a7b4",
   "metadata": {},
   "outputs": [
    {
     "data": {
      "text/plain": [
       "<AxesSubplot:xlabel='none', ylabel='Count'>"
      ]
     },
     "execution_count": 157,
     "metadata": {},
     "output_type": "execute_result"
    },
    {
     "data": {
      "image/png": "[encoded data removed]",
      "text/plain": [
       "<Figure size 432x288 with 1 Axes>"
      ]
     },
     "metadata": {
      "needs_background": "light"
     },
     "output_type": "display_data"
    }
   ],
   "source": [
    "# plt.subplots(figsize=(10,5))\n",
    "sns.histplot(data=bow_train[bow_train[\"none\"]!=0], x=\"none\", hue=\"Class\", bins = 20)"
   ]
  },
  {
   "cell_type": "code",
   "execution_count": 158,
   "id": "71ddf1c5",
   "metadata": {},
   "outputs": [
    {
     "data": {
      "text/plain": [
       "<AxesSubplot:xlabel='none none', ylabel='Count'>"
      ]
     },
     "execution_count": 158,
     "metadata": {},
     "output_type": "execute_result"
    },
    {
     "data": {
      "image/png": "[encoded data removed]",
      "text/plain": [
       "<Figure size 432x288 with 1 Axes>"
      ]
     },
     "metadata": {
      "needs_background": "light"
     },
     "output_type": "display_data"
    }
   ],
   "source": [
    "sns.histplot(data=bow_train[bow_train[\"none none\"]!=0], x=\"none none\", hue=\"Class\", bins = 20)"
   ]
  },
  {
   "cell_type": "code",
   "execution_count": 159,
   "id": "a4d6c568",
   "metadata": {},
   "outputs": [],
   "source": [
    "# делаем столбец с частотой ноне:\n",
    "bow_train['none_none_freq'] = bow_train['none']/bow_train['Количество слов']"
   ]
  },
  {
   "cell_type": "code",
   "execution_count": 160,
   "id": "5f9d2730",
   "metadata": {},
   "outputs": [
    {
     "data": {
      "text/plain": [
       "<AxesSubplot:xlabel='none_none_freq', ylabel='Count'>"
      ]
     },
     "execution_count": 160,
     "metadata": {},
     "output_type": "execute_result"
    },
    {
     "data": {
      "image/png": "[encoded data removed]",
      "text/plain": [
       "<Figure size 432x288 with 1 Axes>"
      ]
     },
     "metadata": {
      "needs_background": "light"
     },
     "output_type": "display_data"
    }
   ],
   "source": [
    "sns.histplot(data=bow_train[bow_train[\"none_none_freq\"]!=0], x=\"none_none_freq\", hue=\"Class\", bins = 20)"
   ]
  },
  {
   "cell_type": "code",
   "execution_count": null,
   "id": "a411c7a1",
   "metadata": {},
   "outputs": [],
   "source": []
  }
 ],
 "metadata": {
  "kernelspec": {
   "display_name": "Python 3",
   "language": "python",
   "name": "python3"
  },
  "language_info": {
   "codemirror_mode": {
    "name": "ipython",
    "version": 3
   },
   "file_extension": ".py",
   "mimetype": "text/x-python",
   "name": "python",
   "nbconvert_exporter": "python",
   "pygments_lexer": "ipython3",
   "version": "3.8.8"
  }
 },
 "nbformat": 4,
 "nbformat_minor": 5
}
